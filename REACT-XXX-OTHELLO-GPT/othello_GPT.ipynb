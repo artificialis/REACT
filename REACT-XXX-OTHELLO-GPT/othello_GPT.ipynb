{
 "cells": [
  {
   "metadata": {},
   "cell_type": "markdown",
   "source": [
    "# Introduction à Othello-GPT\n",
    "\n",
    "Ceci est un notebook de démonstration qui charge les poids du modèle **Othello-GPT** issus de l’article [*Emergent World Representations*](https://arxiv.org/pdf/2210.13382.pdf) vers le package **TransformerLens**. Vous pouvez consulter le billet de blog [Do Large Language Models learn world models or just surface statistics?](https://thegradient.pub/othello/), l’[article original sur arxiv](https://arxiv.org/pdf/2210.13382.pdf) ainsi que le github [github](https://github.com/likenneth/othello_world/) correspondant.\n",
    "\n",
    "Dans ce notebook nous allons voir comment faire du retro-engineering sur ce modèle. Notre but sera de répondre aux questions suivantes :\n",
    "\n",
    "* Pourquoi les **probes non linéaires** fonctionnent nettement mieux que les probes linéaires ?\n",
    "  * Le modèle représente-t-il le plateau en interne d’une manière exploitable mais **non linéaire** ?\n",
    "  * Existe-t-il des représentations plus simples (p. ex. diagonales du plateau, nombre de pions noirs, qu’une case soit vide) qu’un probe non-linéaire utiliserait pour reconstituer les positions, alors que le modèle lui raisonnerait surtout dans cet espace latent plus simple ?\n",
    "* Qu'est-ce qu'implique exactement le **model editing** (modification du modèle) :\n",
    "  * Dans l'article, les auteurs interviennent sur de nombreuses couches à la fois. Quelle est l’**édition minimale** qui fonctionne ?\n",
    "    * Peut-on éditer juste avant la couche finale ?\n",
    "    * Peut-on faire **une seule** édition plutôt qu’à travers plusieurs couches ?\n",
    "  * Si l’on compare les activations **avant/après** l’édition, qu’est-ce qui change ?\n",
    "    * Quelles composantes déplacent leur sortie et comment cela affecte-t-il les logits ?\n",
    "    * Y a-t-il une **profondeur de composition** significative, ou cela n’affecte-t-il que les logits de sortie ?\n",
    "* Peut-on trouver des **circuits non triviaux** dans le modèle ?\n",
    "  * Commencer par des techniques **exploratoires** (p. ex. attribution directe des logits, inspection des patterns des attention heads).\n",
    "  * Choisir une sous-tâche simple (p. ex. déterminer si une case est vide) et tenter de l’interpréter.\n",
    "\n",
    "J’ai téléchargé des **checkpoints** sur HuggingFace, téléchargeables automatiquement, et un extrait de code. La section d’installation montre comment faire.\n",
    "\n",
    "Si vous préférez utiliser le **code donné par les auteurs**, j’ai écrit un script pour charger et convertir leurs checkpoints — il se trouve plus bas.\n",
    "\n",
    "Pour démarrer, voyez le **[tutoriel principal de TransformerLens](https://neelnanda.io/transformer-lens-demo)** et le **[tutoriel sur les techniques exploratoires](https://neelnanda.io/exploratory-analysis-demo)**, ainsi que l’**excellent GitHub** des auteurs ([ot**hello world**](https://github.com/likenneth/othello_world/)) avec divers notebooks montrant comment charger les entrées, etc. Enfin, jetez un œil à ma série **[Concrete Open Problems in Mechanistic Interpretability](https://www.lesswrong.com/s/yivyHaCAmMJ3CqSyj)** — notamment le billet sur les problèmes algorithmiques — pour des conseils sur ce style de recherche.\n"
   ],
   "id": "acaa4bcbe5c29bc3"
  },
  {
   "metadata": {},
   "cell_type": "markdown",
   "source": [
    "## Mise en place\n",
    "\n",
    "Active le rechargement automatique des modules modifiés dans un notebook Jupyter.\n",
    "Cela permet de modifier un fichier Python externe (par ex. une librairie en cours d'édition),\n",
    "puis de réexécuter une cellule sans avoir à redémarrer le kernel pour que les changements soient pris en compte."
   ],
   "id": "a296d5284afab63d"
  },
  {
   "metadata": {
    "ExecuteTime": {
     "end_time": "2025-08-31T13:04:30.587640Z",
     "start_time": "2025-08-31T13:04:30.567500Z"
    }
   },
   "cell_type": "code",
   "source": [
    "from IPython import get_ipython\n",
    "ipython = get_ipython()\n",
    "ipython.run_line_magic(\"load_ext\", \"autoreload\")\n",
    "ipython.run_line_magic(\"autoreload\", \"2\")"
   ],
   "id": "ca9d4f0731b95bf",
   "outputs": [],
   "execution_count": 1
  },
  {
   "metadata": {},
   "cell_type": "markdown",
   "source": "On installe les packages nécessaires: transformer_lens, circuitsvis et torchtyping.",
   "id": "d3a213e136017d38"
  },
  {
   "metadata": {
    "ExecuteTime": {
     "end_time": "2025-08-31T13:04:33.654760Z",
     "start_time": "2025-08-31T13:04:31.777552Z"
    }
   },
   "cell_type": "code",
   "source": [
    "%pip install transformer_lens\n",
    "%pip install circuitsvis\n",
    "%pip install torchtyping"
   ],
   "id": "abfe74a356698d42",
   "outputs": [
    {
     "name": "stdout",
     "output_type": "stream",
     "text": [
      "Requirement already satisfied: transformer_lens in /home/schaetti/miniconda3/envs/REACT-OTHELLO-GPT/lib/python3.11/site-packages (2.16.1)\r\n",
      "Requirement already satisfied: accelerate>=0.23.0 in /home/schaetti/miniconda3/envs/REACT-OTHELLO-GPT/lib/python3.11/site-packages (from transformer_lens) (1.10.1)\r\n",
      "Requirement already satisfied: beartype<0.15.0,>=0.14.1 in /home/schaetti/miniconda3/envs/REACT-OTHELLO-GPT/lib/python3.11/site-packages (from transformer_lens) (0.14.1)\r\n",
      "Requirement already satisfied: better-abc<0.0.4,>=0.0.3 in /home/schaetti/miniconda3/envs/REACT-OTHELLO-GPT/lib/python3.11/site-packages (from transformer_lens) (0.0.3)\r\n",
      "Requirement already satisfied: datasets>=2.7.1 in /home/schaetti/miniconda3/envs/REACT-OTHELLO-GPT/lib/python3.11/site-packages (from transformer_lens) (4.0.0)\r\n",
      "Requirement already satisfied: einops>=0.6.0 in /home/schaetti/miniconda3/envs/REACT-OTHELLO-GPT/lib/python3.11/site-packages (from transformer_lens) (0.8.1)\r\n",
      "Requirement already satisfied: fancy-einsum>=0.0.3 in /home/schaetti/miniconda3/envs/REACT-OTHELLO-GPT/lib/python3.11/site-packages (from transformer_lens) (0.0.3)\r\n",
      "Requirement already satisfied: jaxtyping>=0.2.11 in /home/schaetti/miniconda3/envs/REACT-OTHELLO-GPT/lib/python3.11/site-packages (from transformer_lens) (0.3.2)\r\n",
      "Requirement already satisfied: numpy<2,>=1.24 in /home/schaetti/miniconda3/envs/REACT-OTHELLO-GPT/lib/python3.11/site-packages (from transformer_lens) (1.26.4)\r\n",
      "Requirement already satisfied: pandas>=1.1.5 in /home/schaetti/miniconda3/envs/REACT-OTHELLO-GPT/lib/python3.11/site-packages (from transformer_lens) (2.3.2)\r\n",
      "Requirement already satisfied: rich>=12.6.0 in /home/schaetti/miniconda3/envs/REACT-OTHELLO-GPT/lib/python3.11/site-packages (from transformer_lens) (14.1.0)\r\n",
      "Requirement already satisfied: sentencepiece in /home/schaetti/miniconda3/envs/REACT-OTHELLO-GPT/lib/python3.11/site-packages (from transformer_lens) (0.2.1)\r\n",
      "Requirement already satisfied: torch>=2.6 in /home/schaetti/miniconda3/envs/REACT-OTHELLO-GPT/lib/python3.11/site-packages (from transformer_lens) (2.8.0)\r\n",
      "Requirement already satisfied: tqdm>=4.64.1 in /home/schaetti/miniconda3/envs/REACT-OTHELLO-GPT/lib/python3.11/site-packages (from transformer_lens) (4.67.1)\r\n",
      "Requirement already satisfied: transformers>=4.51 in /home/schaetti/miniconda3/envs/REACT-OTHELLO-GPT/lib/python3.11/site-packages (from transformer_lens) (4.56.0)\r\n",
      "Requirement already satisfied: transformers-stream-generator<0.0.6,>=0.0.5 in /home/schaetti/miniconda3/envs/REACT-OTHELLO-GPT/lib/python3.11/site-packages (from transformer_lens) (0.0.5)\r\n",
      "Collecting typeguard<5.0,>=4.2 (from transformer_lens)\r\n",
      "  Using cached typeguard-4.4.4-py3-none-any.whl.metadata (3.3 kB)\r\n",
      "Requirement already satisfied: typing-extensions in /home/schaetti/miniconda3/envs/REACT-OTHELLO-GPT/lib/python3.11/site-packages (from transformer_lens) (4.15.0)\r\n",
      "Requirement already satisfied: wandb>=0.13.5 in /home/schaetti/miniconda3/envs/REACT-OTHELLO-GPT/lib/python3.11/site-packages (from transformer_lens) (0.21.3)\r\n",
      "Requirement already satisfied: packaging>=20.0 in /home/schaetti/miniconda3/envs/REACT-OTHELLO-GPT/lib/python3.11/site-packages (from accelerate>=0.23.0->transformer_lens) (25.0)\r\n",
      "Requirement already satisfied: psutil in /home/schaetti/miniconda3/envs/REACT-OTHELLO-GPT/lib/python3.11/site-packages (from accelerate>=0.23.0->transformer_lens) (5.9.0)\r\n",
      "Requirement already satisfied: pyyaml in /home/schaetti/miniconda3/envs/REACT-OTHELLO-GPT/lib/python3.11/site-packages (from accelerate>=0.23.0->transformer_lens) (6.0.2)\r\n",
      "Requirement already satisfied: huggingface_hub>=0.21.0 in /home/schaetti/miniconda3/envs/REACT-OTHELLO-GPT/lib/python3.11/site-packages (from accelerate>=0.23.0->transformer_lens) (0.34.4)\r\n",
      "Requirement already satisfied: safetensors>=0.4.3 in /home/schaetti/miniconda3/envs/REACT-OTHELLO-GPT/lib/python3.11/site-packages (from accelerate>=0.23.0->transformer_lens) (0.6.2)\r\n",
      "Requirement already satisfied: filelock in /home/schaetti/miniconda3/envs/REACT-OTHELLO-GPT/lib/python3.11/site-packages (from datasets>=2.7.1->transformer_lens) (3.19.1)\r\n",
      "Requirement already satisfied: pyarrow>=15.0.0 in /home/schaetti/miniconda3/envs/REACT-OTHELLO-GPT/lib/python3.11/site-packages (from datasets>=2.7.1->transformer_lens) (21.0.0)\r\n",
      "Requirement already satisfied: dill<0.3.9,>=0.3.0 in /home/schaetti/miniconda3/envs/REACT-OTHELLO-GPT/lib/python3.11/site-packages (from datasets>=2.7.1->transformer_lens) (0.3.8)\r\n",
      "Requirement already satisfied: requests>=2.32.2 in /home/schaetti/miniconda3/envs/REACT-OTHELLO-GPT/lib/python3.11/site-packages (from datasets>=2.7.1->transformer_lens) (2.32.4)\r\n",
      "Requirement already satisfied: xxhash in /home/schaetti/miniconda3/envs/REACT-OTHELLO-GPT/lib/python3.11/site-packages (from datasets>=2.7.1->transformer_lens) (3.5.0)\r\n",
      "Requirement already satisfied: multiprocess<0.70.17 in /home/schaetti/miniconda3/envs/REACT-OTHELLO-GPT/lib/python3.11/site-packages (from datasets>=2.7.1->transformer_lens) (0.70.16)\r\n",
      "Requirement already satisfied: fsspec<=2025.3.0,>=2023.1.0 in /home/schaetti/miniconda3/envs/REACT-OTHELLO-GPT/lib/python3.11/site-packages (from fsspec[http]<=2025.3.0,>=2023.1.0->datasets>=2.7.1->transformer_lens) (2025.3.0)\r\n",
      "Requirement already satisfied: aiohttp!=4.0.0a0,!=4.0.0a1 in /home/schaetti/miniconda3/envs/REACT-OTHELLO-GPT/lib/python3.11/site-packages (from fsspec[http]<=2025.3.0,>=2023.1.0->datasets>=2.7.1->transformer_lens) (3.12.15)\r\n",
      "Requirement already satisfied: aiohappyeyeballs>=2.5.0 in /home/schaetti/miniconda3/envs/REACT-OTHELLO-GPT/lib/python3.11/site-packages (from aiohttp!=4.0.0a0,!=4.0.0a1->fsspec[http]<=2025.3.0,>=2023.1.0->datasets>=2.7.1->transformer_lens) (2.6.1)\r\n",
      "Requirement already satisfied: aiosignal>=1.4.0 in /home/schaetti/miniconda3/envs/REACT-OTHELLO-GPT/lib/python3.11/site-packages (from aiohttp!=4.0.0a0,!=4.0.0a1->fsspec[http]<=2025.3.0,>=2023.1.0->datasets>=2.7.1->transformer_lens) (1.4.0)\r\n",
      "Requirement already satisfied: attrs>=17.3.0 in /home/schaetti/miniconda3/envs/REACT-OTHELLO-GPT/lib/python3.11/site-packages (from aiohttp!=4.0.0a0,!=4.0.0a1->fsspec[http]<=2025.3.0,>=2023.1.0->datasets>=2.7.1->transformer_lens) (24.3.0)\r\n",
      "Requirement already satisfied: frozenlist>=1.1.1 in /home/schaetti/miniconda3/envs/REACT-OTHELLO-GPT/lib/python3.11/site-packages (from aiohttp!=4.0.0a0,!=4.0.0a1->fsspec[http]<=2025.3.0,>=2023.1.0->datasets>=2.7.1->transformer_lens) (1.7.0)\r\n",
      "Requirement already satisfied: multidict<7.0,>=4.5 in /home/schaetti/miniconda3/envs/REACT-OTHELLO-GPT/lib/python3.11/site-packages (from aiohttp!=4.0.0a0,!=4.0.0a1->fsspec[http]<=2025.3.0,>=2023.1.0->datasets>=2.7.1->transformer_lens) (6.6.4)\r\n",
      "Requirement already satisfied: propcache>=0.2.0 in /home/schaetti/miniconda3/envs/REACT-OTHELLO-GPT/lib/python3.11/site-packages (from aiohttp!=4.0.0a0,!=4.0.0a1->fsspec[http]<=2025.3.0,>=2023.1.0->datasets>=2.7.1->transformer_lens) (0.3.2)\r\n",
      "Requirement already satisfied: yarl<2.0,>=1.17.0 in /home/schaetti/miniconda3/envs/REACT-OTHELLO-GPT/lib/python3.11/site-packages (from aiohttp!=4.0.0a0,!=4.0.0a1->fsspec[http]<=2025.3.0,>=2023.1.0->datasets>=2.7.1->transformer_lens) (1.20.1)\r\n",
      "Requirement already satisfied: idna>=2.0 in /home/schaetti/miniconda3/envs/REACT-OTHELLO-GPT/lib/python3.11/site-packages (from yarl<2.0,>=1.17.0->aiohttp!=4.0.0a0,!=4.0.0a1->fsspec[http]<=2025.3.0,>=2023.1.0->datasets>=2.7.1->transformer_lens) (3.7)\r\n",
      "Requirement already satisfied: hf-xet<2.0.0,>=1.1.3 in /home/schaetti/miniconda3/envs/REACT-OTHELLO-GPT/lib/python3.11/site-packages (from huggingface_hub>=0.21.0->accelerate>=0.23.0->transformer_lens) (1.1.9)\r\n",
      "Requirement already satisfied: wadler-lindig>=0.1.3 in /home/schaetti/miniconda3/envs/REACT-OTHELLO-GPT/lib/python3.11/site-packages (from jaxtyping>=0.2.11->transformer_lens) (0.1.7)\r\n",
      "Requirement already satisfied: python-dateutil>=2.8.2 in /home/schaetti/miniconda3/envs/REACT-OTHELLO-GPT/lib/python3.11/site-packages (from pandas>=1.1.5->transformer_lens) (2.9.0.post0)\r\n",
      "Requirement already satisfied: pytz>=2020.1 in /home/schaetti/miniconda3/envs/REACT-OTHELLO-GPT/lib/python3.11/site-packages (from pandas>=1.1.5->transformer_lens) (2025.2)\r\n",
      "Requirement already satisfied: tzdata>=2022.7 in /home/schaetti/miniconda3/envs/REACT-OTHELLO-GPT/lib/python3.11/site-packages (from pandas>=1.1.5->transformer_lens) (2025.2)\r\n",
      "Requirement already satisfied: six>=1.5 in /home/schaetti/miniconda3/envs/REACT-OTHELLO-GPT/lib/python3.11/site-packages (from python-dateutil>=2.8.2->pandas>=1.1.5->transformer_lens) (1.17.0)\r\n",
      "Requirement already satisfied: charset_normalizer<4,>=2 in /home/schaetti/miniconda3/envs/REACT-OTHELLO-GPT/lib/python3.11/site-packages (from requests>=2.32.2->datasets>=2.7.1->transformer_lens) (3.3.2)\r\n",
      "Requirement already satisfied: urllib3<3,>=1.21.1 in /home/schaetti/miniconda3/envs/REACT-OTHELLO-GPT/lib/python3.11/site-packages (from requests>=2.32.2->datasets>=2.7.1->transformer_lens) (2.5.0)\r\n",
      "Requirement already satisfied: certifi>=2017.4.17 in /home/schaetti/miniconda3/envs/REACT-OTHELLO-GPT/lib/python3.11/site-packages (from requests>=2.32.2->datasets>=2.7.1->transformer_lens) (2025.8.3)\r\n",
      "Requirement already satisfied: markdown-it-py>=2.2.0 in /home/schaetti/miniconda3/envs/REACT-OTHELLO-GPT/lib/python3.11/site-packages (from rich>=12.6.0->transformer_lens) (4.0.0)\r\n",
      "Requirement already satisfied: pygments<3.0.0,>=2.13.0 in /home/schaetti/miniconda3/envs/REACT-OTHELLO-GPT/lib/python3.11/site-packages (from rich>=12.6.0->transformer_lens) (2.19.1)\r\n",
      "Requirement already satisfied: mdurl~=0.1 in /home/schaetti/miniconda3/envs/REACT-OTHELLO-GPT/lib/python3.11/site-packages (from markdown-it-py>=2.2.0->rich>=12.6.0->transformer_lens) (0.1.2)\r\n",
      "Requirement already satisfied: sympy>=1.13.3 in /home/schaetti/miniconda3/envs/REACT-OTHELLO-GPT/lib/python3.11/site-packages (from torch>=2.6->transformer_lens) (1.14.0)\r\n",
      "Requirement already satisfied: networkx in /home/schaetti/miniconda3/envs/REACT-OTHELLO-GPT/lib/python3.11/site-packages (from torch>=2.6->transformer_lens) (3.5)\r\n",
      "Requirement already satisfied: jinja2 in /home/schaetti/miniconda3/envs/REACT-OTHELLO-GPT/lib/python3.11/site-packages (from torch>=2.6->transformer_lens) (3.1.6)\r\n",
      "Requirement already satisfied: nvidia-cuda-nvrtc-cu12==12.8.93 in /home/schaetti/miniconda3/envs/REACT-OTHELLO-GPT/lib/python3.11/site-packages (from torch>=2.6->transformer_lens) (12.8.93)\r\n",
      "Requirement already satisfied: nvidia-cuda-runtime-cu12==12.8.90 in /home/schaetti/miniconda3/envs/REACT-OTHELLO-GPT/lib/python3.11/site-packages (from torch>=2.6->transformer_lens) (12.8.90)\r\n",
      "Requirement already satisfied: nvidia-cuda-cupti-cu12==12.8.90 in /home/schaetti/miniconda3/envs/REACT-OTHELLO-GPT/lib/python3.11/site-packages (from torch>=2.6->transformer_lens) (12.8.90)\r\n",
      "Requirement already satisfied: nvidia-cudnn-cu12==9.10.2.21 in /home/schaetti/miniconda3/envs/REACT-OTHELLO-GPT/lib/python3.11/site-packages (from torch>=2.6->transformer_lens) (9.10.2.21)\r\n",
      "Requirement already satisfied: nvidia-cublas-cu12==12.8.4.1 in /home/schaetti/miniconda3/envs/REACT-OTHELLO-GPT/lib/python3.11/site-packages (from torch>=2.6->transformer_lens) (12.8.4.1)\r\n",
      "Requirement already satisfied: nvidia-cufft-cu12==11.3.3.83 in /home/schaetti/miniconda3/envs/REACT-OTHELLO-GPT/lib/python3.11/site-packages (from torch>=2.6->transformer_lens) (11.3.3.83)\r\n",
      "Requirement already satisfied: nvidia-curand-cu12==10.3.9.90 in /home/schaetti/miniconda3/envs/REACT-OTHELLO-GPT/lib/python3.11/site-packages (from torch>=2.6->transformer_lens) (10.3.9.90)\r\n",
      "Requirement already satisfied: nvidia-cusolver-cu12==11.7.3.90 in /home/schaetti/miniconda3/envs/REACT-OTHELLO-GPT/lib/python3.11/site-packages (from torch>=2.6->transformer_lens) (11.7.3.90)\r\n",
      "Requirement already satisfied: nvidia-cusparse-cu12==12.5.8.93 in /home/schaetti/miniconda3/envs/REACT-OTHELLO-GPT/lib/python3.11/site-packages (from torch>=2.6->transformer_lens) (12.5.8.93)\r\n",
      "Requirement already satisfied: nvidia-cusparselt-cu12==0.7.1 in /home/schaetti/miniconda3/envs/REACT-OTHELLO-GPT/lib/python3.11/site-packages (from torch>=2.6->transformer_lens) (0.7.1)\r\n",
      "Requirement already satisfied: nvidia-nccl-cu12==2.27.3 in /home/schaetti/miniconda3/envs/REACT-OTHELLO-GPT/lib/python3.11/site-packages (from torch>=2.6->transformer_lens) (2.27.3)\r\n",
      "Requirement already satisfied: nvidia-nvtx-cu12==12.8.90 in /home/schaetti/miniconda3/envs/REACT-OTHELLO-GPT/lib/python3.11/site-packages (from torch>=2.6->transformer_lens) (12.8.90)\r\n",
      "Requirement already satisfied: nvidia-nvjitlink-cu12==12.8.93 in /home/schaetti/miniconda3/envs/REACT-OTHELLO-GPT/lib/python3.11/site-packages (from torch>=2.6->transformer_lens) (12.8.93)\r\n",
      "Requirement already satisfied: nvidia-cufile-cu12==1.13.1.3 in /home/schaetti/miniconda3/envs/REACT-OTHELLO-GPT/lib/python3.11/site-packages (from torch>=2.6->transformer_lens) (1.13.1.3)\r\n",
      "Requirement already satisfied: triton==3.4.0 in /home/schaetti/miniconda3/envs/REACT-OTHELLO-GPT/lib/python3.11/site-packages (from torch>=2.6->transformer_lens) (3.4.0)\r\n",
      "Requirement already satisfied: setuptools>=40.8.0 in /home/schaetti/miniconda3/envs/REACT-OTHELLO-GPT/lib/python3.11/site-packages (from triton==3.4.0->torch>=2.6->transformer_lens) (78.1.1)\r\n",
      "Requirement already satisfied: mpmath<1.4,>=1.1.0 in /home/schaetti/miniconda3/envs/REACT-OTHELLO-GPT/lib/python3.11/site-packages (from sympy>=1.13.3->torch>=2.6->transformer_lens) (1.3.0)\r\n",
      "Requirement already satisfied: regex!=2019.12.17 in /home/schaetti/miniconda3/envs/REACT-OTHELLO-GPT/lib/python3.11/site-packages (from transformers>=4.51->transformer_lens) (2025.8.29)\r\n",
      "Requirement already satisfied: tokenizers<=0.23.0,>=0.22.0 in /home/schaetti/miniconda3/envs/REACT-OTHELLO-GPT/lib/python3.11/site-packages (from transformers>=4.51->transformer_lens) (0.22.0)\r\n",
      "Requirement already satisfied: click>=8.0.1 in /home/schaetti/miniconda3/envs/REACT-OTHELLO-GPT/lib/python3.11/site-packages (from wandb>=0.13.5->transformer_lens) (8.2.1)\r\n",
      "Requirement already satisfied: gitpython!=3.1.29,>=1.0.0 in /home/schaetti/miniconda3/envs/REACT-OTHELLO-GPT/lib/python3.11/site-packages (from wandb>=0.13.5->transformer_lens) (3.1.45)\r\n",
      "Requirement already satisfied: platformdirs in /home/schaetti/miniconda3/envs/REACT-OTHELLO-GPT/lib/python3.11/site-packages (from wandb>=0.13.5->transformer_lens) (4.3.7)\r\n",
      "Requirement already satisfied: protobuf!=4.21.0,!=5.28.0,<7,>=3.19.0 in /home/schaetti/miniconda3/envs/REACT-OTHELLO-GPT/lib/python3.11/site-packages (from wandb>=0.13.5->transformer_lens) (6.32.0)\r\n",
      "Requirement already satisfied: pydantic<3 in /home/schaetti/miniconda3/envs/REACT-OTHELLO-GPT/lib/python3.11/site-packages (from wandb>=0.13.5->transformer_lens) (2.11.7)\r\n",
      "Requirement already satisfied: sentry-sdk>=2.0.0 in /home/schaetti/miniconda3/envs/REACT-OTHELLO-GPT/lib/python3.11/site-packages (from wandb>=0.13.5->transformer_lens) (2.35.1)\r\n",
      "Requirement already satisfied: annotated-types>=0.6.0 in /home/schaetti/miniconda3/envs/REACT-OTHELLO-GPT/lib/python3.11/site-packages (from pydantic<3->wandb>=0.13.5->transformer_lens) (0.7.0)\r\n",
      "Requirement already satisfied: pydantic-core==2.33.2 in /home/schaetti/miniconda3/envs/REACT-OTHELLO-GPT/lib/python3.11/site-packages (from pydantic<3->wandb>=0.13.5->transformer_lens) (2.33.2)\r\n",
      "Requirement already satisfied: typing-inspection>=0.4.0 in /home/schaetti/miniconda3/envs/REACT-OTHELLO-GPT/lib/python3.11/site-packages (from pydantic<3->wandb>=0.13.5->transformer_lens) (0.4.1)\r\n",
      "Requirement already satisfied: gitdb<5,>=4.0.1 in /home/schaetti/miniconda3/envs/REACT-OTHELLO-GPT/lib/python3.11/site-packages (from gitpython!=3.1.29,>=1.0.0->wandb>=0.13.5->transformer_lens) (4.0.12)\r\n",
      "Requirement already satisfied: smmap<6,>=3.0.1 in /home/schaetti/miniconda3/envs/REACT-OTHELLO-GPT/lib/python3.11/site-packages (from gitdb<5,>=4.0.1->gitpython!=3.1.29,>=1.0.0->wandb>=0.13.5->transformer_lens) (5.0.2)\r\n",
      "Requirement already satisfied: MarkupSafe>=2.0 in /home/schaetti/miniconda3/envs/REACT-OTHELLO-GPT/lib/python3.11/site-packages (from jinja2->torch>=2.6->transformer_lens) (3.0.2)\r\n",
      "Using cached typeguard-4.4.4-py3-none-any.whl (34 kB)\r\n",
      "Installing collected packages: typeguard\r\n",
      "  Attempting uninstall: typeguard\r\n",
      "    Found existing installation: typeguard 2.13.3\r\n",
      "    Uninstalling typeguard-2.13.3:\r\n",
      "      Successfully uninstalled typeguard-2.13.3\r\n",
      "\u001B[31mERROR: pip's dependency resolver does not currently take into account all the packages that are installed. This behaviour is the source of the following dependency conflicts.\r\n",
      "torchtyping 0.1.5 requires typeguard<3,>=2.11.1, but you have typeguard 4.4.4 which is incompatible.\u001B[0m\u001B[31m\r\n",
      "\u001B[0mSuccessfully installed typeguard-4.4.4\r\n",
      "Note: you may need to restart the kernel to use updated packages.\n",
      "Requirement already satisfied: circuitsvis in /home/schaetti/miniconda3/envs/REACT-OTHELLO-GPT/lib/python3.11/site-packages (1.43.3)\r\n",
      "Requirement already satisfied: importlib-metadata>=5.1.0 in /home/schaetti/miniconda3/envs/REACT-OTHELLO-GPT/lib/python3.11/site-packages (from circuitsvis) (8.7.0)\r\n",
      "Requirement already satisfied: numpy>=1.24 in /home/schaetti/miniconda3/envs/REACT-OTHELLO-GPT/lib/python3.11/site-packages (from circuitsvis) (1.26.4)\r\n",
      "Requirement already satisfied: torch>=2.1.1 in /home/schaetti/miniconda3/envs/REACT-OTHELLO-GPT/lib/python3.11/site-packages (from circuitsvis) (2.8.0)\r\n",
      "Requirement already satisfied: zipp>=3.20 in /home/schaetti/miniconda3/envs/REACT-OTHELLO-GPT/lib/python3.11/site-packages (from importlib-metadata>=5.1.0->circuitsvis) (3.23.0)\r\n",
      "Requirement already satisfied: filelock in /home/schaetti/miniconda3/envs/REACT-OTHELLO-GPT/lib/python3.11/site-packages (from torch>=2.1.1->circuitsvis) (3.19.1)\r\n",
      "Requirement already satisfied: typing-extensions>=4.10.0 in /home/schaetti/miniconda3/envs/REACT-OTHELLO-GPT/lib/python3.11/site-packages (from torch>=2.1.1->circuitsvis) (4.15.0)\r\n",
      "Requirement already satisfied: sympy>=1.13.3 in /home/schaetti/miniconda3/envs/REACT-OTHELLO-GPT/lib/python3.11/site-packages (from torch>=2.1.1->circuitsvis) (1.14.0)\r\n",
      "Requirement already satisfied: networkx in /home/schaetti/miniconda3/envs/REACT-OTHELLO-GPT/lib/python3.11/site-packages (from torch>=2.1.1->circuitsvis) (3.5)\r\n",
      "Requirement already satisfied: jinja2 in /home/schaetti/miniconda3/envs/REACT-OTHELLO-GPT/lib/python3.11/site-packages (from torch>=2.1.1->circuitsvis) (3.1.6)\r\n",
      "Requirement already satisfied: fsspec in /home/schaetti/miniconda3/envs/REACT-OTHELLO-GPT/lib/python3.11/site-packages (from torch>=2.1.1->circuitsvis) (2025.3.0)\r\n",
      "Requirement already satisfied: nvidia-cuda-nvrtc-cu12==12.8.93 in /home/schaetti/miniconda3/envs/REACT-OTHELLO-GPT/lib/python3.11/site-packages (from torch>=2.1.1->circuitsvis) (12.8.93)\r\n",
      "Requirement already satisfied: nvidia-cuda-runtime-cu12==12.8.90 in /home/schaetti/miniconda3/envs/REACT-OTHELLO-GPT/lib/python3.11/site-packages (from torch>=2.1.1->circuitsvis) (12.8.90)\r\n",
      "Requirement already satisfied: nvidia-cuda-cupti-cu12==12.8.90 in /home/schaetti/miniconda3/envs/REACT-OTHELLO-GPT/lib/python3.11/site-packages (from torch>=2.1.1->circuitsvis) (12.8.90)\r\n",
      "Requirement already satisfied: nvidia-cudnn-cu12==9.10.2.21 in /home/schaetti/miniconda3/envs/REACT-OTHELLO-GPT/lib/python3.11/site-packages (from torch>=2.1.1->circuitsvis) (9.10.2.21)\r\n",
      "Requirement already satisfied: nvidia-cublas-cu12==12.8.4.1 in /home/schaetti/miniconda3/envs/REACT-OTHELLO-GPT/lib/python3.11/site-packages (from torch>=2.1.1->circuitsvis) (12.8.4.1)\r\n",
      "Requirement already satisfied: nvidia-cufft-cu12==11.3.3.83 in /home/schaetti/miniconda3/envs/REACT-OTHELLO-GPT/lib/python3.11/site-packages (from torch>=2.1.1->circuitsvis) (11.3.3.83)\r\n",
      "Requirement already satisfied: nvidia-curand-cu12==10.3.9.90 in /home/schaetti/miniconda3/envs/REACT-OTHELLO-GPT/lib/python3.11/site-packages (from torch>=2.1.1->circuitsvis) (10.3.9.90)\r\n",
      "Requirement already satisfied: nvidia-cusolver-cu12==11.7.3.90 in /home/schaetti/miniconda3/envs/REACT-OTHELLO-GPT/lib/python3.11/site-packages (from torch>=2.1.1->circuitsvis) (11.7.3.90)\r\n",
      "Requirement already satisfied: nvidia-cusparse-cu12==12.5.8.93 in /home/schaetti/miniconda3/envs/REACT-OTHELLO-GPT/lib/python3.11/site-packages (from torch>=2.1.1->circuitsvis) (12.5.8.93)\r\n",
      "Requirement already satisfied: nvidia-cusparselt-cu12==0.7.1 in /home/schaetti/miniconda3/envs/REACT-OTHELLO-GPT/lib/python3.11/site-packages (from torch>=2.1.1->circuitsvis) (0.7.1)\r\n",
      "Requirement already satisfied: nvidia-nccl-cu12==2.27.3 in /home/schaetti/miniconda3/envs/REACT-OTHELLO-GPT/lib/python3.11/site-packages (from torch>=2.1.1->circuitsvis) (2.27.3)\r\n",
      "Requirement already satisfied: nvidia-nvtx-cu12==12.8.90 in /home/schaetti/miniconda3/envs/REACT-OTHELLO-GPT/lib/python3.11/site-packages (from torch>=2.1.1->circuitsvis) (12.8.90)\r\n",
      "Requirement already satisfied: nvidia-nvjitlink-cu12==12.8.93 in /home/schaetti/miniconda3/envs/REACT-OTHELLO-GPT/lib/python3.11/site-packages (from torch>=2.1.1->circuitsvis) (12.8.93)\r\n",
      "Requirement already satisfied: nvidia-cufile-cu12==1.13.1.3 in /home/schaetti/miniconda3/envs/REACT-OTHELLO-GPT/lib/python3.11/site-packages (from torch>=2.1.1->circuitsvis) (1.13.1.3)\r\n",
      "Requirement already satisfied: triton==3.4.0 in /home/schaetti/miniconda3/envs/REACT-OTHELLO-GPT/lib/python3.11/site-packages (from torch>=2.1.1->circuitsvis) (3.4.0)\r\n",
      "Requirement already satisfied: setuptools>=40.8.0 in /home/schaetti/miniconda3/envs/REACT-OTHELLO-GPT/lib/python3.11/site-packages (from triton==3.4.0->torch>=2.1.1->circuitsvis) (78.1.1)\r\n",
      "Requirement already satisfied: mpmath<1.4,>=1.1.0 in /home/schaetti/miniconda3/envs/REACT-OTHELLO-GPT/lib/python3.11/site-packages (from sympy>=1.13.3->torch>=2.1.1->circuitsvis) (1.3.0)\r\n",
      "Requirement already satisfied: MarkupSafe>=2.0 in /home/schaetti/miniconda3/envs/REACT-OTHELLO-GPT/lib/python3.11/site-packages (from jinja2->torch>=2.1.1->circuitsvis) (3.0.2)\r\n",
      "Note: you may need to restart the kernel to use updated packages.\n",
      "Requirement already satisfied: torchtyping in /home/schaetti/miniconda3/envs/REACT-OTHELLO-GPT/lib/python3.11/site-packages (0.1.5)\r\n",
      "Requirement already satisfied: torch>=1.7.0 in /home/schaetti/miniconda3/envs/REACT-OTHELLO-GPT/lib/python3.11/site-packages (from torchtyping) (2.8.0)\r\n",
      "Collecting typeguard<3,>=2.11.1 (from torchtyping)\r\n",
      "  Using cached typeguard-2.13.3-py3-none-any.whl.metadata (3.6 kB)\r\n",
      "Requirement already satisfied: filelock in /home/schaetti/miniconda3/envs/REACT-OTHELLO-GPT/lib/python3.11/site-packages (from torch>=1.7.0->torchtyping) (3.19.1)\r\n",
      "Requirement already satisfied: typing-extensions>=4.10.0 in /home/schaetti/miniconda3/envs/REACT-OTHELLO-GPT/lib/python3.11/site-packages (from torch>=1.7.0->torchtyping) (4.15.0)\r\n",
      "Requirement already satisfied: sympy>=1.13.3 in /home/schaetti/miniconda3/envs/REACT-OTHELLO-GPT/lib/python3.11/site-packages (from torch>=1.7.0->torchtyping) (1.14.0)\r\n",
      "Requirement already satisfied: networkx in /home/schaetti/miniconda3/envs/REACT-OTHELLO-GPT/lib/python3.11/site-packages (from torch>=1.7.0->torchtyping) (3.5)\r\n",
      "Requirement already satisfied: jinja2 in /home/schaetti/miniconda3/envs/REACT-OTHELLO-GPT/lib/python3.11/site-packages (from torch>=1.7.0->torchtyping) (3.1.6)\r\n",
      "Requirement already satisfied: fsspec in /home/schaetti/miniconda3/envs/REACT-OTHELLO-GPT/lib/python3.11/site-packages (from torch>=1.7.0->torchtyping) (2025.3.0)\r\n",
      "Requirement already satisfied: nvidia-cuda-nvrtc-cu12==12.8.93 in /home/schaetti/miniconda3/envs/REACT-OTHELLO-GPT/lib/python3.11/site-packages (from torch>=1.7.0->torchtyping) (12.8.93)\r\n",
      "Requirement already satisfied: nvidia-cuda-runtime-cu12==12.8.90 in /home/schaetti/miniconda3/envs/REACT-OTHELLO-GPT/lib/python3.11/site-packages (from torch>=1.7.0->torchtyping) (12.8.90)\r\n",
      "Requirement already satisfied: nvidia-cuda-cupti-cu12==12.8.90 in /home/schaetti/miniconda3/envs/REACT-OTHELLO-GPT/lib/python3.11/site-packages (from torch>=1.7.0->torchtyping) (12.8.90)\r\n",
      "Requirement already satisfied: nvidia-cudnn-cu12==9.10.2.21 in /home/schaetti/miniconda3/envs/REACT-OTHELLO-GPT/lib/python3.11/site-packages (from torch>=1.7.0->torchtyping) (9.10.2.21)\r\n",
      "Requirement already satisfied: nvidia-cublas-cu12==12.8.4.1 in /home/schaetti/miniconda3/envs/REACT-OTHELLO-GPT/lib/python3.11/site-packages (from torch>=1.7.0->torchtyping) (12.8.4.1)\r\n",
      "Requirement already satisfied: nvidia-cufft-cu12==11.3.3.83 in /home/schaetti/miniconda3/envs/REACT-OTHELLO-GPT/lib/python3.11/site-packages (from torch>=1.7.0->torchtyping) (11.3.3.83)\r\n",
      "Requirement already satisfied: nvidia-curand-cu12==10.3.9.90 in /home/schaetti/miniconda3/envs/REACT-OTHELLO-GPT/lib/python3.11/site-packages (from torch>=1.7.0->torchtyping) (10.3.9.90)\r\n",
      "Requirement already satisfied: nvidia-cusolver-cu12==11.7.3.90 in /home/schaetti/miniconda3/envs/REACT-OTHELLO-GPT/lib/python3.11/site-packages (from torch>=1.7.0->torchtyping) (11.7.3.90)\r\n",
      "Requirement already satisfied: nvidia-cusparse-cu12==12.5.8.93 in /home/schaetti/miniconda3/envs/REACT-OTHELLO-GPT/lib/python3.11/site-packages (from torch>=1.7.0->torchtyping) (12.5.8.93)\r\n",
      "Requirement already satisfied: nvidia-cusparselt-cu12==0.7.1 in /home/schaetti/miniconda3/envs/REACT-OTHELLO-GPT/lib/python3.11/site-packages (from torch>=1.7.0->torchtyping) (0.7.1)\r\n",
      "Requirement already satisfied: nvidia-nccl-cu12==2.27.3 in /home/schaetti/miniconda3/envs/REACT-OTHELLO-GPT/lib/python3.11/site-packages (from torch>=1.7.0->torchtyping) (2.27.3)\r\n",
      "Requirement already satisfied: nvidia-nvtx-cu12==12.8.90 in /home/schaetti/miniconda3/envs/REACT-OTHELLO-GPT/lib/python3.11/site-packages (from torch>=1.7.0->torchtyping) (12.8.90)\r\n",
      "Requirement already satisfied: nvidia-nvjitlink-cu12==12.8.93 in /home/schaetti/miniconda3/envs/REACT-OTHELLO-GPT/lib/python3.11/site-packages (from torch>=1.7.0->torchtyping) (12.8.93)\r\n",
      "Requirement already satisfied: nvidia-cufile-cu12==1.13.1.3 in /home/schaetti/miniconda3/envs/REACT-OTHELLO-GPT/lib/python3.11/site-packages (from torch>=1.7.0->torchtyping) (1.13.1.3)\r\n",
      "Requirement already satisfied: triton==3.4.0 in /home/schaetti/miniconda3/envs/REACT-OTHELLO-GPT/lib/python3.11/site-packages (from torch>=1.7.0->torchtyping) (3.4.0)\r\n",
      "Requirement already satisfied: setuptools>=40.8.0 in /home/schaetti/miniconda3/envs/REACT-OTHELLO-GPT/lib/python3.11/site-packages (from triton==3.4.0->torch>=1.7.0->torchtyping) (78.1.1)\r\n",
      "Requirement already satisfied: mpmath<1.4,>=1.1.0 in /home/schaetti/miniconda3/envs/REACT-OTHELLO-GPT/lib/python3.11/site-packages (from sympy>=1.13.3->torch>=1.7.0->torchtyping) (1.3.0)\r\n",
      "Requirement already satisfied: MarkupSafe>=2.0 in /home/schaetti/miniconda3/envs/REACT-OTHELLO-GPT/lib/python3.11/site-packages (from jinja2->torch>=1.7.0->torchtyping) (3.0.2)\r\n",
      "Using cached typeguard-2.13.3-py3-none-any.whl (17 kB)\r\n",
      "Installing collected packages: typeguard\r\n",
      "  Attempting uninstall: typeguard\r\n",
      "    Found existing installation: typeguard 4.4.4\r\n",
      "    Uninstalling typeguard-4.4.4:\r\n",
      "      Successfully uninstalled typeguard-4.4.4\r\n",
      "\u001B[31mERROR: pip's dependency resolver does not currently take into account all the packages that are installed. This behaviour is the source of the following dependency conflicts.\r\n",
      "transformer-lens 2.16.1 requires typeguard<5.0,>=4.2, but you have typeguard 2.13.3 which is incompatible.\u001B[0m\u001B[31m\r\n",
      "\u001B[0mSuccessfully installed typeguard-2.13.3\r\n",
      "Note: you may need to restart the kernel to use updated packages.\n"
     ]
    }
   ],
   "execution_count": 2
  },
  {
   "metadata": {},
   "cell_type": "markdown",
   "source": "Ce code configure l’outil de visualisation Plotly pour qu’il affiche correctement les graphiques dans un environnement de type notebook (Jupyter ou VSCode). Par défaut, Plotly propose plusieurs moteurs de rendu (appelés renderers), et certains fonctionnent mieux selon l’interface utilisée (navigateur, Colab, notebook local, etc.). Ici, on force l’utilisation du renderer \"notebook_connected\", qui permet d’intégrer les graphiques directement dans le notebook et de garder l’interactivité. La dernière ligne affiche dans la console le renderer effectivement choisi, afin de vérifier que la configuration a bien été appliquée.",
   "id": "51c1b573f153f72f"
  },
  {
   "metadata": {
    "collapsed": true,
    "ExecuteTime": {
     "end_time": "2025-08-31T13:04:52.329596Z",
     "start_time": "2025-08-31T13:04:52.264548Z"
    }
   },
   "cell_type": "code",
   "source": [
    "# Plotly needs a different renderer for VSCode/Notebooks vs Colab argh\n",
    "import plotly.io as pio\n",
    "pio.renderers.default = \"notebook_connected\"\n",
    "print(f\"Using renderer: {pio.renderers.default}\")"
   ],
   "id": "initial_id",
   "outputs": [
    {
     "name": "stdout",
     "output_type": "stream",
     "text": [
      "Using renderer: notebook_connected\n"
     ]
    }
   ],
   "execution_count": 3
  },
  {
   "metadata": {
    "ExecuteTime": {
     "end_time": "2025-08-31T13:05:12.736431Z",
     "start_time": "2025-08-31T13:05:12.598148Z"
    }
   },
   "cell_type": "code",
   "source": [
    "import circuitsvis as cv\n",
    "\n",
    "# Testing that the library works\n",
    "cv.examples.hello(\"Artificialis\")"
   ],
   "id": "c478b15bc0893cc0",
   "outputs": [
    {
     "data": {
      "text/plain": [
       "<circuitsvis.utils.render.RenderedHTML at 0x7e051ecd1190>"
      ],
      "text/html": [
       "<div id=\"circuits-vis-4fc18d43-f71f\" style=\"margin: 15px 0;\"/>\n",
       "    <script crossorigin type=\"module\">\n",
       "    import { render, Hello } from \"https://unpkg.com/circuitsvis@1.43.3/dist/cdn/esm.js\";\n",
       "    render(\n",
       "      \"circuits-vis-4fc18d43-f71f\",\n",
       "      Hello,\n",
       "      {\"name\": \"Artificialis\"}\n",
       "    )\n",
       "    </script>"
      ]
     },
     "execution_count": 6,
     "metadata": {},
     "output_type": "execute_result"
    }
   ],
   "execution_count": 6
  },
  {
   "metadata": {
    "ExecuteTime": {
     "end_time": "2025-08-31T13:06:00.778235Z",
     "start_time": "2025-08-31T13:06:00.757866Z"
    }
   },
   "cell_type": "code",
   "source": [
    "# Import stuff\n",
    "import torch\n",
    "import torch.nn as nn\n",
    "import torch.nn.functional as F\n",
    "import torch.optim as optim\n",
    "import numpy as np\n",
    "import einops\n",
    "from fancy_einsum import einsum\n",
    "import tqdm.auto as tqdm\n",
    "import random\n",
    "from pathlib import Path\n",
    "import plotly.express as px\n",
    "from torch.utils.data import DataLoader\n",
    "\n",
    "from torchtyping import TensorType as TT\n",
    "from typing import List, Union, Optional\n",
    "from functools import partial\n",
    "import copy\n",
    "\n",
    "import itertools\n",
    "from transformers import AutoModelForCausalLM, AutoConfig, AutoTokenizer\n",
    "import dataclasses\n",
    "import datasets\n",
    "from IPython.display import HTML"
   ],
   "id": "824960b24d495cca",
   "outputs": [],
   "execution_count": 8
  },
  {
   "metadata": {
    "ExecuteTime": {
     "end_time": "2025-08-31T13:06:07.667045Z",
     "start_time": "2025-08-31T13:06:07.171943Z"
    }
   },
   "cell_type": "code",
   "source": [
    "import transformer_lens\n",
    "import transformer_lens.utils as utils\n",
    "from transformer_lens.hook_points import (\n",
    "    HookedRootModule,\n",
    "    HookPoint,\n",
    ")  # Hooking utilities\n",
    "from transformer_lens import (\n",
    "    HookedTransformer,\n",
    "    HookedTransformerConfig,\n",
    "    FactoredMatrix,\n",
    "    ActivationCache,\n",
    ")"
   ],
   "id": "fc3f4d97645e0352",
   "outputs": [],
   "execution_count": 9
  },
  {
   "metadata": {
    "ExecuteTime": {
     "end_time": "2025-08-31T13:06:27.207217Z",
     "start_time": "2025-08-31T13:06:27.183235Z"
    }
   },
   "cell_type": "code",
   "source": "torch.set_grad_enabled(False)",
   "id": "4ec7cb62a7f6b710",
   "outputs": [
    {
     "data": {
      "text/plain": [
       "torch.autograd.grad_mode.set_grad_enabled(mode=False)"
      ]
     },
     "execution_count": 10,
     "metadata": {},
     "output_type": "execute_result"
    }
   ],
   "execution_count": 10
  },
  {
   "metadata": {
    "ExecuteTime": {
     "end_time": "2025-08-31T13:06:37.186963Z",
     "start_time": "2025-08-31T13:06:37.162814Z"
    }
   },
   "cell_type": "code",
   "source": [
    "def imshow(tensor, renderer=None, xaxis=\"\", yaxis=\"\", **kwargs):\n",
    "    px.imshow(\n",
    "        utils.to_numpy(tensor),\n",
    "        color_continuous_midpoint=0.0,\n",
    "        color_continuous_scale=\"RdBu\",\n",
    "        labels={\"x\": xaxis, \"y\": yaxis},\n",
    "        **kwargs,\n",
    "    ).show(renderer)\n",
    "\n",
    "\n",
    "def line(tensor, renderer=None, xaxis=\"\", yaxis=\"\", **kwargs):\n",
    "    px.line(utils.to_numpy(tensor), labels={\"x\": xaxis, \"y\": yaxis}, **kwargs).show(\n",
    "        renderer\n",
    "    )\n",
    "\n",
    "\n",
    "def scatter(x, y, xaxis=\"\", yaxis=\"\", caxis=\"\", renderer=None, **kwargs):\n",
    "    x = utils.to_numpy(x)\n",
    "    y = utils.to_numpy(y)\n",
    "    px.scatter(\n",
    "        y=y, x=x, labels={\"x\": xaxis, \"y\": yaxis, \"color\": caxis}, **kwargs\n",
    "    ).show(renderer)"
   ],
   "id": "45628d00e571898e",
   "outputs": [],
   "execution_count": 11
  },
  {
   "metadata": {},
   "cell_type": "markdown",
   "source": "## Othello-GPT",
   "id": "90a510873a71af72"
  },
  {
   "metadata": {
    "ExecuteTime": {
     "end_time": "2025-08-31T13:07:32.860180Z",
     "start_time": "2025-08-31T13:07:32.836393Z"
    }
   },
   "cell_type": "code",
   "source": "LOAD_AND_CONVERT_CHECKPOINT = False",
   "id": "d347f17e138ce4c",
   "outputs": [],
   "execution_count": 12
  },
  {
   "metadata": {
    "ExecuteTime": {
     "end_time": "2025-08-31T13:07:47.841545Z",
     "start_time": "2025-08-31T13:07:47.204370Z"
    }
   },
   "cell_type": "code",
   "source": [
    "import transformer_lens.utils as utils\n",
    "\n",
    "cfg = HookedTransformerConfig(\n",
    "    n_layers=8,\n",
    "    d_model=512,\n",
    "    d_head=64,\n",
    "    n_heads=8,\n",
    "    d_mlp=2048,\n",
    "    d_vocab=61,\n",
    "    n_ctx=59,\n",
    "    act_fn=\"gelu\",\n",
    "    normalization_type=\"LNPre\",\n",
    ")\n",
    "model = HookedTransformer(cfg)"
   ],
   "id": "409f32a4879407ae",
   "outputs": [],
   "execution_count": 13
  },
  {
   "metadata": {
    "ExecuteTime": {
     "end_time": "2025-08-31T13:08:15.447475Z",
     "start_time": "2025-08-31T13:08:11.654146Z"
    }
   },
   "cell_type": "code",
   "source": [
    "# NBVAL_IGNORE_OUTPUT\n",
    "sd = utils.download_file_from_hf(\n",
    "    \"NeelNanda/Othello-GPT-Transformer-Lens\",\n",
    "    \"synthetic_model.pth\"\n",
    ")\n",
    "# champion_ship_sd = utils.download_file_from_hf(\"NeelNanda/Othello-GPT-Transformer-Lens\", \"championship_model.pth\")\n",
    "model.load_state_dict(sd)"
   ],
   "id": "efefe47cdff3b261",
   "outputs": [
    {
     "data": {
      "text/plain": [
       "<All keys matched successfully>"
      ]
     },
     "execution_count": 14,
     "metadata": {},
     "output_type": "execute_result"
    }
   ],
   "execution_count": 14
  },
  {
   "metadata": {
    "ExecuteTime": {
     "end_time": "2025-08-31T13:09:39.086656Z",
     "start_time": "2025-08-31T13:09:38.843417Z"
    }
   },
   "cell_type": "code",
   "source": [
    "# An example input\n",
    "sample_input = torch.tensor(\n",
    "    [\n",
    "        [\n",
    "            20,\n",
    "            19,\n",
    "            18,\n",
    "            10,\n",
    "            2,\n",
    "            1,\n",
    "            27,\n",
    "            3,\n",
    "            41,\n",
    "            42,\n",
    "            34,\n",
    "            12,\n",
    "            4,\n",
    "            40,\n",
    "            11,\n",
    "            29,\n",
    "            43,\n",
    "            13,\n",
    "            48,\n",
    "            56,\n",
    "            33,\n",
    "            39,\n",
    "            22,\n",
    "            44,\n",
    "            24,\n",
    "            5,\n",
    "            46,\n",
    "            6,\n",
    "            32,\n",
    "            36,\n",
    "            51,\n",
    "            58,\n",
    "            52,\n",
    "            60,\n",
    "            21,\n",
    "            53,\n",
    "            26,\n",
    "            31,\n",
    "            37,\n",
    "            9,\n",
    "            25,\n",
    "            38,\n",
    "            23,\n",
    "            50,\n",
    "            45,\n",
    "            17,\n",
    "            47,\n",
    "            28,\n",
    "            35,\n",
    "            30,\n",
    "            54,\n",
    "            16,\n",
    "            59,\n",
    "            49,\n",
    "            57,\n",
    "            14,\n",
    "            15,\n",
    "            55,\n",
    "            7,\n",
    "        ]\n",
    "    ]\n",
    ")\n",
    "\n",
    "model(sample_input).argmax(dim=-1)"
   ],
   "id": "3ba34ff4440b3361",
   "outputs": [
    {
     "data": {
      "text/plain": [
       "tensor([[21, 41, 40, 34, 40, 41,  3, 11, 21, 43, 40, 21, 28, 50, 33, 50, 33,  5,\n",
       "         33,  5, 52, 46, 14, 46, 14, 47, 38, 57, 36, 50, 38, 15, 28, 26, 28, 59,\n",
       "         50, 28, 14, 28, 28, 28, 28, 45, 28, 35, 15, 14, 30, 59, 49, 59, 15, 15,\n",
       "         14, 15,  8,  7,  8]], device='cuda:0')"
      ]
     },
     "execution_count": 15,
     "metadata": {},
     "output_type": "execute_result"
    }
   ],
   "execution_count": 15
  },
  {
   "metadata": {
    "ExecuteTime": {
     "end_time": "2025-08-31T13:12:48.201632Z",
     "start_time": "2025-08-31T13:12:44.591620Z"
    }
   },
   "cell_type": "code",
   "source": [
    "# Charge Othello-GPT (poids déjà portés depuis l’article Emergent World Representations)\n",
    "model = HookedTransformer.from_pretrained(\"othello-gpt\")"
   ],
   "id": "3bab9ba8f34eb087",
   "outputs": [
    {
     "name": "stdout",
     "output_type": "stream",
     "text": [
      "Loaded pretrained model othello-gpt into HookedTransformer\n"
     ]
    }
   ],
   "execution_count": 16
  },
  {
   "metadata": {
    "ExecuteTime": {
     "end_time": "2025-08-31T13:19:25.843128Z",
     "start_time": "2025-08-31T13:19:25.823622Z"
    }
   },
   "cell_type": "code",
   "source": "model",
   "id": "fa86af94f04db575",
   "outputs": [
    {
     "data": {
      "text/plain": [
       "HookedTransformer(\n",
       "  (embed): Embed()\n",
       "  (hook_embed): HookPoint()\n",
       "  (pos_embed): PosEmbed()\n",
       "  (hook_pos_embed): HookPoint()\n",
       "  (blocks): ModuleList(\n",
       "    (0-7): 8 x TransformerBlock(\n",
       "      (ln1): LayerNormPre(\n",
       "        (hook_scale): HookPoint()\n",
       "        (hook_normalized): HookPoint()\n",
       "      )\n",
       "      (ln2): LayerNormPre(\n",
       "        (hook_scale): HookPoint()\n",
       "        (hook_normalized): HookPoint()\n",
       "      )\n",
       "      (attn): Attention(\n",
       "        (hook_k): HookPoint()\n",
       "        (hook_q): HookPoint()\n",
       "        (hook_v): HookPoint()\n",
       "        (hook_z): HookPoint()\n",
       "        (hook_attn_scores): HookPoint()\n",
       "        (hook_pattern): HookPoint()\n",
       "        (hook_result): HookPoint()\n",
       "      )\n",
       "      (mlp): MLP(\n",
       "        (hook_pre): HookPoint()\n",
       "        (hook_post): HookPoint()\n",
       "      )\n",
       "      (hook_attn_in): HookPoint()\n",
       "      (hook_q_input): HookPoint()\n",
       "      (hook_k_input): HookPoint()\n",
       "      (hook_v_input): HookPoint()\n",
       "      (hook_mlp_in): HookPoint()\n",
       "      (hook_attn_out): HookPoint()\n",
       "      (hook_mlp_out): HookPoint()\n",
       "      (hook_resid_pre): HookPoint()\n",
       "      (hook_resid_mid): HookPoint()\n",
       "      (hook_resid_post): HookPoint()\n",
       "    )\n",
       "  )\n",
       "  (ln_final): LayerNormPre(\n",
       "    (hook_scale): HookPoint()\n",
       "    (hook_normalized): HookPoint()\n",
       "  )\n",
       "  (unembed): Unembed()\n",
       ")"
      ]
     },
     "execution_count": 19,
     "metadata": {},
     "output_type": "execute_result"
    }
   ],
   "execution_count": 19
  },
  {
   "metadata": {
    "ExecuteTime": {
     "end_time": "2025-08-31T13:22:58.185489Z",
     "start_time": "2025-08-31T13:22:58.164763Z"
    }
   },
   "cell_type": "code",
   "source": "model.all_head_labels()",
   "id": "414e555a1ce116be",
   "outputs": [
    {
     "data": {
      "text/plain": [
       "['L0H0',\n",
       " 'L0H1',\n",
       " 'L0H2',\n",
       " 'L0H3',\n",
       " 'L0H4',\n",
       " 'L0H5',\n",
       " 'L0H6',\n",
       " 'L0H7',\n",
       " 'L1H0',\n",
       " 'L1H1',\n",
       " 'L1H2',\n",
       " 'L1H3',\n",
       " 'L1H4',\n",
       " 'L1H5',\n",
       " 'L1H6',\n",
       " 'L1H7',\n",
       " 'L2H0',\n",
       " 'L2H1',\n",
       " 'L2H2',\n",
       " 'L2H3',\n",
       " 'L2H4',\n",
       " 'L2H5',\n",
       " 'L2H6',\n",
       " 'L2H7',\n",
       " 'L3H0',\n",
       " 'L3H1',\n",
       " 'L3H2',\n",
       " 'L3H3',\n",
       " 'L3H4',\n",
       " 'L3H5',\n",
       " 'L3H6',\n",
       " 'L3H7',\n",
       " 'L4H0',\n",
       " 'L4H1',\n",
       " 'L4H2',\n",
       " 'L4H3',\n",
       " 'L4H4',\n",
       " 'L4H5',\n",
       " 'L4H6',\n",
       " 'L4H7',\n",
       " 'L5H0',\n",
       " 'L5H1',\n",
       " 'L5H2',\n",
       " 'L5H3',\n",
       " 'L5H4',\n",
       " 'L5H5',\n",
       " 'L5H6',\n",
       " 'L5H7',\n",
       " 'L6H0',\n",
       " 'L6H1',\n",
       " 'L6H2',\n",
       " 'L6H3',\n",
       " 'L6H4',\n",
       " 'L6H5',\n",
       " 'L6H6',\n",
       " 'L6H7',\n",
       " 'L7H0',\n",
       " 'L7H1',\n",
       " 'L7H2',\n",
       " 'L7H3',\n",
       " 'L7H4',\n",
       " 'L7H5',\n",
       " 'L7H6',\n",
       " 'L7H7']"
      ]
     },
     "execution_count": 22,
     "metadata": {},
     "output_type": "execute_result"
    }
   ],
   "execution_count": 22
  },
  {
   "metadata": {
    "ExecuteTime": {
     "end_time": "2025-08-31T13:28:20.722843Z",
     "start_time": "2025-08-31T13:28:20.703992Z"
    }
   },
   "cell_type": "code",
   "source": [
    "total_params = sum(p.numel() for p in model.parameters())\n",
    "print(f\"Nombre total de paramètres : {total_params:,}\")"
   ],
   "id": "83173b2bd9fabff4",
   "outputs": [
    {
     "name": "stdout",
     "output_type": "stream",
     "text": [
      "Nombre total de paramètres : 25,295,421\n"
     ]
    }
   ],
   "execution_count": 24
  },
  {
   "metadata": {},
   "cell_type": "code",
   "outputs": [],
   "execution_count": null,
   "source": "",
   "id": "bcf0042945ce7253"
  }
 ],
 "metadata": {
  "kernelspec": {
   "display_name": "Python 3",
   "language": "python",
   "name": "python3"
  },
  "language_info": {
   "codemirror_mode": {
    "name": "ipython",
    "version": 2
   },
   "file_extension": ".py",
   "mimetype": "text/x-python",
   "name": "python",
   "nbconvert_exporter": "python",
   "pygments_lexer": "ipython2",
   "version": "2.7.6"
  }
 },
 "nbformat": 4,
 "nbformat_minor": 5
}
