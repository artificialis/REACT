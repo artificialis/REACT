{
 "cells": [
  {
   "metadata": {},
   "cell_type": "markdown",
   "source": "# Introduction à Transformer-lens",
   "id": "7aebf60aed23c910"
  },
  {
   "metadata": {},
   "cell_type": "markdown",
   "source": "## Configuration",
   "id": "b5cd1c2f0593d9f8"
  },
  {
   "metadata": {},
   "cell_type": "markdown",
   "source": [
    "Ce fragment sert à configurer Plotly pour que ses graphiques interactifs puissent s’afficher correctement dans l’environnement d’exécution actuel (VSCode, Jupyter Notebook, etc.).\n",
    "\n",
    "* import plotly.io as pio : on importe le module qui gère les paramètres d’entrée/sortie de Plotly.\n",
    "* pio.renderers.default = \"notebook_connected\" : Plotly peut utiliser plusieurs « moteurs de rendu » (par exemple browser, colab, notebook_connected, etc.) selon l’endroit où tourne le code. Ici on force l’utilisation de notebook_connected, qui est adapté aux notebooks locaux (Jupyter/VSCode) et permet d’afficher les graphiques directement dans la cellule.\n",
    "* print(...) : on affiche quel renderer est activé, histoire de vérifier que la configuration est bien appliquée.\n",
    "\n",
    "En résumé, ce code évite les problèmes fréquents d’affichage (par exemple un graphique qui ne s’ouvre pas, ou qui tente de s’ouvrir dans un navigateur externe) en fixant explicitement le moteur de rendu approprié à l’environnement."
   ],
   "id": "511b02eef9ff1104"
  },
  {
   "metadata": {
    "collapsed": true,
    "ExecuteTime": {
     "end_time": "2025-08-31T13:31:44.224049Z",
     "start_time": "2025-08-31T13:31:43.593388Z"
    }
   },
   "cell_type": "code",
   "source": [
    "# Plotly needs a different renderer for VSCode/Notebooks vs Colab argh\n",
    "import plotly.io as pio\n",
    "pio.renderers.default = \"notebook_connected\"\n",
    "print(f\"Using renderer: {pio.renderers.default}\")"
   ],
   "id": "initial_id",
   "outputs": [
    {
     "name": "stdout",
     "output_type": "stream",
     "text": [
      "Using renderer: notebook_connected\n"
     ]
    }
   ],
   "execution_count": 1
  },
  {
   "metadata": {},
   "cell_type": "markdown",
   "source": [
    "Ce bout de code utilise circuitsvis, une petite librairie de visualisation interactive souvent employée avec TransformerLens.\n",
    "\n",
    "* import circuitsvis as cv : on importe la librairie.\n",
    "* cv.examples.hello(\"Nils\") : appelle une fonction d’exemple intégrée. C’est juste une demo de test qui affiche une petite visualisation interactive (sous forme d’HTML/Javascript), par exemple une boîte avec “Hello Nils 👋”.\n",
    "\n",
    "En pratique :\n",
    "\n",
    "* Dans un notebook Jupyter/VSCode, la sortie apparaît directement sous la cellule.\n",
    "* Dans Colab, ça peut nécessiter d’installer circuitsvis[colab] et d’activer le mode Colab renderer (cv.notebook.init()).\n",
    "\n",
    "C’est donc simplement un “hello world” graphique fourni par circuitsvis pour vérifier que l’intégration HTML fonctionne."
   ],
   "id": "94984c2361d967ac"
  },
  {
   "metadata": {
    "ExecuteTime": {
     "end_time": "2025-08-31T13:31:54.421930Z",
     "start_time": "2025-08-31T13:31:54.283146Z"
    }
   },
   "cell_type": "code",
   "source": [
    "import circuitsvis as cv\n",
    "cv.examples.hello(\"Artificialis\")"
   ],
   "id": "3afcb03356984b5d",
   "outputs": [
    {
     "data": {
      "text/plain": [
       "<circuitsvis.utils.render.RenderedHTML at 0x73a8e412ab10>"
      ],
      "text/html": [
       "<div id=\"circuits-vis-ce5b49b5-3c30\" style=\"margin: 15px 0;\"/>\n",
       "    <script crossorigin type=\"module\">\n",
       "    import { render, Hello } from \"https://unpkg.com/circuitsvis@1.43.3/dist/cdn/esm.js\";\n",
       "    render(\n",
       "      \"circuits-vis-ce5b49b5-3c30\",\n",
       "      Hello,\n",
       "      {\"name\": \"Artificialis\"}\n",
       "    )\n",
       "    </script>"
      ]
     },
     "execution_count": 3,
     "metadata": {},
     "output_type": "execute_result"
    }
   ],
   "execution_count": 3
  },
  {
   "metadata": {},
   "cell_type": "markdown",
   "source": [
    "Ce bloc est un préambule classique : on rassemble toutes les librairies dont on aura besoin pour manipuler des tenseurs, définir des réseaux, visualiser et écrire du code plus lisible.\n",
    "\n",
    "* PyTorch : sert à créer et entraîner des modèles de deep learning.\n",
    "* torch.nn contient les briques de réseaux de neurones (layers, fonctions d’activation, etc.).\n",
    "* einops simplifie les réarrangements de tenseurs avec une syntaxe lisible (rearrange, reduce, etc.).\n",
    "* fancy_einsum est une version plus expressive de torch.einsum, avec des noms de dimensions explicites → facilite la lecture et évite les erreurs d’indices.\n",
    "* tqdm affiche des barres de progression (l’alias auto choisit le meilleur backend selon l’environnement : notebook, terminal, etc.).\n",
    "* plotly.express : création rapide de graphiques interactifs (scatter, heatmap, etc.).\n",
    "* jaxtyping : permet d’annoter les types de tenseurs (Float[Tensor, \"batch d_model\"], par ex.) pour mieux documenter et vérifier le code.\n",
    "* partial : utilitaire Python qui fixe certains arguments d’une fonction pour créer une variante simplifiée."
   ],
   "id": "9da2b8d7afef9794"
  },
  {
   "metadata": {
    "ExecuteTime": {
     "end_time": "2025-08-31T13:32:03.373772Z",
     "start_time": "2025-08-31T13:32:03.322809Z"
    }
   },
   "cell_type": "code",
   "source": [
    "# Import stuff\n",
    "import torch\n",
    "import torch.nn as nn\n",
    "import einops\n",
    "from fancy_einsum import einsum\n",
    "import tqdm.auto as tqdm\n",
    "import plotly.express as px\n",
    "\n",
    "from jaxtyping import Float, Int\n",
    "from functools import partial\n",
    "\n",
    "from typing import Optional, Any\n",
    "\n",
    "import numpy as np"
   ],
   "id": "571704e458088963",
   "outputs": [],
   "execution_count": 4
  },
  {
   "metadata": {
    "ExecuteTime": {
     "end_time": "2025-08-31T13:32:05.715403Z",
     "start_time": "2025-08-31T13:32:04.035899Z"
    }
   },
   "cell_type": "code",
   "source": [
    "# import transformer_lens\n",
    "import transformer_lens.utils as utils\n",
    "from transformer_lens.hook_points import (\n",
    "    HookPoint,\n",
    ")  # Hooking utilities\n",
    "from transformer_lens import HookedTransformer, FactoredMatrix"
   ],
   "id": "3b8f0efc14aa9ec3",
   "outputs": [],
   "execution_count": 5
  },
  {
   "metadata": {
    "ExecuteTime": {
     "end_time": "2025-08-31T13:32:06.307734Z",
     "start_time": "2025-08-31T13:32:06.304260Z"
    }
   },
   "cell_type": "code",
   "source": "torch.set_grad_enabled(False)",
   "id": "896c1441ea5bcab1",
   "outputs": [
    {
     "data": {
      "text/plain": [
       "torch.autograd.grad_mode.set_grad_enabled(mode=False)"
      ]
     },
     "execution_count": 6,
     "metadata": {},
     "output_type": "execute_result"
    }
   ],
   "execution_count": 6
  },
  {
   "metadata": {
    "ExecuteTime": {
     "end_time": "2025-08-31T13:32:38.784551Z",
     "start_time": "2025-08-31T13:32:38.778219Z"
    }
   },
   "cell_type": "code",
   "source": [
    "def imshow(\n",
    "        tensor: Float[np.ndarray, \"height width\"],  # Matrice 2D (ex: heatmap)\n",
    "        renderer: Optional[str] = None,             # Nom du renderer Plotly (ex: \"notebook_connected\")\n",
    "        xaxis: str = \"\",                            # Label axe X\n",
    "        yaxis: str = \"\",                            # Label axe Y\n",
    "        **kwargs: Any                               # Options supplémentaires passées à px.imshow\n",
    ") -> None:\n",
    "    \"\"\"\n",
    "    Affiche un tenseur 2D sous forme d'image (heatmap) avec Plotly.\n",
    "\n",
    "    Args:\n",
    "        tensor: tableau 2D (PyTorch/JAX/NumPy) représentant des valeurs à colorer.\n",
    "        renderer: moteur d'affichage Plotly (None = valeur par défaut).\n",
    "        xaxis: étiquette de l'axe X.\n",
    "        yaxis: étiquette de l'axe Y.\n",
    "        **kwargs: options supplémentaires (ex: title=\"Mon Graphique\").\n",
    "    \"\"\"\n",
    "    px.imshow(\n",
    "        utils.to_numpy(tensor),\n",
    "        color_continuous_midpoint=0.0,\n",
    "        color_continuous_scale=\"RdBu\",\n",
    "        labels={\"x\":xaxis, \"y\":yaxis},\n",
    "        **kwargs\n",
    "    ).show(renderer)\n",
    "# end imshow\n",
    "\n",
    "def line(\n",
    "        tensor: Float[np.ndarray, \"n\"],              # Vecteur 1D (courbe)\n",
    "        renderer: Optional[str] = None,\n",
    "        xaxis: str = \"\",\n",
    "        yaxis: str = \"\",\n",
    "        **kwargs: Any\n",
    ") -> None:\n",
    "    \"\"\"\n",
    "    Affiche un tenseur 1D sous forme de courbe.\n",
    "\n",
    "    Args:\n",
    "        tensor: tableau 1D (ex: évolution d'une valeur au cours du temps).\n",
    "        renderer: moteur d'affichage Plotly.\n",
    "        xaxis: étiquette de l'axe X.\n",
    "        yaxis: étiquette de l'axe Y.\n",
    "        **kwargs: options supplémentaires pour px.line.\n",
    "    \"\"\"\n",
    "    px.line(\n",
    "        utils.to_numpy(tensor),\n",
    "        labels={\"x\":xaxis, \"y\":yaxis},\n",
    "        **kwargs\n",
    "    ).show(renderer)\n",
    "# end line\n",
    "\n",
    "def scatter(\n",
    "        x: Float[np.ndarray, \"n\"],                   # Coordonnées X (1D)\n",
    "        y: Float[np.ndarray, \"n\"],                   # Coordonnées Y (1D)\n",
    "        xaxis: str = \"\",\n",
    "        yaxis: str = \"\",\n",
    "        caxis: str = \"\",                             # Légende pour la couleur\n",
    "        renderer: Optional[str] = None,\n",
    "        **kwargs: Any\n",
    ") -> None:\n",
    "    \"\"\"\n",
    "    Affiche un nuage de points (scatter plot).\n",
    "\n",
    "    Args:\n",
    "        x: tableau 1D pour les abscisses.\n",
    "        y: tableau 1D pour les ordonnées.\n",
    "        xaxis: étiquette de l'axe X.\n",
    "        yaxis: étiquette de l'axe Y.\n",
    "        caxis: nom de la légende associée à la couleur.\n",
    "        renderer: moteur d'affichage Plotly.\n",
    "        **kwargs: options supplémentaires pour px.scatter (ex: color=...).\n",
    "    \"\"\"\n",
    "    x = utils.to_numpy(x)\n",
    "    y = utils.to_numpy(y)\n",
    "    px.scatter(\n",
    "        y=y,\n",
    "        x=x,\n",
    "        labels={\"x\":xaxis, \"y\":yaxis, \"color\":caxis},\n",
    "        **kwargs\n",
    "    ).show(renderer)\n",
    "# end scatter"
   ],
   "id": "a16507838c78e887",
   "outputs": [],
   "execution_count": 7
  },
  {
   "metadata": {},
   "cell_type": "markdown",
   "source": "## Introduction",
   "id": "af9b3a62458b0143"
  },
  {
   "metadata": {},
   "cell_type": "markdown",
   "source": [
    "Ceci est un notebook de démonstration pour [TransformerLens](https://github.com/TransformerLensOrg/TransformerLens), **une bibliothèque que j’ai ([Neel Nanda](https://neelnanda.io)) écrite pour faire de l’[interprétabilité mécanistique](https://distill.pub/2020/circuits/zoom-in/) de modèles de langage de type GPT-2.**\n",
    "\n",
    "L’objectif de l’interprétabilité mécanistique est de prendre un modèle entraîné et de rétro-concevoir les algorithmes que le modèle a appris durant son entraînement à partir de ses poids. Le fait est qu’aujourd’hui, nous avons des programmes capables de parler anglais à un niveau humain (GPT-3, PaLM, etc.), mais nous n’avons aucune idée de leur fonctionnement ni de comment en écrire un nous-mêmes. Cela me choque profondément, et je veux résoudre ce problème ! L’interprétabilité mécanistique est un domaine encore très jeune et très réduit, avec *beaucoup* de problèmes ouverts — si vous voulez contribuer, essayez-en un ! **Si vous voulez vous former, consultez [mon guide pour débuter](https://neelnanda.io/getting-started), et si vous voulez plonger directement dans un problème ouvert, regardez ma série [200 problèmes concrets ouverts en interprétabilité mécanistique](https://neelnanda.io/concrete-open-problems).**\n",
    "\n",
    "J’ai écrit cette bibliothèque parce qu’après avoir quitté l’équipe d’interprétabilité d’Anthropic et commencé à faire de la recherche indépendante, j’ai été extrêmement frustré par l’état des outils open source. Il existe beaucoup d’infrastructures excellentes comme HuggingFace et DeepSpeed pour *utiliser* ou *entraîner* des modèles, mais très peu pour explorer leurs entrailles et rétro-concevoir leur fonctionnement. **Cette bibliothèque cherche à combler ce manque**, et à rendre l’accès au domaine facile, même si l’on ne travaille pas dans une organisation industrielle dotée d’une vraie infrastructure ! Les fonctionnalités principales se sont beaucoup inspirées de l’[excellent outil Garcon d’Anthropic](https://transformer-circuits.pub/2021/garcon/index.html). Merci à Nelson Elhage et Chris Olah d’avoir construit Garcon et de m’avoir montré la valeur d’une bonne infrastructure pour accélérer la recherche exploratoire !\n",
    "\n",
    "Le principe de conception central que j’ai suivi est de favoriser l’analyse exploratoire : l’un des aspects les plus amusants de l’interprétabilité mécanistique, comparée au machine learning classique, est la boucle de rétroaction extrêmement courte ! L’objectif de cette bibliothèque est de réduire au maximum l’écart entre avoir une idée d’expérience et en voir les résultats, afin que **la recherche ressemble à un jeu** et permette d’entrer dans un état de flux. Ce notebook montre comment la bibliothèque fonctionne et comment l’utiliser, mais si vous voulez voir à quel point elle est adaptée à la recherche exploratoire, regardez [mon notebook d’analyse sur l’Indirect Objection Identification](https://neelnanda.io/exploratory-analysis-demo) ou [mon enregistrement de moi-même en train de faire de la recherche](https://www.youtube.com/watch?v=yo4QvDn-vsU) !\n"
   ],
   "id": "8e1fc4d7a0cbb2d8"
  },
  {
   "metadata": {},
   "cell_type": "markdown",
   "source": [
    "## Chargement et exécution des modèles\n",
    "\n",
    "TransformerLens est fourni avec plus de 40 modèles open source de type GPT. Vous pouvez en charger n’importe lequel avec la commande `HookedTransformer.from_pretrained(MODEL_NAME)`.\n",
    "\n",
    "Dans ce notebook de démonstration, nous allons utiliser **GPT-2 Small**, un modèle de 80 millions de paramètres. Pour les autres modèles disponibles, référez-vous à la section *Available Models*."
   ],
   "id": "2562c078212f7fbc"
  },
  {
   "metadata": {},
   "cell_type": "markdown",
   "source": "On commence par récupérer le device utilisé pour le calcul.",
   "id": "e95995156573ff2"
  },
  {
   "metadata": {
    "ExecuteTime": {
     "end_time": "2025-08-31T13:34:45.086711Z",
     "start_time": "2025-08-31T13:34:45.033615Z"
    }
   },
   "cell_type": "code",
   "source": "device = utils.get_device()",
   "id": "cfeb89d44334871d",
   "outputs": [],
   "execution_count": 8
  },
  {
   "metadata": {},
   "cell_type": "markdown",
   "source": "On charge ensuite un modèle pré-entraîné depuis HuggingFace.",
   "id": "6f268d1cda227795"
  },
  {
   "metadata": {
    "ExecuteTime": {
     "end_time": "2025-08-31T13:37:20.831517Z",
     "start_time": "2025-08-31T13:37:06.957538Z"
    }
   },
   "cell_type": "code",
   "source": [
    "# NBVAL_IGNORE_OUTPUT\n",
    "model = HookedTransformer.from_pretrained(\"gpt2-small\", device=device)"
   ],
   "id": "49fc6349a37db2b0",
   "outputs": [
    {
     "data": {
      "text/plain": [
       "config.json:   0%|          | 0.00/665 [00:00<?, ?B/s]"
      ],
      "application/vnd.jupyter.widget-view+json": {
       "version_major": 2,
       "version_minor": 0,
       "model_id": "82753193301d400980014340fc15070d"
      }
     },
     "metadata": {},
     "output_type": "display_data"
    },
    {
     "name": "stderr",
     "output_type": "stream",
     "text": [
      "`torch_dtype` is deprecated! Use `dtype` instead!\n"
     ]
    },
    {
     "data": {
      "text/plain": [
       "model.safetensors:   0%|          | 0.00/548M [00:00<?, ?B/s]"
      ],
      "application/vnd.jupyter.widget-view+json": {
       "version_major": 2,
       "version_minor": 0,
       "model_id": "4fe08c88fd8245ae8b2b0af0ecaa5618"
      }
     },
     "metadata": {},
     "output_type": "display_data"
    },
    {
     "data": {
      "text/plain": [
       "generation_config.json:   0%|          | 0.00/124 [00:00<?, ?B/s]"
      ],
      "application/vnd.jupyter.widget-view+json": {
       "version_major": 2,
       "version_minor": 0,
       "model_id": "148062d0b8c641b9bcaea341c3d95121"
      }
     },
     "metadata": {},
     "output_type": "display_data"
    },
    {
     "data": {
      "text/plain": [
       "tokenizer_config.json:   0%|          | 0.00/26.0 [00:00<?, ?B/s]"
      ],
      "application/vnd.jupyter.widget-view+json": {
       "version_major": 2,
       "version_minor": 0,
       "model_id": "8cd3f5b07bd44ba1b7360e76ef9ef74b"
      }
     },
     "metadata": {},
     "output_type": "display_data"
    },
    {
     "data": {
      "text/plain": [
       "vocab.json:   0%|          | 0.00/1.04M [00:00<?, ?B/s]"
      ],
      "application/vnd.jupyter.widget-view+json": {
       "version_major": 2,
       "version_minor": 0,
       "model_id": "dafed699ab4c4fb596e089b50ec53991"
      }
     },
     "metadata": {},
     "output_type": "display_data"
    },
    {
     "data": {
      "text/plain": [
       "merges.txt:   0%|          | 0.00/456k [00:00<?, ?B/s]"
      ],
      "application/vnd.jupyter.widget-view+json": {
       "version_major": 2,
       "version_minor": 0,
       "model_id": "34b41bd283594a2da5ea7af6a50b07cc"
      }
     },
     "metadata": {},
     "output_type": "display_data"
    },
    {
     "data": {
      "text/plain": [
       "tokenizer.json:   0%|          | 0.00/1.36M [00:00<?, ?B/s]"
      ],
      "application/vnd.jupyter.widget-view+json": {
       "version_major": 2,
       "version_minor": 0,
       "model_id": "f15554d8f6cd4a888e5d0f8f798f8b3f"
      }
     },
     "metadata": {},
     "output_type": "display_data"
    },
    {
     "name": "stdout",
     "output_type": "stream",
     "text": [
      "Loaded pretrained model gpt2-small into HookedTransformer\n"
     ]
    }
   ],
   "execution_count": 9
  },
  {
   "metadata": {},
   "cell_type": "markdown",
   "source": [
    "Pour tester le modèle, calculons la *loss* sur ce texte !\n",
    "Les modèles peuvent être exécutés soit sur une **chaîne de caractères**, soit sur un **tenseur de tokens** (forme : `[batch, position]`, uniquement des entiers).\n",
    "\n",
    "Les types de sortie possibles sont :\n",
    "\n",
    "* `\"logits\"` — tenseur de forme `[batch, position, d_vocab]` (valeurs flottantes) ;\n",
    "* `\"loss\"` — la *cross-entropy loss* lors de la prédiction du prochain token ;\n",
    "* `\"both\"` — un tuple `(logits, loss)` ;\n",
    "* `None` — exécuter le modèle sans calculer les logits (plus rapide si l’on ne veut que les activations intermédiaires).\n"
   ],
   "id": "ca251ee07d01ef9d"
  },
  {
   "metadata": {
    "ExecuteTime": {
     "end_time": "2025-08-31T13:42:31.320956Z",
     "start_time": "2025-08-31T13:42:31.288156Z"
    }
   },
   "cell_type": "code",
   "source": [
    "model_description_text = \"\"\"## Loading Models\n",
    "\n",
    "HookedTransformer comes loaded with >40 open source GPT-style models. You can load any of them in with `HookedTransformer.from_pretrained(MODEL_NAME)`. See my explainer for documentation of all supported models, and this table for hyper-parameters and the name used to load them. Each model is loaded into the consistent HookedTransformer architecture, designed to be clean, consistent and interpretability-friendly.\n",
    "\n",
    "For this demo notebook we'll look at GPT-2 Small, an 80M parameter model. To try the model the model out, let's find the loss on this paragraph!\n",
    "\n",
    "For this demo notebook we'll look at GPT-2 Small, an 80M parameter model. To try the model the model out, let's find the loss on this paragraph!\"\"\"\n",
    "logits, loss = model(model_description_text, return_type=\"both\")\n",
    "print(\"Model loss:\", loss)\n",
    "print(\"Model logits:\", logits.size())"
   ],
   "id": "c009e2c98d5cf195",
   "outputs": [
    {
     "name": "stdout",
     "output_type": "stream",
     "text": [
      "Model loss: tensor(3.3063, device='cuda:0')\n",
      "Model logits: torch.Size([1, 178, 50257])\n"
     ]
    }
   ],
   "execution_count": 13
  },
  {
   "metadata": {},
   "cell_type": "markdown",
   "source": "On transforme les logits en probabilités (probabilités d'être le prochain token pour chaque entrée du vocabulaire). Puis on détermine quel est le plus probable grâce à argmax.",
   "id": "eb884982d7f81a48"
  },
  {
   "metadata": {
    "ExecuteTime": {
     "end_time": "2025-08-31T13:47:52.085252Z",
     "start_time": "2025-08-31T13:47:52.063204Z"
    }
   },
   "cell_type": "code",
   "source": [
    "import torch.nn.functional as F\n",
    "probs = F.softmax(logits, dim=-1)\n",
    "torch.argmax(probs[0, -1])"
   ],
   "id": "df7bab1cae32b09e",
   "outputs": [
    {
     "data": {
      "text/plain": [
       "tensor(1114, device='cuda:0')"
      ]
     },
     "execution_count": 22,
     "metadata": {},
     "output_type": "execute_result"
    }
   ],
   "execution_count": 22
  },
  {
   "metadata": {},
   "cell_type": "markdown",
   "source": [
    "## Mettre en cache toutes les activations\n",
    "\n",
    "La première opération de base en interprétabilité mécanistique consiste à **ouvrir la boîte noire du modèle** et à examiner toutes ses activations internes. On peut le faire avec `logits, cache = model.run_with_cache(tokens)`. Testons cela sur la première ligne du résumé de l’article GPT-2.\n",
    "\n",
    "#### À propos de `remove_batch_dim`\n",
    "\n",
    "Toutes les activations à l’intérieur du modèle commencent par une dimension de batch. Ici, comme on ne passe qu’un seul batch, cette dimension vaut toujours 1 et peut être pénible à manipuler ; en passant l’argument `remove_batch_dim=True`, on la supprime. L’instruction `gpt2_cache_no_batch_dim = gpt2_cache.remove_batch_dim()` aurait eu le même effet.\n"
   ],
   "id": "445220afac7a9f2b"
  },
  {
   "metadata": {},
   "cell_type": "markdown",
   "source": "On commence par définir le texte qu'on va donner à GPT-2.",
   "id": "de10144ce1fe6577"
  },
  {
   "metadata": {
    "ExecuteTime": {
     "end_time": "2025-08-31T13:52:18.167631Z",
     "start_time": "2025-08-31T13:52:18.117428Z"
    }
   },
   "cell_type": "code",
   "source": "gpt2_text = \"Natural language processing tasks, such as question answering, machine translation, reading comprehension, and summarization, are typically approached with supervised learning on task specific datasets.\"",
   "id": "ba88759631d35006",
   "outputs": [],
   "execution_count": 23
  },
  {
   "metadata": {},
   "cell_type": "markdown",
   "source": [
    "On transforme ce texte en token, c'est à dire en ID (int) qui indique la place du token dans le vocabulaire.\n",
    "Cette liste d'ID a une taille de (1, 32). Pour 1 batch, et 32 tokens."
   ],
   "id": "5f4add3d950eb882"
  },
  {
   "metadata": {
    "ExecuteTime": {
     "end_time": "2025-08-31T13:55:12.718201Z",
     "start_time": "2025-08-31T13:55:12.694944Z"
    }
   },
   "cell_type": "code",
   "outputs": [
    {
     "data": {
      "text/plain": [
       "torch.Size([1, 32])"
      ]
     },
     "execution_count": 27,
     "metadata": {},
     "output_type": "execute_result"
    }
   ],
   "execution_count": 27,
   "source": "gpt2_tokens = model.to_tokens(gpt2_text)",
   "id": "3b259cecaf74f57a"
  },
  {
   "metadata": {},
   "cell_type": "markdown",
   "source": "On donne les tokens à GPT-2 mais on garde en cache les activations. On récupère les prédictions (gpt2_logits) et le cache (gpt2_cache).",
   "id": "36a930668ba41bc"
  },
  {
   "metadata": {},
   "cell_type": "code",
   "outputs": [],
   "execution_count": null,
   "source": "gpt2_logits, gpt2_cache = model.run_with_cache(gpt2_tokens, remove_batch_dim=True)",
   "id": "aad048cd3c543c27"
  },
  {
   "metadata": {},
   "cell_type": "markdown",
   "source": "gpt2_logits a une taille de (1, 32, 50257). Un batch, 32 tokens, et 50257 la taille du vocabulaire. gpt2_cache est lui un objet [ActivationCache](https://transformerlensorg.github.io/TransformerLens/generated/code/transformer_lens.ActivationCache.html).",
   "id": "8c3892751c321b4"
  },
  {
   "metadata": {},
   "cell_type": "markdown",
   "source": [
    "## Visualiser les pattern d'attention\n",
    "\n",
    "Visualisons le **pattern d’attention** de toutes les têtes de la couche 0, en utilisant la bibliothèque [CircuitsVis d’Alan Cooney](https://github.com/alan-cooney/CircuitsVis) (basée sur la [bibliothèque PySvelte d’Anthropic](https://github.com/anthropics/PySvelte)).\n",
    "\n",
    "Nous examinons le pattern d’attention dans `gpt2_cache`, un objet `ActivationCache`, en donnant le nom de l’activation suivi de l’indice de couche (ici, l’activation s’appelle `\"attn\"` et l’indice de couche est `0`). Sa forme est `[head_index, destination_position, source_position]`. Nous utilisons la méthode `model.to_str_tokens` pour convertir le texte en une liste de tokens (chaînes de caractères), puisqu’il existe un poids d’attention entre chaque paire de tokens.\n",
    "\n",
    "Cette visualisation est **interactive** ! Passez la souris sur un token ou une tête, et cliquez pour verrouiller. La grille en haut à gauche et, pour chaque tête, représente le pattern d’attention sous forme de matrice « position de destination × position source ». Elle est **triangulaire inférieure** parce que GPT-2 utilise une **attention causale** : l’attention ne peut regarder que vers le passé, donc l’information ne peut circuler que vers l’avant dans le réseau.\n",
    "\n",
    "Consultez la section *ActivationCache* pour en savoir plus sur ce que `gpt2_cache` permet de faire."
   ],
   "id": "d265cf7348689acb"
  },
  {
   "metadata": {
    "ExecuteTime": {
     "end_time": "2025-08-31T14:19:47.241869Z",
     "start_time": "2025-08-31T14:19:47.217598Z"
    }
   },
   "cell_type": "code",
   "source": [
    "# Couche 0 de GPT-2\n",
    "attention_pattern = gpt2_cache[\"pattern\", 0, \"attn\"]\n",
    "gpt2_str_tokens = model.to_str_tokens(gpt2_text)"
   ],
   "id": "39c7509acf8b9996",
   "outputs": [],
   "execution_count": 35
  },
  {
   "metadata": {},
   "cell_type": "markdown",
   "source": "`attention_pattern` fait (12, 32, 32), pour 12 tête d'attention, 32 tokens d'origine, 32 tokens de destination. `gpt2_str_tokens` est une liste de string qui sont les tokens de la chaîne `gpt2_text`.",
   "id": "e157f1fc1a252356"
  },
  {
   "metadata": {
    "ExecuteTime": {
     "end_time": "2025-08-31T14:19:49.400672Z",
     "start_time": "2025-08-31T14:19:49.234705Z"
    }
   },
   "cell_type": "code",
   "source": [
    "print(\"Layer 0 Head Attention Patterns:\")\n",
    "cv.attention.attention_patterns(tokens=gpt2_str_tokens, attention=attention_pattern)"
   ],
   "id": "dfb96d8d569a8377",
   "outputs": [
    {
     "name": "stdout",
     "output_type": "stream",
     "text": [
      "Layer 0 Head Attention Patterns:\n"
     ]
    },
    {
     "data": {
      "text/plain": [
       "<circuitsvis.utils.render.RenderedHTML at 0x73a8d46142d0>"
      ],
      "text/html": [
       "<div id=\"circuits-vis-6080df1d-aa97\" style=\"margin: 15px 0;\"/>\n",
       "    <script crossorigin type=\"module\">\n",
       "    import { render, AttentionPatterns } from \"https://unpkg.com/circuitsvis@1.43.3/dist/cdn/esm.js\";\n",
       "    render(\n",
       "      \"circuits-vis-6080df1d-aa97\",\n",
       "      AttentionPatterns,\n",
       "      {\"tokens\": [\"<|endoftext|>\", \"Natural\", \" language\", \" processing\", \" tasks\", \",\", \" such\", \" as\", \" question\", \" answering\", \",\", \" machine\", \" translation\", \",\", \" reading\", \" comprehension\", \",\", \" and\", \" summar\", \"ization\", \",\", \" are\", \" typically\", \" approached\", \" with\", \" supervised\", \" learning\", \" on\", \" task\", \" specific\", \" datasets\", \".\"], \"attention\": [[[1.0, 0.0, 0.0, 0.0, 0.0, 0.0, 0.0, 0.0, 0.0, 0.0, 0.0, 0.0, 0.0, 0.0, 0.0, 0.0, 0.0, 0.0, 0.0, 0.0, 0.0, 0.0, 0.0, 0.0, 0.0, 0.0, 0.0, 0.0, 0.0, 0.0, 0.0, 0.0], [0.9639418125152588, 0.03605815768241882, 0.0, 0.0, 0.0, 0.0, 0.0, 0.0, 0.0, 0.0, 0.0, 0.0, 0.0, 0.0, 0.0, 0.0, 0.0, 0.0, 0.0, 0.0, 0.0, 0.0, 0.0, 0.0, 0.0, 0.0, 0.0, 0.0, 0.0, 0.0, 0.0, 0.0], [0.8389374017715454, 0.1182878389954567, 0.04277482628822327, 0.0, 0.0, 0.0, 0.0, 0.0, 0.0, 0.0, 0.0, 0.0, 0.0, 0.0, 0.0, 0.0, 0.0, 0.0, 0.0, 0.0, 0.0, 0.0, 0.0, 0.0, 0.0, 0.0, 0.0, 0.0, 0.0, 0.0, 0.0, 0.0], [0.4743611812591553, 0.13382022082805634, 0.27371737360954285, 0.11810118705034256, 0.0, 0.0, 0.0, 0.0, 0.0, 0.0, 0.0, 0.0, 0.0, 0.0, 0.0, 0.0, 0.0, 0.0, 0.0, 0.0, 0.0, 0.0, 0.0, 0.0, 0.0, 0.0, 0.0, 0.0, 0.0, 0.0, 0.0, 0.0], [0.35606440901756287, 0.10184908658266068, 0.23054218292236328, 0.20397405326366425, 0.10757024586200714, 0.0, 0.0, 0.0, 0.0, 0.0, 0.0, 0.0, 0.0, 0.0, 0.0, 0.0, 0.0, 0.0, 0.0, 0.0, 0.0, 0.0, 0.0, 0.0, 0.0, 0.0, 0.0, 0.0, 0.0, 0.0, 0.0, 0.0], [0.6660143733024597, 0.16866381466388702, 0.04535672441124916, 0.03885499760508537, 0.0677548348903656, 0.013355262577533722, 0.0, 0.0, 0.0, 0.0, 0.0, 0.0, 0.0, 0.0, 0.0, 0.0, 0.0, 0.0, 0.0, 0.0, 0.0, 0.0, 0.0, 0.0, 0.0, 0.0, 0.0, 0.0, 0.0, 0.0, 0.0, 0.0], [0.38626956939697266, 0.2851092517375946, 0.07609009742736816, 0.059083811938762665, 0.07223354279994965, 0.039796363562345505, 0.08141738176345825, 0.0, 0.0, 0.0, 0.0, 0.0, 0.0, 0.0, 0.0, 0.0, 0.0, 0.0, 0.0, 0.0, 0.0, 0.0, 0.0, 0.0, 0.0, 0.0, 0.0, 0.0, 0.0, 0.0, 0.0, 0.0], [0.3775395154953003, 0.18838825821876526, 0.11723989248275757, 0.086855947971344, 0.06669183075428009, 0.035000160336494446, 0.09693002700805664, 0.03135440871119499, 0.0, 0.0, 0.0, 0.0, 0.0, 0.0, 0.0, 0.0, 0.0, 0.0, 0.0, 0.0, 0.0, 0.0, 0.0, 0.0, 0.0, 0.0, 0.0, 0.0, 0.0, 0.0, 0.0, 0.0], [0.4869753420352936, 0.06781317293643951, 0.07952877134084702, 0.084807850420475, 0.1590261161327362, 0.029577819630503654, 0.025685913860797882, 0.016474617645144463, 0.05011037364602089, 0.0, 0.0, 0.0, 0.0, 0.0, 0.0, 0.0, 0.0, 0.0, 0.0, 0.0, 0.0, 0.0, 0.0, 0.0, 0.0, 0.0, 0.0, 0.0, 0.0, 0.0, 0.0, 0.0], [0.2906549572944641, 0.04013499245047569, 0.14614857733249664, 0.09940596669912338, 0.1538919359445572, 0.03900162875652313, 0.024988995864987373, 0.03184129297733307, 0.10222819447517395, 0.07170350104570389, 0.0, 0.0, 0.0, 0.0, 0.0, 0.0, 0.0, 0.0, 0.0, 0.0, 0.0, 0.0, 0.0, 0.0, 0.0, 0.0, 0.0, 0.0, 0.0, 0.0, 0.0, 0.0], [0.39624109864234924, 0.0969417542219162, 0.02727065049111843, 0.023551370948553085, 0.03723451867699623, 0.006502410396933556, 0.08118748664855957, 0.013088471256196499, 0.06990594416856766, 0.24043096601963043, 0.007645340636372566, 0.0, 0.0, 0.0, 0.0, 0.0, 0.0, 0.0, 0.0, 0.0, 0.0, 0.0, 0.0, 0.0, 0.0, 0.0, 0.0, 0.0, 0.0, 0.0, 0.0, 0.0], [0.24864797294139862, 0.1380206048488617, 0.09235326945781708, 0.08676129579544067, 0.13819687068462372, 0.059141941368579865, 0.03223857656121254, 0.031582385301589966, 0.03048943541944027, 0.03873485326766968, 0.06671833992004395, 0.037114448845386505, 0.0, 0.0, 0.0, 0.0, 0.0, 0.0, 0.0, 0.0, 0.0, 0.0, 0.0, 0.0, 0.0, 0.0, 0.0, 0.0, 0.0, 0.0, 0.0, 0.0], [0.19148443639278412, 0.1617259383201599, 0.07445938885211945, 0.0774095430970192, 0.021961107850074768, 0.03392128646373749, 0.05125020071864128, 0.01951923966407776, 0.031324464827775955, 0.04020150005817413, 0.03874268755316734, 0.21578848361968994, 0.04221169278025627, 0.0, 0.0, 0.0, 0.0, 0.0, 0.0, 0.0, 0.0, 0.0, 0.0, 0.0, 0.0, 0.0, 0.0, 0.0, 0.0, 0.0, 0.0, 0.0], [0.37043190002441406, 0.08681412041187286, 0.024584677070379257, 0.02161632478237152, 0.03238873556256294, 0.005422733724117279, 0.07275217771530151, 0.011272799223661423, 0.06329694390296936, 0.21726810932159424, 0.006367162801325321, 0.02960381656885147, 0.05099846050143242, 0.00718206912279129, 0.0, 0.0, 0.0, 0.0, 0.0, 0.0, 0.0, 0.0, 0.0, 0.0, 0.0, 0.0, 0.0, 0.0, 0.0, 0.0, 0.0, 0.0], [0.19737651944160461, 0.04603998363018036, 0.043999820947647095, 0.1337345987558365, 0.054248206317424774, 0.025475718080997467, 0.027563495561480522, 0.02157093957066536, 0.05171821266412735, 0.0645810067653656, 0.028064636513590813, 0.23551584780216217, 0.019129803404211998, 0.029963526874780655, 0.02101769857108593, 0.0, 0.0, 0.0, 0.0, 0.0, 0.0, 0.0, 0.0, 0.0, 0.0, 0.0, 0.0, 0.0, 0.0, 0.0, 0.0, 0.0], [0.08907236903905869, 0.019288351759314537, 0.16653543710708618, 0.07281261682510376, 0.04738640785217285, 0.024487901479005814, 0.028987331315875053, 0.019370367750525475, 0.026673024520277977, 0.07316634804010391, 0.025704581290483475, 0.04242357239127159, 0.05869460478425026, 0.028932690620422363, 0.18119074404239655, 0.09527371823787689, 0.0, 0.0, 0.0, 0.0, 0.0, 0.0, 0.0, 0.0, 0.0, 0.0, 0.0, 0.0, 0.0, 0.0, 0.0, 0.0], [0.28167301416397095, 0.06441286206245422, 0.018008537590503693, 0.016169613227248192, 0.02318389154970646, 0.0037532965652644634, 0.05472240597009659, 0.00790976732969284, 0.04616467282176018, 0.16947272419929504, 0.004361644387245178, 0.021011339500546455, 0.03549070656299591, 0.004932570271193981, 0.09555220603942871, 0.14726325869560242, 0.005917450878769159, 0.0, 0.0, 0.0, 0.0, 0.0, 0.0, 0.0, 0.0, 0.0, 0.0, 0.0, 0.0, 0.0, 0.0, 0.0], [0.21305492520332336, 0.059123694896698, 0.03382088616490364, 0.027476869523525238, 0.028393549844622612, 0.00842290185391903, 0.0400853231549263, 0.011629259213805199, 0.052951887249946594, 0.1540464609861374, 0.009831806644797325, 0.03610191121697426, 0.04737289249897003, 0.01106919813901186, 0.09972470253705978, 0.13971348106861115, 0.013185338117182255, 0.013994940556585789, 0.0, 0.0, 0.0, 0.0, 0.0, 0.0, 0.0, 0.0, 0.0, 0.0, 0.0, 0.0, 0.0, 0.0], [0.15871699154376984, 0.043878886848688126, 0.08712152391672134, 0.08998469263315201, 0.03073856607079506, 0.03414895012974739, 0.0249172430485487, 0.031391967087984085, 0.024823850020766258, 0.019790325313806534, 0.036254845559597015, 0.02069440856575966, 0.04284070432186127, 0.03820900246500969, 0.06234659254550934, 0.1091969907283783, 0.0413760207593441, 0.04916761815547943, 0.05440090596675873, 0.0, 0.0, 0.0, 0.0, 0.0, 0.0, 0.0, 0.0, 0.0, 0.0, 0.0, 0.0, 0.0], [0.10485509037971497, 0.12122295051813126, 0.06487482786178589, 0.08768720924854279, 0.034340519458055496, 0.01748393476009369, 0.03415178880095482, 0.015289145521819592, 0.023312095552682877, 0.02830648235976696, 0.018720462918281555, 0.02811194583773613, 0.04190531745553017, 0.02098955400288105, 0.04678508639335632, 0.08659632503986359, 0.02363182045519352, 0.024273181334137917, 0.16702403128147125, 0.010438214987516403, 0.0, 0.0, 0.0, 0.0, 0.0, 0.0, 0.0, 0.0, 0.0, 0.0, 0.0, 0.0], [0.22901977598667145, 0.05184384062886238, 0.013585169799625874, 0.012337234802544117, 0.01800541765987873, 0.002770358696579933, 0.04238126799464226, 0.005856253206729889, 0.03614488244056702, 0.13039223849773407, 0.003153424710035324, 0.01567257195711136, 0.027800412848591805, 0.0035543267149478197, 0.07460813224315643, 0.11298275738954544, 0.0042722634971141815, 0.006832199636846781, 0.185697540640831, 0.018073640763759613, 0.00501635205000639, 0.0, 0.0, 0.0, 0.0, 0.0, 0.0, 0.0, 0.0, 0.0, 0.0, 0.0], [0.18869930505752563, 0.03438713774085045, 0.022344747558236122, 0.019972732290625572, 0.016354024410247803, 0.0068565551191568375, 0.020859038457274437, 0.005696004722267389, 0.034159183502197266, 0.07260987162590027, 0.007857214659452438, 0.018040232360363007, 0.02690446376800537, 0.009020411409437656, 0.06876446306705475, 0.1757873147726059, 0.01072007231414318, 0.009284545667469501, 0.19256390631198883, 0.025180336087942123, 0.012639074586331844, 0.021299371495842934, 0.0, 0.0, 0.0, 0.0, 0.0, 0.0, 0.0, 0.0, 0.0, 0.0], [0.11958315968513489, 0.022259421646595, 0.03294713422656059, 0.02017023228108883, 0.03565330430865288, 0.013459905050694942, 0.01751646399497986, 0.010057871229946613, 0.02585642598569393, 0.05955955758690834, 0.015084509737789631, 0.015008722431957722, 0.05317467823624611, 0.016597609966993332, 0.04155527055263519, 0.13129335641860962, 0.019296670332551003, 0.01585504040122032, 0.17925094068050385, 0.01618383452296257, 0.02229553647339344, 0.015463379211723804, 0.10187696665525436, 0.0, 0.0, 0.0, 0.0, 0.0, 0.0, 0.0, 0.0, 0.0], [0.14615529775619507, 0.026727525517344475, 0.016624564304947853, 0.01898769475519657, 0.06278639286756516, 0.015317175537347794, 0.01979224570095539, 0.014227769337594509, 0.025458168238401413, 0.04530353471636772, 0.016364360228180885, 0.0374930277466774, 0.013288660906255245, 0.017496541142463684, 0.03994583711028099, 0.0588175505399704, 0.01926097646355629, 0.02461603656411171, 0.03821967542171478, 0.021577803418040276, 0.02094990573823452, 0.07973216474056244, 0.05017608031630516, 0.170680969953537, 0.0, 0.0, 0.0, 0.0, 0.0, 0.0, 0.0, 0.0], [0.11321669071912766, 0.03674635291099548, 0.011786578223109245, 0.010274866595864296, 0.020370664075016975, 0.0052438825368881226, 0.01591884344816208, 0.0052667842246592045, 0.024891739711165428, 0.06593261659145355, 0.005933656357228756, 0.01820903643965721, 0.02102019637823105, 0.006667499430477619, 0.034828800708055496, 0.13742120563983917, 0.00792704802006483, 0.008618665859103203, 0.11377198994159698, 0.013557428494095802, 0.009277828969061375, 0.02612137608230114, 0.08499343693256378, 0.19073909521102905, 0.011263750493526459, 0.0, 0.0, 0.0, 0.0, 0.0, 0.0, 0.0], [0.13337711989879608, 0.026216601952910423, 0.03827153146266937, 0.07152574509382248, 0.053177665919065475, 0.013925835490226746, 0.007084185257554054, 0.013450147584080696, 0.009841450490057468, 0.011789774522185326, 0.01353758666664362, 0.0381549708545208, 0.04193304106593132, 0.013882284983992577, 0.03707147389650345, 0.13838458061218262, 0.014846336096525192, 0.031569525599479675, 0.05598174408078194, 0.015536688268184662, 0.015956368297338486, 0.045455560088157654, 0.01669965125620365, 0.025325767695903778, 0.0367189459502697, 0.08028544485569, 0.0, 0.0, 0.0, 0.0, 0.0, 0.0], [0.10608966648578644, 0.019107721745967865, 0.024468649178743362, 0.02749638259410858, 0.01636580191552639, 0.0050114174373447895, 0.010413103736937046, 0.006081140600144863, 0.0053010606206953526, 0.011143156327307224, 0.00456538749858737, 0.01896989904344082, 0.004321111366152763, 0.004814979620277882, 0.02940938249230385, 0.02868202142417431, 0.005097251385450363, 0.007234347052872181, 0.034125916659832, 0.01037058886140585, 0.0056432620622217655, 0.007283587474375963, 0.029389524832367897, 0.01003879401832819, 0.009134506806731224, 0.5466634035110474, 0.012777908705174923, 0.0, 0.0, 0.0, 0.0, 0.0], [0.10467309504747391, 0.033219411969184875, 0.015341260470449924, 0.009373549371957779, 0.026595450937747955, 0.005787805188447237, 0.013571345247328281, 0.004554884508252144, 0.02805889956653118, 0.02610722742974758, 0.0063534383662045, 0.013315828517079353, 0.026628267019987106, 0.006888878997415304, 0.06204747036099434, 0.05890701711177826, 0.008068053983151913, 0.007557096425443888, 0.08522787690162659, 0.01707574538886547, 0.009256891906261444, 0.019695771858096123, 0.1261781007051468, 0.13061505556106567, 0.011351041495800018, 0.08984370529651642, 0.04638151824474335, 0.007325298152863979, 0.0, 0.0, 0.0, 0.0], [0.05725237727165222, 0.011169985868036747, 0.05033700168132782, 0.06357848644256592, 0.028545690700411797, 0.003471591742709279, 0.004776603542268276, 0.002939032856374979, 0.0027257308829575777, 0.018851879984140396, 0.003288073930889368, 0.03806481137871742, 0.028566932305693626, 0.0035189997870475054, 0.031213492155075073, 0.08397708833217621, 0.0037833929527550936, 0.004907885566353798, 0.03607368469238281, 0.0074722482822835445, 0.004307588096708059, 0.008289585821330547, 0.012666741386055946, 0.026156648993492126, 0.007921028882265091, 0.10411878675222397, 0.3221103549003601, 0.007591194938868284, 0.022323044016957283, 0.0, 0.0, 0.0], [0.08028247952461243, 0.04895681142807007, 0.009359641931951046, 0.024276787415146828, 0.02392049878835678, 0.006793794687837362, 0.013039425015449524, 0.004872598685324192, 0.012292022816836834, 0.01864653266966343, 0.0070249480195343494, 0.025463605299592018, 0.037137746810913086, 0.007523491978645325, 0.02286515198647976, 0.09418614208698273, 0.00833785068243742, 0.008754128590226173, 0.07303949445486069, 0.006956662982702255, 0.009204139932990074, 0.016654623672366142, 0.0850091353058815, 0.042252954095602036, 0.01219252124428749, 0.0936090275645256, 0.09389801323413849, 0.015186214819550514, 0.07737517356872559, 0.02088833600282669, 0.0, 0.0], [0.07554333657026291, 0.04061952605843544, 0.041943807154893875, 0.06220008432865143, 0.016766423359513283, 0.008504672907292843, 0.0110162990167737, 0.007187770679593086, 0.0026747339870780706, 0.028273634612560272, 0.008511468768119812, 0.03194928541779518, 0.0434965081512928, 0.009116836823523045, 0.011579953134059906, 0.054688990116119385, 0.010184893384575844, 0.014738793484866619, 0.05568650737404823, 0.034908369183540344, 0.011678000912070274, 0.007634778972715139, 0.006763327866792679, 0.015210705809295177, 0.02352951653301716, 0.1763216257095337, 0.09406080096960068, 0.020740166306495667, 0.020105615258216858, 0.020120058208703995, 0.03424348682165146, 0.0], [0.15215885639190674, 0.017647545784711838, 0.009809602051973343, 0.00734201492741704, 0.012735120952129364, 0.0016692616045475006, 0.021271992474794388, 0.0025082817301154137, 0.0225885771214962, 0.050035666674375534, 0.0018098518485203385, 0.006239722017198801, 0.013123266398906708, 0.001958169974386692, 0.0468086376786232, 0.060018979012966156, 0.0023402590304613113, 0.0026032538153231144, 0.10121957957744598, 0.006139757111668587, 0.0027499895077198744, 0.007591103669255972, 0.09487131237983704, 0.11975958198308945, 0.005501766689121723, 0.03822602331638336, 0.027867959812283516, 0.0039725471287965775, 0.04489411786198616, 0.03392673656344414, 0.07708413153886795, 0.0035263625904917717]], [[1.0, 0.0, 0.0, 0.0, 0.0, 0.0, 0.0, 0.0, 0.0, 0.0, 0.0, 0.0, 0.0, 0.0, 0.0, 0.0, 0.0, 0.0, 0.0, 0.0, 0.0, 0.0, 0.0, 0.0, 0.0, 0.0, 0.0, 0.0, 0.0, 0.0, 0.0, 0.0], [0.0004246663302183151, 0.9995753169059753, 0.0, 0.0, 0.0, 0.0, 0.0, 0.0, 0.0, 0.0, 0.0, 0.0, 0.0, 0.0, 0.0, 0.0, 0.0, 0.0, 0.0, 0.0, 0.0, 0.0, 0.0, 0.0, 0.0, 0.0, 0.0, 0.0, 0.0, 0.0, 0.0, 0.0], [0.0005621900199912488, 0.016407256945967674, 0.9830306172370911, 0.0, 0.0, 0.0, 0.0, 0.0, 0.0, 0.0, 0.0, 0.0, 0.0, 0.0, 0.0, 0.0, 0.0, 0.0, 0.0, 0.0, 0.0, 0.0, 0.0, 0.0, 0.0, 0.0, 0.0, 0.0, 0.0, 0.0, 0.0, 0.0], [0.0011627553030848503, 0.021681975573301315, 0.003762035397812724, 0.9733933210372925, 0.0, 0.0, 0.0, 0.0, 0.0, 0.0, 0.0, 0.0, 0.0, 0.0, 0.0, 0.0, 0.0, 0.0, 0.0, 0.0, 0.0, 0.0, 0.0, 0.0, 0.0, 0.0, 0.0, 0.0, 0.0, 0.0, 0.0, 0.0], [3.724433190654963e-05, 0.00017202251183334738, 0.0002814393083099276, 0.002742142416536808, 0.9967671632766724, 0.0, 0.0, 0.0, 0.0, 0.0, 0.0, 0.0, 0.0, 0.0, 0.0, 0.0, 0.0, 0.0, 0.0, 0.0, 0.0, 0.0, 0.0, 0.0, 0.0, 0.0, 0.0, 0.0, 0.0, 0.0, 0.0, 0.0], [0.008268450386822224, 0.0002398560318397358, 7.361917960224673e-05, 6.437734555220231e-05, 0.0001756635756464675, 0.9911779761314392, 0.0, 0.0, 0.0, 0.0, 0.0, 0.0, 0.0, 0.0, 0.0, 0.0, 0.0, 0.0, 0.0, 0.0, 0.0, 0.0, 0.0, 0.0, 0.0, 0.0, 0.0, 0.0, 0.0, 0.0, 0.0, 0.0], [0.0012215046444907784, 0.00540044903755188, 0.0016716326354071498, 0.0004077565099578351, 0.0006163663347251713, 0.0010931191500276327, 0.9895892143249512, 0.0, 0.0, 0.0, 0.0, 0.0, 0.0, 0.0, 0.0, 0.0, 0.0, 0.0, 0.0, 0.0, 0.0, 0.0, 0.0, 0.0, 0.0, 0.0, 0.0, 0.0, 0.0, 0.0, 0.0, 0.0], [0.0012459771241992712, 0.0009121216717176139, 0.0005976716056466103, 0.00013656872033607215, 0.00033041081042028964, 0.0015722789103165269, 0.003880815114825964, 0.9913241863250732, 0.0, 0.0, 0.0, 0.0, 0.0, 0.0, 0.0, 0.0, 0.0, 0.0, 0.0, 0.0, 0.0, 0.0, 0.0, 0.0, 0.0, 0.0, 0.0, 0.0, 0.0, 0.0, 0.0, 0.0], [0.00028217487852089107, 0.004068182781338692, 0.002660516882315278, 0.0013093105517327785, 0.0080304816365242, 0.00028790938085876405, 0.00022922920470591635, 0.00039484212175011635, 0.9827372431755066, 0.0, 0.0, 0.0, 0.0, 0.0, 0.0, 0.0, 0.0, 0.0, 0.0, 0.0, 0.0, 0.0, 0.0, 0.0, 0.0, 0.0, 0.0, 0.0, 0.0, 0.0, 0.0, 0.0], [3.4739299735520035e-05, 0.0003953840059693903, 0.00013272710202727467, 0.00025852260296233, 0.0010855577420443296, 9.198035695590079e-05, 0.0003267078718636185, 0.0005427449359558523, 0.006105930544435978, 0.9910256266593933, 0.0, 0.0, 0.0, 0.0, 0.0, 0.0, 0.0, 0.0, 0.0, 0.0, 0.0, 0.0, 0.0, 0.0, 0.0, 0.0, 0.0, 0.0, 0.0, 0.0, 0.0, 0.0], [0.003378508146852255, 5.0908780394820496e-05, 1.645206612010952e-05, 1.692617115622852e-05, 4.181412805337459e-05, 0.4939403831958771, 0.0001298126735491678, 0.0008837344357743859, 3.221203951397911e-05, 2.7252131985733286e-05, 0.5014820098876953, 0.0, 0.0, 0.0, 0.0, 0.0, 0.0, 0.0, 0.0, 0.0, 0.0, 0.0, 0.0, 0.0, 0.0, 0.0, 0.0, 0.0, 0.0, 0.0, 0.0, 0.0], [8.416048513026908e-05, 0.0013417223235592246, 0.0012613598955795169, 0.0021450775675475597, 0.00404236139729619, 0.0004830532125197351, 0.00011582656588871032, 0.0001520359655842185, 2.692533416848164e-05, 0.00012675138714257628, 0.0003128990938421339, 0.9899078607559204, 0.0, 0.0, 0.0, 0.0, 0.0, 0.0, 0.0, 0.0, 0.0, 0.0, 0.0, 0.0, 0.0, 0.0, 0.0, 0.0, 0.0, 0.0, 0.0, 0.0], [0.0003782223502639681, 0.0009837548714131117, 0.039341170340776443, 0.0027322431560605764, 0.003668016055598855, 0.00011039170931326225, 0.0001293100940529257, 0.00021743439720012248, 0.00010623295383993536, 0.0007748180069029331, 6.647653935942799e-05, 0.0003148662217427045, 0.9511770009994507, 0.0, 0.0, 0.0, 0.0, 0.0, 0.0, 0.0, 0.0, 0.0, 0.0, 0.0, 0.0, 0.0, 0.0, 0.0, 0.0, 0.0, 0.0, 0.0], [0.00210172007791698, 2.443688572384417e-05, 7.788778020767495e-06, 8.651610187371261e-06, 2.0140050764894113e-05, 0.2997136414051056, 7.525259570684284e-05, 0.0004898309707641602, 1.845947736001108e-05, 1.534453986096196e-05, 0.3283388316631317, 4.175802678219043e-05, 6.4691917032178026e-06, 0.3691376745700836, 0.0, 0.0, 0.0, 0.0, 0.0, 0.0, 0.0, 0.0, 0.0, 0.0, 0.0, 0.0, 0.0, 0.0, 0.0, 0.0, 0.0, 0.0], [0.0001496832846896723, 0.00011296618322376162, 0.000362948834663257, 0.0001859122421592474, 0.00016460892220493406, 4.143228943576105e-05, 2.8764718081220053e-05, 7.78694375185296e-05, 0.0009200988570228219, 0.010340196080505848, 2.7572339604375884e-05, 1.7833237507147714e-05, 0.0003305449790786952, 2.4375729481107555e-05, 0.9872152805328369, 0.0, 0.0, 0.0, 0.0, 0.0, 0.0, 0.0, 0.0, 0.0, 0.0, 0.0, 0.0, 0.0, 0.0, 0.0, 0.0, 0.0], [0.00010753815149655566, 0.002178188879042864, 0.0020426081027835608, 0.004251927137374878, 0.006989894434809685, 2.511877210054081e-05, 0.0007779024890623987, 0.000578354112803936, 0.0029378430917859077, 0.03322532773017883, 1.7199228750541806e-05, 0.0008936477242968976, 0.001523857470601797, 1.4656804523838218e-05, 0.006222629453986883, 0.9382132887840271, 0.0, 0.0, 0.0, 0.0, 0.0, 0.0, 0.0, 0.0, 0.0, 0.0, 0.0, 0.0, 0.0, 0.0, 0.0, 0.0], [0.0013634858187288046, 1.3226023838797119e-05, 4.013931174995378e-06, 4.803048341273097e-06, 1.0257443136652e-05, 0.19665956497192383, 4.5272547140484676e-05, 0.00027762597892433405, 1.171441181213595e-05, 9.473294085182715e-06, 0.22919626533985138, 2.6430574507685378e-05, 4.101840204384644e-06, 0.26576119661331177, 8.515347872162238e-06, 4.5360170588537585e-06, 0.306599497795105, 0.0, 0.0, 0.0, 0.0, 0.0, 0.0, 0.0, 0.0, 0.0, 0.0, 0.0, 0.0, 0.0, 0.0, 0.0], [0.0008924762951210141, 0.00013490823039319366, 4.779845039593056e-05, 5.80371379328426e-05, 0.00010480173659743741, 0.012799108400940895, 0.00071682472480461, 0.03257950767874718, 2.6449959477758966e-05, 0.00011185083712916821, 0.01188427209854126, 4.010274278698489e-05, 5.555414827540517e-05, 0.012377881444990635, 0.00010783480684040114, 5.404376133810729e-05, 0.013122131116688251, 0.9148864150047302, 0.0, 0.0, 0.0, 0.0, 0.0, 0.0, 0.0, 0.0, 0.0, 0.0, 0.0, 0.0, 0.0, 0.0], [5.075319677416701e-06, 4.396139411255717e-05, 3.398505214136094e-05, 7.940302020870149e-05, 5.477912418427877e-05, 7.921559586065996e-07, 9.313333976024296e-06, 7.727086995146237e-06, 8.597270789323375e-05, 0.00012274055916350335, 5.141489509696839e-07, 1.7027939520630753e-06, 3.8341870094882324e-05, 4.450980384262948e-07, 0.00013928250700701028, 0.0003275807830505073, 3.994805410911795e-07, 3.948134690290317e-06, 0.9990440011024475, 0.0, 0.0, 0.0, 0.0, 0.0, 0.0, 0.0, 0.0, 0.0, 0.0, 0.0, 0.0, 0.0], [9.346199658466503e-05, 0.0018395757069811225, 0.002523313742130995, 0.01808728277683258, 0.002936380682513118, 0.0002733583969529718, 4.872979479841888e-05, 0.00042127768392674625, 0.0001562437682878226, 0.0009748347802087665, 0.00020533606584649533, 0.0010228849714621902, 0.00195480533875525, 0.0001947036653291434, 0.0011294216383248568, 0.0016656152438372374, 0.00018734042532742023, 0.0009503453620709479, 0.0004455179441720247, 0.964889645576477, 0.0, 0.0, 0.0, 0.0, 0.0, 0.0, 0.0, 0.0, 0.0, 0.0, 0.0, 0.0], [0.0010859713656827807, 8.512343811162282e-06, 2.5307315354439197e-06, 3.062518317165086e-06, 5.9751359913207125e-06, 0.13292627036571503, 3.3453237847425044e-05, 0.00018891252693720162, 8.477764822600875e-06, 6.54042923997622e-06, 0.1644592136144638, 1.8130058379028924e-05, 3.062742962356424e-06, 0.1971917450428009, 6.42984923615586e-06, 3.444733465585159e-06, 0.23317115008831024, 0.002279626438394189, 3.7134302601771196e-06, 3.528800152707845e-05, 0.2685583829879761, 0.0, 0.0, 0.0, 0.0, 0.0, 0.0, 0.0, 0.0, 0.0, 0.0, 0.0], [0.00041979606612585485, 0.00011805036047007889, 0.00014240515884011984, 3.796791861532256e-05, 0.000190431994269602, 0.0017651242669671774, 0.0005709831020794809, 0.0005008860025554895, 8.840770897222683e-05, 0.00014208690845407546, 0.001663984963670373, 3.348111204104498e-05, 2.441400647512637e-05, 0.0017546521266922355, 6.520324677694589e-05, 2.414269511064049e-05, 0.001829915796406567, 0.0015691048465669155, 3.9748843846609816e-05, 0.0001571239990880713, 0.0018554492853581905, 0.9870065450668335, 0.0, 0.0, 0.0, 0.0, 0.0, 0.0, 0.0, 0.0, 0.0, 0.0], [7.501770596718416e-05, 0.0014379819622263312, 6.345145811792463e-05, 0.0001086482880054973, 0.00015633153088856488, 3.21012294079992e-06, 0.0022032754495739937, 0.00022076575260143727, 5.2402920118765905e-05, 4.8815789341460913e-05, 2.264456952616456e-06, 1.5327233995776623e-05, 4.157140665483894e-06, 2.0228389985277317e-06, 6.2967910707811825e-06, 4.848669414059259e-05, 1.9928991150663933e-06, 3.247004497097805e-05, 0.0012695096665993333, 1.9632627299870364e-05, 1.8090917137669749e-06, 0.0005810288130305707, 0.9936450719833374, 0.0, 0.0, 0.0, 0.0, 0.0, 0.0, 0.0, 0.0, 0.0], [7.450165139744058e-05, 0.0006139397737570107, 0.0009361209231428802, 0.0008487815503031015, 0.0028506354428827763, 1.0365070920670405e-05, 0.00021614297293126583, 0.00017397564079146832, 0.0020508423913270235, 0.005805305205285549, 8.05525360192405e-06, 8.086607704171911e-05, 0.0007702455040998757, 7.2882048698375e-06, 0.001057616900652647, 0.0022756007965654135, 6.663267868134426e-06, 0.00011621051089605317, 0.0005972459330223501, 8.73631433933042e-05, 6.3323500398837496e-06, 6.096464494476095e-05, 6.0905833379365504e-05, 0.9812840819358826, 0.0, 0.0, 0.0, 0.0, 0.0, 0.0, 0.0, 0.0], [0.0005848744767718017, 0.00015909200010355562, 1.0836489309440367e-05, 7.365475175902247e-05, 0.00011349544365657493, 0.00082566705532372, 0.0003191103751305491, 0.01853000372648239, 1.0226607628283091e-05, 4.9587219109525904e-05, 0.000771643128246069, 4.4548189180204645e-05, 9.865033462119754e-06, 0.0008067181915976107, 2.2673904823022895e-05, 1.2464161045500077e-05, 0.000844910682644695, 0.008790110237896442, 3.5792370908893645e-05, 3.662861854536459e-05, 0.0008917539962567389, 0.0010791788809001446, 0.00037084624636918306, 0.00010837146692210808, 0.9654977917671204, 0.0, 0.0, 0.0, 0.0, 0.0, 0.0, 0.0], [1.6459896869491786e-05, 0.00017152423970401287, 3.208315320080146e-05, 0.00010234154615318403, 0.002631872659549117, 9.88617648545187e-06, 3.250845838920213e-05, 3.741750697372481e-05, 0.00012631516437977552, 4.991206878912635e-05, 8.302533387904987e-06, 8.443398837698624e-05, 3.127966192550957e-05, 7.633357199665625e-06, 1.010133473755559e-05, 5.667370351147838e-05, 7.44212229619734e-06, 2.7689631679095328e-05, 1.841830635385122e-05, 2.8794322588510113e-06, 6.840415153419599e-06, 4.27987151851994e-06, 0.00043176536564715207, 0.00017617485718801618, 8.995591633720323e-05, 0.9958258867263794, 0.0, 0.0, 0.0, 0.0, 0.0, 0.0], [2.63680012722034e-05, 0.00018008674669545144, 0.00018082918541040272, 0.0003046472556889057, 0.00039390832534991205, 4.674835872719996e-05, 2.7231670173932798e-05, 4.873486250289716e-05, 0.00029131615883670747, 0.0004206160956528038, 3.8046331610530615e-05, 0.0002524509036447853, 5.606733247986995e-05, 3.820365236606449e-05, 0.0015365087892860174, 0.001253720954991877, 3.5934186598751694e-05, 2.3036620405036956e-05, 0.00018036227265838534, 0.00012266090197954327, 3.517780714901164e-05, 6.924672197783366e-05, 0.00011267272202530876, 0.0008507369202561677, 0.0001436186139471829, 0.00023527935263700783, 0.9930958151817322, 0.0, 0.0, 0.0, 0.0, 0.0], [0.0007048264378681779, 5.675393549608998e-05, 3.35129539053014e-06, 7.472663583030226e-06, 1.7859490981209092e-05, 0.0008156539406627417, 4.952957169734873e-05, 0.001353099592961371, 3.7417627027025446e-05, 0.00014378019841387868, 0.0007639342802576721, 9.991703336709179e-06, 2.884440846173675e-06, 0.0007552243187092245, 0.0001015961097436957, 3.120549763480085e-06, 0.0008060958934947848, 0.001140677253715694, 1.4343116163217928e-05, 9.910175322147552e-06, 0.000864919857122004, 8.663281914778054e-05, 3.469549847068265e-05, 0.00010265848686685786, 0.0076634809374809265, 4.187898593954742e-05, 3.490865992716863e-06, 0.9844047427177429, 0.0, 0.0, 0.0, 0.0], [2.864565067284275e-05, 2.6534718926995993e-05, 7.858566823415458e-05, 0.0010675665689632297, 0.1925242841243744, 4.438181349541992e-05, 1.3198034139350057e-05, 4.525919212028384e-05, 0.0005762045620940626, 0.00013714500528294593, 3.72677059203852e-05, 0.0001911068393383175, 5.0375136197544634e-05, 3.626329998951405e-05, 4.71276871394366e-05, 6.757602386642247e-05, 3.526046930346638e-05, 8.999637793749571e-05, 0.00014351101708598435, 3.738734812941402e-05, 3.397903492441401e-05, 1.2051502380927559e-05, 1.6898840840440243e-05, 0.00047697906848043203, 4.733443711302243e-05, 0.0016009232494980097, 0.00024179370666388422, 2.2824980987934396e-05, 0.802269458770752, 0.0, 0.0, 0.0], [9.750781828188337e-06, 0.0003363084397278726, 0.00021406311134342104, 0.00013347472122404724, 9.03539257706143e-05, 2.202395990025252e-06, 0.00022224253916647285, 2.9205804821685888e-05, 0.001037599635310471, 0.00019029273244086653, 1.8651213622433715e-06, 7.3745663939916994e-06, 1.4813306734140497e-05, 1.7665756786300335e-06, 2.7432914066594094e-05, 0.0001534360635560006, 1.7539082364237402e-06, 8.016309038794134e-06, 0.000652695947792381, 1.3529216630558949e-05, 1.7307770576735493e-06, 3.467603892204352e-05, 0.00579330138862133, 1.594845889485441e-05, 5.273778697301168e-06, 0.0003472433891147375, 6.910334923304617e-05, 2.1163728888495825e-05, 3.597226532292552e-05, 0.9905275106430054, 0.0, 0.0], [2.804995165206492e-05, 0.0001696998078841716, 8.348954725079238e-05, 0.0012330238241702318, 0.0008376992773264647, 2.799947878884268e-06, 3.063761323573999e-05, 7.89955538493814e-06, 0.00015019348938949406, 2.987368861795403e-05, 1.964036528079305e-06, 0.0003484744520392269, 5.3111867600819096e-05, 1.8368654082223657e-06, 0.00012754052295349538, 0.00014493337948806584, 1.7662604250290315e-06, 2.2995935069047846e-05, 0.0002395278715994209, 4.4705400796374306e-05, 1.6709209376131184e-06, 2.7282032533548772e-05, 0.00023956992663443089, 0.0002002288674702868, 9.849953130469657e-06, 0.00045564884203486145, 0.0002256134175695479, 5.637632511934498e-06, 0.0009225872345268726, 6.797472451580688e-05, 0.9942837357521057, 0.0], [0.006778436712920666, 0.00011114138033008203, 7.66229277360253e-06, 2.409575245110318e-05, 6.497283902717754e-05, 0.007863728329539299, 2.2212425392353907e-05, 0.0002739923365879804, 6.829561607446522e-05, 2.2795413315179758e-05, 0.008537396788597107, 6.017510168021545e-05, 1.0943368579319213e-05, 0.009913035668432713, 7.771671516820788e-05, 7.481713510060217e-06, 0.01117679849267006, 0.0014312741113826632, 4.1324503399664536e-05, 8.739208715269342e-05, 0.012965473346412182, 4.544386320048943e-05, 4.042973159812391e-06, 3.8412803405663e-05, 0.000559828884433955, 9.572438284521922e-05, 3.198232298018411e-05, 0.0013911945279687643, 6.864358147140592e-05, 3.442605520831421e-05, 7.050226849969476e-05, 0.9381133913993835]], [[1.0, 0.0, 0.0, 0.0, 0.0, 0.0, 0.0, 0.0, 0.0, 0.0, 0.0, 0.0, 0.0, 0.0, 0.0, 0.0, 0.0, 0.0, 0.0, 0.0, 0.0, 0.0, 0.0, 0.0, 0.0, 0.0, 0.0, 0.0, 0.0, 0.0, 0.0, 0.0], [0.943029522895813, 0.05697045475244522, 0.0, 0.0, 0.0, 0.0, 0.0, 0.0, 0.0, 0.0, 0.0, 0.0, 0.0, 0.0, 0.0, 0.0, 0.0, 0.0, 0.0, 0.0, 0.0, 0.0, 0.0, 0.0, 0.0, 0.0, 0.0, 0.0, 0.0, 0.0, 0.0, 0.0], [0.9185556173324585, 0.032800041139125824, 0.04864437133073807, 0.0, 0.0, 0.0, 0.0, 0.0, 0.0, 0.0, 0.0, 0.0, 0.0, 0.0, 0.0, 0.0, 0.0, 0.0, 0.0, 0.0, 0.0, 0.0, 0.0, 0.0, 0.0, 0.0, 0.0, 0.0, 0.0, 0.0, 0.0, 0.0], [0.8779287934303284, 0.056434281170368195, 0.04271192103624344, 0.022925009950995445, 0.0, 0.0, 0.0, 0.0, 0.0, 0.0, 0.0, 0.0, 0.0, 0.0, 0.0, 0.0, 0.0, 0.0, 0.0, 0.0, 0.0, 0.0, 0.0, 0.0, 0.0, 0.0, 0.0, 0.0, 0.0, 0.0, 0.0, 0.0], [0.8041317462921143, 0.029098186641931534, 0.0755673348903656, 0.056435924023389816, 0.03476676717400551, 0.0, 0.0, 0.0, 0.0, 0.0, 0.0, 0.0, 0.0, 0.0, 0.0, 0.0, 0.0, 0.0, 0.0, 0.0, 0.0, 0.0, 0.0, 0.0, 0.0, 0.0, 0.0, 0.0, 0.0, 0.0, 0.0, 0.0], [0.4943104684352875, 0.02018355205655098, 0.027966564521193504, 0.018319062888622284, 0.03144203871488571, 0.40777820348739624, 0.0, 0.0, 0.0, 0.0, 0.0, 0.0, 0.0, 0.0, 0.0, 0.0, 0.0, 0.0, 0.0, 0.0, 0.0, 0.0, 0.0, 0.0, 0.0, 0.0, 0.0, 0.0, 0.0, 0.0, 0.0, 0.0], [0.6057477593421936, 0.02924245409667492, 0.09491512924432755, 0.07609347254037857, 0.0661466121673584, 0.08705789595842361, 0.04079665243625641, 0.0, 0.0, 0.0, 0.0, 0.0, 0.0, 0.0, 0.0, 0.0, 0.0, 0.0, 0.0, 0.0, 0.0, 0.0, 0.0, 0.0, 0.0, 0.0, 0.0, 0.0, 0.0, 0.0, 0.0, 0.0], [0.44838210940361023, 0.04542430490255356, 0.07401483505964279, 0.06864846497774124, 0.09376630932092667, 0.08774261921644211, 0.06534270197153091, 0.11667867004871368, 0.0, 0.0, 0.0, 0.0, 0.0, 0.0, 0.0, 0.0, 0.0, 0.0, 0.0, 0.0, 0.0, 0.0, 0.0, 0.0, 0.0, 0.0, 0.0, 0.0, 0.0, 0.0, 0.0, 0.0], [0.4916926622390747, 0.137820765376091, 0.03955017402768135, 0.061533164232969284, 0.04539964720606804, 0.04073145240545273, 0.06228701025247574, 0.058618661016225815, 0.06236642599105835, 0.0, 0.0, 0.0, 0.0, 0.0, 0.0, 0.0, 0.0, 0.0, 0.0, 0.0, 0.0, 0.0, 0.0, 0.0, 0.0, 0.0, 0.0, 0.0, 0.0, 0.0, 0.0, 0.0], [0.5404125452041626, 0.044426653534173965, 0.03957853838801384, 0.041888076812028885, 0.07529857009649277, 0.0466950349509716, 0.04847520589828491, 0.055005211383104324, 0.08293061703443527, 0.025289513170719147, 0.0, 0.0, 0.0, 0.0, 0.0, 0.0, 0.0, 0.0, 0.0, 0.0, 0.0, 0.0, 0.0, 0.0, 0.0, 0.0, 0.0, 0.0, 0.0, 0.0, 0.0, 0.0], [0.2827354669570923, 0.014234171248972416, 0.01764776185154915, 0.011433066800236702, 0.021741706877946854, 0.2666538655757904, 0.015403524972498417, 0.04734928905963898, 0.017767541110515594, 0.0139260683208704, 0.29110756516456604, 0.0, 0.0, 0.0, 0.0, 0.0, 0.0, 0.0, 0.0, 0.0, 0.0, 0.0, 0.0, 0.0, 0.0, 0.0, 0.0, 0.0, 0.0, 0.0, 0.0, 0.0], [0.3449662923812866, 0.04611678048968315, 0.057715483009815216, 0.11131855100393295, 0.11289364099502563, 0.027930334210395813, 0.0385918952524662, 0.05656527727842331, 0.05864058434963226, 0.0664859339594841, 0.026114368811249733, 0.052660856395959854, 0.0, 0.0, 0.0, 0.0, 0.0, 0.0, 0.0, 0.0, 0.0, 0.0, 0.0, 0.0, 0.0, 0.0, 0.0, 0.0, 0.0, 0.0, 0.0, 0.0], [0.46992164850234985, 0.03201569989323616, 0.1077289804816246, 0.027006762102246284, 0.044658828526735306, 0.02277354709804058, 0.02311706729233265, 0.025491520762443542, 0.04950270801782608, 0.026573972776532173, 0.019708866253495216, 0.06337958574295044, 0.08812083303928375, 0.0, 0.0, 0.0, 0.0, 0.0, 0.0, 0.0, 0.0, 0.0, 0.0, 0.0, 0.0, 0.0, 0.0, 0.0, 0.0, 0.0, 0.0, 0.0], [0.2066175937652588, 0.010379296727478504, 0.012261937372386456, 0.008319097571074963, 0.01600707694888115, 0.1952773481607437, 0.011453286744654179, 0.034756701439619064, 0.013073587790131569, 0.010938976891338825, 0.21602489054203033, 0.005866494029760361, 0.02364231087267399, 0.2353813797235489, 0.0, 0.0, 0.0, 0.0, 0.0, 0.0, 0.0, 0.0, 0.0, 0.0, 0.0, 0.0, 0.0, 0.0, 0.0, 0.0, 0.0, 0.0], [0.3399350643157959, 0.02916162647306919, 0.09540707617998123, 0.03395187482237816, 0.08440455049276352, 0.012559542432427406, 0.02935866080224514, 0.02456418052315712, 0.10622431337833405, 0.04689212143421173, 0.011469594202935696, 0.0063692000694572926, 0.11145273596048355, 0.011317998170852661, 0.0569315105676651, 0.0, 0.0, 0.0, 0.0, 0.0, 0.0, 0.0, 0.0, 0.0, 0.0, 0.0, 0.0, 0.0, 0.0, 0.0, 0.0, 0.0], [0.40408822894096375, 0.02419566549360752, 0.03891003876924515, 0.014727438800036907, 0.024456560611724854, 0.038450006395578384, 0.039230383932590485, 0.03717135265469551, 0.06030000373721123, 0.041985440999269485, 0.037167198956012726, 0.016391243785619736, 0.039289671927690506, 0.03772979974746704, 0.1344856470823288, 0.01142129860818386, 0.0, 0.0, 0.0, 0.0, 0.0, 0.0, 0.0, 0.0, 0.0, 0.0, 0.0, 0.0, 0.0, 0.0, 0.0, 0.0], [0.15876440703868866, 0.008203908801078796, 0.009295261465013027, 0.006221714895218611, 0.011793199926614761, 0.15069791674613953, 0.008851956576108932, 0.026313520967960358, 0.010186919942498207, 0.00843372754752636, 0.1676223874092102, 0.0044200303964316845, 0.018211795017123222, 0.18350817263126373, 0.020927337929606438, 0.006447785999625921, 0.20009997487068176, 0.0, 0.0, 0.0, 0.0, 0.0, 0.0, 0.0, 0.0, 0.0, 0.0, 0.0, 0.0, 0.0, 0.0, 0.0], [0.17539210617542267, 0.02056967467069626, 0.018291452899575233, 0.009298025630414486, 0.017377909272909164, 0.042534761130809784, 0.02070159651339054, 0.05044395476579666, 0.02543804608285427, 0.017218241468071938, 0.043115343898534775, 0.01334983017295599, 0.028528602793812752, 0.04597257450222969, 0.034088216722011566, 0.019834201782941818, 0.049928389489650726, 0.36791715025901794, 0.0, 0.0, 0.0, 0.0, 0.0, 0.0, 0.0, 0.0, 0.0, 0.0, 0.0, 0.0, 0.0, 0.0], [0.260333389043808, 0.01714838668704033, 0.03745279088616371, 0.07594801485538483, 0.04674699157476425, 0.018068533390760422, 0.03134647384285927, 0.03741515800356865, 0.07175810635089874, 0.058725398033857346, 0.017078714445233345, 0.04030592739582062, 0.057063572108745575, 0.017113596200942993, 0.1049133762717247, 0.04670536890625954, 0.01723020151257515, 0.02468213438987732, 0.01996396854519844, 0.0, 0.0, 0.0, 0.0, 0.0, 0.0, 0.0, 0.0, 0.0, 0.0, 0.0, 0.0, 0.0], [0.30547067523002625, 0.05190497264266014, 0.043469008058309555, 0.021846860647201538, 0.02101719006896019, 0.03390475735068321, 0.04190472513437271, 0.03909287229180336, 0.028871964663267136, 0.023003440350294113, 0.03205801546573639, 0.02333451621234417, 0.0711059421300888, 0.03290089592337608, 0.06164196506142616, 0.03183261677622795, 0.03376764804124832, 0.04571488872170448, 0.03501524776220322, 0.022141890600323677, 0.0, 0.0, 0.0, 0.0, 0.0, 0.0, 0.0, 0.0, 0.0, 0.0, 0.0, 0.0], [0.12242946773767471, 0.0061053005047142506, 0.006670297589153051, 0.00458177737891674, 0.009337786585092545, 0.1138179674744606, 0.006783355958759785, 0.01971989870071411, 0.00758085772395134, 0.006613647565245628, 0.12765927612781525, 0.003502656938508153, 0.014002327807247639, 0.14000993967056274, 0.015684887766838074, 0.005092611536383629, 0.15336203575134277, 0.03527415916323662, 0.02246563509106636, 0.0069544618017971516, 0.17235167324543, 0.0, 0.0, 0.0, 0.0, 0.0, 0.0, 0.0, 0.0, 0.0, 0.0, 0.0], [0.20538486540317535, 0.034778524190187454, 0.014682927168905735, 0.031183302402496338, 0.030931251123547554, 0.021952787414193153, 0.03290865197777748, 0.057405322790145874, 0.055875178426504135, 0.048642758280038834, 0.023520760238170624, 0.015108545310795307, 0.02738632820546627, 0.024518458172678947, 0.06060457602143288, 0.03477616608142853, 0.026137810200452805, 0.05168433114886284, 0.06281399726867676, 0.020291468128561974, 0.028601745143532753, 0.09081020206212997, 0.0, 0.0, 0.0, 0.0, 0.0, 0.0, 0.0, 0.0, 0.0, 0.0], [0.2397860437631607, 0.03132349252700806, 0.05037751793861389, 0.015869436785578728, 0.03901461139321327, 0.022805556654930115, 0.042853549122810364, 0.028882304206490517, 0.04046265035867691, 0.03410725295543671, 0.022644510492682457, 0.03923068940639496, 0.07238572835922241, 0.0223455298691988, 0.04958103969693184, 0.03193337470293045, 0.023325588554143906, 0.045213598757982254, 0.03055437281727791, 0.022876501083374023, 0.024732306599617004, 0.055494826287031174, 0.01419956423342228, 0.0, 0.0, 0.0, 0.0, 0.0, 0.0, 0.0, 0.0, 0.0], [0.23581695556640625, 0.02055828645825386, 0.04375007003545761, 0.029704872518777847, 0.03703877702355385, 0.014953456819057465, 0.04004308208823204, 0.027184361591935158, 0.04576181620359421, 0.03809260204434395, 0.014181874692440033, 0.03789154067635536, 0.06518243998289108, 0.014182932674884796, 0.05489494279026985, 0.023720959201455116, 0.014592771418392658, 0.025570018216967583, 0.07356178015470505, 0.039182357490062714, 0.014925520867109299, 0.04628864675760269, 0.02780105173587799, 0.015118857845664024, 0.0, 0.0, 0.0, 0.0, 0.0, 0.0, 0.0, 0.0], [0.14254967868328094, 0.012010154314339161, 0.016881301999092102, 0.02074255421757698, 0.032451748847961426, 0.029626023024320602, 0.030295200645923615, 0.056208718568086624, 0.02960873581469059, 0.029481850564479828, 0.03263987600803375, 0.010038220323622227, 0.04078619182109833, 0.03462788462638855, 0.03391636908054352, 0.020155757665634155, 0.03684317693114281, 0.0606468990445137, 0.04744711145758629, 0.032525286078453064, 0.040400389581918716, 0.059477612376213074, 0.03129399195313454, 0.04792549088597298, 0.07141980528831482, 0.0, 0.0, 0.0, 0.0, 0.0, 0.0, 0.0], [0.2222907692193985, 0.05911136418581009, 0.037026774138212204, 0.040590137243270874, 0.027254490181803703, 0.019174780696630478, 0.03171536698937416, 0.020462142303586006, 0.03811327740550041, 0.019927887246012688, 0.01853891648352146, 0.015436694025993347, 0.04536488652229309, 0.01935577020049095, 0.05035828799009323, 0.03328138217329979, 0.02017974853515625, 0.03679434955120087, 0.043313879519701004, 0.028476405888795853, 0.02131732925772667, 0.04771285876631737, 0.013107034377753735, 0.026336055248975754, 0.03021135739982128, 0.03454803675413132, 0.0, 0.0, 0.0, 0.0, 0.0, 0.0], [0.28438133001327515, 0.02387009747326374, 0.046418823301792145, 0.010260091163218021, 0.03390985727310181, 0.01830146834254265, 0.023708879947662354, 0.024766830727458, 0.025767752900719643, 0.02296881563961506, 0.016735466197133064, 0.01340694073587656, 0.04598662629723549, 0.016673222184181213, 0.0810638964176178, 0.05033262073993683, 0.016726158559322357, 0.019904812797904015, 0.030325334519147873, 0.010146312415599823, 0.0173182375729084, 0.019040986895561218, 0.011081124655902386, 0.052046433091163635, 0.0333535373210907, 0.038808852434158325, 0.012695509009063244, 0.0, 0.0, 0.0, 0.0, 0.0], [0.11854355037212372, 0.01335094217211008, 0.013422034680843353, 0.03027321770787239, 0.026162920519709587, 0.02077620103955269, 0.021280191838741302, 0.03798935189843178, 0.03536441922187805, 0.03665179759263992, 0.0220040176063776, 0.01538002397865057, 0.030023107305169106, 0.023299690335989, 0.030007559806108475, 0.014861379750072956, 0.024521932005882263, 0.03999800607562065, 0.039001576602458954, 0.03600768744945526, 0.0268512275069952, 0.06795872002840042, 0.038931310176849365, 0.05725807324051857, 0.0665983334183693, 0.03075687400996685, 0.023343203589320183, 0.05938269942998886, 0.0, 0.0, 0.0, 0.0], [0.2221589982509613, 0.011081334203481674, 0.03389251232147217, 0.015738271176815033, 0.005581993144005537, 0.0140974847599864, 0.029572537168860435, 0.02395481802523136, 0.07114676386117935, 0.04097672179341316, 0.014492997899651527, 0.012850312516093254, 0.03636714071035385, 0.01499994471669197, 0.0698363184928894, 0.022786322981119156, 0.01575155183672905, 0.03276814892888069, 0.021569274365901947, 0.04033747315406799, 0.016663866117596626, 0.04851476848125458, 0.015246893279254436, 0.04084112122654915, 0.03359611704945564, 0.04623766988515854, 0.006086808163672686, 0.036372873932123184, 0.006479002069681883, 0.0, 0.0, 0.0], [0.16918012499809265, 0.022323399782180786, 0.033270563930273056, 0.020659081637859344, 0.02441047690808773, 0.012924659065902233, 0.02996290661394596, 0.021857548505067825, 0.06811811774969101, 0.0367119126021862, 0.012986344285309315, 0.014242909848690033, 0.03473304957151413, 0.013216491788625717, 0.04221627488732338, 0.03354303911328316, 0.013652102090418339, 0.02719254419207573, 0.06672198325395584, 0.02096446231007576, 0.014461375772953033, 0.036585766822099686, 0.020787935703992844, 0.0398135781288147, 0.02959267422556877, 0.025845898315310478, 0.02822026237845421, 0.03164546564221382, 0.029443342238664627, 0.02471574954688549, 0.0, 0.0], [0.27661436796188354, 0.05446547269821167, 0.03991124406456947, 0.035724375396966934, 0.020797796547412872, 0.008367319591343403, 0.023185566067695618, 0.014287625439465046, 0.0266424547880888, 0.03265723958611488, 0.007348896935582161, 0.011281471699476242, 0.05183457210659981, 0.0072234394028782845, 0.04287114366889, 0.018474239856004715, 0.007120083086192608, 0.013017278164625168, 0.038610320538282394, 0.01514557097107172, 0.007299650926142931, 0.019807348027825356, 0.011194383725523949, 0.023587489500641823, 0.01666366681456566, 0.008125298656523228, 0.037252020090818405, 0.014794187620282173, 0.01686914451420307, 0.03298630565404892, 0.06584001332521439, 0.0], [0.15140466392040253, 0.014684641733765602, 0.007997490465641022, 0.011219631880521774, 0.027155574411153793, 0.013516227714717388, 0.02759396843612194, 0.017754632979631424, 0.016729865223169327, 0.034337710589170456, 0.014384076930582523, 0.007309810258448124, 0.016857562586665154, 0.014990376308560371, 0.019466131925582886, 0.013688439503312111, 0.015650004148483276, 0.014755260199308395, 0.06056605279445648, 0.02241959422826767, 0.017192505300045013, 0.10905130207538605, 0.07305237650871277, 0.08703617006540298, 0.025689391419291496, 0.03750605881214142, 0.01707369089126587, 0.025628389790654182, 0.022788163274526596, 0.02013646811246872, 0.019221486523747444, 0.02314230613410473]], [[1.0, 0.0, 0.0, 0.0, 0.0, 0.0, 0.0, 0.0, 0.0, 0.0, 0.0, 0.0, 0.0, 0.0, 0.0, 0.0, 0.0, 0.0, 0.0, 0.0, 0.0, 0.0, 0.0, 0.0, 0.0, 0.0, 0.0, 0.0, 0.0, 0.0, 0.0, 0.0], [0.09646998345851898, 0.9035300612449646, 0.0, 0.0, 0.0, 0.0, 0.0, 0.0, 0.0, 0.0, 0.0, 0.0, 0.0, 0.0, 0.0, 0.0, 0.0, 0.0, 0.0, 0.0, 0.0, 0.0, 0.0, 0.0, 0.0, 0.0, 0.0, 0.0, 0.0, 0.0, 0.0, 0.0], [0.04325239732861519, 0.08177752792835236, 0.8749701380729675, 0.0, 0.0, 0.0, 0.0, 0.0, 0.0, 0.0, 0.0, 0.0, 0.0, 0.0, 0.0, 0.0, 0.0, 0.0, 0.0, 0.0, 0.0, 0.0, 0.0, 0.0, 0.0, 0.0, 0.0, 0.0, 0.0, 0.0, 0.0, 0.0], [0.0999540463089943, 0.025312749668955803, 0.020108072087168694, 0.8546252250671387, 0.0, 0.0, 0.0, 0.0, 0.0, 0.0, 0.0, 0.0, 0.0, 0.0, 0.0, 0.0, 0.0, 0.0, 0.0, 0.0, 0.0, 0.0, 0.0, 0.0, 0.0, 0.0, 0.0, 0.0, 0.0, 0.0, 0.0, 0.0], [0.02488938719034195, 0.00320735783316195, 0.0018421616405248642, 0.022361529991030693, 0.9476995468139648, 0.0, 0.0, 0.0, 0.0, 0.0, 0.0, 0.0, 0.0, 0.0, 0.0, 0.0, 0.0, 0.0, 0.0, 0.0, 0.0, 0.0, 0.0, 0.0, 0.0, 0.0, 0.0, 0.0, 0.0, 0.0, 0.0, 0.0], [0.10732382535934448, 0.01784166693687439, 0.01955333538353443, 0.04333322495222092, 0.1021149754524231, 0.7098329067230225, 0.0, 0.0, 0.0, 0.0, 0.0, 0.0, 0.0, 0.0, 0.0, 0.0, 0.0, 0.0, 0.0, 0.0, 0.0, 0.0, 0.0, 0.0, 0.0, 0.0, 0.0, 0.0, 0.0, 0.0, 0.0, 0.0], [0.006426358595490456, 0.00044797779992222786, 0.00014756574819330126, 0.0004693679220508784, 0.0014411874581128359, 0.003859696676954627, 0.98720782995224, 0.0, 0.0, 0.0, 0.0, 0.0, 0.0, 0.0, 0.0, 0.0, 0.0, 0.0, 0.0, 0.0, 0.0, 0.0, 0.0, 0.0, 0.0, 0.0, 0.0, 0.0, 0.0, 0.0, 0.0, 0.0], [0.0010354600381106138, 0.00019901858468074352, 0.00016020413022488356, 6.937291618669406e-05, 0.00038674141978845, 0.005171592812985182, 0.8964057564735413, 0.09657186269760132, 0.0, 0.0, 0.0, 0.0, 0.0, 0.0, 0.0, 0.0, 0.0, 0.0, 0.0, 0.0, 0.0, 0.0, 0.0, 0.0, 0.0, 0.0, 0.0, 0.0, 0.0, 0.0, 0.0, 0.0], [0.001288331695832312, 0.00032334477873519063, 0.0002652719267643988, 0.00025490642292425036, 0.00020129808399360627, 0.00010048988042399287, 0.0005700873443856835, 0.00040912983240559697, 0.9965872764587402, 0.0, 0.0, 0.0, 0.0, 0.0, 0.0, 0.0, 0.0, 0.0, 0.0, 0.0, 0.0, 0.0, 0.0, 0.0, 0.0, 0.0, 0.0, 0.0, 0.0, 0.0, 0.0, 0.0], [0.00018741587700787932, 1.619651447981596e-05, 4.2281003516109195e-06, 0.0002875890932045877, 1.112569407268893e-05, 9.805675290408544e-06, 0.00015567195077892393, 7.632957567693666e-05, 0.0034869059454649687, 0.9957647323608398, 0.0, 0.0, 0.0, 0.0, 0.0, 0.0, 0.0, 0.0, 0.0, 0.0, 0.0, 0.0, 0.0, 0.0, 0.0, 0.0, 0.0, 0.0, 0.0, 0.0, 0.0, 0.0], [0.01574152708053589, 0.0006393608637154102, 0.00045715313171967864, 0.0009912530658766627, 0.0021140340249985456, 0.01808977872133255, 0.04712036997079849, 0.07010908424854279, 0.06152835488319397, 0.27690404653549194, 0.5063050389289856, 0.0, 0.0, 0.0, 0.0, 0.0, 0.0, 0.0, 0.0, 0.0, 0.0, 0.0, 0.0, 0.0, 0.0, 0.0, 0.0, 0.0, 0.0, 0.0, 0.0, 0.0], [0.0006166603998281062, 0.0005207078065723181, 4.61151976196561e-05, 0.001461300067603588, 0.0005623756442219019, 4.447595347301103e-05, 0.00036539664142765105, 0.0002860166132450104, 0.0045061269775033, 0.005816521588712931, 0.0007244537118822336, 0.9850499033927917, 0.0, 0.0, 0.0, 0.0, 0.0, 0.0, 0.0, 0.0, 0.0, 0.0, 0.0, 0.0, 0.0, 0.0, 0.0, 0.0, 0.0, 0.0, 0.0, 0.0], [0.0010478608310222626, 3.062820542254485e-05, 0.00017345046217087656, 5.423129550763406e-05, 6.388442125171423e-05, 1.12611596705392e-05, 1.716904080240056e-05, 1.3931334251537919e-05, 0.0020760460756719112, 0.00026926910504698753, 0.0001526853011455387, 0.0036844408605247736, 0.992405116558075, 0.0, 0.0, 0.0, 0.0, 0.0, 0.0, 0.0, 0.0, 0.0, 0.0, 0.0, 0.0, 0.0, 0.0, 0.0, 0.0, 0.0, 0.0, 0.0], [0.010746294632554054, 0.0002535439853090793, 0.00015322963008657098, 0.00029287076904438436, 0.0005376797053031623, 0.00442354753613472, 0.009884342551231384, 0.012843042612075806, 0.012738632969558239, 0.05966863036155701, 0.10773000121116638, 0.024745753034949303, 0.07808701694011688, 0.6778954863548279, 0.0, 0.0, 0.0, 0.0, 0.0, 0.0, 0.0, 0.0, 0.0, 0.0, 0.0, 0.0, 0.0, 0.0, 0.0, 0.0, 0.0, 0.0], [0.00041217979742214084, 2.621866406116169e-05, 1.775588680175133e-05, 0.00019181883544661105, 3.2979492061713245e-06, 3.912674856110243e-06, 1.0438077879371122e-05, 4.906839876639424e-06, 0.0005868562147952616, 0.0030381453689187765, 3.6931178328813985e-05, 0.00077243015402928, 0.0096226055175066, 0.00016094364400487393, 0.9851114153862, 0.0, 0.0, 0.0, 0.0, 0.0, 0.0, 0.0, 0.0, 0.0, 0.0, 0.0, 0.0, 0.0, 0.0, 0.0, 0.0, 0.0], [0.00010886602831305936, 3.5845484944729833e-06, 5.191662239667494e-06, 3.0838404200039804e-05, 1.840876393544022e-05, 7.954773764140555e-07, 3.3532105589983985e-06, 6.5743715822463855e-06, 0.0007270947098731995, 0.0018232509028166533, 7.85327392804902e-06, 0.00030627509113401175, 0.006975054740905762, 3.4850869269575924e-05, 0.028292739763855934, 0.9616552591323853, 0.0, 0.0, 0.0, 0.0, 0.0, 0.0, 0.0, 0.0, 0.0, 0.0, 0.0, 0.0, 0.0, 0.0, 0.0, 0.0], [0.006073974072933197, 8.815180626697838e-05, 4.583773988997564e-05, 8.250479004345834e-05, 0.000127204111777246, 0.0009312511538155377, 0.001669997931458056, 0.0019381934544071555, 0.0021016960963606834, 0.010131663642823696, 0.016047297045588493, 0.0038353856652975082, 0.012242133729159832, 0.10037059336900711, 0.07853124290704727, 0.10997352004051208, 0.6558094024658203, 0.0, 0.0, 0.0, 0.0, 0.0, 0.0, 0.0, 0.0, 0.0, 0.0, 0.0, 0.0, 0.0, 0.0, 0.0], [0.0021863020956516266, 1.1892953807546292e-05, 1.673596489126794e-05, 2.0815454263356514e-05, 2.11625356314471e-05, 0.0007714933017268777, 0.0008652106625959277, 0.0005560292629525065, 0.00015655918105039746, 0.0019499914487823844, 0.010891211219131947, 0.0003954319399781525, 0.0015144720673561096, 0.06916318088769913, 0.004308104515075684, 0.004035165999084711, 0.49397051334381104, 0.40916571021080017, 0.0, 0.0, 0.0, 0.0, 0.0, 0.0, 0.0, 0.0, 0.0, 0.0, 0.0, 0.0, 0.0, 0.0], [1.9797989807557315e-05, 4.972388865098765e-07, 9.16571263331889e-09, 1.3230442164058331e-07, 5.60181163677953e-08, 1.1903876995233986e-08, 6.153105687189964e-07, 4.0685502966653075e-08, 4.517450634011766e-06, 1.4017778084962629e-05, 1.6456884566196095e-07, 1.0863844863706618e-06, 7.444054062943906e-06, 1.005667400022503e-06, 2.759499693638645e-05, 0.00031378009589388967, 6.201131327543408e-06, 8.21336197986966e-06, 0.9995948672294617, 0.0, 0.0, 0.0, 0.0, 0.0, 0.0, 0.0, 0.0, 0.0, 0.0, 0.0, 0.0, 0.0], [6.497155027318513e-06, 8.691994821674598e-07, 1.405137936671963e-06, 3.770475700548559e-07, 3.32916613388079e-07, 6.1049497901422e-08, 2.542995503063139e-08, 1.1067737659686827e-07, 3.67087013728451e-05, 5.70479812722624e-07, 6.172341500132461e-07, 0.00015627918764948845, 0.00014737913443241268, 3.010372893186286e-06, 6.130660040071234e-05, 0.0017769885016605258, 1.8545903003541753e-05, 3.4263095585629344e-05, 0.923351526260376, 0.07440311461687088, 0.0, 0.0, 0.0, 0.0, 0.0, 0.0, 0.0, 0.0, 0.0, 0.0, 0.0, 0.0], [0.003649007761850953, 3.7494359276024625e-05, 1.7470783859607764e-05, 2.844922164513264e-05, 3.312426633783616e-05, 0.0001956923515535891, 0.00026475946651771665, 0.00024690432474017143, 0.0002803318202495575, 0.0013949202839285135, 0.0017910294700413942, 0.0004246804164722562, 0.0014623695751652122, 0.009717746637761593, 0.008053947240114212, 0.013200582936406136, 0.06315964460372925, 0.0715278908610344, 0.075231172144413, 0.02420511282980442, 0.7250775694847107, 0.0, 0.0, 0.0, 0.0, 0.0, 0.0, 0.0, 0.0, 0.0, 0.0, 0.0], [0.0006410921341739595, 3.925723376596579e-06, 1.1607382930378662e-06, 1.5375553630292416e-06, 9.072658144759771e-07, 8.058227649598848e-06, 1.3223982023191638e-05, 4.619927949534031e-06, 3.678849679999985e-05, 4.565192648442462e-05, 7.577830547234043e-05, 2.2741818611393683e-05, 5.668473750120029e-05, 0.00047375174472108483, 0.00036407768493518233, 0.0004240040434524417, 0.003757342230528593, 0.004363134503364563, 0.007395241875201464, 0.0050226361490786076, 0.05575631931424141, 0.9215313792228699, 0.0, 0.0, 0.0, 0.0, 0.0, 0.0, 0.0, 0.0, 0.0, 0.0], [0.0005377686466090381, 8.122552799250116e-07, 2.301858557984815e-06, 1.4700387964694528e-06, 1.870364826572768e-06, 6.024505978530215e-07, 4.127837655687472e-06, 1.6705749885659316e-06, 2.0471961761359125e-06, 7.43002601666376e-05, 3.5942298381996807e-06, 7.1715162448526826e-06, 3.0528179195243865e-05, 1.8927703422377817e-05, 0.00025438779266551137, 0.00019496388267725706, 0.00012626552779693156, 0.00018230554996989667, 0.0037352307699620724, 0.0006727110012434423, 0.0015798317035660148, 0.011177681386470795, 0.981389582157135, 0.0, 0.0, 0.0, 0.0, 0.0, 0.0, 0.0, 0.0, 0.0], [8.512816566508263e-05, 4.870866519013362e-07, 1.2458946230253787e-06, 2.081122119079737e-07, 1.9242808946273726e-07, 3.70401771476736e-08, 4.555248267479328e-07, 5.5045465074954336e-08, 1.5320366628657212e-06, 5.083300948172109e-06, 2.140094181868335e-07, 1.4595309494325193e-06, 1.4768334040127229e-05, 1.0635014859872172e-06, 2.9461512895068154e-05, 5.7288114476250485e-05, 6.615687652811175e-06, 7.844225365261082e-06, 0.0001506384287495166, 0.00022636918583884835, 7.973580795805901e-05, 0.0001304086035815999, 0.01086841057986021, 0.9883313775062561, 0.0, 0.0, 0.0, 0.0, 0.0, 0.0, 0.0, 0.0], [0.0004166322178207338, 2.2503736545331776e-06, 5.270547262625769e-06, 2.7549172955332324e-05, 3.9630533137824386e-05, 7.514757271565031e-06, 8.10095571068814e-06, 1.1581340913835447e-05, 1.320600222243229e-05, 6.750736065441743e-05, 2.521276292100083e-05, 1.486071414547041e-05, 7.521701627410948e-05, 0.00011457462096586823, 0.00025745289167389274, 0.00036668599932454526, 0.0006904747569933534, 0.0014518488897010684, 0.003246017498895526, 0.0006353400531224906, 0.008745579048991203, 0.015190850012004375, 0.018150165677070618, 0.13303309679031372, 0.8174033164978027, 0.0, 0.0, 0.0, 0.0, 0.0, 0.0, 0.0], [1.6739251805120148e-05, 8.245301330589427e-08, 3.25738582773738e-08, 2.873734139541284e-08, 1.6217649090322084e-07, 1.5275384290802663e-09, 2.3278644789570535e-08, 5.576728856482305e-09, 1.2825766759760882e-07, 1.3429448131319077e-07, 6.160560950263516e-09, 2.5232549205611576e-07, 3.2057537282526027e-06, 2.6277223952320128e-08, 7.619948405590549e-07, 7.901952812972013e-06, 1.3940439202997368e-07, 1.955259563146683e-07, 0.00032022554660215974, 8.173670380529074e-07, 1.5630018879164709e-06, 3.763156200875528e-06, 0.0007450495613738894, 0.0037152215372771025, 3.9344129618257284e-05, 0.995144248008728, 0.0, 0.0, 0.0, 0.0, 0.0, 0.0], [0.00023842244991101325, 5.040096311859088e-06, 1.3208579048296087e-06, 8.599819921073504e-06, 5.166059054317884e-06, 1.3470912563207094e-07, 6.710797606501728e-07, 2.699698029573483e-07, 6.345725523715373e-06, 4.417822856339626e-05, 2.7444932015896484e-07, 2.0171135474811308e-05, 1.6526626495760866e-05, 8.12277562545205e-07, 0.0001077098204405047, 0.00012397429964039475, 3.507592055029818e-06, 8.50584820000222e-06, 6.980255420785397e-05, 0.00026813638396561146, 2.8792896046070382e-05, 0.00011957895185332745, 0.0001296166592510417, 0.007425930816680193, 0.0007109703146852553, 0.005815005395561457, 0.9848405718803406, 0.0, 0.0, 0.0, 0.0, 0.0], [0.00040899671148508787, 6.095392564020585e-07, 1.9963963495683856e-06, 9.310363566328306e-06, 3.7690599583584117e-06, 1.987661335078883e-06, 4.576563412683754e-07, 1.0690750968933571e-06, 3.0871942726662382e-06, 9.211438737111166e-06, 4.72437750431709e-06, 1.207007585435349e-06, 5.09563869854901e-06, 1.804716703190934e-05, 4.85787822981365e-05, 4.1694056562846527e-05, 0.00010537522030062973, 0.00022466841619461775, 0.00011528655159054324, 0.00024929054779931903, 0.0013673153007403016, 0.0016190364258363843, 0.0013275174424052238, 0.0034917884040623903, 0.0630565881729126, 0.006469071842730045, 0.09512670338153839, 0.826287567615509, 0.0, 0.0, 0.0, 0.0], [1.6635169231449254e-05, 2.405686245765537e-07, 1.813431715902425e-08, 1.9648165050512034e-07, 3.7838692605873803e-06, 5.304746419909634e-09, 6.015127951286559e-08, 2.1293645957598528e-08, 1.643012552676737e-07, 4.536196058779751e-07, 1.1527136578592945e-08, 3.4333081089243933e-07, 1.4864065178699093e-07, 3.842543705445678e-08, 1.8128204715139873e-07, 2.2046292542654555e-06, 1.6520216661319864e-07, 2.8063379886589246e-07, 5.661937393597327e-06, 2.9513566346395237e-07, 1.432695512448845e-06, 2.825826186381164e-06, 3.5837001632899046e-05, 0.0002835553023032844, 4.4728254579240456e-05, 0.0022594830952584743, 0.000419807736761868, 0.00022445854847319424, 0.996696949005127, 0.0, 0.0, 0.0], [2.6572415663395077e-05, 1.628338992532008e-07, 8.754169584790361e-07, 6.716415441587742e-07, 8.625163161468663e-08, 3.510739077228209e-08, 1.608932507224381e-07, 1.637445024016415e-08, 1.809596170687655e-07, 3.811673252585024e-07, 4.880579496102655e-08, 1.6164901239790197e-07, 1.8041818350411631e-07, 1.4648463775301934e-07, 7.550345344498055e-07, 1.9531880752765574e-06, 7.38857920623559e-07, 5.65660911888699e-07, 6.777432281523943e-05, 9.293480616179295e-07, 8.033428457565606e-06, 2.640246384544298e-05, 0.0005221845931373537, 0.0003414232924114913, 0.00011749058467103168, 0.0007564108818769455, 0.0014474367490038276, 0.0006324604037217796, 0.0006623133085668087, 0.9953834414482117, 0.0, 0.0], [0.001289689913392067, 6.6837246777140535e-06, 6.79149309235072e-07, 3.6042099509359105e-06, 1.0013666269514943e-06, 5.5232749929245983e-08, 1.2255662795723765e-07, 3.742898968539521e-08, 6.736733553225349e-07, 1.770090420905035e-06, 5.655420665107158e-08, 1.600348696229048e-06, 2.862239171008696e-06, 1.375994997943053e-07, 8.348618393938523e-06, 1.1187496966158506e-05, 5.17599744398467e-07, 5.101497890791507e-07, 0.00022091090795584023, 2.1200054106884636e-05, 4.110464487894205e-06, 6.741868855897337e-05, 0.0013936735922470689, 0.00104954291600734, 3.8105874409666285e-05, 0.006635418627411127, 0.0014298537280410528, 0.00020692798716481775, 0.0009203410008922219, 0.005472688935697079, 0.9812104105949402, 0.0], [0.0035653221420943737, 5.156306360731833e-05, 3.698893488035537e-05, 2.813202445395291e-05, 1.5576226360280998e-05, 1.9709395928657614e-05, 9.609376320440788e-06, 4.9734458116290625e-06, 1.411485209246166e-05, 2.259825123474002e-05, 1.9244862414780073e-05, 3.721364919329062e-05, 3.4610042348504066e-05, 4.508029451244511e-05, 1.55863326654071e-05, 7.683048897888511e-05, 0.00017438932263758034, 0.00016439879254903644, 0.00039968977216631174, 0.00030582971521653235, 0.00146859313827008, 0.003107126336544752, 0.0017919463571161032, 0.002864749636501074, 0.006387100555002689, 0.011661960743367672, 0.016133369877934456, 0.037787843495607376, 0.04311130940914154, 0.1872849315404892, 0.15809331834316254, 0.5252662897109985]], [[1.0, 0.0, 0.0, 0.0, 0.0, 0.0, 0.0, 0.0, 0.0, 0.0, 0.0, 0.0, 0.0, 0.0, 0.0, 0.0, 0.0, 0.0, 0.0, 0.0, 0.0, 0.0, 0.0, 0.0, 0.0, 0.0, 0.0, 0.0, 0.0, 0.0, 0.0, 0.0], [0.2530861794948578, 0.7469137907028198, 0.0, 0.0, 0.0, 0.0, 0.0, 0.0, 0.0, 0.0, 0.0, 0.0, 0.0, 0.0, 0.0, 0.0, 0.0, 0.0, 0.0, 0.0, 0.0, 0.0, 0.0, 0.0, 0.0, 0.0, 0.0, 0.0, 0.0, 0.0, 0.0, 0.0], [0.3067159056663513, 0.3290638327598572, 0.3642202913761139, 0.0, 0.0, 0.0, 0.0, 0.0, 0.0, 0.0, 0.0, 0.0, 0.0, 0.0, 0.0, 0.0, 0.0, 0.0, 0.0, 0.0, 0.0, 0.0, 0.0, 0.0, 0.0, 0.0, 0.0, 0.0, 0.0, 0.0, 0.0, 0.0], [0.07416971772909164, 0.16189664602279663, 0.0543258972465992, 0.7096077799797058, 0.0, 0.0, 0.0, 0.0, 0.0, 0.0, 0.0, 0.0, 0.0, 0.0, 0.0, 0.0, 0.0, 0.0, 0.0, 0.0, 0.0, 0.0, 0.0, 0.0, 0.0, 0.0, 0.0, 0.0, 0.0, 0.0, 0.0, 0.0], [0.16688230633735657, 0.03901784121990204, 0.038224607706069946, 0.21398358047008514, 0.5418916344642639, 0.0, 0.0, 0.0, 0.0, 0.0, 0.0, 0.0, 0.0, 0.0, 0.0, 0.0, 0.0, 0.0, 0.0, 0.0, 0.0, 0.0, 0.0, 0.0, 0.0, 0.0, 0.0, 0.0, 0.0, 0.0, 0.0, 0.0], [0.19483637809753418, 0.2111925184726715, 0.051505643874406815, 0.0870383232831955, 0.22999541461467743, 0.2254316806793213, 0.0, 0.0, 0.0, 0.0, 0.0, 0.0, 0.0, 0.0, 0.0, 0.0, 0.0, 0.0, 0.0, 0.0, 0.0, 0.0, 0.0, 0.0, 0.0, 0.0, 0.0, 0.0, 0.0, 0.0, 0.0, 0.0], [0.13900144398212433, 0.029748650267720222, 0.03860698640346527, 0.05133272707462311, 0.19284242391586304, 0.08012372255325317, 0.4683440625667572, 0.0, 0.0, 0.0, 0.0, 0.0, 0.0, 0.0, 0.0, 0.0, 0.0, 0.0, 0.0, 0.0, 0.0, 0.0, 0.0, 0.0, 0.0, 0.0, 0.0, 0.0, 0.0, 0.0, 0.0, 0.0], [0.08969780057668686, 0.04080599546432495, 0.034733083099126816, 0.08414531499147415, 0.09911045432090759, 0.07059446722269058, 0.1361657679080963, 0.4447471499443054, 0.0, 0.0, 0.0, 0.0, 0.0, 0.0, 0.0, 0.0, 0.0, 0.0, 0.0, 0.0, 0.0, 0.0, 0.0, 0.0, 0.0, 0.0, 0.0, 0.0, 0.0, 0.0, 0.0, 0.0], [0.05986516550183296, 0.020190443843603134, 0.018785323947668076, 0.10584744065999985, 0.0579487606883049, 0.027517709881067276, 0.056663136929273605, 0.08226758986711502, 0.5709143877029419, 0.0, 0.0, 0.0, 0.0, 0.0, 0.0, 0.0, 0.0, 0.0, 0.0, 0.0, 0.0, 0.0, 0.0, 0.0, 0.0, 0.0, 0.0, 0.0, 0.0, 0.0, 0.0, 0.0], [0.010379276238381863, 0.004698258358985186, 0.004143990110605955, 0.007291413377970457, 0.006256693042814732, 0.003318049944937229, 0.009175022132694721, 0.01875443570315838, 0.03393153101205826, 0.9020513892173767, 0.0, 0.0, 0.0, 0.0, 0.0, 0.0, 0.0, 0.0, 0.0, 0.0, 0.0, 0.0, 0.0, 0.0, 0.0, 0.0, 0.0, 0.0, 0.0, 0.0, 0.0, 0.0], [0.07270113378763199, 0.04776483774185181, 0.010500341653823853, 0.016159430146217346, 0.046178143471479416, 0.05249457806348801, 0.051845669746398926, 0.2118951380252838, 0.035158198326826096, 0.17267188429832458, 0.28263065218925476, 0.0, 0.0, 0.0, 0.0, 0.0, 0.0, 0.0, 0.0, 0.0, 0.0, 0.0, 0.0, 0.0, 0.0, 0.0, 0.0, 0.0, 0.0, 0.0, 0.0, 0.0], [0.015126884914934635, 0.0047311861999332905, 0.002322628628462553, 0.006575737614184618, 0.018362434580922127, 0.003339660819619894, 0.008784216828644276, 0.007409736514091492, 0.006289799697697163, 0.07638940960168839, 0.012003474868834019, 0.8386648297309875, 0.0, 0.0, 0.0, 0.0, 0.0, 0.0, 0.0, 0.0, 0.0, 0.0, 0.0, 0.0, 0.0, 0.0, 0.0, 0.0, 0.0, 0.0, 0.0, 0.0], [0.032331906259059906, 0.010628946125507355, 0.002615159610286355, 0.0011762910289689898, 0.003093280829489231, 0.0015055512776598334, 0.007079709321260452, 0.002834465354681015, 0.0050038802437484264, 0.012032578699290752, 0.003987771458923817, 0.051872365176677704, 0.8658381700515747, 0.0, 0.0, 0.0, 0.0, 0.0, 0.0, 0.0, 0.0, 0.0, 0.0, 0.0, 0.0, 0.0, 0.0, 0.0, 0.0, 0.0, 0.0, 0.0], [0.05045584589242935, 0.026538826525211334, 0.005783270578831434, 0.00808730162680149, 0.021799374371767044, 0.02567034773528576, 0.022779041901230812, 0.09139905869960785, 0.015017377212643623, 0.07093926519155502, 0.12448640167713165, 0.12668342888355255, 0.061021361500024796, 0.349339097738266, 0.0, 0.0, 0.0, 0.0, 0.0, 0.0, 0.0, 0.0, 0.0, 0.0, 0.0, 0.0, 0.0, 0.0, 0.0, 0.0, 0.0, 0.0], [0.05474124848842621, 0.052968449890613556, 0.0039881267584860325, 0.012351631186902523, 0.004415616393089294, 0.0035962779074907303, 0.011385717429220676, 0.009828059002757072, 0.014749746769666672, 0.07078826427459717, 0.011209186166524887, 0.051640577614307404, 0.19734394550323486, 0.027129266411066055, 0.4738638401031494, 0.0, 0.0, 0.0, 0.0, 0.0, 0.0, 0.0, 0.0, 0.0, 0.0, 0.0, 0.0, 0.0, 0.0, 0.0, 0.0, 0.0], [0.007163070607930422, 0.004963843617588282, 0.0027692236471921206, 0.0019424421479925513, 0.010544737800955772, 0.0014144869055598974, 0.0036636623553931713, 0.0031499480828642845, 0.0054812985472381115, 0.021614043042063713, 0.003922194708138704, 0.0793507918715477, 0.22477898001670837, 0.00916694663465023, 0.027402658015489578, 0.5926716923713684, 0.0, 0.0, 0.0, 0.0, 0.0, 0.0, 0.0, 0.0, 0.0, 0.0, 0.0, 0.0, 0.0, 0.0, 0.0, 0.0], [0.034611061215400696, 0.015296350233256817, 0.0030951257795095444, 0.0038990953471511602, 0.009989391081035137, 0.011446865275502205, 0.00918935239315033, 0.033565159887075424, 0.005761214531958103, 0.025581007823348045, 0.04384690523147583, 0.04521360993385315, 0.020553404465317726, 0.11962327361106873, 0.1567324995994568, 0.13173450529575348, 0.3298611640930176, 0.0, 0.0, 0.0, 0.0, 0.0, 0.0, 0.0, 0.0, 0.0, 0.0, 0.0, 0.0, 0.0, 0.0, 0.0], [0.017253877595067024, 0.004397530108690262, 0.004968690220266581, 0.007064320147037506, 0.006634893827140331, 0.006910952739417553, 0.011386897414922714, 0.016178512945771217, 0.02031777799129486, 0.020396821200847626, 0.023422114551067352, 0.0189091544598341, 0.04024207219481468, 0.062006764113903046, 0.1164536103606224, 0.07975111901760101, 0.16864465177059174, 0.37506017088890076, 0.0, 0.0, 0.0, 0.0, 0.0, 0.0, 0.0, 0.0, 0.0, 0.0, 0.0, 0.0, 0.0, 0.0], [0.002459116280078888, 0.0002491974155418575, 3.400466084713116e-05, 0.0002113294176524505, 0.00020066779688932002, 0.0001258924457943067, 0.0003650682047009468, 0.00037359780981205404, 0.00013798550935462117, 0.0004702211881522089, 0.0002715179871302098, 0.0034170816652476788, 0.0006049809162504971, 0.0005454604397527874, 0.0008937670500017703, 0.0015852133510634303, 0.0012150745606049895, 0.002821266883984208, 0.9840186238288879, 0.0, 0.0, 0.0, 0.0, 0.0, 0.0, 0.0, 0.0, 0.0, 0.0, 0.0, 0.0, 0.0], [0.0001528244756627828, 0.03892355412244797, 0.00047151974285952747, 0.00037318177055567503, 3.2717969588702545e-05, 1.0635582839313429e-05, 3.824579835054465e-06, 1.3244706678960938e-05, 6.418924022000283e-05, 2.7344320187694393e-05, 2.8319931516307406e-05, 0.0022295680828392506, 0.0013866377994418144, 7.163517875596881e-05, 0.0001402554044034332, 0.008246433921158314, 0.00019678579701576382, 0.00020546649466268718, 0.8976381421089172, 0.049783747643232346, 0.0, 0.0, 0.0, 0.0, 0.0, 0.0, 0.0, 0.0, 0.0, 0.0, 0.0, 0.0], [0.026458075270056725, 0.010410876013338566, 0.002133253961801529, 0.002456018468365073, 0.005542590748518705, 0.0059545692056417465, 0.0041958242654800415, 0.013451530598104, 0.002351947594434023, 0.009471961297094822, 0.015433432534337044, 0.01480497233569622, 0.006865769159048796, 0.037873122841119766, 0.047449350357055664, 0.045472826808691025, 0.10199166089296341, 0.08666393160820007, 0.06470181792974472, 0.10160758346319199, 0.39470890164375305, 0.0, 0.0, 0.0, 0.0, 0.0, 0.0, 0.0, 0.0, 0.0, 0.0, 0.0], [0.021157896146178246, 0.003548432607203722, 0.001744113746099174, 0.003509310306981206, 0.004201893694698811, 0.002577780745923519, 0.0040158540941774845, 0.0045989989303052425, 0.003955163061618805, 0.006455843802541494, 0.005907896440476179, 0.0037331662606447935, 0.009013410657644272, 0.013927980326116085, 0.02989579364657402, 0.020082324743270874, 0.03804437443614006, 0.0688309371471405, 0.08152896165847778, 0.0383402556180954, 0.151602640748024, 0.4833270013332367, 0.0, 0.0, 0.0, 0.0, 0.0, 0.0, 0.0, 0.0, 0.0, 0.0], [0.00142117019277066, 0.0004069015267305076, 0.00027144234627485275, 0.001486924011260271, 0.0006475154659710824, 0.0002567154879216105, 0.0002729763218667358, 0.0005059858085587621, 0.0001753750693751499, 0.0012059612199664116, 0.0005902901757508516, 0.0004307393392082304, 0.00036999653093516827, 0.0013322843005880713, 0.0007594277267344296, 0.002518309745937586, 0.0035999813117086887, 0.004756723064929247, 0.011892947368323803, 0.0034102164208889008, 0.013851114548742771, 0.05907333642244339, 0.8907636404037476, 0.0, 0.0, 0.0, 0.0, 0.0, 0.0, 0.0, 0.0, 0.0], [0.005058873910456896, 0.0008823556127026677, 0.0015358302043750882, 0.0016909911064431071, 0.0013438748428598046, 0.0004949714639224112, 0.000657225726172328, 0.0005521595594473183, 0.0005812103627249599, 0.002054563257843256, 0.0008380879298783839, 0.0010067503899335861, 0.0011300863698124886, 0.0016139945946633816, 0.005022876895964146, 0.014576890505850315, 0.0037143367808312178, 0.004681480582803488, 0.007913832552731037, 0.006778397597372532, 0.012291375547647476, 0.027733048424124718, 0.10214653611183167, 0.7957003712654114, 0.0, 0.0, 0.0, 0.0, 0.0, 0.0, 0.0, 0.0], [0.0040047005750238895, 0.00045769740245305, 0.0015645228559151292, 0.0031372075900435448, 0.001993746031075716, 0.0003789266338571906, 0.0004957783967256546, 0.0005698021268472075, 0.00100520730484277, 0.0023432262241840363, 0.0005772158619947731, 0.0016756155528128147, 0.0030787396244704723, 0.00122852623462677, 0.005278331693261862, 0.0063280570320785046, 0.0031517320312559605, 0.005319311283528805, 0.021383143961429596, 0.0061477068811655045, 0.012332236394286156, 0.07402168214321136, 0.12114027142524719, 0.561111330986023, 0.1612752228975296, 0.0, 0.0, 0.0, 0.0, 0.0, 0.0, 0.0], [0.0011286529479548335, 4.9889058573171496e-05, 4.129114677198231e-05, 9.249593858839944e-05, 5.513611904461868e-05, 3.8617217796854675e-05, 5.592021989286877e-05, 0.00014896252832841128, 5.5092091315600555e-06, 6.817426037741825e-05, 3.6204415664542466e-05, 4.6239569201134145e-05, 0.001065501244738698, 5.919874456594698e-05, 7.787245704093948e-05, 0.0003842118021566421, 0.0001169242532341741, 0.00022428194642998278, 0.0005083981086499989, 0.00015628105029463768, 0.00032331456895917654, 0.0007086822297424078, 0.0009207402472384274, 0.0008559702546335757, 0.004414443392306566, 0.9884169697761536, 0.0, 0.0, 0.0, 0.0, 0.0, 0.0], [0.002429968910291791, 0.0036596348509192467, 0.0006344973808154464, 0.0006202652002684772, 0.0029876732733100653, 0.00034763640724122524, 0.0005059160757809877, 0.0004114971379749477, 0.00021321576787158847, 0.0006509343511424959, 0.0003955695719923824, 0.16986434161663055, 0.002188899088650942, 0.0006812377832829952, 0.0008683748310431838, 0.008905132301151752, 0.0014638523571193218, 0.0013394580455496907, 0.006495134439319372, 0.007638715207576752, 0.004619400482624769, 0.0031617931090295315, 0.014200904406607151, 0.046396613121032715, 0.022786077111959457, 0.21939274668693542, 0.47714048624038696, 0.0, 0.0, 0.0, 0.0, 0.0], [0.015610341913998127, 0.0009648079867474735, 0.0010281832655891776, 0.007148525211960077, 0.005316651426255703, 0.0005432681646198034, 0.0007839884492568672, 0.00047082954552024603, 0.0022980354260653257, 0.005463095847517252, 0.0005483079003170133, 0.0008661499014124274, 0.0009035556577146053, 0.0009251968003809452, 0.008375932462513447, 0.001447813818231225, 0.002061492297798395, 0.0036933831870555878, 0.017008867114782333, 0.0061386763118207455, 0.00704190181568265, 0.04128708690404892, 0.06922481954097748, 0.2661718726158142, 0.050242144614458084, 0.11445144563913345, 0.13764896988868713, 0.2323346585035324, 0.0, 0.0, 0.0, 0.0], [0.00854403991252184, 0.0008902125991880894, 0.0015914177056401968, 0.0056281546130776405, 0.008105006068944931, 0.00030183946364559233, 0.0015709775034338236, 0.0005121517460793257, 0.0007854565628804266, 0.0024509779177606106, 0.00023962829436641186, 0.0008496224763803184, 0.0014182047452777624, 0.0003294848429504782, 0.0005108834011480212, 0.0022384701296687126, 0.0006205334211699665, 0.0006308057345449924, 0.0020217725541442633, 0.0004198973474558443, 0.0016544851241633296, 0.003507152432575822, 0.024007579311728477, 0.008444015868008137, 0.018684132024645805, 0.06301330775022507, 0.011441457085311413, 0.03544790297746658, 0.7941403985023499, 0.0, 0.0, 0.0], [0.004379563964903355, 0.0008889248711057007, 0.0014135390520095825, 0.0009991334518417716, 0.0003696845087688416, 0.00025987025583162904, 0.0006310262833721936, 0.0006343337008729577, 0.0002692147681955248, 0.0014322331408038735, 0.00017474022752139717, 0.001327235484495759, 0.0006274856859818101, 0.00023334262368734926, 0.00015288744179997593, 0.00033103450550697744, 0.0004293060046620667, 0.000833706115372479, 0.0020066408906131983, 0.000785939279012382, 0.0012340676039457321, 0.001775021431967616, 0.006833814550191164, 0.003564072772860527, 0.010902564972639084, 0.014503366313874722, 0.003893387271091342, 0.03193838894367218, 0.005426594987511635, 0.9017488360404968, 0.0, 0.0], [0.005683183670043945, 0.0014795288443565369, 6.48492350592278e-05, 0.0009826761670410633, 0.0005269341054372489, 0.00010429972462588921, 6.312080950010568e-05, 7.829088281141594e-05, 4.6613262384198606e-05, 0.0002502521383576095, 7.764383917674422e-05, 0.00015212107973638922, 0.00011109183105872944, 0.00011267093941569328, 0.0001717667910270393, 0.0005168701754882932, 0.00021688044944312423, 0.00017687902436591685, 0.003074110019952059, 0.00026803341461345553, 0.0006536537548527122, 0.0002269184187753126, 0.0025815845001488924, 0.0023513599298894405, 0.0013578693615272641, 0.019883781671524048, 0.0046586464159190655, 0.00458782771602273, 0.015608507208526134, 0.005589463748037815, 0.9283425211906433, 0.0], [0.008645746856927872, 0.0015155535656958818, 0.0016082045622169971, 0.0013237741077318788, 0.0015104637714102864, 0.0018233496230095625, 0.001336685148999095, 0.002014021622017026, 0.0011693757260218263, 0.0010362891480326653, 0.0012655885657295585, 0.0012329386081546545, 0.0007286658510565758, 0.001775269745849073, 0.001374365878291428, 0.001604694640263915, 0.003315274603664875, 0.006806144956499338, 0.004266594536602497, 0.0032057445496320724, 0.009817945770919323, 0.010620241053402424, 0.011438763700425625, 0.02307606115937233, 0.07134851813316345, 0.03172890469431877, 0.0377705879509449, 0.13541629910469055, 0.053814735263586044, 0.11316633224487305, 0.08732755482196808, 0.3669153153896332]], [[1.0, 0.0, 0.0, 0.0, 0.0, 0.0, 0.0, 0.0, 0.0, 0.0, 0.0, 0.0, 0.0, 0.0, 0.0, 0.0, 0.0, 0.0, 0.0, 0.0, 0.0, 0.0, 0.0, 0.0, 0.0, 0.0, 0.0, 0.0, 0.0, 0.0, 0.0, 0.0], [0.10520478338003159, 0.8947951793670654, 0.0, 0.0, 0.0, 0.0, 0.0, 0.0, 0.0, 0.0, 0.0, 0.0, 0.0, 0.0, 0.0, 0.0, 0.0, 0.0, 0.0, 0.0, 0.0, 0.0, 0.0, 0.0, 0.0, 0.0, 0.0, 0.0, 0.0, 0.0, 0.0, 0.0], [0.03907214477658272, 0.002017226302996278, 0.9589105248451233, 0.0, 0.0, 0.0, 0.0, 0.0, 0.0, 0.0, 0.0, 0.0, 0.0, 0.0, 0.0, 0.0, 0.0, 0.0, 0.0, 0.0, 0.0, 0.0, 0.0, 0.0, 0.0, 0.0, 0.0, 0.0, 0.0, 0.0, 0.0, 0.0], [0.01557860430330038, 0.000839252199511975, 0.0006979748723097146, 0.9828841686248779, 0.0, 0.0, 0.0, 0.0, 0.0, 0.0, 0.0, 0.0, 0.0, 0.0, 0.0, 0.0, 0.0, 0.0, 0.0, 0.0, 0.0, 0.0, 0.0, 0.0, 0.0, 0.0, 0.0, 0.0, 0.0, 0.0, 0.0, 0.0], [0.008856450207531452, 9.934287845680956e-06, 1.1174832252436318e-05, 0.0003024697070941329, 0.9908198714256287, 0.0, 0.0, 0.0, 0.0, 0.0, 0.0, 0.0, 0.0, 0.0, 0.0, 0.0, 0.0, 0.0, 0.0, 0.0, 0.0, 0.0, 0.0, 0.0, 0.0, 0.0, 0.0, 0.0, 0.0, 0.0, 0.0, 0.0], [0.35445013642311096, 0.03058929555118084, 0.059889595955610275, 0.022903524339199066, 0.047475866973400116, 0.4846915900707245, 0.0, 0.0, 0.0, 0.0, 0.0, 0.0, 0.0, 0.0, 0.0, 0.0, 0.0, 0.0, 0.0, 0.0, 0.0, 0.0, 0.0, 0.0, 0.0, 0.0, 0.0, 0.0, 0.0, 0.0, 0.0, 0.0], [0.04476909711956978, 0.0015664706006646156, 0.0003773854987230152, 0.00025073293363675475, 0.00040889749652706087, 0.0002606563502922654, 0.952366828918457, 0.0, 0.0, 0.0, 0.0, 0.0, 0.0, 0.0, 0.0, 0.0, 0.0, 0.0, 0.0, 0.0, 0.0, 0.0, 0.0, 0.0, 0.0, 0.0, 0.0, 0.0, 0.0, 0.0, 0.0, 0.0], [0.09058359265327454, 0.001147076371125877, 0.006027340888977051, 0.0005468474118970335, 0.0017094215145334601, 0.0037850833032280207, 0.0026845415122807026, 0.8935161232948303, 0.0, 0.0, 0.0, 0.0, 0.0, 0.0, 0.0, 0.0, 0.0, 0.0, 0.0, 0.0, 0.0, 0.0, 0.0, 0.0, 0.0, 0.0, 0.0, 0.0, 0.0, 0.0, 0.0, 0.0], [0.006010731682181358, 2.4289071006933227e-05, 0.0003126671945210546, 1.8682952941162512e-05, 0.0002979248820338398, 9.904525541060138e-06, 6.619548457820201e-06, 7.912199180282187e-07, 0.9933184385299683, 0.0, 0.0, 0.0, 0.0, 0.0, 0.0, 0.0, 0.0, 0.0, 0.0, 0.0, 0.0, 0.0, 0.0, 0.0, 0.0, 0.0, 0.0, 0.0, 0.0, 0.0, 0.0, 0.0], [0.004546814598143101, 0.00020019341900479048, 0.0002992021618410945, 0.001336395158432424, 0.0003267654974479228, 8.741358215047512e-07, 1.7415719412383623e-05, 2.7834167326545867e-07, 0.00029665185138583183, 0.9929754734039307, 0.0, 0.0, 0.0, 0.0, 0.0, 0.0, 0.0, 0.0, 0.0, 0.0, 0.0, 0.0, 0.0, 0.0, 0.0, 0.0, 0.0, 0.0, 0.0, 0.0, 0.0, 0.0], [0.12262563407421112, 0.023926574736833572, 0.038276489824056625, 0.016171954572200775, 0.03036622330546379, 0.2937592566013336, 0.10661347955465317, 0.0705995038151741, 0.04190005734562874, 0.017833098769187927, 0.23792769014835358, 0.0, 0.0, 0.0, 0.0, 0.0, 0.0, 0.0, 0.0, 0.0, 0.0, 0.0, 0.0, 0.0, 0.0, 0.0, 0.0, 0.0, 0.0, 0.0, 0.0, 0.0], [0.0008121058344841003, 0.00011546649329829961, 0.00013500907516572624, 5.5392873036907986e-05, 0.00013174142804928124, 1.002717681330978e-06, 1.3799090083921328e-06, 1.6001600045001396e-07, 1.8972989437315846e-06, 5.419655622063146e-07, 4.7530917868243705e-07, 0.9987448453903198, 0.0, 0.0, 0.0, 0.0, 0.0, 0.0, 0.0, 0.0, 0.0, 0.0, 0.0, 0.0, 0.0, 0.0, 0.0, 0.0, 0.0, 0.0, 0.0, 0.0], [0.0013333018869161606, 0.00010533037857385352, 0.0007669601473025978, 0.0009021887090057135, 3.570832632249221e-06, 8.120475172290753e-07, 1.4038076301403635e-07, 9.5612755046659e-08, 1.6865054703885107e-06, 2.9789011023240164e-05, 4.3813361116917804e-07, 1.196578750750632e-06, 0.9968544840812683, 0.0, 0.0, 0.0, 0.0, 0.0, 0.0, 0.0, 0.0, 0.0, 0.0, 0.0, 0.0, 0.0, 0.0, 0.0, 0.0, 0.0, 0.0, 0.0], [0.08159808069467545, 0.021388869732618332, 0.02887715771794319, 0.012675791047513485, 0.024931596592068672, 0.22996485233306885, 0.10401225835084915, 0.06472097337245941, 0.03460092470049858, 0.015198719687759876, 0.1856415718793869, 0.020528048276901245, 0.005003850441426039, 0.170857235789299, 0.0, 0.0, 0.0, 0.0, 0.0, 0.0, 0.0, 0.0, 0.0, 0.0, 0.0, 0.0, 0.0, 0.0, 0.0, 0.0, 0.0, 0.0], [0.0013488895492628217, 8.921221160562709e-05, 0.0006859967252239585, 0.0006963229971006513, 2.1248662960715592e-05, 3.763397558032011e-07, 6.226750315363461e-07, 4.3072290623058507e-07, 7.091887255228357e-06, 0.0013103713281452656, 1.6113781953208672e-07, 9.548772368361824e-07, 0.00016453623538836837, 1.1531970045552953e-07, 0.9956737160682678, 0.0, 0.0, 0.0, 0.0, 0.0, 0.0, 0.0, 0.0, 0.0, 0.0, 0.0, 0.0, 0.0, 0.0, 0.0, 0.0, 0.0], [0.001086749485693872, 0.00040724826976656914, 0.00010700311395339668, 0.0006782704731449485, 0.00011028484004782513, 1.3184225622353551e-07, 2.6602660341268347e-07, 4.619568017005804e-07, 8.409706424572505e-06, 0.0007784875924699008, 5.109440337491833e-08, 8.792069934315805e-07, 4.9342903366778046e-05, 3.4893165690164096e-08, 0.00011441177048254758, 0.9966580867767334, 0.0, 0.0, 0.0, 0.0, 0.0, 0.0, 0.0, 0.0, 0.0, 0.0, 0.0, 0.0, 0.0, 0.0, 0.0, 0.0], [0.05868089199066162, 0.018785754218697548, 0.024067308753728867, 0.011013138107955456, 0.021456371992826462, 0.1911057084798813, 0.09902719408273697, 0.06065867468714714, 0.030162712559103966, 0.01480190921574831, 0.15370334684848785, 0.016615157946944237, 0.004385380540043116, 0.14085333049297333, 0.01501498930156231, 0.005390206817537546, 0.13427795469760895, 0.0, 0.0, 0.0, 0.0, 0.0, 0.0, 0.0, 0.0, 0.0, 0.0, 0.0, 0.0, 0.0, 0.0, 0.0], [0.07323043793439865, 0.028374601155519485, 0.021058253943920135, 0.0076118833385407925, 0.010053586214780807, 0.06553950160741806, 0.1455976963043213, 0.08620844781398773, 0.010241265408694744, 0.007425741758197546, 0.045262694358825684, 0.006621458567678928, 0.0011621781159192324, 0.03923854976892471, 0.008256880566477776, 0.003065690165385604, 0.03612266108393669, 0.40492844581604004, 0.0, 0.0, 0.0, 0.0, 0.0, 0.0, 0.0, 0.0, 0.0, 0.0, 0.0, 0.0, 0.0, 0.0], [7.944516255520284e-05, 1.8382177131570643e-06, 3.713439511443539e-08, 1.5575336874462664e-05, 3.4723857424978632e-06, 1.3165122325631273e-09, 2.7038813854574073e-08, 1.7186685852266237e-08, 9.232280007154259e-08, 1.3506403774954379e-05, 4.4787887287789374e-10, 2.0416770496467507e-09, 5.542039360761919e-08, 3.063872489050823e-10, 4.2177236991847167e-07, 7.065894806146389e-06, 2.424439260462208e-10, 1.4397385506015326e-09, 0.9998784065246582, 0.0, 0.0, 0.0, 0.0, 0.0, 0.0, 0.0, 0.0, 0.0, 0.0, 0.0, 0.0, 0.0], [0.0029344907961785793, 0.0005883846315555274, 0.004250308498740196, 0.00402846559882164, 0.00011592944792937487, 4.3316217670508195e-06, 6.773899713152787e-06, 7.076461042743176e-05, 0.0002495267544873059, 0.0003159335465170443, 2.082437731587561e-06, 4.4092124880990013e-05, 0.0003044693439733237, 1.4702574162583915e-06, 0.00019761342264246196, 0.0013599267695099115, 1.2478651569836074e-06, 6.875187864352483e-06, 0.00019261109991930425, 0.9853246808052063, 0.0, 0.0, 0.0, 0.0, 0.0, 0.0, 0.0, 0.0, 0.0, 0.0, 0.0, 0.0], [0.04056532308459282, 0.017898332327604294, 0.020600972697138786, 0.009821100160479546, 0.01788281463086605, 0.15653997659683228, 0.09208222478628159, 0.056288253515958786, 0.026661330834031105, 0.01447127852588892, 0.12537631392478943, 0.01398676447570324, 0.003927926998585463, 0.11453618854284286, 0.01339537464082241, 0.004846666008234024, 0.10880251228809357, 0.04953397065401077, 0.005186406895518303, 0.004420871380716562, 0.1031753420829773, 0.0, 0.0, 0.0, 0.0, 0.0, 0.0, 0.0, 0.0, 0.0, 0.0, 0.0], [0.024536387994885445, 0.0031243404373526573, 0.0009699305519461632, 4.6315512008732185e-05, 0.0001343477633781731, 0.0006453943788073957, 0.011668863706290722, 0.0003271349996794015, 0.0004573045880533755, 2.397611751803197e-05, 0.00034454200067557395, 4.9964328354690224e-05, 2.575740472821053e-05, 0.0002821780217345804, 6.5253302636847366e-06, 4.981814072380075e-06, 0.00023554045765195042, 0.0002664511266630143, 2.531112841097638e-05, 2.976109135488514e-05, 0.0001880926574813202, 0.9566068649291992, 0.0, 0.0, 0.0, 0.0, 0.0, 0.0, 0.0, 0.0, 0.0, 0.0], [0.002075995085760951, 0.00014591759827453643, 5.289888576953672e-05, 4.218061803840101e-05, 4.738706047646701e-05, 4.142315503941063e-07, 0.00012964263441972435, 2.4250930437119678e-05, 1.8033974811260123e-06, 1.4839225741525297e-06, 1.4489940269868384e-07, 4.199924660497345e-06, 4.106825457483865e-08, 1.0260463056965818e-07, 8.285432500088064e-07, 5.781886898148514e-07, 7.695130221918589e-08, 6.669584706742171e-08, 6.472597306128591e-05, 1.5700842368460144e-06, 5.641820166601974e-08, 4.403023922350258e-06, 0.9974013566970825, 0.0, 0.0, 0.0, 0.0, 0.0, 0.0, 0.0, 0.0, 0.0], [0.0005159124848432839, 0.00011814653407782316, 3.2705673220334575e-05, 0.0002118876000167802, 4.5635333663085476e-05, 2.9248920441204973e-07, 3.057945605178247e-06, 7.60737606242401e-08, 0.000137536961119622, 0.0005283548380248249, 1.1576035774396587e-07, 4.028589046356501e-06, 2.0793006569874706e-06, 8.805442064385716e-08, 0.00010051696881419048, 4.431627894518897e-05, 6.963725240893837e-08, 9.3730577077622e-08, 3.3377746149199083e-05, 1.5888903362792917e-05, 5.610686315549174e-08, 7.052668138385343e-08, 9.38930497795809e-06, 0.9981963038444519, 0.0, 0.0, 0.0, 0.0, 0.0, 0.0, 0.0, 0.0], [0.06915231049060822, 0.014032112434506416, 0.005599099677056074, 0.0012576858280226588, 0.0008467999869026244, 0.009601172991096973, 0.008965780958533287, 0.05247693508863449, 0.0002502838906366378, 0.0009063857141882181, 0.005419908091425896, 0.0007309211068786681, 0.00019187935686204582, 0.0043965838849544525, 0.0059647164307534695, 0.0003558544267434627, 0.0038770181126892567, 0.009727220050990582, 0.0011023482074961066, 0.00036442879354581237, 0.0034139601048082113, 0.003052356420084834, 0.0056982496753335, 0.0002955732343252748, 0.7923204302787781, 0.0, 0.0, 0.0, 0.0, 0.0, 0.0, 0.0], [0.0010461538331583142, 1.9557141058612615e-05, 1.7358943296130747e-06, 3.103043491137214e-05, 2.7307931304676458e-05, 1.0180679410609628e-08, 4.815758529730374e-07, 1.7494231485670753e-07, 7.31240987761339e-08, 7.983060754668259e-07, 3.4643037327697357e-09, 4.9067134568758775e-06, 1.0718933651787665e-07, 2.3525483783259915e-09, 2.3834050466575718e-07, 1.3731321359955473e-06, 1.8288600633908914e-09, 6.247609984910696e-09, 9.208320989273489e-06, 1.6384241234845831e-06, 1.2523876380399201e-09, 8.271258122860559e-10, 8.45677095639985e-06, 3.1186705200525466e-06, 9.241404086424154e-09, 0.9988435506820679, 0.0, 0.0, 0.0, 0.0, 0.0, 0.0], [0.0010544934775680304, 0.000213732520933263, 0.00028157164342701435, 0.0011373371817171574, 0.00014783925144001842, 2.0068493995495373e-06, 4.831350452150218e-06, 3.482334477666882e-06, 5.100334874441614e-06, 0.0001242047146661207, 9.301500654146366e-07, 1.058260204445105e-05, 1.1688262929965276e-05, 7.077504164954007e-07, 0.003411591984331608, 0.00019905237422790378, 5.995606215947191e-07, 4.64303724356796e-07, 1.9585078916861676e-05, 0.00011087759776273742, 4.750048674395657e-07, 3.2808813443807594e-07, 4.535349944490008e-06, 5.161708759260364e-05, 3.2474733302478853e-07, 1.3071345165371895e-05, 0.9931888580322266, 0.0, 0.0, 0.0, 0.0, 0.0], [0.024200815707445145, 0.0028201346285641193, 0.004319304134696722, 0.0009108321974053979, 0.0017753972206264734, 0.0038099188823252916, 0.0029533286578953266, 0.016714802011847496, 0.0013931764988228679, 0.005003191065043211, 0.002276091370731592, 0.0005876421346329153, 0.00099016388412565, 0.0018066961783915758, 0.0031312424689531326, 0.00023389406851492822, 0.001608273945748806, 0.00991030316799879, 0.002853954443708062, 0.00020495158969424665, 0.0013712672516703606, 0.006919007282704115, 0.0010336589766666293, 0.00014528408064506948, 0.017489802092313766, 0.0004655314842239022, 0.0003024088800884783, 0.8847689032554626, 0.0, 0.0, 0.0, 0.0], [0.0008295297739095986, 7.637398994120304e-06, 5.193364359001862e-06, 2.8178064894746058e-05, 0.4140355587005615, 6.954418267923757e-07, 3.0998928650660673e-06, 7.157890422604396e-07, 0.0003057819267269224, 0.00015047870692797005, 3.223125020213047e-07, 9.708873403724283e-05, 1.668191487169679e-07, 2.402438497028925e-07, 4.642174644686747e-06, 1.6132116797962226e-05, 2.0344052131804347e-07, 1.381882412943014e-07, 2.3201242584036663e-05, 1.759537440193526e-06, 1.5576665646221954e-07, 5.4450435271746755e-08, 5.306701496010646e-07, 2.4199536710511893e-05, 2.8134628848874854e-08, 3.997279054601677e-05, 1.1348976840963587e-05, 8.246727389860098e-08, 0.5844129323959351, 0.0, 0.0, 0.0], [0.013736688531935215, 0.005325977224856615, 0.0004387815424706787, 0.00021357460354920477, 0.0002487269230186939, 2.5223671400453895e-06, 0.0006664773100055754, 1.675195380812511e-05, 9.223421511705965e-05, 3.2765565265435725e-05, 9.057281999957922e-07, 1.3451635823003016e-06, 5.13263057655422e-06, 6.396046501322417e-07, 5.641975803882815e-06, 0.00017608456255402416, 4.788649903275655e-07, 2.175075678678695e-06, 5.4106509196572006e-05, 2.7993044568574987e-05, 3.5551829569158144e-07, 1.2658987543545663e-05, 0.00041010876884683967, 1.632997373235412e-05, 9.142380577031872e-07, 0.0008830914739519358, 5.271447662380524e-06, 6.908616114742472e-07, 5.349030743673211e-06, 0.9776163101196289, 0.0, 0.0], [0.00037843501195311546, 2.0277773728594184e-05, 9.671710358816199e-06, 1.3830455827701371e-05, 2.5435385396122e-05, 3.0685857410617245e-08, 4.223108771839179e-05, 1.8500875853533216e-07, 7.097260095179081e-07, 1.087502141672303e-06, 1.2584207453869567e-08, 4.596864982886473e-06, 3.4963383654940117e-07, 9.453744453935542e-09, 1.7828001546149608e-06, 4.927912868879503e-06, 7.634222143337865e-09, 1.0229093128089062e-08, 4.1458675696048886e-05, 7.951905445224838e-07, 5.677732062281393e-09, 1.1132526367418905e-07, 1.49024663187447e-05, 9.132155355473515e-06, 6.05279693033367e-09, 1.663299190113321e-05, 3.036688212887384e-06, 7.2381718396741235e-09, 5.26649500898202e-07, 1.4801414636167465e-06, 0.9994082450866699, 0.0], [0.058667223900556564, 0.01767692156136036, 0.01639363542199135, 0.006790009327232838, 0.0230367761105299, 0.07348272949457169, 0.0755029022693634, 0.055288154631853104, 0.02662070468068123, 0.01255946047604084, 0.05531591176986694, 0.006888757459819317, 0.0052566262893378735, 0.049495767802000046, 0.008237247355282307, 0.0029102107509970665, 0.04619233310222626, 0.04726238176226616, 0.0027098827995359898, 0.006736088078469038, 0.042261626571416855, 0.048537541180849075, 0.02556575834751129, 0.025686513632535934, 0.026681046932935715, 0.011308480985462666, 0.005859903525561094, 0.03650177642703056, 0.008469244465231895, 0.025314340367913246, 0.002518386347219348, 0.1442716419696808]], [[1.0, 0.0, 0.0, 0.0, 0.0, 0.0, 0.0, 0.0, 0.0, 0.0, 0.0, 0.0, 0.0, 0.0, 0.0, 0.0, 0.0, 0.0, 0.0, 0.0, 0.0, 0.0, 0.0, 0.0, 0.0, 0.0, 0.0, 0.0, 0.0, 0.0, 0.0, 0.0], [0.9192656874656677, 0.08073429763317108, 0.0, 0.0, 0.0, 0.0, 0.0, 0.0, 0.0, 0.0, 0.0, 0.0, 0.0, 0.0, 0.0, 0.0, 0.0, 0.0, 0.0, 0.0, 0.0, 0.0, 0.0, 0.0, 0.0, 0.0, 0.0, 0.0, 0.0, 0.0, 0.0, 0.0], [0.4543737769126892, 0.42650434374809265, 0.11912185698747635, 0.0, 0.0, 0.0, 0.0, 0.0, 0.0, 0.0, 0.0, 0.0, 0.0, 0.0, 0.0, 0.0, 0.0, 0.0, 0.0, 0.0, 0.0, 0.0, 0.0, 0.0, 0.0, 0.0, 0.0, 0.0, 0.0, 0.0, 0.0, 0.0], [0.5267520546913147, 0.22321632504463196, 0.1242062970995903, 0.12582533061504364, 0.0, 0.0, 0.0, 0.0, 0.0, 0.0, 0.0, 0.0, 0.0, 0.0, 0.0, 0.0, 0.0, 0.0, 0.0, 0.0, 0.0, 0.0, 0.0, 0.0, 0.0, 0.0, 0.0, 0.0, 0.0, 0.0, 0.0, 0.0], [0.39034873247146606, 0.1709940880537033, 0.06872708350419998, 0.1837182492017746, 0.18621176481246948, 0.0, 0.0, 0.0, 0.0, 0.0, 0.0, 0.0, 0.0, 0.0, 0.0, 0.0, 0.0, 0.0, 0.0, 0.0, 0.0, 0.0, 0.0, 0.0, 0.0, 0.0, 0.0, 0.0, 0.0, 0.0, 0.0, 0.0], [0.19744230806827545, 0.2543684244155884, 0.14488451182842255, 0.18925857543945312, 0.20821939408779144, 0.0058267852291464806, 0.0, 0.0, 0.0, 0.0, 0.0, 0.0, 0.0, 0.0, 0.0, 0.0, 0.0, 0.0, 0.0, 0.0, 0.0, 0.0, 0.0, 0.0, 0.0, 0.0, 0.0, 0.0, 0.0, 0.0, 0.0, 0.0], [0.19473572075366974, 0.13241827487945557, 0.14391925930976868, 0.1512073427438736, 0.3002447485923767, 0.020584648475050926, 0.05688998103141785, 0.0, 0.0, 0.0, 0.0, 0.0, 0.0, 0.0, 0.0, 0.0, 0.0, 0.0, 0.0, 0.0, 0.0, 0.0, 0.0, 0.0, 0.0, 0.0, 0.0, 0.0, 0.0, 0.0, 0.0, 0.0], [0.1269666701555252, 0.21597377955913544, 0.16089323163032532, 0.1969882994890213, 0.18844623863697052, 0.013544932007789612, 0.07520708441734314, 0.02197970822453499, 0.0, 0.0, 0.0, 0.0, 0.0, 0.0, 0.0, 0.0, 0.0, 0.0, 0.0, 0.0, 0.0, 0.0, 0.0, 0.0, 0.0, 0.0, 0.0, 0.0, 0.0, 0.0, 0.0, 0.0], [0.2912123203277588, 0.05954226106405258, 0.1107940673828125, 0.09717852622270584, 0.22345612943172455, 0.01626257784664631, 0.08719443529844284, 0.024762287735939026, 0.08959738910198212, 0.0, 0.0, 0.0, 0.0, 0.0, 0.0, 0.0, 0.0, 0.0, 0.0, 0.0, 0.0, 0.0, 0.0, 0.0, 0.0, 0.0, 0.0, 0.0, 0.0, 0.0, 0.0, 0.0], [0.22981953620910645, 0.038026757538318634, 0.1601383537054062, 0.11780407279729843, 0.1618119776248932, 0.035528168082237244, 0.07561112195253372, 0.020756030455231667, 0.10670629888772964, 0.053797733038663864, 0.0, 0.0, 0.0, 0.0, 0.0, 0.0, 0.0, 0.0, 0.0, 0.0, 0.0, 0.0, 0.0, 0.0, 0.0, 0.0, 0.0, 0.0, 0.0, 0.0, 0.0, 0.0], [0.1331443190574646, 0.18858647346496582, 0.1080809086561203, 0.15994970500469208, 0.17739209532737732, 0.0035980192478746176, 0.02506210096180439, 0.012862933799624443, 0.07453103363513947, 0.11275243759155273, 0.00403998140245676, 0.0, 0.0, 0.0, 0.0, 0.0, 0.0, 0.0, 0.0, 0.0, 0.0, 0.0, 0.0, 0.0, 0.0, 0.0, 0.0, 0.0, 0.0, 0.0, 0.0, 0.0], [0.16746403276920319, 0.1435522437095642, 0.06118572875857353, 0.17358076572418213, 0.10113833844661713, 0.017553476616740227, 0.032395292073488235, 0.00799549650400877, 0.05453450232744217, 0.0788319930434227, 0.017258208245038986, 0.144509956240654, 0.0, 0.0, 0.0, 0.0, 0.0, 0.0, 0.0, 0.0, 0.0, 0.0, 0.0, 0.0, 0.0, 0.0, 0.0, 0.0, 0.0, 0.0, 0.0, 0.0], [0.26996830105781555, 0.13029064238071442, 0.06605684757232666, 0.06156143918633461, 0.08437128365039825, 0.019846616312861443, 0.016312774270772934, 0.012965919449925423, 0.03231465443968773, 0.05254793167114258, 0.01986861228942871, 0.1369563788175583, 0.0969386026263237, 0.0, 0.0, 0.0, 0.0, 0.0, 0.0, 0.0, 0.0, 0.0, 0.0, 0.0, 0.0, 0.0, 0.0, 0.0, 0.0, 0.0, 0.0, 0.0], [0.09820351749658585, 0.13618643581867218, 0.08005780726671219, 0.12152861058712006, 0.1357937753200531, 0.0024323563557118177, 0.01778949797153473, 0.009086484089493752, 0.05637530982494354, 0.08521634340286255, 0.0027533364482223988, 0.1520378738641739, 0.0994672179222107, 0.0030714021995663643, 0.0, 0.0, 0.0, 0.0, 0.0, 0.0, 0.0, 0.0, 0.0, 0.0, 0.0, 0.0, 0.0, 0.0, 0.0, 0.0, 0.0, 0.0], [0.1701289266347885, 0.08885713666677475, 0.09089686721563339, 0.08085789531469345, 0.11427342891693115, 0.01090148463845253, 0.014788423664867878, 0.005497369449585676, 0.05151258409023285, 0.053306858986616135, 0.010595816187560558, 0.09442280977964401, 0.13098113238811493, 0.011153687722980976, 0.07182560861110687, 0.0, 0.0, 0.0, 0.0, 0.0, 0.0, 0.0, 0.0, 0.0, 0.0, 0.0, 0.0, 0.0, 0.0, 0.0, 0.0, 0.0], [0.10365857183933258, 0.035885393619537354, 0.0880356878042221, 0.06087937578558922, 0.08348328620195389, 0.03080575168132782, 0.02961592748761177, 0.010918699204921722, 0.040499936789274216, 0.042886070907115936, 0.032192960381507874, 0.15008127689361572, 0.12658771872520447, 0.0349021814763546, 0.05825434625148773, 0.07131282240152359, 0.0, 0.0, 0.0, 0.0, 0.0, 0.0, 0.0, 0.0, 0.0, 0.0, 0.0, 0.0, 0.0, 0.0, 0.0, 0.0], [0.07047093659639359, 0.09600997716188431, 0.05621574446558952, 0.086998850107193, 0.0993412435054779, 0.0016298803966492414, 0.012408615089952946, 0.0063804322853684425, 0.04101404920220375, 0.06348714232444763, 0.0018482195446267724, 0.11387650668621063, 0.07328977435827255, 0.0020712940022349358, 0.07246170938014984, 0.20012781023979187, 0.0023677763529121876, 0.0, 0.0, 0.0, 0.0, 0.0, 0.0, 0.0, 0.0, 0.0, 0.0, 0.0, 0.0, 0.0, 0.0, 0.0], [0.056594423949718475, 0.08906207233667374, 0.047032393515110016, 0.09457871317863464, 0.08793888241052628, 0.0019721684511750937, 0.01776769571006298, 0.0059904358349740505, 0.06014861911535263, 0.08834965527057648, 0.0022637667134404182, 0.1046152412891388, 0.0607936792075634, 0.002556624822318554, 0.07818625867366791, 0.19496028125286102, 0.0029299885500222445, 0.004259060602635145, 0.0, 0.0, 0.0, 0.0, 0.0, 0.0, 0.0, 0.0, 0.0, 0.0, 0.0, 0.0, 0.0, 0.0], [0.15970629453659058, 0.026096446439623833, 0.04515179619193077, 0.0349758081138134, 0.08030678331851959, 0.054690342396497726, 0.04078543931245804, 0.026513032615184784, 0.027251925319433212, 0.039198167622089386, 0.053514331579208374, 0.0484292134642601, 0.06264263391494751, 0.05558209866285324, 0.05559663474559784, 0.04792961850762367, 0.05676323175430298, 0.04892298951745033, 0.03594321385025978, 0.0, 0.0, 0.0, 0.0, 0.0, 0.0, 0.0, 0.0, 0.0, 0.0, 0.0, 0.0, 0.0], [0.086631178855896, 0.09557434171438217, 0.03673813119530678, 0.06946708261966705, 0.056814614683389664, 0.008190215565264225, 0.02219584211707115, 0.007642833050340414, 0.03146827593445778, 0.07555205374956131, 0.008965271525084972, 0.05263477936387062, 0.044911064207553864, 0.009935061447322369, 0.044813793152570724, 0.15198470652103424, 0.010933410376310349, 0.007993677631020546, 0.16402563452720642, 0.013528102077543736, 0.0, 0.0, 0.0, 0.0, 0.0, 0.0, 0.0, 0.0, 0.0, 0.0, 0.0, 0.0], [0.04783453419804573, 0.06669352948665619, 0.037989165633916855, 0.06040368229150772, 0.06899043172597885, 0.0010267298202961683, 0.008172680623829365, 0.004158170893788338, 0.028268294408917427, 0.04407238960266113, 0.0011586463078856468, 0.07832914590835571, 0.050828997045755386, 0.001300496980547905, 0.04904297739267349, 0.14145006239414215, 0.0014934322098270059, 0.002556684659793973, 0.17534081637859344, 0.12910209596157074, 0.0017870557494461536, 0.0, 0.0, 0.0, 0.0, 0.0, 0.0, 0.0, 0.0, 0.0, 0.0, 0.0], [0.04114089906215668, 0.04766073822975159, 0.03586997836828232, 0.06666103005409241, 0.07969275116920471, 0.002365078078582883, 0.020340200513601303, 0.0048544928431510925, 0.0643620640039444, 0.06737151741981506, 0.0027073686942458153, 0.055960532277822495, 0.05648665875196457, 0.00307672331109643, 0.053543850779533386, 0.151659294962883, 0.0035397119354456663, 0.004673933144658804, 0.16402718424797058, 0.05968153849244118, 0.004154941998422146, 0.010169516317546368, 0.0, 0.0, 0.0, 0.0, 0.0, 0.0, 0.0, 0.0, 0.0, 0.0], [0.0662880688905716, 0.04092540591955185, 0.027322683483362198, 0.045053672045469284, 0.06575217843055725, 0.015657557174563408, 0.027881890535354614, 0.013711261563003063, 0.03174295276403427, 0.052807457745075226, 0.015447773970663548, 0.03218112140893936, 0.03290104866027832, 0.016298862174153328, 0.02663663774728775, 0.09772852063179016, 0.017114192247390747, 0.0169194508343935, 0.09847066551446915, 0.04787908494472504, 0.01841254159808159, 0.015331599861383438, 0.17753534018993378, 0.0, 0.0, 0.0, 0.0, 0.0, 0.0, 0.0, 0.0, 0.0], [0.09801431000232697, 0.026328807696700096, 0.03586813807487488, 0.05713058263063431, 0.06943877041339874, 0.01212895568460226, 0.020909078419208527, 0.008747956715524197, 0.02699965611100197, 0.03726676106452942, 0.011716345325112343, 0.08499536663293839, 0.05501333996653557, 0.012196715921163559, 0.035639096051454544, 0.08789660781621933, 0.012970094569027424, 0.010851013474166393, 0.06408387422561646, 0.05963919684290886, 0.014492177404463291, 0.006093733478337526, 0.09761440753936768, 0.05396497622132301, 0.0, 0.0, 0.0, 0.0, 0.0, 0.0, 0.0, 0.0], [0.027693243697285652, 0.04073769226670265, 0.03122355043888092, 0.05879037827253342, 0.056018270552158356, 0.0015714799519628286, 0.011908041313290596, 0.0033397916704416275, 0.05176551267504692, 0.05291244387626648, 0.0018259832868352532, 0.06030035763978958, 0.028357163071632385, 0.0020878107752650976, 0.0508648045361042, 0.07898835837841034, 0.0023987051099538803, 0.002904824446886778, 0.11135729402303696, 0.045860178768634796, 0.002884918125346303, 0.011431248858571053, 0.1234055608510971, 0.134884774684906, 0.006487558130174875, 0.0, 0.0, 0.0, 0.0, 0.0, 0.0, 0.0], [0.15390776097774506, 0.023786790668964386, 0.05320245772600174, 0.039638858288526535, 0.05711064115166664, 0.01562894508242607, 0.020206067711114883, 0.009252363815903664, 0.021311858668923378, 0.02902994491159916, 0.01474190317094326, 0.061238352209329605, 0.10112593322992325, 0.01515782531350851, 0.04335401579737663, 0.04090718924999237, 0.0157326590269804, 0.020073408260941505, 0.053749341517686844, 0.03468615934252739, 0.01698937639594078, 0.006368496920913458, 0.04042016714811325, 0.03106040135025978, 0.013937164098024368, 0.06738190352916718, 0.0, 0.0, 0.0, 0.0, 0.0, 0.0], [0.08555092662572861, 0.03505740687251091, 0.05885257199406624, 0.03497907519340515, 0.05178743600845337, 0.002511991886422038, 0.00415121391415596, 0.002085916232317686, 0.014081125147640705, 0.024491354823112488, 0.0023760085459798574, 0.0953511968255043, 0.07766132801771164, 0.0024908799678087234, 0.04572674632072449, 0.05774117633700371, 0.0026603778824210167, 0.003347757738083601, 0.04799826443195343, 0.026788823306560516, 0.002958715194836259, 0.004655787255614996, 0.03607100993394852, 0.02159919962286949, 0.0047886366955935955, 0.22052206099033356, 0.033713046461343765, 0.0, 0.0, 0.0, 0.0, 0.0], [0.020706716924905777, 0.037194062024354935, 0.019723720848560333, 0.03894222900271416, 0.03182702511548996, 0.0012253696331754327, 0.008815758861601353, 0.002405293518677354, 0.034579552710056305, 0.04729805886745453, 0.0013953748857602477, 0.051482077687978745, 0.0204867422580719, 0.0015608390094712377, 0.038261186331510544, 0.048637546598911285, 0.0017825281247496605, 0.002544607501477003, 0.06541348993778229, 0.0418856106698513, 0.0020960592664778233, 0.009401382878422737, 0.0846002921462059, 0.09019991010427475, 0.0054032765328884125, 0.22932568192481995, 0.05692269280552864, 0.005882921162992716, 0.0, 0.0, 0.0, 0.0], [0.055397577583789825, 0.03665085881948471, 0.02030247263610363, 0.05756698548793793, 0.0779888704419136, 0.004575831349939108, 0.0108407624065876, 0.0024821332190185785, 0.01713036559522152, 0.026362085714936256, 0.004433735739439726, 0.06021754816174507, 0.033486008644104004, 0.004596547689288855, 0.032914143055677414, 0.0612197071313858, 0.004866480361670256, 0.004893240053206682, 0.07400593161582947, 0.019660383462905884, 0.005268716253340244, 0.005543496459722519, 0.03909437730908394, 0.04364989697933197, 0.004374220035970211, 0.14043600857257843, 0.05516648665070534, 0.004064199980348349, 0.09281095117330551, 0.0, 0.0, 0.0], [0.04892290011048317, 0.03036428801715374, 0.027890224009752274, 0.036801934242248535, 0.06342250108718872, 0.0036240534391254187, 0.011517493054270744, 0.0034355514217168093, 0.023318776860833168, 0.04243612661957741, 0.003448790404945612, 0.03459889069199562, 0.028532307595014572, 0.0035154451616108418, 0.024643050506711006, 0.05132957175374031, 0.0037061870098114014, 0.0038288712967187166, 0.05860355496406555, 0.03081808052957058, 0.003995445091277361, 0.00592883350327611, 0.07464650273323059, 0.07242627441883087, 0.0049670846201479435, 0.11462748050689697, 0.03571029379963875, 0.00631460826843977, 0.08997327834367752, 0.05665166303515434, 0.0, 0.0], [0.18642421066761017, 0.02003358118236065, 0.02831118181347847, 0.02999946102499962, 0.04218456149101257, 0.018589191138744354, 0.010674073360860348, 0.008542276918888092, 0.015645217150449753, 0.022232187911868095, 0.01747898757457733, 0.03891272470355034, 0.036947011947631836, 0.018115093931555748, 0.026357369497418404, 0.04078725725412369, 0.01903177797794342, 0.012923447415232658, 0.05239289626479149, 0.019692011177539825, 0.020696567371487617, 0.0036086547188460827, 0.026464808732271194, 0.018761172890663147, 0.011966719292104244, 0.03380156680941582, 0.03577238321304321, 0.012341851368546486, 0.05728723481297493, 0.034365542232990265, 0.07965901494026184, 0.0], [0.018776051700115204, 0.02518048696219921, 0.00979706272482872, 0.020815521478652954, 0.02078891359269619, 0.0003043864562641829, 0.002490321872755885, 0.0008762903162278235, 0.00802832841873169, 0.013438106514513493, 0.0003128328826278448, 0.018258491531014442, 0.011684514582157135, 0.00033418615930713713, 0.011871473863720894, 0.05329081788659096, 0.0003701900423038751, 0.00048497971147298813, 0.0684875100851059, 0.11865238845348358, 0.00043932488188147545, 0.0021937217097729445, 0.05880357325077057, 0.03330330178141594, 0.001303391414694488, 0.20416715741157532, 0.018073175102472305, 0.0016547810519114137, 0.040009886026382446, 0.06698586046695709, 0.16828492283821106, 0.0005379331414587796]], [[1.0, 0.0, 0.0, 0.0, 0.0, 0.0, 0.0, 0.0, 0.0, 0.0, 0.0, 0.0, 0.0, 0.0, 0.0, 0.0, 0.0, 0.0, 0.0, 0.0, 0.0, 0.0, 0.0, 0.0, 0.0, 0.0, 0.0, 0.0, 0.0, 0.0, 0.0, 0.0], [0.9333657622337341, 0.06663428246974945, 0.0, 0.0, 0.0, 0.0, 0.0, 0.0, 0.0, 0.0, 0.0, 0.0, 0.0, 0.0, 0.0, 0.0, 0.0, 0.0, 0.0, 0.0, 0.0, 0.0, 0.0, 0.0, 0.0, 0.0, 0.0, 0.0, 0.0, 0.0, 0.0, 0.0], [0.32452332973480225, 0.5923720598220825, 0.08310458064079285, 0.0, 0.0, 0.0, 0.0, 0.0, 0.0, 0.0, 0.0, 0.0, 0.0, 0.0, 0.0, 0.0, 0.0, 0.0, 0.0, 0.0, 0.0, 0.0, 0.0, 0.0, 0.0, 0.0, 0.0, 0.0, 0.0, 0.0, 0.0, 0.0], [0.14159752428531647, 0.514380931854248, 0.281441330909729, 0.0625801831483841, 0.0, 0.0, 0.0, 0.0, 0.0, 0.0, 0.0, 0.0, 0.0, 0.0, 0.0, 0.0, 0.0, 0.0, 0.0, 0.0, 0.0, 0.0, 0.0, 0.0, 0.0, 0.0, 0.0, 0.0, 0.0, 0.0, 0.0, 0.0], [0.2526226043701172, 0.05834057554602623, 0.10458872467279434, 0.4411160945892334, 0.14333193004131317, 0.0, 0.0, 0.0, 0.0, 0.0, 0.0, 0.0, 0.0, 0.0, 0.0, 0.0, 0.0, 0.0, 0.0, 0.0, 0.0, 0.0, 0.0, 0.0, 0.0, 0.0, 0.0, 0.0, 0.0, 0.0, 0.0, 0.0], [0.18051564693450928, 0.09828917682170868, 0.10873955488204956, 0.12262706458568573, 0.0999554768204689, 0.3898731470108032, 0.0, 0.0, 0.0, 0.0, 0.0, 0.0, 0.0, 0.0, 0.0, 0.0, 0.0, 0.0, 0.0, 0.0, 0.0, 0.0, 0.0, 0.0, 0.0, 0.0, 0.0, 0.0, 0.0, 0.0, 0.0, 0.0], [0.1719229817390442, 0.02332097291946411, 0.12332706898450851, 0.06076503545045853, 0.05971720069646835, 0.34759166836738586, 0.21335501968860626, 0.0, 0.0, 0.0, 0.0, 0.0, 0.0, 0.0, 0.0, 0.0, 0.0, 0.0, 0.0, 0.0, 0.0, 0.0, 0.0, 0.0, 0.0, 0.0, 0.0, 0.0, 0.0, 0.0, 0.0, 0.0], [0.09627041220664978, 0.04683614894747734, 0.028257329016923904, 0.0323924757540226, 0.05865046754479408, 0.15829353034496307, 0.30996477603912354, 0.2693348824977875, 0.0, 0.0, 0.0, 0.0, 0.0, 0.0, 0.0, 0.0, 0.0, 0.0, 0.0, 0.0, 0.0, 0.0, 0.0, 0.0, 0.0, 0.0, 0.0, 0.0, 0.0, 0.0, 0.0, 0.0], [0.0994824469089508, 0.06464183330535889, 0.028671840205788612, 0.07305676490068436, 0.029787180945277214, 0.13960027694702148, 0.20754718780517578, 0.26580193638801575, 0.09141053259372711, 0.0, 0.0, 0.0, 0.0, 0.0, 0.0, 0.0, 0.0, 0.0, 0.0, 0.0, 0.0, 0.0, 0.0, 0.0, 0.0, 0.0, 0.0, 0.0, 0.0, 0.0, 0.0, 0.0], [0.05632041394710541, 0.029885856434702873, 0.0134199233725667, 0.002407552907243371, 0.013245499692857265, 0.04564540833234787, 0.055225733667612076, 0.10027095675468445, 0.6579985022544861, 0.025580089539289474, 0.0, 0.0, 0.0, 0.0, 0.0, 0.0, 0.0, 0.0, 0.0, 0.0, 0.0, 0.0, 0.0, 0.0, 0.0, 0.0, 0.0, 0.0, 0.0, 0.0, 0.0, 0.0], [0.04266997426748276, 0.0104264747351408, 0.010652204044163227, 0.01344664953649044, 0.00935315154492855, 0.040159765630960464, 0.07105178385972977, 0.1373765915632248, 0.1042325422167778, 0.2173663079738617, 0.34326449036598206, 0.0, 0.0, 0.0, 0.0, 0.0, 0.0, 0.0, 0.0, 0.0, 0.0, 0.0, 0.0, 0.0, 0.0, 0.0, 0.0, 0.0, 0.0, 0.0, 0.0, 0.0], [0.029683882370591164, 0.002561640227213502, 0.0044074831530451775, 0.03424873575568199, 0.014238720759749413, 0.028001857921481133, 0.022288024425506592, 0.07105960696935654, 0.04026230797171593, 0.5543043613433838, 0.1733303964138031, 0.02561297081410885, 0.0, 0.0, 0.0, 0.0, 0.0, 0.0, 0.0, 0.0, 0.0, 0.0, 0.0, 0.0, 0.0, 0.0, 0.0, 0.0, 0.0, 0.0, 0.0, 0.0], [0.040395889431238174, 0.00863158330321312, 0.0054942285642027855, 0.0038641446735709906, 0.023363105952739716, 0.02720700390636921, 0.025677332654595375, 0.05048519745469093, 0.05105609819293022, 0.050417788326740265, 0.14164340496063232, 0.5115285515785217, 0.06023566797375679, 0.0, 0.0, 0.0, 0.0, 0.0, 0.0, 0.0, 0.0, 0.0, 0.0, 0.0, 0.0, 0.0, 0.0, 0.0, 0.0, 0.0, 0.0, 0.0], [0.028706412762403488, 0.0048084622249007225, 0.004723652265965939, 0.00538260443136096, 0.003456047736108303, 0.014470180496573448, 0.024037372320890427, 0.041626255959272385, 0.03567292168736458, 0.07060740143060684, 0.10831000655889511, 0.05811610445380211, 0.20621226727962494, 0.39387035369873047, 0.0, 0.0, 0.0, 0.0, 0.0, 0.0, 0.0, 0.0, 0.0, 0.0, 0.0, 0.0, 0.0, 0.0, 0.0, 0.0, 0.0, 0.0], [0.05342650040984154, 0.01192329078912735, 0.0155722601339221, 0.0021123273763805628, 0.005851041991263628, 0.022170934826135635, 0.03818469122052193, 0.027411581948399544, 0.054642897099256516, 0.0491083562374115, 0.12328369915485382, 0.05287175625562668, 0.07545658200979233, 0.37015292048454285, 0.09783118963241577, 0.0, 0.0, 0.0, 0.0, 0.0, 0.0, 0.0, 0.0, 0.0, 0.0, 0.0, 0.0, 0.0, 0.0, 0.0, 0.0, 0.0], [0.008346712216734886, 0.0002785271208267659, 0.0011786009417846799, 0.002139550633728504, 0.0024761699605733156, 0.00291828834451735, 0.004576899576932192, 0.003965598996728659, 0.0049730222672224045, 0.011347777210175991, 0.01301406230777502, 0.0055459714494645596, 0.020895596593618393, 0.03838537260890007, 0.8750316500663757, 0.004926192108541727, 0.0, 0.0, 0.0, 0.0, 0.0, 0.0, 0.0, 0.0, 0.0, 0.0, 0.0, 0.0, 0.0, 0.0, 0.0, 0.0], [0.021700309589505196, 0.002678662771359086, 0.002383924787864089, 0.002815625164657831, 0.0015562325716018677, 0.006139407400041819, 0.009039799682796001, 0.013740872964262962, 0.01241218764334917, 0.024686548858880997, 0.03406902775168419, 0.01756146550178528, 0.06082955747842789, 0.12004043906927109, 0.11516811698675156, 0.12663690745830536, 0.4285408854484558, 0.0, 0.0, 0.0, 0.0, 0.0, 0.0, 0.0, 0.0, 0.0, 0.0, 0.0, 0.0, 0.0, 0.0, 0.0], [0.01968141458928585, 0.0028661908581852913, 0.002752868691459298, 0.0023642026353627443, 0.002220575697720051, 0.004776973742991686, 0.0050153909251093864, 0.007020773831754923, 0.006603007670491934, 0.015824876725673676, 0.021779129281640053, 0.02237587794661522, 0.03905551880598068, 0.07342633605003357, 0.07227569818496704, 0.08103639632463455, 0.2556319832801819, 0.36529284715652466, 0.0, 0.0, 0.0, 0.0, 0.0, 0.0, 0.0, 0.0, 0.0, 0.0, 0.0, 0.0, 0.0, 0.0], [0.034438688308000565, 0.0024295090697705746, 0.0027038822881877422, 0.0010108922142535448, 0.0028212405741214752, 0.009310656227171421, 0.007474066223949194, 0.01052639540284872, 0.01934259571135044, 0.006583389360457659, 0.03052528388798237, 0.008166549727320671, 0.023945670574903488, 0.08047977834939957, 0.04428935423493385, 0.04886513948440552, 0.23266324400901794, 0.38709723949432373, 0.04732643812894821, 0.0, 0.0, 0.0, 0.0, 0.0, 0.0, 0.0, 0.0, 0.0, 0.0, 0.0, 0.0, 0.0], [0.0036976863630115986, 0.00645097391679883, 0.000492172664962709, 0.00030696013709530234, 0.0001240077253896743, 0.001072736456990242, 0.0008858811343088746, 0.001380636473186314, 0.0008200191077776253, 0.0002731186104938388, 0.0027830637991428375, 0.035294219851493835, 0.003561375429853797, 0.007148314267396927, 0.0016474082367494702, 0.016731683164834976, 0.01917284168303013, 0.022339239716529846, 0.8733667135238647, 0.002450965577736497, 0.0, 0.0, 0.0, 0.0, 0.0, 0.0, 0.0, 0.0, 0.0, 0.0, 0.0, 0.0], [0.013628785498440266, 0.0014384434325620532, 0.0012188610853627324, 0.0012915857369080186, 0.0006118032615631819, 0.0021400372497737408, 0.002746958052739501, 0.0033360461238771677, 0.0030918712727725506, 0.005988909862935543, 0.007237222045660019, 0.0035477392375469208, 0.012891956605017185, 0.02222912758588791, 0.0208242516964674, 0.026295313611626625, 0.07648169994354248, 0.16261455416679382, 0.12638668715953827, 0.10034436732530594, 0.4056536853313446, 0.0, 0.0, 0.0, 0.0, 0.0, 0.0, 0.0, 0.0, 0.0, 0.0, 0.0], [0.021432971581816673, 0.000729164807125926, 0.001088967896066606, 0.0008559633861295879, 0.001055662170983851, 0.002354248659685254, 0.0018633322324603796, 0.00248699146322906, 0.004011370707303286, 0.0036456258967518806, 0.006636617239564657, 0.0024591656401753426, 0.008106650784611702, 0.01950138807296753, 0.013945509679615498, 0.016831614077091217, 0.06727860122919083, 0.10203751176595688, 0.07506182789802551, 0.0378551185131073, 0.34741535782814026, 0.26334628462791443, 0.0, 0.0, 0.0, 0.0, 0.0, 0.0, 0.0, 0.0, 0.0, 0.0], [0.018374433740973473, 0.0016340152360498905, 0.00026486601564101875, 0.0006277092616073787, 0.0007212890195660293, 0.0022947113029658794, 0.0014375768369063735, 0.0024335705675184727, 0.0010225045261904597, 0.00217309664003551, 0.005665975157171488, 0.0005857067881152034, 0.004730310756713152, 0.01578960381448269, 0.009121074341237545, 0.006447893101722002, 0.049651868641376495, 0.07221096754074097, 0.04530424624681473, 0.022536251693964005, 0.2338050901889801, 0.2810094356536865, 0.22215773165225983, 0.0, 0.0, 0.0, 0.0, 0.0, 0.0, 0.0, 0.0, 0.0], [0.016010291874408722, 0.00041907731792889535, 0.0016793174436315894, 0.002033166354522109, 0.0011126053286716342, 0.00230412557721138, 0.0016414896817877889, 0.0020452276803553104, 0.0008826438570395112, 0.003531818278133869, 0.00466075399890542, 0.0011461270041763783, 0.0040252855978906155, 0.011729465797543526, 0.006906015798449516, 0.005978985223919153, 0.03413614258170128, 0.05391992628574371, 0.0753692016005516, 0.015544161200523376, 0.15307290852069855, 0.21672490239143372, 0.2326732575893402, 0.15245302021503448, 0.0, 0.0, 0.0, 0.0, 0.0, 0.0, 0.0, 0.0], [0.01641550473868847, 0.0010880997870117426, 0.0013026996748521924, 0.0012335642240941525, 0.0010325241601094604, 0.0013605293352156878, 0.0011352731380611658, 0.000971319037489593, 0.0017580232815816998, 0.0023549958132207394, 0.002267796779051423, 0.0026170050259679556, 0.0032849654089659452, 0.005564439110457897, 0.00728773744776845, 0.006582663394510746, 0.016911087557673454, 0.02334815263748169, 0.03336378559470177, 0.012060858309268951, 0.08410519361495972, 0.10776978731155396, 0.12741301953792572, 0.25009599328041077, 0.2886750102043152, 0.0, 0.0, 0.0, 0.0, 0.0, 0.0, 0.0], [0.03111773170530796, 0.0015063057653605938, 0.0010839306050911546, 0.002421522280201316, 0.0013826864305883646, 0.0037937217857688665, 0.0016339282738044858, 0.0031195180490612984, 0.001281262026168406, 0.002068521687760949, 0.004760111682116985, 0.0008757297182455659, 0.008592109195888042, 0.00935363955795765, 0.011993245221674442, 0.005962997209280729, 0.02202816680073738, 0.034113284200429916, 0.0095867570489645, 0.013681823387742043, 0.08417056500911713, 0.08917813748121262, 0.10806845873594284, 0.15560778975486755, 0.3723685145378113, 0.02024948224425316, 0.0, 0.0, 0.0, 0.0, 0.0, 0.0], [0.014838481321930885, 0.0005757321487180889, 0.004743659868836403, 0.00045677402522414923, 0.0007412279373966157, 0.001500000711530447, 0.0008866076241247356, 0.000845208065584302, 0.00010359266889281571, 0.0009065152844414115, 0.0018096809508278966, 0.06029108166694641, 0.0015377587405964732, 0.003307938575744629, 0.0013713679509237409, 0.002082676626741886, 0.00864399690181017, 0.009088875725865364, 0.007760968059301376, 0.005808334797620773, 0.033865127712488174, 0.039871860295534134, 0.05374550446867943, 0.036947738379240036, 0.12259436398744583, 0.5718705654144287, 0.013804459013044834, 0.0, 0.0, 0.0, 0.0, 0.0], [0.01857002265751362, 0.0012143172789365053, 0.0012880427530035377, 0.0010612563928589225, 0.0007490058778785169, 0.0010485633974894881, 0.0008687881636433303, 0.0005973867955617607, 0.0012938290601596236, 0.0014042521361261606, 0.0011055102804675698, 0.0005003454280085862, 0.00202626152895391, 0.0021463113371282816, 0.0028737939428538084, 0.002641375409439206, 0.005802985746413469, 0.008191368542611599, 0.008339084684848785, 0.005543307866901159, 0.02655869722366333, 0.03308921307325363, 0.03250737860798836, 0.09199857711791992, 0.10410473495721817, 0.16861791908740997, 0.20895422995090485, 0.26690343022346497, 0.0, 0.0, 0.0, 0.0], [0.019618062302470207, 0.0005616440903395414, 0.002283309819176793, 0.0038792698178440332, 0.000393276393879205, 0.0020824032835662365, 0.0011265103239566088, 0.0011135549284517765, 0.0003212431911379099, 0.002075473079457879, 0.0018193530850112438, 0.0015515043633058667, 0.0016940671484917402, 0.003178145969286561, 0.0023290393874049187, 0.00427100108936429, 0.00746453832834959, 0.010954558849334717, 0.01160613726824522, 0.005686985794454813, 0.029513446614146233, 0.04633957892656326, 0.03209945186972618, 0.015939662232995033, 0.1266566812992096, 0.10855869948863983, 0.1062132716178894, 0.3671901226043701, 0.08347905427217484, 0.0, 0.0, 0.0], [0.025506602600216866, 0.0010556582128629088, 0.0034903730265796185, 0.000943023303989321, 0.0004663823056034744, 0.0021253598388284445, 0.0007110069855116308, 0.0010209581814706326, 0.001575167989358306, 0.0008034368511289358, 0.0016305850585922599, 0.0007223532302305102, 0.0004463180375751108, 0.0028181103989481926, 0.0014525949954986572, 0.0074285706505179405, 0.00655343709513545, 0.007434762082993984, 0.0024997915606945753, 0.0018859126139432192, 0.025142276659607887, 0.02508971281349659, 0.03454170003533363, 0.07369090616703033, 0.09041044116020203, 0.07036522030830383, 0.15289612114429474, 0.25995829701423645, 0.08188364654779434, 0.11545126885175705, 0.0, 0.0], [0.027800336480140686, 0.003810515394434333, 0.0012122890911996365, 0.002080898266285658, 0.0003851419605780393, 0.0021118472795933485, 0.0017067091539502144, 0.0010161078535020351, 0.0005178481223993003, 0.0015164094511419535, 0.001552950358018279, 0.00022957884357310832, 0.0009737522923387587, 0.0024103187024593353, 0.0013681554701179266, 0.0033854583743959665, 0.004980559926480055, 0.006698193959891796, 0.01224036980420351, 0.003350065089762211, 0.017787890508770943, 0.026675190776586533, 0.01965179294347763, 0.03243398293852806, 0.0748959556221962, 0.02429252117872238, 0.08208303898572922, 0.18101373314857483, 0.04767441749572754, 0.3028739094734192, 0.11127002537250519, 0.0], [0.009135899133980274, 0.0009704506956040859, 0.0004144674458075315, 0.0005600299336947501, 0.00021577163715846837, 0.00046965270303189754, 0.00035382306668907404, 0.000227828772040084, 0.0002089498157147318, 0.00030315740150399506, 0.0003332423511892557, 0.00018160472973249853, 0.0002671275578904897, 0.0005548710469156504, 0.00024391207261942327, 0.0006651274161413312, 0.0012696075718849897, 0.0016479343175888062, 0.0029208201449364424, 0.0028260143008083105, 0.005273766350001097, 0.0068870773538947105, 0.006805724464356899, 0.010317381471395493, 0.02218610979616642, 0.05137547105550766, 0.029748504981398582, 0.06801777333021164, 0.042036060243844986, 0.07766833156347275, 0.1675889939069748, 0.4883245527744293]], [[1.0, 0.0, 0.0, 0.0, 0.0, 0.0, 0.0, 0.0, 0.0, 0.0, 0.0, 0.0, 0.0, 0.0, 0.0, 0.0, 0.0, 0.0, 0.0, 0.0, 0.0, 0.0, 0.0, 0.0, 0.0, 0.0, 0.0, 0.0, 0.0, 0.0, 0.0, 0.0], [0.9473748207092285, 0.05262518301606178, 0.0, 0.0, 0.0, 0.0, 0.0, 0.0, 0.0, 0.0, 0.0, 0.0, 0.0, 0.0, 0.0, 0.0, 0.0, 0.0, 0.0, 0.0, 0.0, 0.0, 0.0, 0.0, 0.0, 0.0, 0.0, 0.0, 0.0, 0.0, 0.0, 0.0], [0.8785884380340576, 0.055394645780324936, 0.06601691246032715, 0.0, 0.0, 0.0, 0.0, 0.0, 0.0, 0.0, 0.0, 0.0, 0.0, 0.0, 0.0, 0.0, 0.0, 0.0, 0.0, 0.0, 0.0, 0.0, 0.0, 0.0, 0.0, 0.0, 0.0, 0.0, 0.0, 0.0, 0.0, 0.0], [0.7270770072937012, 0.13709871470928192, 0.048660941421985626, 0.08716334402561188, 0.0, 0.0, 0.0, 0.0, 0.0, 0.0, 0.0, 0.0, 0.0, 0.0, 0.0, 0.0, 0.0, 0.0, 0.0, 0.0, 0.0, 0.0, 0.0, 0.0, 0.0, 0.0, 0.0, 0.0, 0.0, 0.0, 0.0, 0.0], [0.4651745557785034, 0.1342930644750595, 0.1535816341638565, 0.17472554743289948, 0.07222514599561691, 0.0, 0.0, 0.0, 0.0, 0.0, 0.0, 0.0, 0.0, 0.0, 0.0, 0.0, 0.0, 0.0, 0.0, 0.0, 0.0, 0.0, 0.0, 0.0, 0.0, 0.0, 0.0, 0.0, 0.0, 0.0, 0.0, 0.0], [0.1703597605228424, 0.011841937899589539, 0.023650851100683212, 0.021745838224887848, 0.025856314226984978, 0.7465452551841736, 0.0, 0.0, 0.0, 0.0, 0.0, 0.0, 0.0, 0.0, 0.0, 0.0, 0.0, 0.0, 0.0, 0.0, 0.0, 0.0, 0.0, 0.0, 0.0, 0.0, 0.0, 0.0, 0.0, 0.0, 0.0, 0.0], [0.14214573800563812, 0.04383270815014839, 0.05021181330084801, 0.0451650507748127, 0.05872129276394844, 0.5111533403396606, 0.1487700343132019, 0.0, 0.0, 0.0, 0.0, 0.0, 0.0, 0.0, 0.0, 0.0, 0.0, 0.0, 0.0, 0.0, 0.0, 0.0, 0.0, 0.0, 0.0, 0.0, 0.0, 0.0, 0.0, 0.0, 0.0, 0.0], [0.08473347127437592, 0.02036980539560318, 0.03746162727475166, 0.03195912018418312, 0.03419600799679756, 0.4350067675113678, 0.11894059181213379, 0.23733259737491608, 0.0, 0.0, 0.0, 0.0, 0.0, 0.0, 0.0, 0.0, 0.0, 0.0, 0.0, 0.0, 0.0, 0.0, 0.0, 0.0, 0.0, 0.0, 0.0, 0.0, 0.0, 0.0, 0.0, 0.0], [0.34230804443359375, 0.035936374217271805, 0.07259216159582138, 0.10352762043476105, 0.08196530491113663, 0.07694563269615173, 0.14196322858333588, 0.09896713495254517, 0.04579458385705948, 0.0, 0.0, 0.0, 0.0, 0.0, 0.0, 0.0, 0.0, 0.0, 0.0, 0.0, 0.0, 0.0, 0.0, 0.0, 0.0, 0.0, 0.0, 0.0, 0.0, 0.0, 0.0, 0.0], [0.37114858627319336, 0.06278735399246216, 0.05806944891810417, 0.055662743747234344, 0.131248340010643, 0.07535628974437714, 0.10726632177829742, 0.07924027740955353, 0.030107347294688225, 0.029113229364156723, 0.0, 0.0, 0.0, 0.0, 0.0, 0.0, 0.0, 0.0, 0.0, 0.0, 0.0, 0.0, 0.0, 0.0, 0.0, 0.0, 0.0, 0.0, 0.0, 0.0, 0.0, 0.0], [0.06430104374885559, 0.005169106647372246, 0.011012991890311241, 0.009054885245859623, 0.011748069897294044, 0.31885018944740295, 0.03684946894645691, 0.08319550007581711, 0.012068131938576698, 0.014676224440336227, 0.433074414730072, 0.0, 0.0, 0.0, 0.0, 0.0, 0.0, 0.0, 0.0, 0.0, 0.0, 0.0, 0.0, 0.0, 0.0, 0.0, 0.0, 0.0, 0.0, 0.0, 0.0, 0.0], [0.23777934908866882, 0.03812996298074722, 0.019743358716368675, 0.0750802606344223, 0.1442079097032547, 0.062449268996715546, 0.0701838806271553, 0.06523603945970535, 0.048832181841135025, 0.03460034355521202, 0.06439769268035889, 0.13935980200767517, 0.0, 0.0, 0.0, 0.0, 0.0, 0.0, 0.0, 0.0, 0.0, 0.0, 0.0, 0.0, 0.0, 0.0, 0.0, 0.0, 0.0, 0.0, 0.0, 0.0], [0.29014483094215393, 0.04085766151547432, 0.06965624541044235, 0.06467738747596741, 0.11515599489212036, 0.0727943554520607, 0.0540604293346405, 0.04095996171236038, 0.03646122291684151, 0.037096962332725525, 0.0811215341091156, 0.062494464218616486, 0.034518927335739136, 0.0, 0.0, 0.0, 0.0, 0.0, 0.0, 0.0, 0.0, 0.0, 0.0, 0.0, 0.0, 0.0, 0.0, 0.0, 0.0, 0.0, 0.0, 0.0], [0.041916050016880035, 0.0033880709670484066, 0.007082359399646521, 0.005899210926145315, 0.007586189080029726, 0.20389798283576965, 0.0232967771589756, 0.05173071473836899, 0.007816811092197895, 0.009731383994221687, 0.2776019275188446, 0.008386773988604546, 0.016172699630260468, 0.3354931175708771, 0.0, 0.0, 0.0, 0.0, 0.0, 0.0, 0.0, 0.0, 0.0, 0.0, 0.0, 0.0, 0.0, 0.0, 0.0, 0.0, 0.0, 0.0], [0.1512935310602188, 0.04240790382027626, 0.04383379966020584, 0.09706761687994003, 0.14943550527095795, 0.04439885541796684, 0.06174503266811371, 0.04199516028165817, 0.01860879175364971, 0.03141246736049652, 0.05092645809054375, 0.0666029080748558, 0.09416218847036362, 0.05761292949318886, 0.04849691316485405, 0.0, 0.0, 0.0, 0.0, 0.0, 0.0, 0.0, 0.0, 0.0, 0.0, 0.0, 0.0, 0.0, 0.0, 0.0, 0.0, 0.0], [0.29958030581474304, 0.07432062923908234, 0.030061976984143257, 0.0167364701628685, 0.03856481611728668, 0.05106879025697708, 0.09408660978078842, 0.05606792867183685, 0.054582297801971436, 0.04522040858864784, 0.05638068914413452, 0.015378042124211788, 0.04082852229475975, 0.060846928507089615, 0.03081105463206768, 0.03546452149748802, 0.0, 0.0, 0.0, 0.0, 0.0, 0.0, 0.0, 0.0, 0.0, 0.0, 0.0, 0.0, 0.0, 0.0, 0.0, 0.0], [0.03043995425105095, 0.002493388717994094, 0.005298202391713858, 0.00422339141368866, 0.005517445504665375, 0.14508455991744995, 0.016034148633480072, 0.035986486822366714, 0.0057580480352044106, 0.0073981741443276405, 0.19613470137119293, 0.006090888287872076, 0.011465122923254967, 0.2373800128698349, 0.008031779900193214, 0.005861485842615366, 0.2768022418022156, 0.0, 0.0, 0.0, 0.0, 0.0, 0.0, 0.0, 0.0, 0.0, 0.0, 0.0, 0.0, 0.0, 0.0, 0.0], [0.01566893234848976, 0.0019133472815155983, 0.00674793403595686, 0.005610877647995949, 0.006710357498377562, 0.10858523845672607, 0.013436978682875633, 0.030674796551465988, 0.008698041550815105, 0.005958765745162964, 0.15696412324905396, 0.006401263177394867, 0.014357196167111397, 0.19220459461212158, 0.009938813745975494, 0.008154554292559624, 0.2286139875650406, 0.17936012148857117, 0.0, 0.0, 0.0, 0.0, 0.0, 0.0, 0.0, 0.0, 0.0, 0.0, 0.0, 0.0, 0.0, 0.0], [0.2751207947731018, 0.04635605961084366, 0.025782737880945206, 0.020371088758111, 0.045191291719675064, 0.04741503298282623, 0.0580083504319191, 0.054494597017765045, 0.021855847910046577, 0.028674185276031494, 0.05054795742034912, 0.03578947111964226, 0.01434401236474514, 0.05505192279815674, 0.01997089758515358, 0.025070669129490852, 0.05983671173453331, 0.1059127226471901, 0.010205714963376522, 0.0, 0.0, 0.0, 0.0, 0.0, 0.0, 0.0, 0.0, 0.0, 0.0, 0.0, 0.0, 0.0], [0.12210460752248764, 0.029006360098719597, 0.027926120907068253, 0.030763676390051842, 0.06431958079338074, 0.05075867101550102, 0.057467155158519745, 0.03854453191161156, 0.028814470395445824, 0.03641039505600929, 0.05530691519379616, 0.027555672451853752, 0.05062383785843849, 0.06039686128497124, 0.03790910914540291, 0.03416258841753006, 0.06550315767526627, 0.08224615454673767, 0.08903130143880844, 0.011148843914270401, 0.0, 0.0, 0.0, 0.0, 0.0, 0.0, 0.0, 0.0, 0.0, 0.0, 0.0, 0.0], [0.019922716543078423, 0.0015991252148523927, 0.003536270232871175, 0.0027606121730059385, 0.0036747485864907503, 0.09198573976755142, 0.00986819714307785, 0.02176273986697197, 0.0036746186669915915, 0.0048003001138567924, 0.12327177077531815, 0.003948225639760494, 0.007727708201855421, 0.14901943504810333, 0.005094504449516535, 0.0038495478220283985, 0.17433808743953705, 0.14503759145736694, 0.0031391780357807875, 0.0039015670772641897, 0.21708731353282928, 0.0, 0.0, 0.0, 0.0, 0.0, 0.0, 0.0, 0.0, 0.0, 0.0, 0.0], [0.0251691322773695, 0.0025891426485031843, 0.0079044783487916, 0.002818174660205841, 0.0083174929022789, 0.06284767389297485, 0.01609737053513527, 0.02483358420431614, 0.007658036891371012, 0.011317089200019836, 0.08451000601053238, 0.012135404162108898, 0.02204837091267109, 0.1001725122332573, 0.015103286132216454, 0.020152248442173004, 0.11906809359788895, 0.14148975908756256, 0.006576651707291603, 0.007074057590216398, 0.1485065221786499, 0.15361090004444122, 0.0, 0.0, 0.0, 0.0, 0.0, 0.0, 0.0, 0.0, 0.0, 0.0], [0.08679644018411636, 0.015818672254681587, 0.009913153946399689, 0.005941125564277172, 0.011749106459319592, 0.04402251914143562, 0.04941156879067421, 0.04721160978078842, 0.022448504343628883, 0.028144165873527527, 0.05249371379613876, 0.013664902187883854, 0.03804454579949379, 0.0585649348795414, 0.01600872538983822, 0.028531761839985847, 0.06752394139766693, 0.10004053264856339, 0.02607448399066925, 0.01816527731716633, 0.08061444759368896, 0.14588390290737152, 0.03293199464678764, 0.0, 0.0, 0.0, 0.0, 0.0, 0.0, 0.0, 0.0, 0.0], [0.1220332682132721, 0.026796918362379074, 0.034712739288806915, 0.016600845381617546, 0.05098602920770645, 0.03362346440553665, 0.03376290202140808, 0.032894380390644073, 0.022763600572943687, 0.03469544276595116, 0.03710824251174927, 0.027503056451678276, 0.030508046969771385, 0.04070492461323738, 0.01940981112420559, 0.033388085663318634, 0.04603787139058113, 0.08141941577196121, 0.02579290233552456, 0.01771334931254387, 0.05326374992728233, 0.06955218315124512, 0.07340096682310104, 0.035327788442373276, 0.0, 0.0, 0.0, 0.0, 0.0, 0.0, 0.0, 0.0], [0.012632698751986027, 0.0031967279501259327, 0.008999625220894814, 0.0037871054373681545, 0.005590219981968403, 0.0601874403655529, 0.010173025541007519, 0.02606339380145073, 0.008280325680971146, 0.005998445209115744, 0.08480244129896164, 0.007755735889077187, 0.014807657338678837, 0.10079345107078552, 0.011636028066277504, 0.007885102182626724, 0.12061366438865662, 0.12819868326187134, 0.006487109698355198, 0.003230572212487459, 0.15047502517700195, 0.10557691007852554, 0.015480614267289639, 0.019026324152946472, 0.07832162827253342, 0.0, 0.0, 0.0, 0.0, 0.0, 0.0, 0.0], [0.11176051199436188, 0.018635572865605354, 0.05622371286153793, 0.046772800385951996, 0.03736491873860359, 0.022993415594100952, 0.0313652828335762, 0.026408875361084938, 0.04335925355553627, 0.056635577231645584, 0.021786389872431755, 0.02382214367389679, 0.030641667544841766, 0.023289257660508156, 0.054304901510477066, 0.06881185621023178, 0.024489376693964005, 0.04777088761329651, 0.036271728575229645, 0.022222526371479034, 0.026998937129974365, 0.021766122430562973, 0.03442491590976715, 0.028240259736776352, 0.05891922116279602, 0.024719834327697754, 0.0, 0.0, 0.0, 0.0, 0.0, 0.0], [0.10639805346727371, 0.03710790351033211, 0.08273962885141373, 0.017856856808066368, 0.020950011909008026, 0.018305253237485886, 0.022620102390646935, 0.018192267045378685, 0.021851183846592903, 0.012518540024757385, 0.0192140843719244, 0.03034006990492344, 0.07187619060277939, 0.02078801393508911, 0.039635226130485535, 0.06151586398482323, 0.02317929081618786, 0.043980441987514496, 0.04619218781590462, 0.020667973905801773, 0.02708088792860508, 0.04386555030941963, 0.032767362892627716, 0.04369068145751953, 0.05080840736627579, 0.04029493406414986, 0.025562988594174385, 0.0, 0.0, 0.0, 0.0, 0.0], [0.015084554441273212, 0.0038223802112042904, 0.005877265706658363, 0.004971853923052549, 0.0053701503202319145, 0.052236407995224, 0.016127677634358406, 0.031829897314310074, 0.008211132138967514, 0.011473819613456726, 0.06704682111740112, 0.010528385639190674, 0.01059822365641594, 0.07938897609710693, 0.007211724296212196, 0.0062714628875255585, 0.09142372012138367, 0.1086651161313057, 0.003973818849772215, 0.005621670745313168, 0.1098332405090332, 0.09237755835056305, 0.022960485890507698, 0.019314907491207123, 0.08864138275384903, 0.018464701250195503, 0.011022248305380344, 0.0916503444314003, 0.0, 0.0, 0.0, 0.0], [0.0870780199766159, 0.029426025226712227, 0.028982309624552727, 0.06180492416024208, 0.02863893285393715, 0.01487766019999981, 0.02554236352443695, 0.016802312806248665, 0.027844073250889778, 0.0173331368714571, 0.015626298263669014, 0.04284806177020073, 0.025882400572299957, 0.01704099401831627, 0.02327819913625717, 0.03514423221349716, 0.018779471516609192, 0.0327647402882576, 0.03750060498714447, 0.02572994865477085, 0.021287767216563225, 0.03875632956624031, 0.054016731679439545, 0.03593063727021217, 0.04474318400025368, 0.10530859231948853, 0.02085021883249283, 0.04201406240463257, 0.024167709052562714, 0.0, 0.0, 0.0], [0.06607876718044281, 0.01817178539931774, 0.008494040928781033, 0.016755612567067146, 0.015445205383002758, 0.027916796505451202, 0.028843523934483528, 0.029114391654729843, 0.010267612524330616, 0.009689257480204105, 0.030591314658522606, 0.0613466314971447, 0.017923323437571526, 0.0336911603808403, 0.014990206807851791, 0.016958823427557945, 0.037289440631866455, 0.07073891907930374, 0.01576128415763378, 0.016965411603450775, 0.042826417833566666, 0.054838042706251144, 0.04120282456278801, 0.03902066871523857, 0.06378450989723206, 0.0648842304944992, 0.02311689965426922, 0.0796099305152893, 0.027299564331769943, 0.016383390873670578, 0.0, 0.0], [0.16901546716690063, 0.01387244276702404, 0.023454830050468445, 0.03374718874692917, 0.029135260730981827, 0.012242436408996582, 0.022409627214074135, 0.013071947731077671, 0.02568165399134159, 0.016177469864487648, 0.012085892260074615, 0.022415172308683395, 0.023657716810703278, 0.01246995572000742, 0.05979767069220543, 0.04155576601624489, 0.01327626220881939, 0.022794490680098534, 0.028226248919963837, 0.016014276072382927, 0.015314220450818539, 0.013591747730970383, 0.030035242438316345, 0.04146712273359299, 0.023997746407985687, 0.052741676568984985, 0.0479685477912426, 0.03365987166762352, 0.03739529475569725, 0.04522848129272461, 0.047498226165771484, 0.0], [0.020435059443116188, 0.0006926010246388614, 0.0018050706712529063, 0.0019024853827431798, 0.002385318512097001, 0.060155849903821945, 0.005283190403133631, 0.008823477663099766, 0.002553199417889118, 0.0030353120528161526, 0.07707513123750687, 0.0023913427721709013, 0.003198753111064434, 0.09093012660741806, 0.003086610697209835, 0.0016580879455432296, 0.10491041094064713, 0.06283538043498993, 0.002094133524224162, 0.002212369116023183, 0.12970227003097534, 0.024956315755844116, 0.0035326408687978983, 0.0050674485974013805, 0.02850876934826374, 0.005904460791498423, 0.006275778170675039, 0.037030816078186035, 0.009799237363040447, 0.005990762263536453, 0.004330377094447613, 0.2814372777938843]], [[1.0, 0.0, 0.0, 0.0, 0.0, 0.0, 0.0, 0.0, 0.0, 0.0, 0.0, 0.0, 0.0, 0.0, 0.0, 0.0, 0.0, 0.0, 0.0, 0.0, 0.0, 0.0, 0.0, 0.0, 0.0, 0.0, 0.0, 0.0, 0.0, 0.0, 0.0, 0.0], [0.9726406335830688, 0.027359358966350555, 0.0, 0.0, 0.0, 0.0, 0.0, 0.0, 0.0, 0.0, 0.0, 0.0, 0.0, 0.0, 0.0, 0.0, 0.0, 0.0, 0.0, 0.0, 0.0, 0.0, 0.0, 0.0, 0.0, 0.0, 0.0, 0.0, 0.0, 0.0, 0.0, 0.0], [0.8850566744804382, 0.08160645514726639, 0.03333687037229538, 0.0, 0.0, 0.0, 0.0, 0.0, 0.0, 0.0, 0.0, 0.0, 0.0, 0.0, 0.0, 0.0, 0.0, 0.0, 0.0, 0.0, 0.0, 0.0, 0.0, 0.0, 0.0, 0.0, 0.0, 0.0, 0.0, 0.0, 0.0, 0.0], [0.7844979166984558, 0.09046003222465515, 0.10720978677272797, 0.017832346260547638, 0.0, 0.0, 0.0, 0.0, 0.0, 0.0, 0.0, 0.0, 0.0, 0.0, 0.0, 0.0, 0.0, 0.0, 0.0, 0.0, 0.0, 0.0, 0.0, 0.0, 0.0, 0.0, 0.0, 0.0, 0.0, 0.0, 0.0, 0.0], [0.6679065227508545, 0.10135096311569214, 0.10997926443815231, 0.0699087455868721, 0.05085447430610657, 0.0, 0.0, 0.0, 0.0, 0.0, 0.0, 0.0, 0.0, 0.0, 0.0, 0.0, 0.0, 0.0, 0.0, 0.0, 0.0, 0.0, 0.0, 0.0, 0.0, 0.0, 0.0, 0.0, 0.0, 0.0, 0.0, 0.0], [0.586279034614563, 0.06960927695035934, 0.06798026710748672, 0.06058964133262634, 0.08339764922857285, 0.13214412331581116, 0.0, 0.0, 0.0, 0.0, 0.0, 0.0, 0.0, 0.0, 0.0, 0.0, 0.0, 0.0, 0.0, 0.0, 0.0, 0.0, 0.0, 0.0, 0.0, 0.0, 0.0, 0.0, 0.0, 0.0, 0.0, 0.0], [0.5015711188316345, 0.06227874383330345, 0.07209991663694382, 0.0559091717004776, 0.08146876841783524, 0.12033166736364365, 0.10634060949087143, 0.0, 0.0, 0.0, 0.0, 0.0, 0.0, 0.0, 0.0, 0.0, 0.0, 0.0, 0.0, 0.0, 0.0, 0.0, 0.0, 0.0, 0.0, 0.0, 0.0, 0.0, 0.0, 0.0, 0.0, 0.0], [0.4001609683036804, 0.05525399371981621, 0.06347683072090149, 0.054137878119945526, 0.07119620591402054, 0.11230532824993134, 0.12489721179008484, 0.11857159435749054, 0.0, 0.0, 0.0, 0.0, 0.0, 0.0, 0.0, 0.0, 0.0, 0.0, 0.0, 0.0, 0.0, 0.0, 0.0, 0.0, 0.0, 0.0, 0.0, 0.0, 0.0, 0.0, 0.0, 0.0], [0.4018533229827881, 0.08579415827989578, 0.05644881725311279, 0.07181127369403839, 0.08318911492824554, 0.07845644652843475, 0.09191882610321045, 0.07768873870372772, 0.05283927172422409, 0.0, 0.0, 0.0, 0.0, 0.0, 0.0, 0.0, 0.0, 0.0, 0.0, 0.0, 0.0, 0.0, 0.0, 0.0, 0.0, 0.0, 0.0, 0.0, 0.0, 0.0, 0.0, 0.0], [0.3827158808708191, 0.07976950705051422, 0.06207754462957382, 0.06360235810279846, 0.082110196352005, 0.07804956287145615, 0.08597438037395477, 0.07506484538316727, 0.0632784366607666, 0.027357224375009537, 0.0, 0.0, 0.0, 0.0, 0.0, 0.0, 0.0, 0.0, 0.0, 0.0, 0.0, 0.0, 0.0, 0.0, 0.0, 0.0, 0.0, 0.0, 0.0, 0.0, 0.0, 0.0], [0.3404167592525482, 0.04535197839140892, 0.04658912494778633, 0.0403917096555233, 0.05489042401313782, 0.08179008215665817, 0.08906514942646027, 0.09645894914865494, 0.05564970523118973, 0.06398675590753555, 0.08540937304496765, 0.0, 0.0, 0.0, 0.0, 0.0, 0.0, 0.0, 0.0, 0.0, 0.0, 0.0, 0.0, 0.0, 0.0, 0.0, 0.0, 0.0, 0.0, 0.0, 0.0, 0.0], [0.3118618428707123, 0.09539999812841415, 0.07292016595602036, 0.06976879388093948, 0.07777824997901917, 0.06735039502382278, 0.06161404401063919, 0.05481072887778282, 0.052520137280225754, 0.05022520571947098, 0.07299346476793289, 0.012756961397826672, 0.0, 0.0, 0.0, 0.0, 0.0, 0.0, 0.0, 0.0, 0.0, 0.0, 0.0, 0.0, 0.0, 0.0, 0.0, 0.0, 0.0, 0.0, 0.0, 0.0], [0.3665285110473633, 0.06308671832084656, 0.039478469640016556, 0.04609527066349983, 0.05740755423903465, 0.0634833574295044, 0.0523846372961998, 0.055016182363033295, 0.045840196311473846, 0.062286920845508575, 0.0658990889787674, 0.05806359648704529, 0.024429505690932274, 0.0, 0.0, 0.0, 0.0, 0.0, 0.0, 0.0, 0.0, 0.0, 0.0, 0.0, 0.0, 0.0, 0.0, 0.0, 0.0, 0.0, 0.0, 0.0], [0.28564438223838806, 0.03804025799036026, 0.03942389413714409, 0.03423864021897316, 0.046393983066082, 0.06771663576364517, 0.07328072935342789, 0.07855428755283356, 0.047896649688482285, 0.0559365451335907, 0.07124946266412735, 0.03568924963474274, 0.04956043139100075, 0.07637479156255722, 0.0, 0.0, 0.0, 0.0, 0.0, 0.0, 0.0, 0.0, 0.0, 0.0, 0.0, 0.0, 0.0, 0.0, 0.0, 0.0, 0.0, 0.0], [0.2977541387081146, 0.05259549245238304, 0.04347940534353256, 0.058458637446165085, 0.045687295496463776, 0.052594076842069626, 0.04456198588013649, 0.045974716544151306, 0.06316151469945908, 0.07768759876489639, 0.05499140918254852, 0.034664690494537354, 0.05020102486014366, 0.05886142700910568, 0.01932653971016407, 0.0, 0.0, 0.0, 0.0, 0.0, 0.0, 0.0, 0.0, 0.0, 0.0, 0.0, 0.0, 0.0, 0.0, 0.0, 0.0, 0.0], [0.28853145241737366, 0.04616912081837654, 0.028233079239726067, 0.0382424034178257, 0.04330623149871826, 0.05174916982650757, 0.043182771652936935, 0.04393119364976883, 0.05616345256567001, 0.06773822009563446, 0.05490174889564514, 0.08139307051897049, 0.04325692728161812, 0.0590481199324131, 0.03989904746413231, 0.014254065230488777, 0.0, 0.0, 0.0, 0.0, 0.0, 0.0, 0.0, 0.0, 0.0, 0.0, 0.0, 0.0, 0.0, 0.0, 0.0, 0.0], [0.2372136265039444, 0.03161582350730896, 0.03324564918875694, 0.029231952503323555, 0.03861812874674797, 0.05549167841672897, 0.05966496840119362, 0.06321782618761063, 0.04073698818683624, 0.04752675071358681, 0.058378227055072784, 0.03039967454969883, 0.04287157952785492, 0.06284618377685547, 0.05321290343999863, 0.047368962317705154, 0.06835901737213135, 0.0, 0.0, 0.0, 0.0, 0.0, 0.0, 0.0, 0.0, 0.0, 0.0, 0.0, 0.0, 0.0, 0.0, 0.0], [0.20986966788768768, 0.027291269972920418, 0.031156616285443306, 0.026615019887685776, 0.03165113925933838, 0.05273226648569107, 0.052745021879673004, 0.05635902285575867, 0.04076547175645828, 0.04278238117694855, 0.056191232055425644, 0.03067827969789505, 0.043989624828100204, 0.06091472879052162, 0.05013697221875191, 0.04157315567135811, 0.06652858108282089, 0.07801956683397293, 0.0, 0.0, 0.0, 0.0, 0.0, 0.0, 0.0, 0.0, 0.0, 0.0, 0.0, 0.0, 0.0, 0.0], [0.2385382056236267, 0.04414582625031471, 0.04643504321575165, 0.0345127210021019, 0.0357217937707901, 0.04369330778717995, 0.04304976016283035, 0.03498825430870056, 0.04371807724237442, 0.039521947503089905, 0.044578541070222855, 0.02459944784641266, 0.0625118762254715, 0.04753483459353447, 0.04375608637928963, 0.04995930567383766, 0.050908032804727554, 0.05266246572136879, 0.019164467230439186, 0.0, 0.0, 0.0, 0.0, 0.0, 0.0, 0.0, 0.0, 0.0, 0.0, 0.0, 0.0, 0.0], [0.17729145288467407, 0.042214639484882355, 0.030818715691566467, 0.03088611736893654, 0.03386848419904709, 0.04521187022328377, 0.042901020497083664, 0.03221559524536133, 0.04018865153193474, 0.04926898330450058, 0.04801623150706291, 0.03814245015382767, 0.05126512795686722, 0.052068423479795456, 0.047441188246011734, 0.039245326071977615, 0.05630474537611008, 0.05462948977947235, 0.05991857126355171, 0.02810293436050415, 0.0, 0.0, 0.0, 0.0, 0.0, 0.0, 0.0, 0.0, 0.0, 0.0, 0.0, 0.0], [0.19048283994197845, 0.02520349994301796, 0.026787471026182175, 0.023672692477703094, 0.031104037538170815, 0.043453436344861984, 0.04649331420660019, 0.04820645600557327, 0.03323279321193695, 0.03892751783132553, 0.04549147188663483, 0.024442726746201515, 0.03570157289505005, 0.04907767102122307, 0.04303564131259918, 0.03905563801527023, 0.053717438131570816, 0.06658957898616791, 0.043208230286836624, 0.03176472336053848, 0.060351256281137466, 0.0, 0.0, 0.0, 0.0, 0.0, 0.0, 0.0, 0.0, 0.0, 0.0, 0.0], [0.1497536152601242, 0.023474566638469696, 0.025508400052785873, 0.028942449018359184, 0.03517158329486847, 0.038801923394203186, 0.04594279080629349, 0.03962727636098862, 0.037087809294462204, 0.038723018020391464, 0.041907187551259995, 0.021688058972358704, 0.04328257590532303, 0.04592541232705116, 0.03893952816724777, 0.04007608816027641, 0.050600189715623856, 0.060830529779195786, 0.04372158274054527, 0.030235232785344124, 0.05728612467646599, 0.062473997473716736, 0.0, 0.0, 0.0, 0.0, 0.0, 0.0, 0.0, 0.0, 0.0, 0.0], [0.17513404786586761, 0.027519281953573227, 0.02951401099562645, 0.020715320482850075, 0.02687351033091545, 0.0345461443066597, 0.03853079676628113, 0.03303781524300575, 0.04181559383869171, 0.040100302547216415, 0.03696893900632858, 0.030468929558992386, 0.03995395824313164, 0.040237054228782654, 0.0448262020945549, 0.03708263114094734, 0.04420141875743866, 0.04931041970849037, 0.04125744476914406, 0.02861069142818451, 0.04997343569993973, 0.05269283801317215, 0.03662917762994766, 0.0, 0.0, 0.0, 0.0, 0.0, 0.0, 0.0, 0.0, 0.0], [0.13285988569259644, 0.04070805758237839, 0.04111678525805473, 0.03484426438808441, 0.04087604582309723, 0.027567211538553238, 0.02829369530081749, 0.022520430386066437, 0.03875420242547989, 0.04037805646657944, 0.02908940613269806, 0.02960921637713909, 0.05670115724205971, 0.031181862577795982, 0.03766118362545967, 0.05688637122511864, 0.033967066556215286, 0.03781306371092796, 0.04951411485671997, 0.03194558247923851, 0.037599027156829834, 0.04326637461781502, 0.0430566743016243, 0.033790238201618195, 0.0, 0.0, 0.0, 0.0, 0.0, 0.0, 0.0, 0.0], [0.1470937281847, 0.01821870543062687, 0.022143615409731865, 0.02162138931453228, 0.02707289345562458, 0.03385418280959129, 0.03787611424922943, 0.03801962733268738, 0.02793251909315586, 0.030901839956641197, 0.03606923297047615, 0.019023125991225243, 0.034658029675483704, 0.039169877767562866, 0.0337555967271328, 0.026136619970202446, 0.04297829791903496, 0.05313744395971298, 0.034635044634342194, 0.020140299573540688, 0.04878357797861099, 0.049908023327589035, 0.046243902295827866, 0.047156691551208496, 0.06346964836120605, 0.0, 0.0, 0.0, 0.0, 0.0, 0.0, 0.0], [0.1760278344154358, 0.014882152900099754, 0.02675117924809456, 0.024088077247142792, 0.03566749021410942, 0.027094295248389244, 0.024984242394566536, 0.021471867337822914, 0.026359383016824722, 0.023845117539167404, 0.02756698988378048, 0.01686953566968441, 0.0777742862701416, 0.029109222814440727, 0.04799697548151016, 0.029002510011196136, 0.03132336214184761, 0.03615599125623703, 0.039595603942871094, 0.017008014023303986, 0.03483906015753746, 0.034437187016010284, 0.041492193937301636, 0.09124381840229034, 0.0405229888856411, 0.0038906026165932417, 0.0, 0.0, 0.0, 0.0, 0.0, 0.0], [0.1850174367427826, 0.027787012979388237, 0.025097642093896866, 0.027019010856747627, 0.029199205338954926, 0.03033703938126564, 0.032221775501966476, 0.023015078157186508, 0.026792878285050392, 0.022793849930167198, 0.03067484311759472, 0.021220851689577103, 0.05388808622956276, 0.0325930155813694, 0.030737649649381638, 0.025725245475769043, 0.03486604988574982, 0.03793583810329437, 0.028672002255916595, 0.026148967444896698, 0.03875335305929184, 0.041795048862695694, 0.03863156586885452, 0.053371552377939224, 0.03982073441147804, 0.025711625814437866, 0.010172728449106216, 0.0, 0.0, 0.0, 0.0, 0.0], [0.1244632676243782, 0.016768908128142357, 0.020105112344026566, 0.019267035648226738, 0.024457816034555435, 0.030203351750969887, 0.03127392381429672, 0.032546062022447586, 0.02318601682782173, 0.023508399724960327, 0.031733188778162, 0.01708051562309265, 0.029082048684358597, 0.034282177686691284, 0.03579128906130791, 0.025820551440119743, 0.037531159818172455, 0.04618251323699951, 0.02950000762939453, 0.017913805320858955, 0.04274730384349823, 0.0424346886575222, 0.03900238499045372, 0.04141837731003761, 0.05949504300951958, 0.03595735877752304, 0.03098486363887787, 0.05726282298564911, 0.0, 0.0, 0.0, 0.0], [0.1307656615972519, 0.027673162519931793, 0.03252287209033966, 0.020870167762041092, 0.016129372641444206, 0.023900320753455162, 0.02184772863984108, 0.019627099856734276, 0.036353450268507004, 0.030328160151839256, 0.024774109944701195, 0.021690402179956436, 0.04699735343456268, 0.02665816619992256, 0.03568767011165619, 0.04037654399871826, 0.02890240214765072, 0.030155181884765625, 0.03654792532324791, 0.02193429321050644, 0.03256532922387123, 0.03286112844944, 0.029969731345772743, 0.055058807134628296, 0.03515758737921715, 0.044361717998981476, 0.042685914784669876, 0.038699161261320114, 0.01489858515560627, 0.0, 0.0, 0.0], [0.10974843055009842, 0.022916380316019058, 0.02548179402947426, 0.01928584836423397, 0.022845406085252762, 0.023711444810032845, 0.024397630244493484, 0.022778429090976715, 0.03046952188014984, 0.03155677393078804, 0.02494349144399166, 0.01946265622973442, 0.03326413407921791, 0.026941735297441483, 0.03211561217904091, 0.0325675867497921, 0.029440540820360184, 0.03315218538045883, 0.030301153659820557, 0.020297376438975334, 0.03326494246721268, 0.03765677288174629, 0.036786578595638275, 0.043569959700107574, 0.04123992845416069, 0.04149528592824936, 0.03588145226240158, 0.04428351670503616, 0.03385259956121445, 0.036290813237428665, 0.0, 0.0], [0.17409278452396393, 0.02671489492058754, 0.033142827451229095, 0.020196810364723206, 0.024430181831121445, 0.023919858038425446, 0.020716361701488495, 0.017221884801983833, 0.030711766332387924, 0.029190482571721077, 0.02394942194223404, 0.023058444261550903, 0.04345368221402168, 0.025298280641436577, 0.02153095044195652, 0.03990749642252922, 0.02726556919515133, 0.028419863432645798, 0.02018483355641365, 0.0209552850574255, 0.03032280132174492, 0.031635601073503494, 0.026784831658005714, 0.042054109275341034, 0.034784600138664246, 0.022674981504678726, 0.026994718238711357, 0.032311003655195236, 0.03501275181770325, 0.033489011228084564, 0.009573829360306263, 0.0], [0.11631923168897629, 0.018101075664162636, 0.016503337770700455, 0.01592249609529972, 0.018918920308351517, 0.024965306743979454, 0.026723453775048256, 0.024642381817102432, 0.022487420588731766, 0.026770783588290215, 0.025409897789359093, 0.015677377581596375, 0.02631385065615177, 0.02711089514195919, 0.02590828947722912, 0.02541407197713852, 0.029461506754159927, 0.03395264595746994, 0.028394432738423347, 0.01896999031305313, 0.03322846069931984, 0.03288571164011955, 0.03752881661057472, 0.035266339778900146, 0.037960536777973175, 0.03353356197476387, 0.02708597481250763, 0.03939271718263626, 0.028626715764403343, 0.033032432198524475, 0.03576004132628441, 0.05773131549358368]], [[1.0, 0.0, 0.0, 0.0, 0.0, 0.0, 0.0, 0.0, 0.0, 0.0, 0.0, 0.0, 0.0, 0.0, 0.0, 0.0, 0.0, 0.0, 0.0, 0.0, 0.0, 0.0, 0.0, 0.0, 0.0, 0.0, 0.0, 0.0, 0.0, 0.0, 0.0, 0.0], [0.8058416843414307, 0.19415831565856934, 0.0, 0.0, 0.0, 0.0, 0.0, 0.0, 0.0, 0.0, 0.0, 0.0, 0.0, 0.0, 0.0, 0.0, 0.0, 0.0, 0.0, 0.0, 0.0, 0.0, 0.0, 0.0, 0.0, 0.0, 0.0, 0.0, 0.0, 0.0, 0.0, 0.0], [0.6373865604400635, 0.09672047197818756, 0.2658929228782654, 0.0, 0.0, 0.0, 0.0, 0.0, 0.0, 0.0, 0.0, 0.0, 0.0, 0.0, 0.0, 0.0, 0.0, 0.0, 0.0, 0.0, 0.0, 0.0, 0.0, 0.0, 0.0, 0.0, 0.0, 0.0, 0.0, 0.0, 0.0, 0.0], [0.5870265364646912, 0.09922721236944199, 0.07913831621408463, 0.23460792005062103, 0.0, 0.0, 0.0, 0.0, 0.0, 0.0, 0.0, 0.0, 0.0, 0.0, 0.0, 0.0, 0.0, 0.0, 0.0, 0.0, 0.0, 0.0, 0.0, 0.0, 0.0, 0.0, 0.0, 0.0, 0.0, 0.0, 0.0, 0.0], [0.41947394609451294, 0.06312590837478638, 0.08123064041137695, 0.08381498605012894, 0.3523544371128082, 0.0, 0.0, 0.0, 0.0, 0.0, 0.0, 0.0, 0.0, 0.0, 0.0, 0.0, 0.0, 0.0, 0.0, 0.0, 0.0, 0.0, 0.0, 0.0, 0.0, 0.0, 0.0, 0.0, 0.0, 0.0, 0.0, 0.0], [0.530853271484375, 0.0959072858095169, 0.07779336720705032, 0.06661548465490341, 0.07293294370174408, 0.15589764714241028, 0.0, 0.0, 0.0, 0.0, 0.0, 0.0, 0.0, 0.0, 0.0, 0.0, 0.0, 0.0, 0.0, 0.0, 0.0, 0.0, 0.0, 0.0, 0.0, 0.0, 0.0, 0.0, 0.0, 0.0, 0.0, 0.0], [0.38503074645996094, 0.07478092610836029, 0.06978148221969604, 0.04760654270648956, 0.05144915357232094, 0.08776704221963882, 0.28358420729637146, 0.0, 0.0, 0.0, 0.0, 0.0, 0.0, 0.0, 0.0, 0.0, 0.0, 0.0, 0.0, 0.0, 0.0, 0.0, 0.0, 0.0, 0.0, 0.0, 0.0, 0.0, 0.0, 0.0, 0.0, 0.0], [0.29629576206207275, 0.053282689303159714, 0.06944748014211655, 0.040975477546453476, 0.06660830974578857, 0.1021856889128685, 0.10869500041007996, 0.2625095546245575, 0.0, 0.0, 0.0, 0.0, 0.0, 0.0, 0.0, 0.0, 0.0, 0.0, 0.0, 0.0, 0.0, 0.0, 0.0, 0.0, 0.0, 0.0, 0.0, 0.0, 0.0, 0.0, 0.0, 0.0], [0.30475008487701416, 0.06337986886501312, 0.05753423273563385, 0.04057719558477402, 0.0730014219880104, 0.07375830411911011, 0.07239890843629837, 0.05693606287240982, 0.2576640248298645, 0.0, 0.0, 0.0, 0.0, 0.0, 0.0, 0.0, 0.0, 0.0, 0.0, 0.0, 0.0, 0.0, 0.0, 0.0, 0.0, 0.0, 0.0, 0.0, 0.0, 0.0, 0.0, 0.0], [0.2988077402114868, 0.05552823469042778, 0.05443596467375755, 0.05285301432013512, 0.06568749248981476, 0.07554221153259277, 0.06968101114034653, 0.05411387234926224, 0.09120788425207138, 0.18214255571365356, 0.0, 0.0, 0.0, 0.0, 0.0, 0.0, 0.0, 0.0, 0.0, 0.0, 0.0, 0.0, 0.0, 0.0, 0.0, 0.0, 0.0, 0.0, 0.0, 0.0, 0.0, 0.0], [0.2693301737308502, 0.06352430582046509, 0.05952122062444687, 0.05242469161748886, 0.06052158400416374, 0.12185833603143692, 0.07608653604984283, 0.09753071516752243, 0.04232606664299965, 0.050583261996507645, 0.10629311203956604, 0.0, 0.0, 0.0, 0.0, 0.0, 0.0, 0.0, 0.0, 0.0, 0.0, 0.0, 0.0, 0.0, 0.0, 0.0, 0.0, 0.0, 0.0, 0.0, 0.0, 0.0], [0.2207430601119995, 0.06960073858499527, 0.04872347041964531, 0.06675716489553452, 0.06954208016395569, 0.06483785063028336, 0.04652372747659683, 0.0393008291721344, 0.018016088753938675, 0.035806309431791306, 0.05302286148071289, 0.26712578535079956, 0.0, 0.0, 0.0, 0.0, 0.0, 0.0, 0.0, 0.0, 0.0, 0.0, 0.0, 0.0, 0.0, 0.0, 0.0, 0.0, 0.0, 0.0, 0.0, 0.0], [0.15080063045024872, 0.04732475057244301, 0.12551116943359375, 0.062400832772254944, 0.05354631319642067, 0.055783942341804504, 0.04542611911892891, 0.03888600692152977, 0.030199820175766945, 0.03337055817246437, 0.04645955190062523, 0.023437922820448875, 0.2868523895740509, 0.0, 0.0, 0.0, 0.0, 0.0, 0.0, 0.0, 0.0, 0.0, 0.0, 0.0, 0.0, 0.0, 0.0, 0.0, 0.0, 0.0, 0.0, 0.0], [0.2044883817434311, 0.04972049221396446, 0.048385463654994965, 0.04385358467698097, 0.05115719512104988, 0.1007489562034607, 0.06420683115720749, 0.08302559703588486, 0.038804516196250916, 0.04795773699879646, 0.09582381695508957, 0.03239700570702553, 0.044411055743694305, 0.0950193777680397, 0.0, 0.0, 0.0, 0.0, 0.0, 0.0, 0.0, 0.0, 0.0, 0.0, 0.0, 0.0, 0.0, 0.0, 0.0, 0.0, 0.0, 0.0], [0.16236737370491028, 0.028519179672002792, 0.0478430800139904, 0.04135481268167496, 0.040284886956214905, 0.0520053505897522, 0.04226505756378174, 0.03821170702576637, 0.059868816286325455, 0.06849402189254761, 0.04734279587864876, 0.019715173169970512, 0.062022291123867035, 0.04572193697094917, 0.24398353695869446, 0.0, 0.0, 0.0, 0.0, 0.0, 0.0, 0.0, 0.0, 0.0, 0.0, 0.0, 0.0, 0.0, 0.0, 0.0, 0.0, 0.0], [0.13128933310508728, 0.039628103375434875, 0.059519391506910324, 0.03966322913765907, 0.04406354948878288, 0.043484967201948166, 0.03726546838879585, 0.032400354743003845, 0.03720574080944061, 0.06481604278087616, 0.0404745377600193, 0.025914235040545464, 0.06507597863674164, 0.03922512009739876, 0.07744193822145462, 0.22253206372261047, 0.0, 0.0, 0.0, 0.0, 0.0, 0.0, 0.0, 0.0, 0.0, 0.0, 0.0, 0.0, 0.0, 0.0, 0.0, 0.0], [0.158133402466774, 0.03911251574754715, 0.03856496140360832, 0.03587968274950981, 0.04187794029712677, 0.08161001652479172, 0.052458055317401886, 0.06812684237957001, 0.0344480536878109, 0.04342750832438469, 0.08275996893644333, 0.029333394020795822, 0.041573792695999146, 0.08478687703609467, 0.04881599545478821, 0.032352838665246964, 0.08673815429210663, 0.0, 0.0, 0.0, 0.0, 0.0, 0.0, 0.0, 0.0, 0.0, 0.0, 0.0, 0.0, 0.0, 0.0, 0.0], [0.13890597224235535, 0.031696319580078125, 0.03251555562019348, 0.03538899123668671, 0.038000334054231644, 0.06974425166845322, 0.059424545615911484, 0.06768237799406052, 0.02784379944205284, 0.03905467689037323, 0.07273101806640625, 0.030109869316220284, 0.041630927473306656, 0.07565011829137802, 0.04018831625580788, 0.0274836253374815, 0.0779590830206871, 0.09399021416902542, 0.0, 0.0, 0.0, 0.0, 0.0, 0.0, 0.0, 0.0, 0.0, 0.0, 0.0, 0.0, 0.0, 0.0], [0.09691289812326431, 0.03068730980157852, 0.03081795945763588, 0.044734325259923935, 0.04171941801905632, 0.03603677079081535, 0.04101703688502312, 0.03210476413369179, 0.04344061762094498, 0.048855531960725784, 0.03457900509238243, 0.01602509245276451, 0.04994167014956474, 0.034635279327631, 0.06065686419606209, 0.03497787192463875, 0.034543439745903015, 0.03782793506979942, 0.25048619508743286, 0.0, 0.0, 0.0, 0.0, 0.0, 0.0, 0.0, 0.0, 0.0, 0.0, 0.0, 0.0, 0.0], [0.12059218436479568, 0.04121065139770508, 0.0509851798415184, 0.05289151892066002, 0.028861291706562042, 0.04706200584769249, 0.0292128287255764, 0.03817000612616539, 0.021046482026576996, 0.029787804931402206, 0.04406721144914627, 0.02650335058569908, 0.04127003625035286, 0.044307366013526917, 0.03080154024064541, 0.04064901918172836, 0.04474509879946709, 0.042122453451156616, 0.028442278504371643, 0.1972716599702835, 0.0, 0.0, 0.0, 0.0, 0.0, 0.0, 0.0, 0.0, 0.0, 0.0, 0.0, 0.0], [0.11388304829597473, 0.028255388140678406, 0.02835129201412201, 0.026958663016557693, 0.03131086379289627, 0.05977548286318779, 0.039182148873806, 0.05072038620710373, 0.027684010565280914, 0.035564228892326355, 0.06452133506536484, 0.024267086759209633, 0.03616495057940483, 0.06838168948888779, 0.04139300808310509, 0.0290946364402771, 0.0723004937171936, 0.07349381595849991, 0.03700019791722298, 0.0352863147854805, 0.07641095668077469, 0.0, 0.0, 0.0, 0.0, 0.0, 0.0, 0.0, 0.0, 0.0, 0.0, 0.0], [0.0845385268330574, 0.017416613176465034, 0.018949145451188087, 0.016560649499297142, 0.022296125069260597, 0.04174061492085457, 0.058948636054992676, 0.038933608680963516, 0.030214637517929077, 0.03464233875274658, 0.0483190082013607, 0.016358425840735435, 0.02567455917596817, 0.05309675261378288, 0.020546523854136467, 0.020469829440116882, 0.05704641342163086, 0.06604910641908646, 0.03774644806981087, 0.021413877606391907, 0.06129930913448334, 0.20773886144161224, 0.0, 0.0, 0.0, 0.0, 0.0, 0.0, 0.0, 0.0, 0.0, 0.0], [0.112484410405159, 0.024394840002059937, 0.02452314831316471, 0.0274895578622818, 0.02610466256737709, 0.03731505945324898, 0.06748530268669128, 0.03890373557806015, 0.017981432378292084, 0.02845439314842224, 0.03756532445549965, 0.01832607015967369, 0.020088661462068558, 0.038651708513498306, 0.023285644128918648, 0.024226605892181396, 0.03960612416267395, 0.048331886529922485, 0.04500093683600426, 0.01736214943230152, 0.04009140282869339, 0.05208287388086319, 0.19024407863616943, 0.0, 0.0, 0.0, 0.0, 0.0, 0.0, 0.0, 0.0, 0.0], [0.08183359354734421, 0.019828446209430695, 0.0268733911216259, 0.029252560809254646, 0.025184443220496178, 0.03192772716283798, 0.029049789533019066, 0.02497253008186817, 0.033506251871585846, 0.04007429629564285, 0.033517319709062576, 0.016035983338952065, 0.03204455226659775, 0.03448064252734184, 0.028517084196209908, 0.03532731160521507, 0.03583228215575218, 0.040583960711956024, 0.02994110994040966, 0.02109791897237301, 0.03671329841017723, 0.03921259194612503, 0.03543241322040558, 0.2387605458498001, 0.0, 0.0, 0.0, 0.0, 0.0, 0.0, 0.0, 0.0], [0.10145692527294159, 0.01423704531043768, 0.01698417216539383, 0.018636567518115044, 0.028536252677440643, 0.036538030952215195, 0.02957051247358322, 0.04198320209980011, 0.01416604220867157, 0.030081408098340034, 0.04016641154885292, 0.020075011998414993, 0.030370116233825684, 0.04353441670536995, 0.030393026769161224, 0.020717350766062737, 0.04677112028002739, 0.0549510233104229, 0.028809169307351112, 0.02004369907081127, 0.05092543736100197, 0.04084467887878418, 0.0418580137193203, 0.038489773869514465, 0.15986064076423645, 0.0, 0.0, 0.0, 0.0, 0.0, 0.0, 0.0], [0.07937926054000854, 0.0206743236631155, 0.020799754187464714, 0.027988234534859657, 0.045654747635126114, 0.026562590152025223, 0.025396715849637985, 0.021243251860141754, 0.01776379905641079, 0.02520063892006874, 0.027576465159654617, 0.03060707449913025, 0.034380003809928894, 0.028568316251039505, 0.022726936265826225, 0.01605195552110672, 0.0297127366065979, 0.032761793583631516, 0.025702400133013725, 0.01287887990474701, 0.030626127496361732, 0.020369652658700943, 0.037413910031318665, 0.027850370854139328, 0.035718511790037155, 0.27639156579971313, 0.0, 0.0, 0.0, 0.0, 0.0, 0.0], [0.09605436772108078, 0.023092888295650482, 0.024199657142162323, 0.024974143132567406, 0.03682964667677879, 0.0300143975764513, 0.021069210022687912, 0.018117517232894897, 0.022569261491298676, 0.02834322676062584, 0.03050513006746769, 0.021707672625780106, 0.02821178548038006, 0.031639426946640015, 0.03916611522436142, 0.03627365827560425, 0.033115725964307785, 0.03514396399259567, 0.02574523538351059, 0.015889005735516548, 0.034675467759370804, 0.026770083233714104, 0.027143444865942, 0.0404508002102375, 0.03760383278131485, 0.032323356717824936, 0.17837099730968475, 0.0, 0.0, 0.0, 0.0, 0.0], [0.07476937025785446, 0.011021513491868973, 0.01070656068623066, 0.015325456857681274, 0.019903574138879776, 0.03285868093371391, 0.021936070173978806, 0.029454143717885017, 0.016421500593423843, 0.02247658744454384, 0.03722343593835831, 0.01758023351430893, 0.02195415273308754, 0.04046213999390602, 0.0314154177904129, 0.010417777113616467, 0.044297389686107635, 0.05118124932050705, 0.029565559700131416, 0.015394332818686962, 0.049064263701438904, 0.03202194720506668, 0.030905121937394142, 0.04132054001092911, 0.06578273326158524, 0.03978404030203819, 0.020499689504504204, 0.16625653207302094, 0.0, 0.0, 0.0, 0.0], [0.050097737461328506, 0.012655803933739662, 0.020775986835360527, 0.02582724764943123, 0.1183675229549408, 0.021893639117479324, 0.01619143970310688, 0.019513653591275215, 0.02945832349359989, 0.02722146175801754, 0.02293175458908081, 0.019666973501443863, 0.02403816394507885, 0.023837987333536148, 0.01786806620657444, 0.024062858894467354, 0.025034356862306595, 0.027520492672920227, 0.03060207888484001, 0.011959841474890709, 0.026310713961720467, 0.02264772728085518, 0.02025778591632843, 0.032451994717121124, 0.02587871439754963, 0.04127417132258415, 0.0381346233189106, 0.019255101680755615, 0.20426379144191742, 0.0, 0.0, 0.0], [0.059482213109731674, 0.016329776495695114, 0.019681666046380997, 0.017025236040353775, 0.025593983009457588, 0.020639605820178986, 0.0367666557431221, 0.020977288484573364, 0.022591575980186462, 0.02603953145444393, 0.022965889424085617, 0.012435514479875565, 0.0213449839502573, 0.024961546063423157, 0.018103474751114845, 0.027029043063521385, 0.026901086792349815, 0.03263351693749428, 0.029100529849529266, 0.01732414774596691, 0.029395343735814095, 0.029446523636579514, 0.05644775554537773, 0.029248906299471855, 0.03448592126369476, 0.04010836035013199, 0.029258133843541145, 0.027522945776581764, 0.03160589933395386, 0.1945529282093048, 0.0, 0.0], [0.08644004166126251, 0.017018433660268784, 0.016274582594633102, 0.022721005603671074, 0.024894367903470993, 0.021855786442756653, 0.023546958342194557, 0.014971492812037468, 0.015829548239707947, 0.015445920638740063, 0.02166815847158432, 0.022456277161836624, 0.026536976918578148, 0.022753190249204636, 0.022509628906846046, 0.018393438309431076, 0.023829855024814606, 0.026308679953217506, 0.026256117969751358, 0.01145350281149149, 0.025125684216618538, 0.023411720991134644, 0.032176993787288666, 0.029947297647595406, 0.02442179247736931, 0.029507769271731377, 0.02624398283660412, 0.017740463837981224, 0.031615421175956726, 0.027540218085050583, 0.2511047422885895, 0.0], [0.05445738509297371, 0.013088373467326164, 0.013301888480782509, 0.012589123100042343, 0.014937140047550201, 0.02581719309091568, 0.01771853305399418, 0.026013804599642754, 0.016922444105148315, 0.015734434127807617, 0.03091963566839695, 0.014571046456694603, 0.02478855662047863, 0.0348958820104599, 0.022343406453728676, 0.019270779564976692, 0.03938132897019386, 0.042473211884498596, 0.02453351579606533, 0.02114199288189411, 0.04535982385277748, 0.03883405774831772, 0.030371420085430145, 0.0323602557182312, 0.04671601578593254, 0.036273807287216187, 0.031004896387457848, 0.04689011350274086, 0.03323769196867943, 0.029301106929779053, 0.04372415691614151, 0.10102688521146774]], [[1.0, 0.0, 0.0, 0.0, 0.0, 0.0, 0.0, 0.0, 0.0, 0.0, 0.0, 0.0, 0.0, 0.0, 0.0, 0.0, 0.0, 0.0, 0.0, 0.0, 0.0, 0.0, 0.0, 0.0, 0.0, 0.0, 0.0, 0.0, 0.0, 0.0, 0.0, 0.0], [0.7707713842391968, 0.22922863066196442, 0.0, 0.0, 0.0, 0.0, 0.0, 0.0, 0.0, 0.0, 0.0, 0.0, 0.0, 0.0, 0.0, 0.0, 0.0, 0.0, 0.0, 0.0, 0.0, 0.0, 0.0, 0.0, 0.0, 0.0, 0.0, 0.0, 0.0, 0.0, 0.0, 0.0], [0.7813623547554016, 0.10978533327579498, 0.10885237157344818, 0.0, 0.0, 0.0, 0.0, 0.0, 0.0, 0.0, 0.0, 0.0, 0.0, 0.0, 0.0, 0.0, 0.0, 0.0, 0.0, 0.0, 0.0, 0.0, 0.0, 0.0, 0.0, 0.0, 0.0, 0.0, 0.0, 0.0, 0.0, 0.0], [0.5350390076637268, 0.1119493767619133, 0.15013688802719116, 0.20287470519542694, 0.0, 0.0, 0.0, 0.0, 0.0, 0.0, 0.0, 0.0, 0.0, 0.0, 0.0, 0.0, 0.0, 0.0, 0.0, 0.0, 0.0, 0.0, 0.0, 0.0, 0.0, 0.0, 0.0, 0.0, 0.0, 0.0, 0.0, 0.0], [0.4180358648300171, 0.16036377847194672, 0.10740306228399277, 0.10625772178173065, 0.2079395353794098, 0.0, 0.0, 0.0, 0.0, 0.0, 0.0, 0.0, 0.0, 0.0, 0.0, 0.0, 0.0, 0.0, 0.0, 0.0, 0.0, 0.0, 0.0, 0.0, 0.0, 0.0, 0.0, 0.0, 0.0, 0.0, 0.0, 0.0], [0.4349866211414337, 0.09579857438802719, 0.08251804858446121, 0.10028505325317383, 0.15332913398742676, 0.13308259844779968, 0.0, 0.0, 0.0, 0.0, 0.0, 0.0, 0.0, 0.0, 0.0, 0.0, 0.0, 0.0, 0.0, 0.0, 0.0, 0.0, 0.0, 0.0, 0.0, 0.0, 0.0, 0.0, 0.0, 0.0, 0.0, 0.0], [0.44621357321739197, 0.056242138147354126, 0.05040302127599716, 0.0708429217338562, 0.09360906481742859, 0.114726223051548, 0.16796304285526276, 0.0, 0.0, 0.0, 0.0, 0.0, 0.0, 0.0, 0.0, 0.0, 0.0, 0.0, 0.0, 0.0, 0.0, 0.0, 0.0, 0.0, 0.0, 0.0, 0.0, 0.0, 0.0, 0.0, 0.0, 0.0], [0.3609194755554199, 0.07294464856386185, 0.05191008374094963, 0.07159046828746796, 0.093216672539711, 0.0954367071390152, 0.14539921283721924, 0.10858277231454849, 0.0, 0.0, 0.0, 0.0, 0.0, 0.0, 0.0, 0.0, 0.0, 0.0, 0.0, 0.0, 0.0, 0.0, 0.0, 0.0, 0.0, 0.0, 0.0, 0.0, 0.0, 0.0, 0.0, 0.0], [0.31714072823524475, 0.07683125883340836, 0.055522847920656204, 0.06445365399122238, 0.08586592972278595, 0.10643256455659866, 0.145211324095726, 0.09439336508512497, 0.05414832383394241, 0.0, 0.0, 0.0, 0.0, 0.0, 0.0, 0.0, 0.0, 0.0, 0.0, 0.0, 0.0, 0.0, 0.0, 0.0, 0.0, 0.0, 0.0, 0.0, 0.0, 0.0, 0.0, 0.0], [0.19288603961467743, 0.11343871057033539, 0.045305054634809494, 0.08361200988292694, 0.057632703334093094, 0.11914195865392685, 0.11441228538751602, 0.12364514917135239, 0.07640959322452545, 0.07351641356945038, 0.0, 0.0, 0.0, 0.0, 0.0, 0.0, 0.0, 0.0, 0.0, 0.0, 0.0, 0.0, 0.0, 0.0, 0.0, 0.0, 0.0, 0.0, 0.0, 0.0, 0.0, 0.0], [0.25174087285995483, 0.060194119811058044, 0.04930209740996361, 0.059223249554634094, 0.08453335613012314, 0.07307685166597366, 0.12308557331562042, 0.08293967694044113, 0.06380268931388855, 0.07185837626457214, 0.08024310320615768, 0.0, 0.0, 0.0, 0.0, 0.0, 0.0, 0.0, 0.0, 0.0, 0.0, 0.0, 0.0, 0.0, 0.0, 0.0, 0.0, 0.0, 0.0, 0.0, 0.0, 0.0], [0.24793608486652374, 0.048557721078395844, 0.0617169588804245, 0.06616784632205963, 0.0878860205411911, 0.0592038556933403, 0.09128591418266296, 0.06866814196109772, 0.06062864512205124, 0.08399355411529541, 0.06569415330886841, 0.05826118588447571, 0.0, 0.0, 0.0, 0.0, 0.0, 0.0, 0.0, 0.0, 0.0, 0.0, 0.0, 0.0, 0.0, 0.0, 0.0, 0.0, 0.0, 0.0, 0.0, 0.0], [0.15039601922035217, 0.0707230269908905, 0.0361880324780941, 0.03812884911894798, 0.054965753108263016, 0.09552797675132751, 0.1278020590543747, 0.09101755172014236, 0.041339460760354996, 0.06619425117969513, 0.11493082344532013, 0.0352681539952755, 0.07751806825399399, 0.0, 0.0, 0.0, 0.0, 0.0, 0.0, 0.0, 0.0, 0.0, 0.0, 0.0, 0.0, 0.0, 0.0, 0.0, 0.0, 0.0, 0.0, 0.0], [0.21730749309062958, 0.0522487573325634, 0.04279686138033867, 0.05130988731980324, 0.07021072506904602, 0.0608486607670784, 0.10094170272350311, 0.06729136407375336, 0.05347270518541336, 0.058032430708408356, 0.0638660341501236, 0.041436824947595596, 0.054298125207424164, 0.06593844294548035, 0.0, 0.0, 0.0, 0.0, 0.0, 0.0, 0.0, 0.0, 0.0, 0.0, 0.0, 0.0, 0.0, 0.0, 0.0, 0.0, 0.0, 0.0], [0.14158983528614044, 0.08735610544681549, 0.04109630361199379, 0.07771319895982742, 0.0664159283041954, 0.06084615737199783, 0.07890867441892624, 0.06467181444168091, 0.041567519307136536, 0.053140271455049515, 0.06033194437623024, 0.04990345612168312, 0.06147691607475281, 0.06152055040001869, 0.05346132069826126, 0.0, 0.0, 0.0, 0.0, 0.0, 0.0, 0.0, 0.0, 0.0, 0.0, 0.0, 0.0, 0.0, 0.0, 0.0, 0.0, 0.0], [0.11277392506599426, 0.051402702927589417, 0.034800734370946884, 0.04410991072654724, 0.049271050840616226, 0.08066026866436005, 0.09371128678321838, 0.07634277641773224, 0.03460071608424187, 0.055565036833286285, 0.09000375866889954, 0.027950910851359367, 0.05808690935373306, 0.09759877622127533, 0.058530546724796295, 0.03459078073501587, 0.0, 0.0, 0.0, 0.0, 0.0, 0.0, 0.0, 0.0, 0.0, 0.0, 0.0, 0.0, 0.0, 0.0, 0.0, 0.0], [0.19136793911457062, 0.045888010412454605, 0.03718419373035431, 0.04478847607970238, 0.05845541134476662, 0.05162312462925911, 0.08451797813177109, 0.05661727860569954, 0.04477924481034279, 0.046815864741802216, 0.05177520215511322, 0.03474310785531998, 0.043655917048454285, 0.05257755145430565, 0.04571911320090294, 0.05523937568068504, 0.05425223708152771, 0.0, 0.0, 0.0, 0.0, 0.0, 0.0, 0.0, 0.0, 0.0, 0.0, 0.0, 0.0, 0.0, 0.0, 0.0], [0.178098663687706, 0.036513157188892365, 0.03537803515791893, 0.046600598841905594, 0.05606747418642044, 0.05542531982064247, 0.06580900400876999, 0.05869592726230621, 0.04460206255316734, 0.03845332935452461, 0.055220697075128555, 0.028129274025559425, 0.038876306265592575, 0.05635210499167442, 0.04307204484939575, 0.048592112958431244, 0.05801302567124367, 0.05610087141394615, 0.0, 0.0, 0.0, 0.0, 0.0, 0.0, 0.0, 0.0, 0.0, 0.0, 0.0, 0.0, 0.0, 0.0], [0.11277120560407639, 0.04416341334581375, 0.01679084822535515, 0.03922896832227707, 0.03057023510336876, 0.08429382741451263, 0.058298345655202866, 0.07985575497150421, 0.027740221470594406, 0.02460792474448681, 0.08568026125431061, 0.012135539203882217, 0.021223627030849457, 0.08979953080415726, 0.024395622313022614, 0.01800008863210678, 0.09797865152359009, 0.08564863353967667, 0.04681730270385742, 0.0, 0.0, 0.0, 0.0, 0.0, 0.0, 0.0, 0.0, 0.0, 0.0, 0.0, 0.0, 0.0], [0.15648673474788666, 0.04359336942434311, 0.029469123110175133, 0.02338278293609619, 0.03989395126700401, 0.06601449102163315, 0.07239894568920135, 0.04959876835346222, 0.025720074772834778, 0.02872990444302559, 0.07268747687339783, 0.020104384049773216, 0.03894992545247078, 0.0779348686337471, 0.03185015916824341, 0.02957259677350521, 0.08162928372621536, 0.04983031004667282, 0.04757083207368851, 0.014582022093236446, 0.0, 0.0, 0.0, 0.0, 0.0, 0.0, 0.0, 0.0, 0.0, 0.0, 0.0, 0.0], [0.16675151884555817, 0.04021674022078514, 0.031946275383234024, 0.039155539125204086, 0.04867974668741226, 0.04351937025785446, 0.07027736306190491, 0.04676978662610054, 0.0373704694211483, 0.03785954415798187, 0.041853487491607666, 0.02943878062069416, 0.03496701270341873, 0.04187152534723282, 0.036659613251686096, 0.044189486652612686, 0.04244700446724892, 0.043090011924505234, 0.055408257991075516, 0.02402997761964798, 0.043498486280441284, 0.0, 0.0, 0.0, 0.0, 0.0, 0.0, 0.0, 0.0, 0.0, 0.0, 0.0], [0.21311703324317932, 0.03452149033546448, 0.026512056589126587, 0.03728465735912323, 0.04200228303670883, 0.053780753165483475, 0.06410717964172363, 0.04019589349627495, 0.029513943940401077, 0.030562084168195724, 0.048140499740839005, 0.019645754247903824, 0.023855971172451973, 0.047123607248067856, 0.027805257588624954, 0.0256328284740448, 0.04690321907401085, 0.042115043848752975, 0.04245338961482048, 0.016209980472922325, 0.04720154032111168, 0.04131559655070305, 0.0, 0.0, 0.0, 0.0, 0.0, 0.0, 0.0, 0.0, 0.0, 0.0], [0.16099101305007935, 0.031492117792367935, 0.025505997240543365, 0.03203627094626427, 0.0381193645298481, 0.05386464670300484, 0.052892010658979416, 0.06297365576028824, 0.03872941434383392, 0.030703021213412285, 0.0486149899661541, 0.016964135691523552, 0.020984867587685585, 0.047434885054826736, 0.026178555563092232, 0.032817061990499496, 0.04874100536108017, 0.037023067474365234, 0.05028444901108742, 0.014425943605601788, 0.049269214272499084, 0.027485152706503868, 0.05246913433074951, 0.0, 0.0, 0.0, 0.0, 0.0, 0.0, 0.0, 0.0, 0.0], [0.13924188911914825, 0.04732196033000946, 0.02292007952928543, 0.037826742976903915, 0.037331581115722656, 0.056281980127096176, 0.06773107498884201, 0.0638374611735344, 0.02882455848157406, 0.02836860530078411, 0.05008407309651375, 0.01477518305182457, 0.021058904007077217, 0.04819711670279503, 0.017685122787952423, 0.015456234104931355, 0.048428013920784, 0.03709954768419266, 0.04247326776385307, 0.018426818773150444, 0.04861331731081009, 0.02267395332455635, 0.059989579021930695, 0.0253529641777277, 0.0, 0.0, 0.0, 0.0, 0.0, 0.0, 0.0, 0.0], [0.195623517036438, 0.03233328461647034, 0.022874098271131516, 0.03839077427983284, 0.03449878469109535, 0.04616905748844147, 0.055537499487400055, 0.03960666060447693, 0.023098396137356758, 0.02424929291009903, 0.04043305665254593, 0.016078554093837738, 0.021624945104122162, 0.03903055936098099, 0.02652088552713394, 0.028113441541790962, 0.03823629766702652, 0.03542611747980118, 0.04174574092030525, 0.021097132936120033, 0.03767954185605049, 0.0372869111597538, 0.044239237904548645, 0.022921515628695488, 0.03718467429280281, 0.0, 0.0, 0.0, 0.0, 0.0, 0.0, 0.0], [0.05819650739431381, 0.03889738768339157, 0.026005249470472336, 0.023567894473671913, 0.022979984059929848, 0.05384150892496109, 0.05806107819080353, 0.06858772039413452, 0.0374598391354084, 0.02915911190211773, 0.054746728390455246, 0.013592950068414211, 0.02764706313610077, 0.055754028260707855, 0.030779855325818062, 0.01613735593855381, 0.05745428055524826, 0.039687298238277435, 0.03406552970409393, 0.013110971078276634, 0.05977655202150345, 0.01604376919567585, 0.029699288308620453, 0.020566539838910103, 0.08347288519144058, 0.03070860728621483, 0.0, 0.0, 0.0, 0.0, 0.0, 0.0], [0.15561480820178986, 0.03032318688929081, 0.021067587658762932, 0.038600414991378784, 0.02508925274014473, 0.047195207327604294, 0.04255649819970131, 0.05166256055235863, 0.030368108302354813, 0.020133625715970993, 0.04255696386098862, 0.018511774018406868, 0.018671724945306778, 0.0414302833378315, 0.022022131830453873, 0.021061044186353683, 0.04166620224714279, 0.027249226346611977, 0.0404815748333931, 0.015536416321992874, 0.042196206748485565, 0.01700734533369541, 0.06220952421426773, 0.01570315472781658, 0.05443187057971954, 0.04092409089207649, 0.015729233622550964, 0.0, 0.0, 0.0, 0.0, 0.0], [0.15218870341777802, 0.03232048079371452, 0.026277612894773483, 0.03215135633945465, 0.037080537527799606, 0.03843335807323456, 0.0421852245926857, 0.03440920636057854, 0.02929617278277874, 0.02475227601826191, 0.034612324088811874, 0.021795077249407768, 0.023419685661792755, 0.03386644646525383, 0.02858060598373413, 0.03440326824784279, 0.03315696120262146, 0.02671040967106819, 0.042135659605264664, 0.01902136206626892, 0.0327858030796051, 0.026840005069971085, 0.033044565469026566, 0.023302637040615082, 0.03390036150813103, 0.039449241012334824, 0.021334229037165642, 0.04254646599292755, 0.0, 0.0, 0.0, 0.0], [0.09977614134550095, 0.045185912400484085, 0.02958466112613678, 0.02811736799776554, 0.0493277981877327, 0.02337893843650818, 0.04198449105024338, 0.026188461109995842, 0.026317840442061424, 0.027425218373537064, 0.021870847791433334, 0.024617725983262062, 0.0348033532500267, 0.021817654371261597, 0.041933149099349976, 0.03740725293755531, 0.021930357441306114, 0.013604700565338135, 0.03667318820953369, 0.01471316535025835, 0.02271929569542408, 0.03428024798631668, 0.045899905264377594, 0.03174470365047455, 0.031793709844350815, 0.04868994653224945, 0.029625169932842255, 0.03888040408492088, 0.04970846325159073, 0.0, 0.0, 0.0], [0.19775262475013733, 0.03449949622154236, 0.021167084574699402, 0.03054543025791645, 0.036223169416189194, 0.03703129291534424, 0.049369703978300095, 0.03674743324518204, 0.031546998769044876, 0.024364512413740158, 0.03022662177681923, 0.017602981999516487, 0.013637429103255272, 0.028486423194408417, 0.0230624508112669, 0.015952080488204956, 0.02745819464325905, 0.015807462856173515, 0.03072834014892578, 0.010418451391160488, 0.02675286866724491, 0.01785406656563282, 0.04267163947224617, 0.02063557878136635, 0.03171920031309128, 0.03195527195930481, 0.013636214658617973, 0.035269834101200104, 0.02952219732105732, 0.03735493868589401, 0.0, 0.0], [0.05901040509343147, 0.03417818620800972, 0.01378186047077179, 0.024386465549468994, 0.019287975504994392, 0.06566286832094193, 0.03015122562646866, 0.03592650219798088, 0.019136184826493263, 0.01226641796529293, 0.06324264407157898, 0.011972344480454922, 0.009669709019362926, 0.0649876743555069, 0.022066358476877213, 0.011141560040414333, 0.06767814606428146, 0.0243496336042881, 0.02700670436024666, 0.006269993260502815, 0.07134175300598145, 0.03798269107937813, 0.030613692477345467, 0.022162530571222305, 0.04487978667020798, 0.021838873624801636, 0.013939566910266876, 0.04792989045381546, 0.020315995439887047, 0.017737001180648804, 0.04908538982272148, 0.0], [0.13711190223693848, 0.03071214258670807, 0.02632065676152706, 0.037225391715765, 0.039176177233457565, 0.033356256783008575, 0.04988371580839157, 0.030602138489484787, 0.025984106585383415, 0.024889294058084488, 0.028232691809535027, 0.02273746207356453, 0.024507910013198853, 0.02655183896422386, 0.02363431081175804, 0.025945276021957397, 0.025139393284916878, 0.021589571610093117, 0.030590133741497993, 0.01822449080646038, 0.023709474131464958, 0.0214943028986454, 0.035117682069540024, 0.02180389128625393, 0.023221582174301147, 0.03350698947906494, 0.014604656025767326, 0.024833302944898605, 0.026814166456460953, 0.03129003942012787, 0.02787346951663494, 0.033315591514110565]]]}\n",
       "    )\n",
       "    </script>"
      ]
     },
     "execution_count": 36,
     "metadata": {},
     "output_type": "execute_result"
    }
   ],
   "execution_count": 36
  },
  {
   "metadata": {},
   "cell_type": "markdown",
   "source": [
    "Dans ce cas, nous ne voulions que les patterns d’attention de la couche 0, mais nous stockons les activations internes provenant de tous les endroits du modèle. C’est pratique d’avoir accès à toutes les activations, mais cela peut devenir très coûteux en mémoire pour des modèles plus grands, des batchs plus volumineux ou des séquences plus longues.\n",
    "\n",
    "De plus, nous n’avons pas besoin d’exécuter l’entier du passage avant (full forward pass) dans le modèle pour récupérer les patterns d’attention de la couche 0. La cellule suivante ne collectera que les patterns d’attention de la couche 0 et arrêtera la passe avant à la couche 1, ce qui réduit fortement l’empreinte mémoire et le calcul nécessaires."
   ],
   "id": "9f95f0965a732c4a"
  },
  {
   "metadata": {
    "ExecuteTime": {
     "end_time": "2025-08-31T14:23:21.909530Z",
     "start_time": "2025-08-31T14:23:21.883727Z"
    }
   },
   "cell_type": "code",
   "source": [
    "# Nom du hook\n",
    "attn_hook_name = \"blocks.0.attn.hook_pattern\"\n",
    "\n",
    "# Layer correspondant\n",
    "attn_layer = 0\n",
    "\n",
    "# On garde en cache jusqu'à la couche < 1, et on garde seulement le hook.\n",
    "_, gpt2_attn_cache = model.run_with_cache(gpt2_tokens, remove_batch_dim=True, stop_at_layer=attn_layer + 1, names_filter=[attn_hook_name])\n",
    "\n",
    "# Récupère les cartes d'attention\n",
    "gpt2_attn = gpt2_attn_cache[attn_hook_name]\n",
    "assert torch.equal(gpt2_attn, attention_pattern)"
   ],
   "id": "dddbdc42ef65833a",
   "outputs": [],
   "execution_count": 38
  },
  {
   "metadata": {},
   "cell_type": "markdown",
   "source": "## Hooks: Intervening on Activations",
   "id": "b0df584a84fd9571"
  },
  {
   "metadata": {},
   "cell_type": "markdown",
   "source": [
    "L’un des grands avantages de l’interprétation des réseaux de neurones est que nous avons un **contrôle total** sur notre système. D’un point de vue computationnel, nous savons exactement quelles opérations ont lieu à l’intérieur (même si nous ne savons pas toujours ce qu’elles signifient !). Et nous pouvons effectuer des modifications précises et ciblées, puis observer comment le comportement du modèle et ses activations internes changent. C’est un outil extrêmement puissant, car il permet par exemple de mettre en place des contre-factuels rigoureux et des interventions causales pour comprendre facilement le comportement du modèle.\n",
    "\n",
    "En conséquence, la possibilité de faire cela constitue une opération **centrale**, et c’est l’une des principales fonctionnalités offertes par **TransformerLens** ! La clé ici est le concept de **hook points**. Chaque activation à l’intérieur du transformeur est entourée d’un hook point, qui permet de la modifier ou d’intervenir dessus.\n",
    "\n",
    "Nous procédons en ajoutant une **fonction hook** à cette activation. La fonction hook prend en entrée `current_activation_value, hook_point` et retourne `new_activation_value`. Lors de l’exécution du modèle, l’activation est calculée normalement, puis la fonction hook est appliquée pour produire une valeur de remplacement, qui est insérée à la place de l’activation. La fonction hook peut être n’importe quelle fonction Python, tant qu’elle retourne un tenseur de la bonne forme.\n",
    "\n",
    "#### Lien avec les hooks PyTorch\n",
    "\n",
    "Les [hooks PyTorch](https://blog.paperspace.com/pytorch-hooks-gradient-clipping-debugging/) sont une fonctionnalité très utile mais souvent méconnue… et parfois assez bancale. Ils permettent d’agir sur une couche et de modifier son entrée ou sa sortie, ou encore le gradient lors de l’autodifférentiation. La différence essentielle est que les **hook points** agissent sur les *activations* et non sur les couches. Cela signifie que l’on peut intervenir à l’intérieur d’une couche, directement sur chaque activation, sans se soucier de la structure précise des couches du transformeur. Et il est immédiatement clair de quelle manière l’effet du hook s’applique. Cette approche a été directement inspirée par l’usage des *ProbePoints* dans [Garcon](https://transformer-circuits.pub/2021/garcon/index.html).\n",
    "\n",
    "Ils s’accompagnent aussi de plusieurs améliorations pratiques, comme la méthode `model.reset_hooks()` qui permet de supprimer tous les hooks, ou encore des méthodes utilitaires pour ajouter temporairement des hooks le temps d’un seul passage avant (*forward pass*). Avec les hooks PyTorch standards, il est *extrêmement* facile de se tirer une balle dans le pied !\n"
   ],
   "id": "67f21633d15c8c7c"
  },
  {
   "metadata": {},
   "cell_type": "markdown",
   "source": [
    "Comme exemple de base, **ablons** (mettons à zéro) la tête 7 de la couche 0 sur le texte ci-dessus.\n",
    "\n",
    "On définit une fonction `head_ablation_hook`. Elle prend le tenseur de valeurs (value) pour la couche d’attention 0, met à zéro la composante où `head_index == 7`, puis la renvoie (Note : on renvoie par convention, mais comme on modifie l’activation *in place*, ce n’est pas strictement *nécessaire*).\n",
    "\n",
    "On utilise ensuite le helper `run_with_hooks` pour exécuter le modèle et ajouter *temporairement* ce hook uniquement pour ce passage. On fournit le hook sous forme de tuple : le nom de l’activation (qui est aussi le nom du hook point — récupérable avec `utils.get_act_name`) et la fonction hook.\n"
   ],
   "id": "dd7420407c944010"
  },
  {
   "metadata": {
    "ExecuteTime": {
     "end_time": "2025-08-31T14:29:16.479701Z",
     "start_time": "2025-08-31T14:29:16.438469Z"
    }
   },
   "cell_type": "code",
   "source": [
    "layer_to_ablate = 0\n",
    "head_index_to_ablate = 8\n",
    "\n",
    "# We define a head ablation hook\n",
    "# The type annotations are NOT necessary, they're just a useful guide to the reader\n",
    "def head_ablation_hook(\n",
    "    value: Float[torch.Tensor, \"batch pos head_index d_head\"],\n",
    "    hook: HookPoint\n",
    ") -> Float[torch.Tensor, \"batch pos head_index d_head\"]:\n",
    "    \"\"\"\n",
    "    Define an ablation hook.\n",
    "    \"\"\"\n",
    "    # Value est de taille (1 batch, 33 tokens ?, 12 têtes, 64 ?)\n",
    "    value[:, :, head_index_to_ablate, :] = 0.\n",
    "    return value\n",
    "# end head_ablation_hook\n",
    "\n",
    "# Tourne le modèle sans hook\n",
    "original_loss = model(gpt2_tokens, return_type=\"loss\")\n",
    "\n",
    "# Tourne le modèle avec le hook\n",
    "ablated_loss = model.run_with_hooks(\n",
    "    gpt2_tokens,\n",
    "    return_type=\"loss\",\n",
    "    fwd_hooks=[\n",
    "        (\n",
    "            utils.get_act_name(\"v\", layer_to_ablate),\n",
    "            head_ablation_hook\n",
    "        )\n",
    "    ]\n",
    ")\n",
    "\n",
    "# Affiche\n",
    "print(f\"Original Loss: {original_loss.item():.3f}\")\n",
    "print(f\"Ablated Loss: {ablated_loss.item():.3f}\")"
   ],
   "id": "f32dd833ba2ca193",
   "outputs": [
    {
     "name": "stdout",
     "output_type": "stream",
     "text": [
      "Original Loss: 3.624\n",
      "Ablated Loss: 4.983\n"
     ]
    }
   ],
   "execution_count": 39
  },
  {
   "metadata": {},
   "cell_type": "markdown",
   "source": [
    "**Attention :** Les hooks sont un **état global** — ils sont ajoutés au modèle et y restent tant qu’on ne les a pas retirés. La fonction `run_with_hooks` essaie d’abstraire cela en les traitant comme un état local, en supprimant tous les hooks à la fin de l’exécution. Mais on peut facilement se tirer une balle dans le pied si, par exemple, une erreur survient dans l’un des hooks et que la fonction ne termine jamais.\n",
    "\n",
    "Si vous commencez à rencontrer des bugs, essayez `model.reset_hooks()` pour tout nettoyer. Par ailleurs, si vous **ajoutez volontairement vos propres hooks** que vous souhaitez conserver, vous pouvez le faire avec `add_perma_hook` sur le *HookPoint* concerné."
   ],
   "id": "5f9b07fe3a6a7b2b"
  },
  {
   "metadata": {},
   "cell_type": "markdown",
   "source": "### *Activation Patching* sur la tâche d’Identification de l’Objet Indirect",
   "id": "15521f527696f31b"
  },
  {
   "metadata": {},
   "cell_type": "markdown",
   "source": [
    "Pour un exemple un peu plus élaboré, utilisons des hooks pour appliquer le **[activation patching](https://dynalist.io/d/n2ZWtnoYHrU1s4vnFSAQ519J#z=qeWBvs-R-taFfcCq-S_hgMqx)** sur la tâche **[Indirect Object Identification](https://dynalist.io/d/n2ZWtnoYHrU1s4vnFSAQ519J#z=iWsV3s5Kdd2ca3zNgXr5UPHa)** (IOI).\n",
    "\n",
    "La tâche IOI consiste à reconnaître que, dans une phrase comme « After John and Mary went to the store, Mary gave a bottle of milk to », la suite correcte est « John » plutôt que « Mary » (c’est-à-dire identifier l’objet indirect). Redwood Research a publié [un excellent article étudiant le circuit sous-jacent dans GPT-2 Small](https://arxiv.org/abs/2211.00593).\n",
    "\n",
    "L’**activation patching** est une technique issue de l’[excellent papier ROME de Kevin Meng et David Bau](https://rome.baulab.info/). L’objectif est d’identifier quelles activations du modèle sont importantes pour accomplir une tâche. Pour cela, on prépare un **prompt propre (clean)** et un **prompt corrompu (corrupted)** ainsi qu’une **métrique** de performance. On choisit ensuite une activation précise du modèle, on exécute le modèle sur le prompt corrompu, puis on *intervient* sur cette activation en la **remplaçant** par sa valeur obtenue lorsque le modèle est exécuté sur le prompt propre. On applique alors la métrique et on mesure dans quelle mesure ce « patch » restaure la performance du prompt propre.\n",
    "(Voir [une démonstration plus détaillée de l’activation patching ici](https://colab.research.google.com/github/TransformerLensOrg/TransformerLens/blob/main/demos/Exploratory_Analysis_Demo.ipynb).)\n"
   ],
   "id": "58ecc8e9e5c919a5"
  },
  {
   "metadata": {},
   "cell_type": "markdown",
   "source": [
    "Ici, notre **prompt propre** est :\n",
    "« After John and Mary went to the store, **Mary** gave a bottle of milk to » et notre **prompt corrompu** est :\n",
    "« After John and Mary went to the store, **John** gave a bottle of milk to »\n",
    "\n",
    "Notre métrique est la différence entre le logit correct (*John*) et le logit incorrect (*Mary*) sur le dernier token.\n",
    "\n",
    "On observe que la différence de logit est nettement positive pour le prompt propre, et nettement négative pour le prompt corrompu, ce qui montre que le modèle est bel et bien capable de réaliser la tâche !"
   ],
   "id": "c76f90c85bd914fe"
  },
  {
   "metadata": {
    "ExecuteTime": {
     "end_time": "2025-08-31T14:35:41.109569Z",
     "start_time": "2025-08-31T14:35:41.055429Z"
    }
   },
   "cell_type": "code",
   "source": [
    "# Prompts clean et corrompus\n",
    "clean_prompt = \"After John and Mary went to the store, Mary gave a bottle of milk to\"\n",
    "corrupted_prompt = \"After John and Mary went to the store, John gave a bottle of milk to\"\n",
    "\n",
    "# Transforme les prompts en token\n",
    "clean_tokens = model.to_tokens(clean_prompt)\n",
    "corrupted_tokens = model.to_tokens(corrupted_prompt)\n",
    "\n",
    "# La métrique d'erreur\n",
    "def logits_to_logit_diff(\n",
    "        logits,\n",
    "        correct_answer=\" John\",\n",
    "        incorrect_answer=\" Mary\"\n",
    "):\n",
    "    # model.to_single_token maps a string value of a single token to the token index for that token\n",
    "    # If the string is not a single token, it raises an error.\n",
    "    correct_index = model.to_single_token(correct_answer)\n",
    "    incorrect_index = model.to_single_token(incorrect_answer)\n",
    "    return logits[0, -1, correct_index] - logits[0, -1, incorrect_index]\n",
    "# end logits_to_logit_diff\n",
    "\n",
    "# On fait tourner le modèle avec le prompt clean pour garder les activations.\n",
    "clean_logits, clean_cache = model.run_with_cache(clean_tokens)\n",
    "clean_logit_diff = logits_to_logit_diff(clean_logits)\n",
    "print(f\"Clean logit difference: {clean_logit_diff.item():.3f}\")\n",
    "\n",
    "# On a pas besoin de garder les activations sur ce coup.\n",
    "corrupted_logits = model(corrupted_tokens)\n",
    "corrupted_logit_diff = logits_to_logit_diff(corrupted_logits)\n",
    "print(f\"Corrupted logit difference: {corrupted_logit_diff.item():.3f}\")"
   ],
   "id": "3fe9c292b46f1c44",
   "outputs": [
    {
     "name": "stdout",
     "output_type": "stream",
     "text": [
      "Clean logit difference: 4.276\n",
      "Corrupted logit difference: -2.738\n"
     ]
    }
   ],
   "execution_count": 40
  },
  {
   "metadata": {},
   "cell_type": "markdown",
   "source": [
    "Nous allons maintenant définir la fonction de *hook* pour faire de l’**activation patching**. Ici, nous allons **patcher le flux résiduel** (*residual stream*) au **début d’une couche donnée** et à **une position donnée**. Cela nous permettra de mesurer dans quelle mesure le modèle utilise le flux résiduel, à cette couche et à cette position, pour représenter l’information clé de la tâche.\n",
    "\n",
    "Comme nous voulons itérer sur **toutes les couches** et **toutes les positions**, nous écrivons le hook de façon à accepter un paramètre `position`. Les fonctions de hook doivent avoir la signature d’entrée `(activation, hook)`, mais on peut utiliser `functools.partial` pour fixer à l’avance le paramètre `position` avant de passer la fonction à `run_with_hooks`.\n"
   ],
   "id": "65b2a76892e3ecb6"
  },
  {
   "metadata": {
    "ExecuteTime": {
     "end_time": "2025-08-31T14:40:56.135677Z",
     "start_time": "2025-08-31T14:40:49.852503Z"
    }
   },
   "cell_type": "code",
   "source": [
    "# On définit un hook pour patcher le residual.\n",
    "# On choisit d'agir sur le résidual au début de la couche, donc resid_pre.\n",
    "def residual_stream_patching_hook(\n",
    "    resid_pre: Float[torch.Tensor, \"batch pos d_model\"],\n",
    "    hook: HookPoint,\n",
    "    position: int\n",
    ") -> Float[torch.Tensor, \"batch pos d_model\"]:\n",
    "    \"\"\"\n",
    "    To document.\n",
    "    \"\"\"\n",
    "    # Each HookPoint has a name attribute giving the name of the hook.\n",
    "    clean_resid_pre = clean_cache[hook.name]\n",
    "    resid_pre[:, position, :] = clean_resid_pre[:, position, :]\n",
    "    return resid_pre\n",
    "# end residual_stream_patching_hook\n",
    "\n",
    "# On crée un tensor pour garder les résultats de chaque patch.\n",
    "# On le met sur le device pour éviter des problèmes GPU/CPU.\n",
    "num_positions = len(clean_tokens[0])\n",
    "ioi_patching_result = torch.zeros((model.cfg.n_layers, num_positions), device=model.cfg.device)\n",
    "\n",
    "# Pour chaque couche\n",
    "for layer in tqdm.tqdm(range(model.cfg.n_layers)):\n",
    "    # Pour chaque position\n",
    "    for position in range(num_positions):\n",
    "        # Use functools.partial to create a temporary hook function with the position fixed\n",
    "        temp_hook_fn = partial(residual_stream_patching_hook, position=position)\n",
    "        # Run the model with the patching hook\n",
    "        patched_logits = model.run_with_hooks(corrupted_tokens, fwd_hooks=[\n",
    "            (utils.get_act_name(\"resid_pre\", layer), temp_hook_fn)\n",
    "        ])\n",
    "        # Calculate the logit difference\n",
    "        patched_logit_diff = logits_to_logit_diff(patched_logits).detach()\n",
    "        # Store the result, normalizing by the clean and corrupted logit difference so it's between 0 and 1 (ish)\n",
    "        ioi_patching_result[layer, position] = (patched_logit_diff - corrupted_logit_diff)/(clean_logit_diff - corrupted_logit_diff)\n",
    "    # end for position\n",
    "# end for layer"
   ],
   "id": "497f753b7b71cba7",
   "outputs": [
    {
     "data": {
      "text/plain": [
       "  0%|          | 0/12 [00:00<?, ?it/s]"
      ],
      "application/vnd.jupyter.widget-view+json": {
       "version_major": 2,
       "version_minor": 0,
       "model_id": "8fe45bb7190a4bc49d36ef9210a5707b"
      }
     },
     "metadata": {},
     "output_type": "display_data"
    }
   ],
   "execution_count": 41
  },
  {
   "metadata": {},
   "cell_type": "markdown",
   "source": [
    "Nous pouvons maintenant visualiser les résultats et constater que ce calcul est extrêmement localisé dans le modèle. Au départ, c’est le token du deuxième sujet (Mary) qui importe (logiquement, puisque c’est le seul token qui diffère). Toute l’information pertinente reste concentrée à cet endroit, jusqu’à ce que des têtes dans les couches 7 et 8 transfèrent cette information vers le dernier token, où elle est utilisée pour prédire l’objet indirect.\n",
    "\n",
    "(Remarque – les têtes sont bien en couches 7 et 8, et non en 8 et 9, car nous avons patché le flux résiduel au début de chaque couche.)"
   ],
   "id": "342033ad8f1698bc"
  },
  {
   "metadata": {
    "ExecuteTime": {
     "end_time": "2025-08-31T14:41:06.670363Z",
     "start_time": "2025-08-31T14:41:06.617092Z"
    }
   },
   "cell_type": "code",
   "source": [
    "# Add the index to the end of the label, because plotly doesn't like duplicate labels\n",
    "token_labels = [f\"{token}_{index}\" for index, token in enumerate(model.to_str_tokens(clean_tokens))]\n",
    "imshow(\n",
    "    ioi_patching_result,\n",
    "    x=token_labels,\n",
    "    xaxis=\"Position\",\n",
    "    yaxis=\"Layer\",\n",
    "    title=\"Normalized Logit Difference After Patching Residual Stream on the IOI Task\"\n",
    ")"
   ],
   "id": "7f75ec60327a36ed",
   "outputs": [
    {
     "data": {
      "text/html": [
       "        <script type=\"text/javascript\">\n",
       "        window.PlotlyConfig = {MathJaxConfig: 'local'};\n",
       "        if (window.MathJax && window.MathJax.Hub && window.MathJax.Hub.Config) {window.MathJax.Hub.Config({SVG: {font: \"STIX-Web\"}});}\n",
       "        </script>\n",
       "        <script type=\"module\">import \"https://cdn.plot.ly/plotly-3.1.0.min\"</script>\n",
       "        "
      ]
     },
     "metadata": {},
     "output_type": "display_data"
    },
    {
     "data": {
      "text/html": [
       "<div>            <script src=\"https://cdnjs.cloudflare.com/ajax/libs/mathjax/2.7.5/MathJax.js?config=TeX-AMS-MML_SVG\"></script><script type=\"text/javascript\">if (window.MathJax && window.MathJax.Hub && window.MathJax.Hub.Config) {window.MathJax.Hub.Config({SVG: {font: \"STIX-Web\"}});}</script>                <script type=\"text/javascript\">window.PlotlyConfig = {MathJaxConfig: 'local'};</script>\n",
       "        <script charset=\"utf-8\" src=\"https://cdn.plot.ly/plotly-3.1.0.min.js\" integrity=\"sha256-Ei4740bWZhaUTQuD6q9yQlgVCMPBz6CZWhevDYPv93A=\" crossorigin=\"anonymous\"></script>                <div id=\"10d04429-7283-4013-8461-bd73701d1a85\" class=\"plotly-graph-div\" style=\"height:525px; width:100%;\"></div>            <script type=\"text/javascript\">                window.PLOTLYENV=window.PLOTLYENV || {};                                if (document.getElementById(\"10d04429-7283-4013-8461-bd73701d1a85\")) {                    Plotly.newPlot(                        \"10d04429-7283-4013-8461-bd73701d1a85\",                        [{\"coloraxis\":\"coloraxis\",\"name\":\"0\",\"x\":[\"\\u003c|endoftext|\\u003e_0\",\"After_1\",\" John_2\",\" and_3\",\" Mary_4\",\" went_5\",\" to_6\",\" the_7\",\" store_8\",\",_9\",\" Mary_10\",\" gave_11\",\" a_12\",\" bottle_13\",\" of_14\",\" milk_15\",\" to_16\"],\"z\":{\"dtype\":\"f4\",\"bdata\":\"AAAAAAAAAAAAAAAAAAAAAAAAAAAAAAAAAAAAAAAAAAAAAAAAAAAAAAAAgD8AAAAAAAAAAAAAAAAAAAAAAAAAAAAAAAAAAAAAAAAAAAAAAAAAAAAAAAAAAAAAAAAAAAAAAAAAAAAAAAAAAAAAXoZ\\u002fP86v0ToO0x45HeXCueBdrbd8qyS6GoQGugAAAAAAAAAAAAAAAAAAAAAAAAAAAAAAAAAAAAAAAAAAAAAAAAAAAACIgH8\\u002furcVO6MKQTlglwS6S2+LuWBtVrhzhae6AAAAAAAAAAAAAAAAAAAAAAAAAAAAAAAAAAAAAAAAAAAAAAAAAAAAABUqfz81woU7n2p\\u002fOpVRRTj4qiW51oCwucHh\\u002froAAAAAAAAAAAAAAAAAAAAAAAAAAAAAAAAAAAAAAAAAAAAAAAAAAAAAGpd9Pz6+ozx1gPg64LuEOkq4i7jT4G468jb5ugAAAAAAAAAAAAAAAAAAAAAAAAAAAAAAAAAAAAAAAAAAAAAAAAAAAADoLnY\\u002f3MmuPVl\\u002fqjvMPUg7eLpOOZg+kTrawBW7AAAAAAAAAAAAAAAAAAAAAAAAAAAAAAAAAAAAAAAAAAAAAAAAAAAAAJCNdj++yqw98ByHO7DDPDpXR9k4pIWDOmcbirsAAAAAAAAAAAAAAAAAAAAAAAAAAAAAAAAAAAAAAAAAAAAAAAAAAAAAPphvP8WR4z2wgPw7F+TEOSVUwDmf3a06mpSZPAAAAAAAAAAAAAAAAAAAAAAAAAAAAAAAAAAAAAAAAAAAAAAAAAAAAADYKEU\\u002fDEUZPYdaBzviy6y4TCYLORpe4joFWuY+AAAAAAAAAAAAAAAAAAAAAAAAAAAAAAAAAAAAAAAAAAAAAAAAAAAAANmjxT20ZNQ8qz0BO2c6qzlF+945eRP3OqpDZj8AAAAAAAAAAAAAAAAAAAAAAAAAAAAAAAAAAAAAAAAAAAAAAAAAAAAAFQ+\\u002fvBDalzwUDNA6EKcJOl27hTkzr2Q6EBZ2PwAAAAAAAAAAAAAAAAAAAAAAAAAAAAAAAAAAAAAAAAAAAAAAAAAAAAAMMAy8XMXPO6MfGDpSErK5LWXmOGpfKjqpF3M\\u002f\",\"shape\":\"12, 17\"},\"type\":\"heatmap\",\"xaxis\":\"x\",\"yaxis\":\"y\",\"hovertemplate\":\"Position: %{x}\\u003cbr\\u003eLayer: %{y}\\u003cbr\\u003ecolor: %{z}\\u003cextra\\u003e\\u003c\\u002fextra\\u003e\"}],                        {\"template\":{\"data\":{\"histogram2dcontour\":[{\"type\":\"histogram2dcontour\",\"colorbar\":{\"outlinewidth\":0,\"ticks\":\"\"},\"colorscale\":[[0.0,\"#0d0887\"],[0.1111111111111111,\"#46039f\"],[0.2222222222222222,\"#7201a8\"],[0.3333333333333333,\"#9c179e\"],[0.4444444444444444,\"#bd3786\"],[0.5555555555555556,\"#d8576b\"],[0.6666666666666666,\"#ed7953\"],[0.7777777777777778,\"#fb9f3a\"],[0.8888888888888888,\"#fdca26\"],[1.0,\"#f0f921\"]]}],\"choropleth\":[{\"type\":\"choropleth\",\"colorbar\":{\"outlinewidth\":0,\"ticks\":\"\"}}],\"histogram2d\":[{\"type\":\"histogram2d\",\"colorbar\":{\"outlinewidth\":0,\"ticks\":\"\"},\"colorscale\":[[0.0,\"#0d0887\"],[0.1111111111111111,\"#46039f\"],[0.2222222222222222,\"#7201a8\"],[0.3333333333333333,\"#9c179e\"],[0.4444444444444444,\"#bd3786\"],[0.5555555555555556,\"#d8576b\"],[0.6666666666666666,\"#ed7953\"],[0.7777777777777778,\"#fb9f3a\"],[0.8888888888888888,\"#fdca26\"],[1.0,\"#f0f921\"]]}],\"heatmap\":[{\"type\":\"heatmap\",\"colorbar\":{\"outlinewidth\":0,\"ticks\":\"\"},\"colorscale\":[[0.0,\"#0d0887\"],[0.1111111111111111,\"#46039f\"],[0.2222222222222222,\"#7201a8\"],[0.3333333333333333,\"#9c179e\"],[0.4444444444444444,\"#bd3786\"],[0.5555555555555556,\"#d8576b\"],[0.6666666666666666,\"#ed7953\"],[0.7777777777777778,\"#fb9f3a\"],[0.8888888888888888,\"#fdca26\"],[1.0,\"#f0f921\"]]}],\"contourcarpet\":[{\"type\":\"contourcarpet\",\"colorbar\":{\"outlinewidth\":0,\"ticks\":\"\"}}],\"contour\":[{\"type\":\"contour\",\"colorbar\":{\"outlinewidth\":0,\"ticks\":\"\"},\"colorscale\":[[0.0,\"#0d0887\"],[0.1111111111111111,\"#46039f\"],[0.2222222222222222,\"#7201a8\"],[0.3333333333333333,\"#9c179e\"],[0.4444444444444444,\"#bd3786\"],[0.5555555555555556,\"#d8576b\"],[0.6666666666666666,\"#ed7953\"],[0.7777777777777778,\"#fb9f3a\"],[0.8888888888888888,\"#fdca26\"],[1.0,\"#f0f921\"]]}],\"surface\":[{\"type\":\"surface\",\"colorbar\":{\"outlinewidth\":0,\"ticks\":\"\"},\"colorscale\":[[0.0,\"#0d0887\"],[0.1111111111111111,\"#46039f\"],[0.2222222222222222,\"#7201a8\"],[0.3333333333333333,\"#9c179e\"],[0.4444444444444444,\"#bd3786\"],[0.5555555555555556,\"#d8576b\"],[0.6666666666666666,\"#ed7953\"],[0.7777777777777778,\"#fb9f3a\"],[0.8888888888888888,\"#fdca26\"],[1.0,\"#f0f921\"]]}],\"mesh3d\":[{\"type\":\"mesh3d\",\"colorbar\":{\"outlinewidth\":0,\"ticks\":\"\"}}],\"scatter\":[{\"marker\":{\"line\":{\"color\":\"#283442\"}},\"type\":\"scatter\"}],\"parcoords\":[{\"type\":\"parcoords\",\"line\":{\"colorbar\":{\"outlinewidth\":0,\"ticks\":\"\"}}}],\"scatterpolargl\":[{\"type\":\"scatterpolargl\",\"marker\":{\"colorbar\":{\"outlinewidth\":0,\"ticks\":\"\"}}}],\"bar\":[{\"error_x\":{\"color\":\"#f2f5fa\"},\"error_y\":{\"color\":\"#f2f5fa\"},\"marker\":{\"line\":{\"color\":\"rgb(17,17,17)\",\"width\":0.5},\"pattern\":{\"fillmode\":\"overlay\",\"size\":10,\"solidity\":0.2}},\"type\":\"bar\"}],\"scattergeo\":[{\"type\":\"scattergeo\",\"marker\":{\"colorbar\":{\"outlinewidth\":0,\"ticks\":\"\"}}}],\"scatterpolar\":[{\"type\":\"scatterpolar\",\"marker\":{\"colorbar\":{\"outlinewidth\":0,\"ticks\":\"\"}}}],\"histogram\":[{\"marker\":{\"pattern\":{\"fillmode\":\"overlay\",\"size\":10,\"solidity\":0.2}},\"type\":\"histogram\"}],\"scattergl\":[{\"marker\":{\"line\":{\"color\":\"#283442\"}},\"type\":\"scattergl\"}],\"scatter3d\":[{\"type\":\"scatter3d\",\"line\":{\"colorbar\":{\"outlinewidth\":0,\"ticks\":\"\"}},\"marker\":{\"colorbar\":{\"outlinewidth\":0,\"ticks\":\"\"}}}],\"scattermap\":[{\"type\":\"scattermap\",\"marker\":{\"colorbar\":{\"outlinewidth\":0,\"ticks\":\"\"}}}],\"scattermapbox\":[{\"type\":\"scattermapbox\",\"marker\":{\"colorbar\":{\"outlinewidth\":0,\"ticks\":\"\"}}}],\"scatterternary\":[{\"type\":\"scatterternary\",\"marker\":{\"colorbar\":{\"outlinewidth\":0,\"ticks\":\"\"}}}],\"scattercarpet\":[{\"type\":\"scattercarpet\",\"marker\":{\"colorbar\":{\"outlinewidth\":0,\"ticks\":\"\"}}}],\"carpet\":[{\"aaxis\":{\"endlinecolor\":\"#A2B1C6\",\"gridcolor\":\"#506784\",\"linecolor\":\"#506784\",\"minorgridcolor\":\"#506784\",\"startlinecolor\":\"#A2B1C6\"},\"baxis\":{\"endlinecolor\":\"#A2B1C6\",\"gridcolor\":\"#506784\",\"linecolor\":\"#506784\",\"minorgridcolor\":\"#506784\",\"startlinecolor\":\"#A2B1C6\"},\"type\":\"carpet\"}],\"table\":[{\"cells\":{\"fill\":{\"color\":\"#506784\"},\"line\":{\"color\":\"rgb(17,17,17)\"}},\"header\":{\"fill\":{\"color\":\"#2a3f5f\"},\"line\":{\"color\":\"rgb(17,17,17)\"}},\"type\":\"table\"}],\"barpolar\":[{\"marker\":{\"line\":{\"color\":\"rgb(17,17,17)\",\"width\":0.5},\"pattern\":{\"fillmode\":\"overlay\",\"size\":10,\"solidity\":0.2}},\"type\":\"barpolar\"}],\"pie\":[{\"automargin\":true,\"type\":\"pie\"}]},\"layout\":{\"autotypenumbers\":\"strict\",\"colorway\":[\"#636efa\",\"#EF553B\",\"#00cc96\",\"#ab63fa\",\"#FFA15A\",\"#19d3f3\",\"#FF6692\",\"#B6E880\",\"#FF97FF\",\"#FECB52\"],\"font\":{\"color\":\"#f2f5fa\"},\"hovermode\":\"closest\",\"hoverlabel\":{\"align\":\"left\"},\"paper_bgcolor\":\"rgb(17,17,17)\",\"plot_bgcolor\":\"rgb(17,17,17)\",\"polar\":{\"bgcolor\":\"rgb(17,17,17)\",\"angularaxis\":{\"gridcolor\":\"#506784\",\"linecolor\":\"#506784\",\"ticks\":\"\"},\"radialaxis\":{\"gridcolor\":\"#506784\",\"linecolor\":\"#506784\",\"ticks\":\"\"}},\"ternary\":{\"bgcolor\":\"rgb(17,17,17)\",\"aaxis\":{\"gridcolor\":\"#506784\",\"linecolor\":\"#506784\",\"ticks\":\"\"},\"baxis\":{\"gridcolor\":\"#506784\",\"linecolor\":\"#506784\",\"ticks\":\"\"},\"caxis\":{\"gridcolor\":\"#506784\",\"linecolor\":\"#506784\",\"ticks\":\"\"}},\"coloraxis\":{\"colorbar\":{\"outlinewidth\":0,\"ticks\":\"\"}},\"colorscale\":{\"sequential\":[[0.0,\"#0d0887\"],[0.1111111111111111,\"#46039f\"],[0.2222222222222222,\"#7201a8\"],[0.3333333333333333,\"#9c179e\"],[0.4444444444444444,\"#bd3786\"],[0.5555555555555556,\"#d8576b\"],[0.6666666666666666,\"#ed7953\"],[0.7777777777777778,\"#fb9f3a\"],[0.8888888888888888,\"#fdca26\"],[1.0,\"#f0f921\"]],\"sequentialminus\":[[0.0,\"#0d0887\"],[0.1111111111111111,\"#46039f\"],[0.2222222222222222,\"#7201a8\"],[0.3333333333333333,\"#9c179e\"],[0.4444444444444444,\"#bd3786\"],[0.5555555555555556,\"#d8576b\"],[0.6666666666666666,\"#ed7953\"],[0.7777777777777778,\"#fb9f3a\"],[0.8888888888888888,\"#fdca26\"],[1.0,\"#f0f921\"]],\"diverging\":[[0,\"#8e0152\"],[0.1,\"#c51b7d\"],[0.2,\"#de77ae\"],[0.3,\"#f1b6da\"],[0.4,\"#fde0ef\"],[0.5,\"#f7f7f7\"],[0.6,\"#e6f5d0\"],[0.7,\"#b8e186\"],[0.8,\"#7fbc41\"],[0.9,\"#4d9221\"],[1,\"#276419\"]]},\"xaxis\":{\"gridcolor\":\"#283442\",\"linecolor\":\"#506784\",\"ticks\":\"\",\"title\":{\"standoff\":15},\"zerolinecolor\":\"#283442\",\"automargin\":true,\"zerolinewidth\":2},\"yaxis\":{\"gridcolor\":\"#283442\",\"linecolor\":\"#506784\",\"ticks\":\"\",\"title\":{\"standoff\":15},\"zerolinecolor\":\"#283442\",\"automargin\":true,\"zerolinewidth\":2},\"scene\":{\"xaxis\":{\"backgroundcolor\":\"rgb(17,17,17)\",\"gridcolor\":\"#506784\",\"linecolor\":\"#506784\",\"showbackground\":true,\"ticks\":\"\",\"zerolinecolor\":\"#C8D4E3\",\"gridwidth\":2},\"yaxis\":{\"backgroundcolor\":\"rgb(17,17,17)\",\"gridcolor\":\"#506784\",\"linecolor\":\"#506784\",\"showbackground\":true,\"ticks\":\"\",\"zerolinecolor\":\"#C8D4E3\",\"gridwidth\":2},\"zaxis\":{\"backgroundcolor\":\"rgb(17,17,17)\",\"gridcolor\":\"#506784\",\"linecolor\":\"#506784\",\"showbackground\":true,\"ticks\":\"\",\"zerolinecolor\":\"#C8D4E3\",\"gridwidth\":2}},\"shapedefaults\":{\"line\":{\"color\":\"#f2f5fa\"}},\"annotationdefaults\":{\"arrowcolor\":\"#f2f5fa\",\"arrowhead\":0,\"arrowwidth\":1},\"geo\":{\"bgcolor\":\"rgb(17,17,17)\",\"landcolor\":\"rgb(17,17,17)\",\"subunitcolor\":\"#506784\",\"showland\":true,\"showlakes\":true,\"lakecolor\":\"rgb(17,17,17)\"},\"title\":{\"x\":0.05},\"updatemenudefaults\":{\"bgcolor\":\"#506784\",\"borderwidth\":0},\"sliderdefaults\":{\"bgcolor\":\"#C8D4E3\",\"borderwidth\":1,\"bordercolor\":\"rgb(17,17,17)\",\"tickwidth\":0},\"mapbox\":{\"style\":\"dark\"}}},\"xaxis\":{\"anchor\":\"y\",\"domain\":[0.0,1.0],\"scaleanchor\":\"y\",\"constrain\":\"domain\",\"title\":{\"text\":\"Position\"}},\"yaxis\":{\"anchor\":\"x\",\"domain\":[0.0,1.0],\"autorange\":\"reversed\",\"constrain\":\"domain\",\"title\":{\"text\":\"Layer\"}},\"coloraxis\":{\"colorscale\":[[0.0,\"rgb(103,0,31)\"],[0.1,\"rgb(178,24,43)\"],[0.2,\"rgb(214,96,77)\"],[0.3,\"rgb(244,165,130)\"],[0.4,\"rgb(253,219,199)\"],[0.5,\"rgb(247,247,247)\"],[0.6,\"rgb(209,229,240)\"],[0.7,\"rgb(146,197,222)\"],[0.8,\"rgb(67,147,195)\"],[0.9,\"rgb(33,102,172)\"],[1.0,\"rgb(5,48,97)\"]],\"cmid\":0.0},\"title\":{\"text\":\"Normalized Logit Difference After Patching Residual Stream on the IOI Task\"}},                        {\"responsive\": true}                    ).then(function(){\n",
       "                            \n",
       "var gd = document.getElementById('10d04429-7283-4013-8461-bd73701d1a85');\n",
       "var x = new MutationObserver(function (mutations, observer) {{\n",
       "        var display = window.getComputedStyle(gd).display;\n",
       "        if (!display || display === 'none') {{\n",
       "            console.log([gd, 'removed!']);\n",
       "            Plotly.purge(gd);\n",
       "            observer.disconnect();\n",
       "        }}\n",
       "}});\n",
       "\n",
       "// Listen for the removal of the full notebook cells\n",
       "var notebookContainer = gd.closest('#notebook-container');\n",
       "if (notebookContainer) {{\n",
       "    x.observe(notebookContainer, {childList: true});\n",
       "}}\n",
       "\n",
       "// Listen for the clearing of the current output cell\n",
       "var outputEl = gd.closest('.output');\n",
       "if (outputEl) {{\n",
       "    x.observe(outputEl, {childList: true});\n",
       "}}\n",
       "\n",
       "                        })                };            </script>        </div>"
      ]
     },
     "metadata": {},
     "output_type": "display_data"
    }
   ],
   "execution_count": 42
  },
  {
   "metadata": {},
   "cell_type": "markdown",
   "source": [
    "## Hooks : accéder aux activations\n",
    "\n",
    "Les hooks peuvent aussi servir simplement à **accéder** à une activation — c’est-à-dire exécuter une fonction utilisant la valeur de cette activation, *sans* la modifier. Pour cela, il suffit que le hook **ne retourne rien** et qu’il n’édite pas l’activation en place.\n",
    "\n",
    "C’est utile par exemple pour extraire des activations dans le cadre d’une tâche donnée, ou pour effectuer un calcul long sur de nombreux inputs, comme chercher le texte qui active le plus un neurone spécifique.\n",
    "*(Remarque – tout ce que l’on peut faire ainsi *pourrait* aussi être fait avec `run_with_cache` suivi d’un post-traitement, mais ce flux de travail peut être plus intuitif et plus économe en mémoire.)*\n",
    "\n",
    "Pour illustrer cela, examinons les **[induction heads](https://transformer-circuits.pub/2022/in-context-learning-and-induction-heads/index.html)** dans GPT-2 Small.\n",
    "\n",
    "Les circuits d’induction sont des circuits très importants dans les modèles de langage génératifs : ils servent à détecter et à prolonger des sous-séquences répétées. Ils sont constitués de deux têtes situées dans des couches distinctes qui se combinent :\n",
    "\n",
    "* une **tête “previous token”** qui regarde toujours le token précédent,\n",
    "* une **tête d’induction** qui regarde le token *suivant* une occurrence antérieure du token courant.\n",
    "\n",
    "Pourquoi est-ce important ? Prenons l’exemple d’un modèle qui doit prédire le token suivant dans un article de presse parlant de Michael Jordan. Le token `\" Michael\"`, en général, peut être suivi de nombreux noms de famille. Mais une tête d’induction va chercher, à partir de cette occurrence de `\" Michael\"`, le token situé juste après les occurrences précédentes de `\" Michael\"`, c’est-à-dire `\" Jordan\"`, et peut prédire avec assurance que c’est ce qui suivra.\n",
    "\n",
    "Un fait intéressant concernant les têtes d’induction est qu’elles se **généralisent** à n’importe quelle séquence de tokens répétés. On peut le voir en générant des séquences de 50 tokens aléatoires, répétées deux fois, puis en traçant la perte moyenne de prédiction du token suivant en fonction de la position. On constate que le modèle passe de très mauvais à très performant **au point médian de la séquence**.\n"
   ],
   "id": "40f7a57919e1ae6f"
  },
  {
   "metadata": {
    "ExecuteTime": {
     "end_time": "2025-08-31T14:49:33.758796Z",
     "start_time": "2025-08-31T14:49:33.657721Z"
    }
   },
   "cell_type": "code",
   "source": [
    "batch_size = 10\n",
    "seq_len = 50\n",
    "size = (batch_size, seq_len)\n",
    "\n",
    "# Entrée aléatoire\n",
    "input_tensor = torch.randint(1000, 10000, size)\n",
    "\n",
    "# Sur le device\n",
    "random_tokens = input_tensor.to(model.cfg.device)\n",
    "\n",
    "# ???\n",
    "repeated_tokens = einops.repeat(random_tokens, \"batch seq_len -> batch (2 seq_len)\")\n",
    "\n",
    "# Donne ça au modèle\n",
    "repeated_logits = model(repeated_tokens)\n",
    "\n",
    "# Calcul le loss\n",
    "correct_log_probs = model.loss_fn(repeated_logits, repeated_tokens, per_token=True)\n",
    "\n",
    "# ???\n",
    "loss_by_position = einops.reduce(correct_log_probs, \"batch position -> position\", \"mean\")\n",
    "\n",
    "# ???\n",
    "line(\n",
    "    loss_by_position,\n",
    "    xaxis=\"Position\",\n",
    "    yaxis=\"Loss\",\n",
    "    title=\"Loss by position on random repeated tokens\"\n",
    ")"
   ],
   "id": "3cef822ce6f86a6f",
   "outputs": [
    {
     "data": {
      "text/html": [
       "<div>            <script src=\"https://cdnjs.cloudflare.com/ajax/libs/mathjax/2.7.5/MathJax.js?config=TeX-AMS-MML_SVG\"></script><script type=\"text/javascript\">if (window.MathJax && window.MathJax.Hub && window.MathJax.Hub.Config) {window.MathJax.Hub.Config({SVG: {font: \"STIX-Web\"}});}</script>                <script type=\"text/javascript\">window.PlotlyConfig = {MathJaxConfig: 'local'};</script>\n",
       "        <script charset=\"utf-8\" src=\"https://cdn.plot.ly/plotly-3.1.0.min.js\" integrity=\"sha256-Ei4740bWZhaUTQuD6q9yQlgVCMPBz6CZWhevDYPv93A=\" crossorigin=\"anonymous\"></script>                <div id=\"c5b70fd3-f92a-48f4-9e6b-048f429b60b4\" class=\"plotly-graph-div\" style=\"height:525px; width:100%;\"></div>            <script type=\"text/javascript\">                window.PLOTLYENV=window.PLOTLYENV || {};                                if (document.getElementById(\"c5b70fd3-f92a-48f4-9e6b-048f429b60b4\")) {                    Plotly.newPlot(                        \"c5b70fd3-f92a-48f4-9e6b-048f429b60b4\",                        [{\"hovertemplate\":\"variable=0\\u003cbr\\u003eindex=%{x}\\u003cbr\\u003evalue=%{y}\\u003cextra\\u003e\\u003c\\u002fextra\\u003e\",\"legendgroup\":\"0\",\"line\":{\"color\":\"#636efa\",\"dash\":\"solid\"},\"marker\":{\"symbol\":\"circle\"},\"mode\":\"lines\",\"name\":\"0\",\"orientation\":\"v\",\"showlegend\":true,\"x\":{\"dtype\":\"i1\",\"bdata\":\"AAECAwQFBgcICQoLDA0ODxAREhMUFRYXGBkaGxwdHh8gISIjJCUmJygpKissLS4vMDEyMzQ1Njc4OTo7PD0+P0BBQkNERUZHSElKS0xNTk9QUVJTVFVWV1hZWltcXV5fYGFi\"},\"xaxis\":\"x\",\"y\":{\"dtype\":\"f4\",\"bdata\":\"vxIzQRBLX0EIc0dBUOxZQWVXSkF9plNB+fM9QRd8UkHQElBB6rs6QZWCUEFDJkhBd0dRQQM5LkEqhytBr647QcJwPUH3Uj5B87g2Qe1ISEF4zDRB+B0+QexqNEFlijpBjvo\\u002fQa0eO0E12DdBuG49QbykMkGA4TFBZx5HQWFeMUFEljtB68c7QZBrQkFAwzZByHk2QVJ2QUFaBSpBn7kwQYOCKEFN5C1BIC48QbM7M0FoskdBhNA0QQEONkHVxChBr1stQb2sMEF3pDNA9HSJP4B8Hz9RakA\\u002fKwSiPmPbIj9zaK4\\u002fRXAXP6Jq7z3TkHY+b+tXP2jCCT6Q+fM9i3T+PRPqgj13K34+L73ZPVupCz348p09PsG0PWF6oz07V2I97i08PverJD\\u002fQHJE9YVOJPbT\\u002fjT3LA8I9TAEJPmq4Mj2lnDw9hew8PdN0ID636os9xV4cPiMyUz2Vdqo9W+UDPaMDWD3qrKI8uI9PPQ\\u002fTqjxlvAU+dgO5PYsgDT1FOKI9wE3hPE83MT1AVoc9\"},\"yaxis\":\"y\",\"type\":\"scatter\"}],                        {\"template\":{\"data\":{\"histogram2dcontour\":[{\"type\":\"histogram2dcontour\",\"colorbar\":{\"outlinewidth\":0,\"ticks\":\"\"},\"colorscale\":[[0.0,\"#0d0887\"],[0.1111111111111111,\"#46039f\"],[0.2222222222222222,\"#7201a8\"],[0.3333333333333333,\"#9c179e\"],[0.4444444444444444,\"#bd3786\"],[0.5555555555555556,\"#d8576b\"],[0.6666666666666666,\"#ed7953\"],[0.7777777777777778,\"#fb9f3a\"],[0.8888888888888888,\"#fdca26\"],[1.0,\"#f0f921\"]]}],\"choropleth\":[{\"type\":\"choropleth\",\"colorbar\":{\"outlinewidth\":0,\"ticks\":\"\"}}],\"histogram2d\":[{\"type\":\"histogram2d\",\"colorbar\":{\"outlinewidth\":0,\"ticks\":\"\"},\"colorscale\":[[0.0,\"#0d0887\"],[0.1111111111111111,\"#46039f\"],[0.2222222222222222,\"#7201a8\"],[0.3333333333333333,\"#9c179e\"],[0.4444444444444444,\"#bd3786\"],[0.5555555555555556,\"#d8576b\"],[0.6666666666666666,\"#ed7953\"],[0.7777777777777778,\"#fb9f3a\"],[0.8888888888888888,\"#fdca26\"],[1.0,\"#f0f921\"]]}],\"heatmap\":[{\"type\":\"heatmap\",\"colorbar\":{\"outlinewidth\":0,\"ticks\":\"\"},\"colorscale\":[[0.0,\"#0d0887\"],[0.1111111111111111,\"#46039f\"],[0.2222222222222222,\"#7201a8\"],[0.3333333333333333,\"#9c179e\"],[0.4444444444444444,\"#bd3786\"],[0.5555555555555556,\"#d8576b\"],[0.6666666666666666,\"#ed7953\"],[0.7777777777777778,\"#fb9f3a\"],[0.8888888888888888,\"#fdca26\"],[1.0,\"#f0f921\"]]}],\"contourcarpet\":[{\"type\":\"contourcarpet\",\"colorbar\":{\"outlinewidth\":0,\"ticks\":\"\"}}],\"contour\":[{\"type\":\"contour\",\"colorbar\":{\"outlinewidth\":0,\"ticks\":\"\"},\"colorscale\":[[0.0,\"#0d0887\"],[0.1111111111111111,\"#46039f\"],[0.2222222222222222,\"#7201a8\"],[0.3333333333333333,\"#9c179e\"],[0.4444444444444444,\"#bd3786\"],[0.5555555555555556,\"#d8576b\"],[0.6666666666666666,\"#ed7953\"],[0.7777777777777778,\"#fb9f3a\"],[0.8888888888888888,\"#fdca26\"],[1.0,\"#f0f921\"]]}],\"surface\":[{\"type\":\"surface\",\"colorbar\":{\"outlinewidth\":0,\"ticks\":\"\"},\"colorscale\":[[0.0,\"#0d0887\"],[0.1111111111111111,\"#46039f\"],[0.2222222222222222,\"#7201a8\"],[0.3333333333333333,\"#9c179e\"],[0.4444444444444444,\"#bd3786\"],[0.5555555555555556,\"#d8576b\"],[0.6666666666666666,\"#ed7953\"],[0.7777777777777778,\"#fb9f3a\"],[0.8888888888888888,\"#fdca26\"],[1.0,\"#f0f921\"]]}],\"mesh3d\":[{\"type\":\"mesh3d\",\"colorbar\":{\"outlinewidth\":0,\"ticks\":\"\"}}],\"scatter\":[{\"marker\":{\"line\":{\"color\":\"#283442\"}},\"type\":\"scatter\"}],\"parcoords\":[{\"type\":\"parcoords\",\"line\":{\"colorbar\":{\"outlinewidth\":0,\"ticks\":\"\"}}}],\"scatterpolargl\":[{\"type\":\"scatterpolargl\",\"marker\":{\"colorbar\":{\"outlinewidth\":0,\"ticks\":\"\"}}}],\"bar\":[{\"error_x\":{\"color\":\"#f2f5fa\"},\"error_y\":{\"color\":\"#f2f5fa\"},\"marker\":{\"line\":{\"color\":\"rgb(17,17,17)\",\"width\":0.5},\"pattern\":{\"fillmode\":\"overlay\",\"size\":10,\"solidity\":0.2}},\"type\":\"bar\"}],\"scattergeo\":[{\"type\":\"scattergeo\",\"marker\":{\"colorbar\":{\"outlinewidth\":0,\"ticks\":\"\"}}}],\"scatterpolar\":[{\"type\":\"scatterpolar\",\"marker\":{\"colorbar\":{\"outlinewidth\":0,\"ticks\":\"\"}}}],\"histogram\":[{\"marker\":{\"pattern\":{\"fillmode\":\"overlay\",\"size\":10,\"solidity\":0.2}},\"type\":\"histogram\"}],\"scattergl\":[{\"marker\":{\"line\":{\"color\":\"#283442\"}},\"type\":\"scattergl\"}],\"scatter3d\":[{\"type\":\"scatter3d\",\"line\":{\"colorbar\":{\"outlinewidth\":0,\"ticks\":\"\"}},\"marker\":{\"colorbar\":{\"outlinewidth\":0,\"ticks\":\"\"}}}],\"scattermap\":[{\"type\":\"scattermap\",\"marker\":{\"colorbar\":{\"outlinewidth\":0,\"ticks\":\"\"}}}],\"scattermapbox\":[{\"type\":\"scattermapbox\",\"marker\":{\"colorbar\":{\"outlinewidth\":0,\"ticks\":\"\"}}}],\"scatterternary\":[{\"type\":\"scatterternary\",\"marker\":{\"colorbar\":{\"outlinewidth\":0,\"ticks\":\"\"}}}],\"scattercarpet\":[{\"type\":\"scattercarpet\",\"marker\":{\"colorbar\":{\"outlinewidth\":0,\"ticks\":\"\"}}}],\"carpet\":[{\"aaxis\":{\"endlinecolor\":\"#A2B1C6\",\"gridcolor\":\"#506784\",\"linecolor\":\"#506784\",\"minorgridcolor\":\"#506784\",\"startlinecolor\":\"#A2B1C6\"},\"baxis\":{\"endlinecolor\":\"#A2B1C6\",\"gridcolor\":\"#506784\",\"linecolor\":\"#506784\",\"minorgridcolor\":\"#506784\",\"startlinecolor\":\"#A2B1C6\"},\"type\":\"carpet\"}],\"table\":[{\"cells\":{\"fill\":{\"color\":\"#506784\"},\"line\":{\"color\":\"rgb(17,17,17)\"}},\"header\":{\"fill\":{\"color\":\"#2a3f5f\"},\"line\":{\"color\":\"rgb(17,17,17)\"}},\"type\":\"table\"}],\"barpolar\":[{\"marker\":{\"line\":{\"color\":\"rgb(17,17,17)\",\"width\":0.5},\"pattern\":{\"fillmode\":\"overlay\",\"size\":10,\"solidity\":0.2}},\"type\":\"barpolar\"}],\"pie\":[{\"automargin\":true,\"type\":\"pie\"}]},\"layout\":{\"autotypenumbers\":\"strict\",\"colorway\":[\"#636efa\",\"#EF553B\",\"#00cc96\",\"#ab63fa\",\"#FFA15A\",\"#19d3f3\",\"#FF6692\",\"#B6E880\",\"#FF97FF\",\"#FECB52\"],\"font\":{\"color\":\"#f2f5fa\"},\"hovermode\":\"closest\",\"hoverlabel\":{\"align\":\"left\"},\"paper_bgcolor\":\"rgb(17,17,17)\",\"plot_bgcolor\":\"rgb(17,17,17)\",\"polar\":{\"bgcolor\":\"rgb(17,17,17)\",\"angularaxis\":{\"gridcolor\":\"#506784\",\"linecolor\":\"#506784\",\"ticks\":\"\"},\"radialaxis\":{\"gridcolor\":\"#506784\",\"linecolor\":\"#506784\",\"ticks\":\"\"}},\"ternary\":{\"bgcolor\":\"rgb(17,17,17)\",\"aaxis\":{\"gridcolor\":\"#506784\",\"linecolor\":\"#506784\",\"ticks\":\"\"},\"baxis\":{\"gridcolor\":\"#506784\",\"linecolor\":\"#506784\",\"ticks\":\"\"},\"caxis\":{\"gridcolor\":\"#506784\",\"linecolor\":\"#506784\",\"ticks\":\"\"}},\"coloraxis\":{\"colorbar\":{\"outlinewidth\":0,\"ticks\":\"\"}},\"colorscale\":{\"sequential\":[[0.0,\"#0d0887\"],[0.1111111111111111,\"#46039f\"],[0.2222222222222222,\"#7201a8\"],[0.3333333333333333,\"#9c179e\"],[0.4444444444444444,\"#bd3786\"],[0.5555555555555556,\"#d8576b\"],[0.6666666666666666,\"#ed7953\"],[0.7777777777777778,\"#fb9f3a\"],[0.8888888888888888,\"#fdca26\"],[1.0,\"#f0f921\"]],\"sequentialminus\":[[0.0,\"#0d0887\"],[0.1111111111111111,\"#46039f\"],[0.2222222222222222,\"#7201a8\"],[0.3333333333333333,\"#9c179e\"],[0.4444444444444444,\"#bd3786\"],[0.5555555555555556,\"#d8576b\"],[0.6666666666666666,\"#ed7953\"],[0.7777777777777778,\"#fb9f3a\"],[0.8888888888888888,\"#fdca26\"],[1.0,\"#f0f921\"]],\"diverging\":[[0,\"#8e0152\"],[0.1,\"#c51b7d\"],[0.2,\"#de77ae\"],[0.3,\"#f1b6da\"],[0.4,\"#fde0ef\"],[0.5,\"#f7f7f7\"],[0.6,\"#e6f5d0\"],[0.7,\"#b8e186\"],[0.8,\"#7fbc41\"],[0.9,\"#4d9221\"],[1,\"#276419\"]]},\"xaxis\":{\"gridcolor\":\"#283442\",\"linecolor\":\"#506784\",\"ticks\":\"\",\"title\":{\"standoff\":15},\"zerolinecolor\":\"#283442\",\"automargin\":true,\"zerolinewidth\":2},\"yaxis\":{\"gridcolor\":\"#283442\",\"linecolor\":\"#506784\",\"ticks\":\"\",\"title\":{\"standoff\":15},\"zerolinecolor\":\"#283442\",\"automargin\":true,\"zerolinewidth\":2},\"scene\":{\"xaxis\":{\"backgroundcolor\":\"rgb(17,17,17)\",\"gridcolor\":\"#506784\",\"linecolor\":\"#506784\",\"showbackground\":true,\"ticks\":\"\",\"zerolinecolor\":\"#C8D4E3\",\"gridwidth\":2},\"yaxis\":{\"backgroundcolor\":\"rgb(17,17,17)\",\"gridcolor\":\"#506784\",\"linecolor\":\"#506784\",\"showbackground\":true,\"ticks\":\"\",\"zerolinecolor\":\"#C8D4E3\",\"gridwidth\":2},\"zaxis\":{\"backgroundcolor\":\"rgb(17,17,17)\",\"gridcolor\":\"#506784\",\"linecolor\":\"#506784\",\"showbackground\":true,\"ticks\":\"\",\"zerolinecolor\":\"#C8D4E3\",\"gridwidth\":2}},\"shapedefaults\":{\"line\":{\"color\":\"#f2f5fa\"}},\"annotationdefaults\":{\"arrowcolor\":\"#f2f5fa\",\"arrowhead\":0,\"arrowwidth\":1},\"geo\":{\"bgcolor\":\"rgb(17,17,17)\",\"landcolor\":\"rgb(17,17,17)\",\"subunitcolor\":\"#506784\",\"showland\":true,\"showlakes\":true,\"lakecolor\":\"rgb(17,17,17)\"},\"title\":{\"x\":0.05},\"updatemenudefaults\":{\"bgcolor\":\"#506784\",\"borderwidth\":0},\"sliderdefaults\":{\"bgcolor\":\"#C8D4E3\",\"borderwidth\":1,\"bordercolor\":\"rgb(17,17,17)\",\"tickwidth\":0},\"mapbox\":{\"style\":\"dark\"}}},\"xaxis\":{\"anchor\":\"y\",\"domain\":[0.0,1.0],\"title\":{\"text\":\"index\"}},\"yaxis\":{\"anchor\":\"x\",\"domain\":[0.0,1.0],\"title\":{\"text\":\"value\"}},\"legend\":{\"title\":{\"text\":\"variable\"},\"tracegroupgap\":0},\"title\":{\"text\":\"Loss by position on random repeated tokens\"}},                        {\"responsive\": true}                    ).then(function(){\n",
       "                            \n",
       "var gd = document.getElementById('c5b70fd3-f92a-48f4-9e6b-048f429b60b4');\n",
       "var x = new MutationObserver(function (mutations, observer) {{\n",
       "        var display = window.getComputedStyle(gd).display;\n",
       "        if (!display || display === 'none') {{\n",
       "            console.log([gd, 'removed!']);\n",
       "            Plotly.purge(gd);\n",
       "            observer.disconnect();\n",
       "        }}\n",
       "}});\n",
       "\n",
       "// Listen for the removal of the full notebook cells\n",
       "var notebookContainer = gd.closest('#notebook-container');\n",
       "if (notebookContainer) {{\n",
       "    x.observe(notebookContainer, {childList: true});\n",
       "}}\n",
       "\n",
       "// Listen for the clearing of the current output cell\n",
       "var outputEl = gd.closest('.output');\n",
       "if (outputEl) {{\n",
       "    x.observe(outputEl, {childList: true});\n",
       "}}\n",
       "\n",
       "                        })                };            </script>        </div>"
      ]
     },
     "metadata": {},
     "output_type": "display_data"
    }
   ],
   "execution_count": 43
  },
  {
   "metadata": {},
   "cell_type": "markdown",
   "source": [
    "Les têtes d’induction vont prêter attention depuis la **deuxième occurrence** de chaque token vers le token qui suit sa **première occurrence**, c’est-à-dire le token situé `50 - 1 == 49` positions en arrière. Ainsi, en observant l’**attention moyenne portée 49 tokens en arrière**, nous pouvons identifier les têtes d’induction ! Définissons un hook pour faire cela.\n",
    "\n",
    "* On attache le hook à l’activation du **pattern d’attention**. Il y a un grand tenseur de pattern par couche, empilant toutes les têtes, donc on doit manipuler le tenseur pour obtenir un score par tête.\n",
    "* Les fonctions de hook peuvent accéder à l’état global, donc on crée un grand tenseur pour stocker le score d’induction de chaque tête, et on ajoute simplement le score de chaque tête à la bonne position dans ce tenseur.\n",
    "* Pour obtenir une fonction de hook unique qui fonctionne pour chaque couche, on utilise la méthode `hook.layer()` afin de récupérer l’indice de la couche (en interne, cela est inféré à partir des noms des hook points).\n",
    "* Comme on veut attacher cela à **tous** les hook points de pattern d’attention, plutôt que de donner une chaîne de nom d’activation, on fournit cette fois un **name filter**. C’est une fonction booléenne appliquée aux noms des hook points, et le hook sera ajouté à tous ceux pour lesquels la fonction renvoie vrai.\n",
    "  * `run_with_hooks` permet d’entrer une liste de paires `(act_name, hook_function)` à ajouter d’un coup, donc on aurait aussi pu le faire en donnant une liste avec un hook spécifique pour chaque couche.\n"
   ],
   "id": "c4f6e3d419c4cb6b"
  },
  {
   "metadata": {
    "ExecuteTime": {
     "end_time": "2025-08-31T11:33:29.235900Z",
     "start_time": "2025-08-31T11:33:29.159431Z"
    }
   },
   "cell_type": "code",
   "source": [
    "# We make a tensor to store the induction score for each head. We put it on the model's device to avoid needing to move things between the GPU and CPU, which can be slow.\n",
    "induction_score_store = torch.zeros((model.cfg.n_layers, model.cfg.n_heads), device=model.cfg.device)\n",
    "def induction_score_hook(\n",
    "    pattern: Float[torch.Tensor, \"batch head_index dest_pos source_pos\"],\n",
    "    hook: HookPoint,\n",
    "):\n",
    "    # We take the diagonal of attention paid from each destination position to source positions seq_len-1 tokens back\n",
    "    # (This only has entries for tokens with index>=seq_len)\n",
    "    induction_stripe = pattern.diagonal(dim1=-2, dim2=-1, offset=1-seq_len)\n",
    "    # Get an average score per head\n",
    "    induction_score = einops.reduce(induction_stripe, \"batch head_index position -> head_index\", \"mean\")\n",
    "    # Store the result.\n",
    "    induction_score_store[hook.layer(), :] = induction_score\n",
    "\n",
    "# We make a boolean filter on activation names, that's true only on attention pattern names.\n",
    "pattern_hook_names_filter = lambda name: name.endswith(\"pattern\")\n",
    "\n",
    "model.run_with_hooks(\n",
    "    repeated_tokens,\n",
    "    return_type=None, # For efficiency, we don't need to calculate the logits\n",
    "    fwd_hooks=[(\n",
    "        pattern_hook_names_filter,\n",
    "        induction_score_hook\n",
    "    )]\n",
    ")\n",
    "\n",
    "imshow(induction_score_store, xaxis=\"Head\", yaxis=\"Layer\", title=\"Induction Score by Head\")"
   ],
   "id": "f5fef64037a6c11d",
   "outputs": [
    {
     "data": {
      "text/html": [
       "<div>            <script src=\"https://cdnjs.cloudflare.com/ajax/libs/mathjax/2.7.5/MathJax.js?config=TeX-AMS-MML_SVG\"></script><script type=\"text/javascript\">if (window.MathJax && window.MathJax.Hub && window.MathJax.Hub.Config) {window.MathJax.Hub.Config({SVG: {font: \"STIX-Web\"}});}</script>                <script type=\"text/javascript\">window.PlotlyConfig = {MathJaxConfig: 'local'};</script>\n",
       "        <script charset=\"utf-8\" src=\"https://cdn.plot.ly/plotly-3.1.0.min.js\" integrity=\"sha256-Ei4740bWZhaUTQuD6q9yQlgVCMPBz6CZWhevDYPv93A=\" crossorigin=\"anonymous\"></script>                <div id=\"2232dd33-3a2b-4091-9117-f3d201aa4ed1\" class=\"plotly-graph-div\" style=\"height:525px; width:100%;\"></div>            <script type=\"text/javascript\">                window.PLOTLYENV=window.PLOTLYENV || {};                                if (document.getElementById(\"2232dd33-3a2b-4091-9117-f3d201aa4ed1\")) {                    Plotly.newPlot(                        \"2232dd33-3a2b-4091-9117-f3d201aa4ed1\",                        [{\"coloraxis\":\"coloraxis\",\"name\":\"0\",\"z\":{\"dtype\":\"f4\",\"bdata\":\"788pPOeMMDrM7zM8HkkWNllEJjlw1pI6kYYZPHB4GDpr7Ro8F2MYPLAK4jurknw8iPdjOoU\\u002f4Dk6egk7yUtoPCapozt4OS48SkmDPFCHVzwOaVE8DQOEPNYe1DtGjRo6ZIGrO+3bmjyUV2k7+\\u002f+sOm3KeTzjL+06ijGQO5BrCzzB0I87n9YBO\\u002friODoxoCs82uuIPFOR8zs7mM86xYg4PE+ErDx\\u002fP0k8WpjLOmniwjp3sq87D6BPPBbdDzwsfM47ARKCPGnGYTxOUW48VbobPHBPlDxusVk8cJsQPAi9BjsrIIg8mMRrPAT5lDxJ8gEwk9TqPsAAZj\\u002fdMW08mDrcO8msVDz1Em0\\u002fWe4cPBhXljw48+A8yu\\u002fdPA+9mDyx1Iw8hsALPLQGjzyBkpo8ge9lPKNzvTwrCj88tjj9PDTMMTyylSY8nkRoP0YxDj2do148QPUMPNj0OT5AF1g\\u002fSq2TPHAjkzxCxIs84vI5PZSdsj05wIw8kESVPFVSaT92x2E9XD58PN+B0T5Dum08peBDPZ75hzxlKD48yAIqPtAITzzFMgs9ruT2PGZxhD2of808SYB1Pq+EQD6zCds9dXxXPLVcsD0ruOM8UK\\u002fmPo0m6zyerUY9NYTuPgR7izysLT09eLOuPoEo\\u002fD6eMR89tUgVPhiDhz2QO3k8R7maPvr9AD9Uwks9CD2BPPd9Hz7p24M+csiLPM2rUD2z3gw99WctPHeQED1F29A9UqtXPd1giT14uhA839CcPrmgvz5\\u002fWrQ8\",\"shape\":\"12, 12\"},\"type\":\"heatmap\",\"xaxis\":\"x\",\"yaxis\":\"y\",\"hovertemplate\":\"Head: %{x}\\u003cbr\\u003eLayer: %{y}\\u003cbr\\u003ecolor: %{z}\\u003cextra\\u003e\\u003c\\u002fextra\\u003e\"}],                        {\"template\":{\"data\":{\"histogram2dcontour\":[{\"type\":\"histogram2dcontour\",\"colorbar\":{\"outlinewidth\":0,\"ticks\":\"\"},\"colorscale\":[[0.0,\"#0d0887\"],[0.1111111111111111,\"#46039f\"],[0.2222222222222222,\"#7201a8\"],[0.3333333333333333,\"#9c179e\"],[0.4444444444444444,\"#bd3786\"],[0.5555555555555556,\"#d8576b\"],[0.6666666666666666,\"#ed7953\"],[0.7777777777777778,\"#fb9f3a\"],[0.8888888888888888,\"#fdca26\"],[1.0,\"#f0f921\"]]}],\"choropleth\":[{\"type\":\"choropleth\",\"colorbar\":{\"outlinewidth\":0,\"ticks\":\"\"}}],\"histogram2d\":[{\"type\":\"histogram2d\",\"colorbar\":{\"outlinewidth\":0,\"ticks\":\"\"},\"colorscale\":[[0.0,\"#0d0887\"],[0.1111111111111111,\"#46039f\"],[0.2222222222222222,\"#7201a8\"],[0.3333333333333333,\"#9c179e\"],[0.4444444444444444,\"#bd3786\"],[0.5555555555555556,\"#d8576b\"],[0.6666666666666666,\"#ed7953\"],[0.7777777777777778,\"#fb9f3a\"],[0.8888888888888888,\"#fdca26\"],[1.0,\"#f0f921\"]]}],\"heatmap\":[{\"type\":\"heatmap\",\"colorbar\":{\"outlinewidth\":0,\"ticks\":\"\"},\"colorscale\":[[0.0,\"#0d0887\"],[0.1111111111111111,\"#46039f\"],[0.2222222222222222,\"#7201a8\"],[0.3333333333333333,\"#9c179e\"],[0.4444444444444444,\"#bd3786\"],[0.5555555555555556,\"#d8576b\"],[0.6666666666666666,\"#ed7953\"],[0.7777777777777778,\"#fb9f3a\"],[0.8888888888888888,\"#fdca26\"],[1.0,\"#f0f921\"]]}],\"contourcarpet\":[{\"type\":\"contourcarpet\",\"colorbar\":{\"outlinewidth\":0,\"ticks\":\"\"}}],\"contour\":[{\"type\":\"contour\",\"colorbar\":{\"outlinewidth\":0,\"ticks\":\"\"},\"colorscale\":[[0.0,\"#0d0887\"],[0.1111111111111111,\"#46039f\"],[0.2222222222222222,\"#7201a8\"],[0.3333333333333333,\"#9c179e\"],[0.4444444444444444,\"#bd3786\"],[0.5555555555555556,\"#d8576b\"],[0.6666666666666666,\"#ed7953\"],[0.7777777777777778,\"#fb9f3a\"],[0.8888888888888888,\"#fdca26\"],[1.0,\"#f0f921\"]]}],\"surface\":[{\"type\":\"surface\",\"colorbar\":{\"outlinewidth\":0,\"ticks\":\"\"},\"colorscale\":[[0.0,\"#0d0887\"],[0.1111111111111111,\"#46039f\"],[0.2222222222222222,\"#7201a8\"],[0.3333333333333333,\"#9c179e\"],[0.4444444444444444,\"#bd3786\"],[0.5555555555555556,\"#d8576b\"],[0.6666666666666666,\"#ed7953\"],[0.7777777777777778,\"#fb9f3a\"],[0.8888888888888888,\"#fdca26\"],[1.0,\"#f0f921\"]]}],\"mesh3d\":[{\"type\":\"mesh3d\",\"colorbar\":{\"outlinewidth\":0,\"ticks\":\"\"}}],\"scatter\":[{\"marker\":{\"line\":{\"color\":\"#283442\"}},\"type\":\"scatter\"}],\"parcoords\":[{\"type\":\"parcoords\",\"line\":{\"colorbar\":{\"outlinewidth\":0,\"ticks\":\"\"}}}],\"scatterpolargl\":[{\"type\":\"scatterpolargl\",\"marker\":{\"colorbar\":{\"outlinewidth\":0,\"ticks\":\"\"}}}],\"bar\":[{\"error_x\":{\"color\":\"#f2f5fa\"},\"error_y\":{\"color\":\"#f2f5fa\"},\"marker\":{\"line\":{\"color\":\"rgb(17,17,17)\",\"width\":0.5},\"pattern\":{\"fillmode\":\"overlay\",\"size\":10,\"solidity\":0.2}},\"type\":\"bar\"}],\"scattergeo\":[{\"type\":\"scattergeo\",\"marker\":{\"colorbar\":{\"outlinewidth\":0,\"ticks\":\"\"}}}],\"scatterpolar\":[{\"type\":\"scatterpolar\",\"marker\":{\"colorbar\":{\"outlinewidth\":0,\"ticks\":\"\"}}}],\"histogram\":[{\"marker\":{\"pattern\":{\"fillmode\":\"overlay\",\"size\":10,\"solidity\":0.2}},\"type\":\"histogram\"}],\"scattergl\":[{\"marker\":{\"line\":{\"color\":\"#283442\"}},\"type\":\"scattergl\"}],\"scatter3d\":[{\"type\":\"scatter3d\",\"line\":{\"colorbar\":{\"outlinewidth\":0,\"ticks\":\"\"}},\"marker\":{\"colorbar\":{\"outlinewidth\":0,\"ticks\":\"\"}}}],\"scattermap\":[{\"type\":\"scattermap\",\"marker\":{\"colorbar\":{\"outlinewidth\":0,\"ticks\":\"\"}}}],\"scattermapbox\":[{\"type\":\"scattermapbox\",\"marker\":{\"colorbar\":{\"outlinewidth\":0,\"ticks\":\"\"}}}],\"scatterternary\":[{\"type\":\"scatterternary\",\"marker\":{\"colorbar\":{\"outlinewidth\":0,\"ticks\":\"\"}}}],\"scattercarpet\":[{\"type\":\"scattercarpet\",\"marker\":{\"colorbar\":{\"outlinewidth\":0,\"ticks\":\"\"}}}],\"carpet\":[{\"aaxis\":{\"endlinecolor\":\"#A2B1C6\",\"gridcolor\":\"#506784\",\"linecolor\":\"#506784\",\"minorgridcolor\":\"#506784\",\"startlinecolor\":\"#A2B1C6\"},\"baxis\":{\"endlinecolor\":\"#A2B1C6\",\"gridcolor\":\"#506784\",\"linecolor\":\"#506784\",\"minorgridcolor\":\"#506784\",\"startlinecolor\":\"#A2B1C6\"},\"type\":\"carpet\"}],\"table\":[{\"cells\":{\"fill\":{\"color\":\"#506784\"},\"line\":{\"color\":\"rgb(17,17,17)\"}},\"header\":{\"fill\":{\"color\":\"#2a3f5f\"},\"line\":{\"color\":\"rgb(17,17,17)\"}},\"type\":\"table\"}],\"barpolar\":[{\"marker\":{\"line\":{\"color\":\"rgb(17,17,17)\",\"width\":0.5},\"pattern\":{\"fillmode\":\"overlay\",\"size\":10,\"solidity\":0.2}},\"type\":\"barpolar\"}],\"pie\":[{\"automargin\":true,\"type\":\"pie\"}]},\"layout\":{\"autotypenumbers\":\"strict\",\"colorway\":[\"#636efa\",\"#EF553B\",\"#00cc96\",\"#ab63fa\",\"#FFA15A\",\"#19d3f3\",\"#FF6692\",\"#B6E880\",\"#FF97FF\",\"#FECB52\"],\"font\":{\"color\":\"#f2f5fa\"},\"hovermode\":\"closest\",\"hoverlabel\":{\"align\":\"left\"},\"paper_bgcolor\":\"rgb(17,17,17)\",\"plot_bgcolor\":\"rgb(17,17,17)\",\"polar\":{\"bgcolor\":\"rgb(17,17,17)\",\"angularaxis\":{\"gridcolor\":\"#506784\",\"linecolor\":\"#506784\",\"ticks\":\"\"},\"radialaxis\":{\"gridcolor\":\"#506784\",\"linecolor\":\"#506784\",\"ticks\":\"\"}},\"ternary\":{\"bgcolor\":\"rgb(17,17,17)\",\"aaxis\":{\"gridcolor\":\"#506784\",\"linecolor\":\"#506784\",\"ticks\":\"\"},\"baxis\":{\"gridcolor\":\"#506784\",\"linecolor\":\"#506784\",\"ticks\":\"\"},\"caxis\":{\"gridcolor\":\"#506784\",\"linecolor\":\"#506784\",\"ticks\":\"\"}},\"coloraxis\":{\"colorbar\":{\"outlinewidth\":0,\"ticks\":\"\"}},\"colorscale\":{\"sequential\":[[0.0,\"#0d0887\"],[0.1111111111111111,\"#46039f\"],[0.2222222222222222,\"#7201a8\"],[0.3333333333333333,\"#9c179e\"],[0.4444444444444444,\"#bd3786\"],[0.5555555555555556,\"#d8576b\"],[0.6666666666666666,\"#ed7953\"],[0.7777777777777778,\"#fb9f3a\"],[0.8888888888888888,\"#fdca26\"],[1.0,\"#f0f921\"]],\"sequentialminus\":[[0.0,\"#0d0887\"],[0.1111111111111111,\"#46039f\"],[0.2222222222222222,\"#7201a8\"],[0.3333333333333333,\"#9c179e\"],[0.4444444444444444,\"#bd3786\"],[0.5555555555555556,\"#d8576b\"],[0.6666666666666666,\"#ed7953\"],[0.7777777777777778,\"#fb9f3a\"],[0.8888888888888888,\"#fdca26\"],[1.0,\"#f0f921\"]],\"diverging\":[[0,\"#8e0152\"],[0.1,\"#c51b7d\"],[0.2,\"#de77ae\"],[0.3,\"#f1b6da\"],[0.4,\"#fde0ef\"],[0.5,\"#f7f7f7\"],[0.6,\"#e6f5d0\"],[0.7,\"#b8e186\"],[0.8,\"#7fbc41\"],[0.9,\"#4d9221\"],[1,\"#276419\"]]},\"xaxis\":{\"gridcolor\":\"#283442\",\"linecolor\":\"#506784\",\"ticks\":\"\",\"title\":{\"standoff\":15},\"zerolinecolor\":\"#283442\",\"automargin\":true,\"zerolinewidth\":2},\"yaxis\":{\"gridcolor\":\"#283442\",\"linecolor\":\"#506784\",\"ticks\":\"\",\"title\":{\"standoff\":15},\"zerolinecolor\":\"#283442\",\"automargin\":true,\"zerolinewidth\":2},\"scene\":{\"xaxis\":{\"backgroundcolor\":\"rgb(17,17,17)\",\"gridcolor\":\"#506784\",\"linecolor\":\"#506784\",\"showbackground\":true,\"ticks\":\"\",\"zerolinecolor\":\"#C8D4E3\",\"gridwidth\":2},\"yaxis\":{\"backgroundcolor\":\"rgb(17,17,17)\",\"gridcolor\":\"#506784\",\"linecolor\":\"#506784\",\"showbackground\":true,\"ticks\":\"\",\"zerolinecolor\":\"#C8D4E3\",\"gridwidth\":2},\"zaxis\":{\"backgroundcolor\":\"rgb(17,17,17)\",\"gridcolor\":\"#506784\",\"linecolor\":\"#506784\",\"showbackground\":true,\"ticks\":\"\",\"zerolinecolor\":\"#C8D4E3\",\"gridwidth\":2}},\"shapedefaults\":{\"line\":{\"color\":\"#f2f5fa\"}},\"annotationdefaults\":{\"arrowcolor\":\"#f2f5fa\",\"arrowhead\":0,\"arrowwidth\":1},\"geo\":{\"bgcolor\":\"rgb(17,17,17)\",\"landcolor\":\"rgb(17,17,17)\",\"subunitcolor\":\"#506784\",\"showland\":true,\"showlakes\":true,\"lakecolor\":\"rgb(17,17,17)\"},\"title\":{\"x\":0.05},\"updatemenudefaults\":{\"bgcolor\":\"#506784\",\"borderwidth\":0},\"sliderdefaults\":{\"bgcolor\":\"#C8D4E3\",\"borderwidth\":1,\"bordercolor\":\"rgb(17,17,17)\",\"tickwidth\":0},\"mapbox\":{\"style\":\"dark\"}}},\"xaxis\":{\"anchor\":\"y\",\"domain\":[0.0,1.0],\"scaleanchor\":\"y\",\"constrain\":\"domain\",\"title\":{\"text\":\"Head\"}},\"yaxis\":{\"anchor\":\"x\",\"domain\":[0.0,1.0],\"autorange\":\"reversed\",\"constrain\":\"domain\",\"title\":{\"text\":\"Layer\"}},\"coloraxis\":{\"colorscale\":[[0.0,\"rgb(103,0,31)\"],[0.1,\"rgb(178,24,43)\"],[0.2,\"rgb(214,96,77)\"],[0.3,\"rgb(244,165,130)\"],[0.4,\"rgb(253,219,199)\"],[0.5,\"rgb(247,247,247)\"],[0.6,\"rgb(209,229,240)\"],[0.7,\"rgb(146,197,222)\"],[0.8,\"rgb(67,147,195)\"],[0.9,\"rgb(33,102,172)\"],[1.0,\"rgb(5,48,97)\"]],\"cmid\":0.0},\"title\":{\"text\":\"Induction Score by Head\"}},                        {\"responsive\": true}                    ).then(function(){\n",
       "                            \n",
       "var gd = document.getElementById('2232dd33-3a2b-4091-9117-f3d201aa4ed1');\n",
       "var x = new MutationObserver(function (mutations, observer) {{\n",
       "        var display = window.getComputedStyle(gd).display;\n",
       "        if (!display || display === 'none') {{\n",
       "            console.log([gd, 'removed!']);\n",
       "            Plotly.purge(gd);\n",
       "            observer.disconnect();\n",
       "        }}\n",
       "}});\n",
       "\n",
       "// Listen for the removal of the full notebook cells\n",
       "var notebookContainer = gd.closest('#notebook-container');\n",
       "if (notebookContainer) {{\n",
       "    x.observe(notebookContainer, {childList: true});\n",
       "}}\n",
       "\n",
       "// Listen for the clearing of the current output cell\n",
       "var outputEl = gd.closest('.output');\n",
       "if (outputEl) {{\n",
       "    x.observe(outputEl, {childList: true});\n",
       "}}\n",
       "\n",
       "                        })                };            </script>        </div>"
      ]
     },
     "metadata": {},
     "output_type": "display_data"
    }
   ],
   "execution_count": 42
  },
  {
   "metadata": {},
   "cell_type": "markdown",
   "source": [
    "La tête 5 de la couche 5 obtient un score extrêmement élevé avec cette mesure. On peut alors fournir au modèle une séquence aléatoire plus courte, répétée deux fois, visualiser son pattern d’attention et l’observer directement — y compris la fameuse **« bande d’induction »** à `seq_len - 1` tokens en arrière.\n",
    "\n",
    "Cette fois, nous plaçons un hook sur l’activation du **pattern d’attention** afin de visualiser le pattern de la tête concernée.\n"
   ],
   "id": "771cdc404474b183"
  },
  {
   "metadata": {
    "ExecuteTime": {
     "end_time": "2025-08-31T11:34:22.825770Z",
     "start_time": "2025-08-31T11:34:22.673973Z"
    }
   },
   "cell_type": "code",
   "source": [
    "induction_head_layer = 5\n",
    "induction_head_index = 5\n",
    "size = (1, 20)\n",
    "input_tensor = torch.randint(1000, 10000, size)\n",
    "\n",
    "single_random_sequence = input_tensor.to(model.cfg.device)\n",
    "repeated_random_sequence = einops.repeat(single_random_sequence, \"batch seq_len -> batch (2 seq_len)\")\n",
    "def visualize_pattern_hook(\n",
    "    pattern: Float[torch.Tensor, \"batch head_index dest_pos source_pos\"],\n",
    "    hook: HookPoint,\n",
    "):\n",
    "    display(\n",
    "        cv.attention.attention_patterns(\n",
    "            tokens=model.to_str_tokens(repeated_random_sequence),\n",
    "            attention=pattern[0, induction_head_index, :, :][None, :, :] # Add a dummy axis, as CircuitsVis expects 3D patterns.\n",
    "        )\n",
    "    )\n",
    "\n",
    "model.run_with_hooks(\n",
    "    repeated_random_sequence,\n",
    "    return_type=None,\n",
    "    fwd_hooks=[(\n",
    "        utils.get_act_name(\"pattern\", induction_head_layer),\n",
    "        visualize_pattern_hook\n",
    "    )]\n",
    ")"
   ],
   "id": "b2f41f11790bbab4",
   "outputs": [
    {
     "data": {
      "text/plain": [
       "<circuitsvis.utils.render.RenderedHTML at 0x751db8526e90>"
      ],
      "text/html": [
       "<div id=\"circuits-vis-68eb1074-1f83\" style=\"margin: 15px 0;\"/>\n",
       "    <script crossorigin type=\"module\">\n",
       "    import { render, AttentionPatterns } from \"https://unpkg.com/circuitsvis@1.43.3/dist/cdn/esm.js\";\n",
       "    render(\n",
       "      \"circuits-vis-68eb1074-1f83\",\n",
       "      AttentionPatterns,\n",
       "      {\"tokens\": [\" wrong\", \" quiet\", \"umb\", \" Sw\", \" 96\", \" rape\", \" format\", \"eal\", \" fil\", \" trading\", \" appointed\", \" Sy\", \" corporate\", \"anda\", \" bonus\", \"oz\", \"ourn\", \"well\", \" cond\", \" trou\", \" wrong\", \" quiet\", \"umb\", \" Sw\", \" 96\", \" rape\", \" format\", \"eal\", \" fil\", \" trading\", \" appointed\", \" Sy\", \" corporate\", \"anda\", \" bonus\", \"oz\", \"ourn\", \"well\", \" cond\", \" trou\"], \"attention\": [[[1.0, 0.0, 0.0, 0.0, 0.0, 0.0, 0.0, 0.0, 0.0, 0.0, 0.0, 0.0, 0.0, 0.0, 0.0, 0.0, 0.0, 0.0, 0.0, 0.0, 0.0, 0.0, 0.0, 0.0, 0.0, 0.0, 0.0, 0.0, 0.0, 0.0, 0.0, 0.0, 0.0, 0.0, 0.0, 0.0, 0.0, 0.0, 0.0, 0.0], [0.9702330827713013, 0.029766902327537537, 0.0, 0.0, 0.0, 0.0, 0.0, 0.0, 0.0, 0.0, 0.0, 0.0, 0.0, 0.0, 0.0, 0.0, 0.0, 0.0, 0.0, 0.0, 0.0, 0.0, 0.0, 0.0, 0.0, 0.0, 0.0, 0.0, 0.0, 0.0, 0.0, 0.0, 0.0, 0.0, 0.0, 0.0, 0.0, 0.0, 0.0, 0.0], [0.9958851933479309, 0.0007018393371254206, 0.003412902820855379, 0.0, 0.0, 0.0, 0.0, 0.0, 0.0, 0.0, 0.0, 0.0, 0.0, 0.0, 0.0, 0.0, 0.0, 0.0, 0.0, 0.0, 0.0, 0.0, 0.0, 0.0, 0.0, 0.0, 0.0, 0.0, 0.0, 0.0, 0.0, 0.0, 0.0, 0.0, 0.0, 0.0, 0.0, 0.0, 0.0, 0.0], [0.9924722909927368, 0.00010310407378710806, 0.00037698730011470616, 0.007047698833048344, 0.0, 0.0, 0.0, 0.0, 0.0, 0.0, 0.0, 0.0, 0.0, 0.0, 0.0, 0.0, 0.0, 0.0, 0.0, 0.0, 0.0, 0.0, 0.0, 0.0, 0.0, 0.0, 0.0, 0.0, 0.0, 0.0, 0.0, 0.0, 0.0, 0.0, 0.0, 0.0, 0.0, 0.0, 0.0, 0.0], [0.9989516735076904, 0.00018928317876998335, 4.3258296500425786e-05, 0.0001819174794945866, 0.0006338701932691038, 0.0, 0.0, 0.0, 0.0, 0.0, 0.0, 0.0, 0.0, 0.0, 0.0, 0.0, 0.0, 0.0, 0.0, 0.0, 0.0, 0.0, 0.0, 0.0, 0.0, 0.0, 0.0, 0.0, 0.0, 0.0, 0.0, 0.0, 0.0, 0.0, 0.0, 0.0, 0.0, 0.0, 0.0, 0.0], [0.9872663617134094, 0.0032475527841597795, 2.417827090539504e-05, 0.0005670223035849631, 0.00034689108724705875, 0.008548067882657051, 0.0, 0.0, 0.0, 0.0, 0.0, 0.0, 0.0, 0.0, 0.0, 0.0, 0.0, 0.0, 0.0, 0.0, 0.0, 0.0, 0.0, 0.0, 0.0, 0.0, 0.0, 0.0, 0.0, 0.0, 0.0, 0.0, 0.0, 0.0, 0.0, 0.0, 0.0, 0.0, 0.0, 0.0], [0.9944197535514832, 5.438265361590311e-05, 7.547504355898127e-05, 0.0010765246115624905, 4.7039495257195085e-05, 0.0020886673592031, 0.0022381197195500135, 0.0, 0.0, 0.0, 0.0, 0.0, 0.0, 0.0, 0.0, 0.0, 0.0, 0.0, 0.0, 0.0, 0.0, 0.0, 0.0, 0.0, 0.0, 0.0, 0.0, 0.0, 0.0, 0.0, 0.0, 0.0, 0.0, 0.0, 0.0, 0.0, 0.0, 0.0, 0.0, 0.0], [0.9524319171905518, 0.0003683519025798887, 0.03225426748394966, 0.012564429081976414, 5.8527955843601376e-05, 3.282303441665135e-05, 0.0008482288685627282, 0.001441505621187389, 0.0, 0.0, 0.0, 0.0, 0.0, 0.0, 0.0, 0.0, 0.0, 0.0, 0.0, 0.0, 0.0, 0.0, 0.0, 0.0, 0.0, 0.0, 0.0, 0.0, 0.0, 0.0, 0.0, 0.0, 0.0, 0.0, 0.0, 0.0, 0.0, 0.0, 0.0, 0.0], [0.9900033473968506, 2.9313458071555942e-05, 0.00013128187856636941, 0.00026622245786711574, 1.3332598882698221e-06, 7.439728506142274e-05, 0.002126724924892187, 0.0011066789738833904, 0.006260704714804888, 0.0, 0.0, 0.0, 0.0, 0.0, 0.0, 0.0, 0.0, 0.0, 0.0, 0.0, 0.0, 0.0, 0.0, 0.0, 0.0, 0.0, 0.0, 0.0, 0.0, 0.0, 0.0, 0.0, 0.0, 0.0, 0.0, 0.0, 0.0, 0.0, 0.0, 0.0], [0.9400201439857483, 0.0002578890707809478, 9.31592658162117e-05, 0.0006945370114408433, 0.00021848242613486946, 0.00023077664081938565, 0.012182015925645828, 0.00699699018150568, 0.020041342824697495, 0.019264671951532364, 0.0, 0.0, 0.0, 0.0, 0.0, 0.0, 0.0, 0.0, 0.0, 0.0, 0.0, 0.0, 0.0, 0.0, 0.0, 0.0, 0.0, 0.0, 0.0, 0.0, 0.0, 0.0, 0.0, 0.0, 0.0, 0.0, 0.0, 0.0, 0.0, 0.0], [0.9638440012931824, 0.000533949991222471, 2.517985421945923e-06, 0.0003414514067117125, 1.7700231182971038e-06, 0.00025675163487903774, 6.760773248970509e-05, 1.4093852769292425e-05, 0.001063826377503574, 0.0008996723918244243, 0.03297439217567444, 0.0, 0.0, 0.0, 0.0, 0.0, 0.0, 0.0, 0.0, 0.0, 0.0, 0.0, 0.0, 0.0, 0.0, 0.0, 0.0, 0.0, 0.0, 0.0, 0.0, 0.0, 0.0, 0.0, 0.0, 0.0, 0.0, 0.0, 0.0, 0.0], [0.9667375683784485, 4.872896897722967e-05, 2.9544622520916164e-05, 0.0028317244723439217, 0.025401199236512184, 0.0018507677596062422, 0.0011589372297748923, 0.0005834216717630625, 0.0005754185258410871, 0.0003562489291653037, 0.0002035909565165639, 0.0002229491510661319, 0.0, 0.0, 0.0, 0.0, 0.0, 0.0, 0.0, 0.0, 0.0, 0.0, 0.0, 0.0, 0.0, 0.0, 0.0, 0.0, 0.0, 0.0, 0.0, 0.0, 0.0, 0.0, 0.0, 0.0, 0.0, 0.0, 0.0, 0.0], [0.8867255449295044, 3.161104905302636e-05, 9.754142411111388e-06, 0.000110207314719446, 1.1001162420143373e-05, 0.0004846969386562705, 0.0002941629209090024, 0.013524269685149193, 0.0040415190160274506, 0.033531803637742996, 0.03068890981376171, 0.029458701610565186, 0.0010877539170905948, 0.0, 0.0, 0.0, 0.0, 0.0, 0.0, 0.0, 0.0, 0.0, 0.0, 0.0, 0.0, 0.0, 0.0, 0.0, 0.0, 0.0, 0.0, 0.0, 0.0, 0.0, 0.0, 0.0, 0.0, 0.0, 0.0, 0.0], [0.9887752532958984, 1.1875930567839532e-06, 4.124896804569289e-06, 0.00016145968402270228, 4.163777589383244e-07, 0.00035057091736234725, 7.728803757345304e-05, 0.0004912344738841057, 0.006931736133992672, 0.0003648734709713608, 0.00013932121510151774, 0.001078708446584642, 0.0002805677358992398, 0.0013431697152554989, 0.0, 0.0, 0.0, 0.0, 0.0, 0.0, 0.0, 0.0, 0.0, 0.0, 0.0, 0.0, 0.0, 0.0, 0.0, 0.0, 0.0, 0.0, 0.0, 0.0, 0.0, 0.0, 0.0, 0.0, 0.0, 0.0], [0.9516806602478027, 0.0007846095249988139, 2.3126617634261493e-06, 0.0012365549337118864, 2.8786896564270137e-06, 0.00013732640945818275, 0.00039151482633315027, 0.00013298180419951677, 0.0034975132439285517, 0.0014546291204169393, 0.0044606453739106655, 0.035222604870796204, 8.814702596282586e-05, 0.0001995457714656368, 0.0007081410731188953, 0.0, 0.0, 0.0, 0.0, 0.0, 0.0, 0.0, 0.0, 0.0, 0.0, 0.0, 0.0, 0.0, 0.0, 0.0, 0.0, 0.0, 0.0, 0.0, 0.0, 0.0, 0.0, 0.0, 0.0, 0.0], [0.9894792437553406, 3.494149859761819e-05, 6.42914017134899e-07, 0.00023125192092265934, 1.763727777870372e-05, 0.00015907025954220444, 0.005021947436034679, 0.0008222949109040201, 0.00017514190403744578, 0.000298227445455268, 0.001953739207237959, 0.0005037145456299186, 0.0006604493828490376, 7.413541607093066e-05, 0.0003927885554730892, 0.0001746618509059772, 0.0, 0.0, 0.0, 0.0, 0.0, 0.0, 0.0, 0.0, 0.0, 0.0, 0.0, 0.0, 0.0, 0.0, 0.0, 0.0, 0.0, 0.0, 0.0, 0.0, 0.0, 0.0, 0.0, 0.0], [0.8959282040596008, 0.0028147033881396055, 0.0024583125486969948, 0.022818703204393387, 0.0011550715425983071, 0.00045192890684120357, 0.003288751235231757, 0.00010455148731125519, 0.01639687269926071, 0.001288683619350195, 0.040268611162900925, 0.01167397852987051, 2.199810478487052e-05, 0.00030690967105329037, 0.0007363363401964307, 0.00010951219155685976, 0.000176707559148781, 0.0, 0.0, 0.0, 0.0, 0.0, 0.0, 0.0, 0.0, 0.0, 0.0, 0.0, 0.0, 0.0, 0.0, 0.0, 0.0, 0.0, 0.0, 0.0, 0.0, 0.0, 0.0, 0.0], [0.8630262017250061, 0.002586119808256626, 0.0101380106061697, 0.022646328434348106, 0.0016339145367965102, 0.01378136221319437, 0.0002974342496600002, 0.0013396431459113955, 0.026400920003652573, 0.00010491188731975853, 0.002957796212285757, 0.002968945074826479, 1.7557802493683994e-05, 3.420149369048886e-05, 0.0025592197198420763, 3.0837978556519374e-05, 2.7174235128768487e-06, 0.04947393015027046, 0.0, 0.0, 0.0, 0.0, 0.0, 0.0, 0.0, 0.0, 0.0, 0.0, 0.0, 0.0, 0.0, 0.0, 0.0, 0.0, 0.0, 0.0, 0.0, 0.0, 0.0, 0.0], [0.8490986227989197, 0.00015468285710085183, 0.000840004940982908, 0.002640479477122426, 0.00020526199659798294, 0.052136246114969254, 0.002555490704253316, 0.05236832797527313, 0.012886637821793556, 0.006553370039910078, 0.000829727912787348, 0.005674391053617001, 0.0004232059873174876, 0.0029147849418222904, 0.006040006410330534, 0.0005655177519656718, 9.013956514536403e-08, 0.00016988685820251703, 0.003943177405744791, 0.0, 0.0, 0.0, 0.0, 0.0, 0.0, 0.0, 0.0, 0.0, 0.0, 0.0, 0.0, 0.0, 0.0, 0.0, 0.0, 0.0, 0.0, 0.0, 0.0, 0.0], [0.8501976132392883, 0.007179578300565481, 0.0003252647293265909, 0.006852258928120136, 0.02624131366610527, 0.008459728211164474, 0.009440942667424679, 0.0003789530601352453, 0.010220981203019619, 0.0009246360277757049, 0.01164577342569828, 0.00731308851391077, 0.024149274453520775, 0.005055570509284735, 0.0031797022093087435, 0.0016513881273567677, 6.606578244827688e-05, 0.0042298720218241215, 0.018039919435977936, 0.004448076710104942, 0.0, 0.0, 0.0, 0.0, 0.0, 0.0, 0.0, 0.0, 0.0, 0.0, 0.0, 0.0, 0.0, 0.0, 0.0, 0.0, 0.0, 0.0, 0.0, 0.0], [0.04160879924893379, 0.9334330558776855, 0.008105997927486897, 0.0031754220835864544, 0.00033067044569179416, 0.002372422954067588, 0.002069765469059348, 0.00034418964060023427, 0.0008955698576755822, 0.00014028078294359148, 4.082256054971367e-05, 0.0010427586967125535, 0.001956401625648141, 4.902160435449332e-05, 1.6983034583972767e-05, 0.00017809995915740728, 1.2036023690598086e-05, 0.0001451534335501492, 0.0011906367726624012, 2.404553561063949e-05, 0.0028679189272224903, 0.0, 0.0, 0.0, 0.0, 0.0, 0.0, 0.0, 0.0, 0.0, 0.0, 0.0, 0.0, 0.0, 0.0, 0.0, 0.0, 0.0, 0.0, 0.0], [0.003841161960735917, 0.000634798314422369, 0.9824798107147217, 0.01000978797674179, 0.0001298303686780855, 7.162171095842496e-05, 2.2295484086498618e-05, 6.480381125584245e-05, 0.0010198767995461822, 2.3446315026376396e-05, 2.141685581591446e-05, 8.120498932839837e-06, 1.1860627637361176e-05, 5.0712427764665335e-05, 2.722060571613838e-06, 6.362139970406133e-07, 5.050854401389415e-09, 8.625960617791861e-06, 9.388521721120924e-05, 1.66342688316945e-05, 2.1956755517749116e-05, 0.001465835957787931, 0.0, 0.0, 0.0, 0.0, 0.0, 0.0, 0.0, 0.0, 0.0, 0.0, 0.0, 0.0, 0.0, 0.0, 0.0, 0.0, 0.0, 0.0], [0.14100417494773865, 0.0013534511672332883, 0.005538126453757286, 0.8294081091880798, 0.0006913708057254553, 0.0009287743014283478, 5.298546238918789e-05, 2.5628054572734982e-05, 0.0037152173463255167, 5.842296377522871e-05, 2.5286302843596786e-05, 3.1784558814251795e-05, 0.00045637678704224527, 0.00014847716374788433, 4.6598754124715924e-05, 8.425833948422223e-05, 3.1235895221470855e-06, 0.00015696347691118717, 0.0012179098557680845, 1.1665408237604424e-05, 0.0003708737494889647, 0.004049311857670546, 0.010621166788041592, 0.0, 0.0, 0.0, 0.0, 0.0, 0.0, 0.0, 0.0, 0.0, 0.0, 0.0, 0.0, 0.0, 0.0, 0.0, 0.0, 0.0], [0.048606012016534805, 5.5236641856026836e-06, 2.7133099138154648e-05, 0.00044962120591662824, 0.9375166296958923, 0.004301083739846945, 0.0004257851396687329, 3.8652280636597425e-05, 4.010784687125124e-05, 7.064776355036884e-07, 3.026156991836615e-05, 8.076006452029105e-06, 0.006726785097271204, 2.4710696379770525e-05, 1.2043794868077384e-06, 3.6132311720393773e-07, 7.621725472972685e-08, 1.5400011761812493e-05, 8.767045801505446e-05, 1.3505399465429946e-06, 0.00036879500839859247, 7.091453881002963e-05, 0.00026086345314979553, 0.0009922467870637774, 0.0, 0.0, 0.0, 0.0, 0.0, 0.0, 0.0, 0.0, 0.0, 0.0, 0.0, 0.0, 0.0, 0.0, 0.0, 0.0], [0.07612492889165878, 8.201315722544678e-06, 2.1730284061050043e-06, 9.725380550662521e-06, 4.032665310660377e-05, 0.9132827520370483, 0.001119015272706747, 0.0034370459616184235, 4.729213469545357e-05, 8.273256753454916e-06, 2.2605740014114417e-05, 5.3565760026685894e-05, 0.0001294740359298885, 1.2430507013050374e-05, 0.0001041047798935324, 1.4645522696810076e-06, 9.963006277757813e-07, 4.821467314286565e-07, 0.00023633489036001265, 0.001719388528726995, 0.0035317144356667995, 3.348876998643391e-05, 1.2270371371414512e-05, 3.2066451240098104e-05, 2.9857141271349974e-05, 0.0, 0.0, 0.0, 0.0, 0.0, 0.0, 0.0, 0.0, 0.0, 0.0, 0.0, 0.0, 0.0, 0.0, 0.0], [0.08588135242462158, 0.00017273530829697847, 1.4051735206521698e-06, 1.7559234038344584e-05, 7.239344540721504e-06, 0.003266271436586976, 0.9046969413757324, 0.0002695686707738787, 0.0002509064506739378, 0.0001601079129613936, 0.0011824175016954541, 0.0006523960619233549, 0.00010180455865338445, 6.968138040974736e-05, 1.2322141628828831e-05, 5.802076339023188e-05, 4.6705456043127924e-05, 2.0426552509889007e-05, 1.7811276848078705e-05, 1.8087070202454925e-05, 0.0005572243826463819, 0.000350612128386274, 1.211726339533925e-05, 6.065604247851297e-05, 4.894155608781148e-06, 0.0021107809152454138, 0.0, 0.0, 0.0, 0.0, 0.0, 0.0, 0.0, 0.0, 0.0, 0.0, 0.0, 0.0, 0.0, 0.0], [0.007080887909978628, 1.1451351156210876e-07, 3.7037258948657836e-07, 2.55889494837902e-06, 1.0942389394585916e-07, 6.373501673806459e-05, 3.51625494658947e-05, 0.9902342557907104, 0.001330120605416596, 3.841456782538444e-05, 0.0004303469613660127, 5.283404607325792e-05, 2.1416731215140317e-06, 0.00034372706431895494, 4.114201874472201e-05, 7.272295533766737e-06, 1.3631914953293744e-05, 1.593730729609888e-07, 1.0167701475438662e-05, 4.438376345206052e-05, 8.717373020772357e-06, 6.252443540688546e-07, 6.350717285386054e-07, 1.815055475162808e-05, 1.2139319949255878e-07, 0.00014220505545381457, 9.801948181120679e-05, 0.0, 0.0, 0.0, 0.0, 0.0, 0.0, 0.0, 0.0, 0.0, 0.0, 0.0, 0.0, 0.0], [0.01732415333390236, 8.191360393539071e-06, 0.0009392257197760046, 0.00048555381363257766, 5.711422545573441e-06, 1.1920711585844401e-05, 7.553827890660614e-05, 0.0005522136343643069, 0.9688196182250977, 0.0003210837603546679, 0.0042616031132638454, 0.00020027463324368, 9.771218174137175e-06, 9.733824845170602e-05, 0.0007140797097235918, 2.741571734077297e-05, 5.202340389587334e-07, 0.0010346134658902884, 0.001480095088481903, 5.605736077995971e-06, 9.086638601729646e-05, 2.046952795353718e-05, 0.0002252164704259485, 0.0006805707816965878, 2.8549309263325995e-06, 3.914464741683332e-06, 4.045536843477748e-05, 0.0025610472075641155, 0.0, 0.0, 0.0, 0.0, 0.0, 0.0, 0.0, 0.0, 0.0, 0.0, 0.0, 0.0], [0.042537230998277664, 4.427792532624153e-07, 2.9305010684765875e-06, 8.676198376633693e-06, 1.614860956067332e-08, 6.999301604082575e-06, 4.904907473246567e-05, 9.988096280721948e-05, 0.0006843501469120383, 0.9529455304145813, 0.0022896910086274147, 0.0005578850978054106, 1.3624970051751006e-05, 0.00024133293482009321, 2.41191555687692e-05, 1.4899681445967872e-05, 1.3774024409940466e-07, 3.2116790862346534e-06, 8.861609785526525e-06, 6.457018116634572e-06, 4.828716555493884e-05, 8.083355282906268e-07, 5.037492769588425e-07, 1.2739341400447302e-05, 7.929012113550016e-09, 4.139453267271165e-06, 1.502718441770412e-05, 5.870321547263302e-05, 0.00036464762524701655, 0.0, 0.0, 0.0, 0.0, 0.0, 0.0, 0.0, 0.0, 0.0, 0.0, 0.0], [0.0408000648021698, 2.5480760541540803e-06, 2.0585198399203364e-06, 9.414876330993138e-06, 7.76186027451331e-07, 9.176359526463784e-06, 0.00030019666883163154, 0.000768429774325341, 0.001174747128970921, 0.00040022190660238266, 0.9427191019058228, 0.00948480237275362, 2.793197381834034e-06, 0.0006880245637148619, 1.899251037684735e-05, 0.00010530218423809856, 1.7228021533810534e-05, 0.0002617732679937035, 0.00020654854597523808, 6.797697551519377e-07, 0.00014268257655203342, 3.2062823720480083e-06, 5.554414315156464e-07, 2.232693077530712e-05, 4.52387979521518e-07, 6.478078830696177e-06, 0.0002173179673263803, 0.0012105714995414019, 0.0007457375759258866, 0.0006778718670830131, 0.0, 0.0, 0.0, 0.0, 0.0, 0.0, 0.0, 0.0, 0.0, 0.0], [0.023545395582914352, 5.479736955749104e-06, 1.293579146022239e-07, 4.991003606846789e-06, 1.0778197001570788e-08, 1.0125069820787758e-05, 2.1460555217345245e-06, 1.190488546853885e-06, 5.44554932275787e-05, 2.5277564418502152e-05, 0.008601858280599117, 0.9656118154525757, 2.5456665753154084e-06, 0.00012420190614648163, 0.000281824788544327, 0.00023105683794710785, 9.880283613483698e-08, 0.00018732371972873807, 0.0003140198241453618, 9.382864050166972e-07, 0.00016697788669262081, 5.478890216181753e-06, 4.4313626545999796e-08, 1.6269938214463764e-06, 2.468654169973661e-09, 2.4698026663827477e-06, 1.5311671575091168e-07, 3.001924824275193e-07, 2.6865158361033536e-05, 1.4430754163186066e-05, 0.0007765689515508711, 0.0, 0.0, 0.0, 0.0, 0.0, 0.0, 0.0, 0.0, 0.0], [0.0353509895503521, 1.711270442683599e-06, 5.343300699678366e-07, 4.2843537812586874e-05, 0.0003575432929210365, 0.0001638899848330766, 4.5553762902272865e-05, 3.512429248075932e-05, 1.6338302884832956e-05, 3.426332477829419e-05, 3.64648767572362e-05, 6.0112048231530935e-05, 0.9155981540679932, 0.04433475434780121, 5.0564609409775585e-05, 2.3123380742617883e-05, 2.9099753646733006e-06, 5.279178367345594e-06, 4.045159130328102e-06, 8.094361305666098e-07, 0.0003610520507209003, 2.9685346817132086e-05, 3.665159511001548e-06, 0.00025086873210966587, 0.003025646088644862, 5.137548578204587e-05, 3.024342004209757e-05, 3.675297921290621e-05, 2.0200368453515694e-05, 1.2532603250292595e-05, 8.162005542544648e-06, 4.796457233169349e-06, 0.0, 0.0, 0.0, 0.0, 0.0, 0.0, 0.0, 0.0], [0.04245462641119957, 1.7701052001939388e-06, 5.252659320831299e-07, 2.890710220526671e-06, 2.0282890034195589e-07, 7.017683674348518e-05, 4.824977440875955e-05, 0.001318452414125204, 0.0001224464940605685, 0.0016570810694247484, 0.002352912677451968, 0.0025838527362793684, 0.00026835856260731816, 0.9286943078041077, 0.01001652516424656, 9.812971256906167e-05, 6.198276969371364e-05, 2.6145606170757674e-05, 0.000179531256435439, 1.4586095858248882e-05, 0.0007222831482067704, 5.106148364575347e-06, 5.097377879792475e-07, 1.1203167559870053e-05, 1.953669510612599e-07, 7.205359725048766e-05, 4.739620999316685e-05, 0.0015781268011778593, 7.73069477872923e-05, 0.0014624560717493296, 0.0031241043470799923, 0.0027425969019532204, 0.00018388374883215874, 0.0, 0.0, 0.0, 0.0, 0.0, 0.0, 0.0], [0.03957895562052727, 9.724983129899556e-08, 1.2793773862540547e-07, 4.14716623708955e-06, 1.201336585765489e-09, 1.8356025975663215e-05, 1.8593709683045745e-06, 1.6850846805027686e-05, 0.0002887178852688521, 1.4436278434004635e-05, 1.6689506082911976e-05, 0.00042452625348232687, 1.0929307791229803e-05, 0.0002364426909480244, 0.9581424593925476, 0.00013956826296634972, 9.931286513165105e-07, 1.0781830042105867e-06, 0.0003088473458774388, 8.17615455162013e-06, 9.808134927880019e-05, 7.000809176815892e-08, 2.193159254204602e-08, 4.396694293973269e-06, 6.666757701445647e-10, 1.2540327588794753e-05, 2.2514154807140585e-07, 8.430160050920676e-06, 0.00014377495972439647, 1.1837273632409051e-05, 1.0288163139193784e-06, 7.007593376329169e-05, 8.174638423952274e-07, 0.0004355541313998401, 0.0, 0.0, 0.0, 0.0, 0.0, 0.0], [0.016468631103634834, 7.228762569866376e-06, 8.338233214999491e-09, 1.2648250958591234e-05, 1.1289587042995208e-09, 2.1508210465981392e-06, 3.987801846960792e-06, 2.0761140149261337e-06, 3.663608367787674e-05, 6.435823252104456e-06, 0.000108178639493417, 0.0019949767738580704, 6.276448516473465e-07, 4.692523361882195e-06, 3.738268787856214e-05, 0.9805185794830322, 1.3184172530600335e-05, 4.356660610937979e-06, 2.340339415241033e-05, 6.124290848674718e-06, 0.00031007552752271295, 5.76562433707295e-06, 2.4008993904089948e-08, 3.829523848253302e-06, 6.944244623774409e-10, 5.427060045803955e-07, 5.441254984361876e-07, 4.131647699523455e-07, 9.513716577203013e-06, 2.711732122406829e-06, 2.0857326035184087e-06, 0.00040242489194497466, 2.5442997042546267e-08, 6.711672085657483e-06, 3.963849849242251e-06, 0.0, 0.0, 0.0, 0.0, 0.0], [0.012759829871356487, 2.1179637315071886e-06, 8.435009135610017e-09, 4.193549102637917e-06, 2.8070584079387118e-08, 1.3016350749239791e-05, 6.053733886801638e-05, 4.362812251201831e-05, 1.0353923244110774e-05, 9.930660780810285e-06, 0.0001285387115785852, 7.952135638333857e-05, 2.4415972802671604e-05, 5.319840511219809e-06, 3.831414142041467e-05, 4.5586599298985675e-05, 0.9864386320114136, 5.292875471241132e-07, 1.4756618838873692e-05, 4.8691269682876737e-08, 1.4489014574792236e-05, 2.2640585939370794e-06, 7.323236683731693e-09, 2.48521405410429e-06, 2.0906494313521762e-08, 5.963544026599266e-06, 0.00010323235619580373, 8.1353668065276e-05, 3.106657004536828e-06, 4.2072565520356875e-06, 5.335359674063511e-05, 5.616363978333538e-06, 3.6677731714007678e-06, 1.982832509384025e-05, 1.6377412066503894e-06, 1.9455050278338604e-05, 0.0, 0.0, 0.0, 0.0], [0.025984272360801697, 0.0002020848187385127, 0.0001289694628212601, 0.0016259901458397508, 2.1939667931292206e-05, 7.410494436044246e-05, 0.00013565199333243072, 4.953494681103621e-06, 0.002125898841768503, 4.6024702896829695e-05, 0.003135904436931014, 0.0017940702382475138, 3.7343436360970372e-06, 2.6109764803550206e-05, 0.00014975380327086896, 1.0498454685148317e-05, 5.0378193918731995e-06, 0.8127636909484863, 0.1482648253440857, 8.182891178876162e-06, 0.00029262795578688383, 0.00018598063616082072, 5.384945325204171e-05, 0.0007461212808266282, 8.994134987005964e-06, 2.0576944734784774e-05, 4.994328992324881e-05, 3.426529019634472e-06, 0.0010229278123006225, 9.564349966240115e-06, 0.0006235429318621755, 0.0003964685893151909, 9.61252681008773e-07, 5.67842107557226e-05, 6.333791134238709e-06, 3.6452220228966326e-06, 6.6116890593548305e-06, 0.0, 0.0, 0.0], [0.003121661487966776, 1.8218370314571075e-05, 0.00011433599138399586, 0.00030443776631727815, 2.895649686252e-06, 9.069571387954056e-05, 4.2818706447178556e-07, 3.556951014616061e-06, 0.000537478132173419, 1.484450535826909e-07, 2.771811887214426e-05, 7.856563752284274e-05, 7.757684983289437e-08, 2.817180018155341e-07, 4.113528848392889e-05, 2.0055121296991274e-07, 2.5658153379737314e-09, 0.001207858556881547, 0.9910992980003357, 0.00010588488657958806, 3.754118733922951e-05, 6.3875754676701035e-06, 2.761442920018453e-05, 0.0002135258837370202, 1.2617913398571545e-06, 1.4497425581794232e-05, 1.1744230477006568e-08, 7.062722033879254e-07, 5.850558591191657e-05, 2.69641002859089e-08, 5.529016675609455e-07, 2.1748369363194797e-06, 7.517855671324014e-09, 4.865752316618455e-07, 4.2215874600515235e-06, 2.711014523981703e-08, 3.833963369004323e-09, 0.002877608872950077, 0.0, 0.0], [0.016352394595742226, 3.348449354234617e-06, 2.880836109397933e-05, 0.00011284308129688725, 4.3811924115289e-06, 0.002741876756772399, 2.9682300009881146e-05, 0.0013654151698574424, 0.0004995843628421426, 8.93484175321646e-05, 2.369345020269975e-05, 0.00016278919065371156, 1.2299386071390472e-05, 6.694772309856489e-05, 0.0001879186020232737, 1.805296415113844e-05, 1.1641515529348112e-09, 5.393544597609434e-06, 0.00041335649439133704, 0.9718086123466492, 0.003608167637139559, 8.716340744285844e-06, 5.647717625834048e-05, 0.0003984235809184611, 2.178040176659124e-06, 0.0014034925261512399, 7.879900294938125e-06, 0.0003335414221510291, 7.995175110409036e-05, 1.598973904037848e-05, 1.8571908810827154e-07, 3.408199745535967e-06, 4.333146819135436e-07, 2.4505126930307597e-05, 1.0137520803255029e-05, 2.56313728641544e-06, 2.976225710327185e-09, 1.0644069334375672e-05, 0.0001065322503563948, 0.0], [0.10707485675811768, 0.0009993824642151594, 0.0002136421244358644, 0.001307689817622304, 0.0011471632169559598, 0.00611239206045866, 0.0010683853179216385, 0.0001558264484629035, 0.0011935768416151404, 6.769685569452122e-05, 0.0008631498785689473, 0.0011824780376628041, 0.002229789737612009, 0.0014569981722161174, 0.0003599036135710776, 0.00023287904332391918, 5.701299414795358e-07, 0.00021879527776036412, 0.002448868937790394, 0.004269514698535204, 0.8549456000328064, 0.0030606528744101524, 0.001393208047375083, 0.002896538469940424, 0.0003519980236887932, 0.0012338078813627362, 0.0001738283463055268, 6.618873158004135e-05, 9.570891415933147e-05, 4.089329650014406e-06, 2.3282897018361837e-05, 4.0695140341995284e-05, 0.0002614895929582417, 0.0006369198090396821, 9.247290108760353e-06, 6.67435597279109e-05, 1.6552255601709476e-06, 0.0005533812800422311, 0.0005448414594866335, 0.0010367013746872544]]]}\n",
       "    )\n",
       "    </script>"
      ]
     },
     "metadata": {},
     "output_type": "display_data"
    }
   ],
   "execution_count": 44
  },
  {
   "metadata": {},
   "cell_type": "markdown",
   "source": "## Modèles disponibles",
   "id": "888d864dfd9f34f6"
  },
  {
   "metadata": {},
   "cell_type": "markdown",
   "source": [
    "TransformerLens est fourni avec plus de 40 modèles open source disponibles, qui peuvent tous être chargés dans une architecture relativement uniforme simplement en changeant le nom dans `from_pretrained`. Les modèles open source disponibles sont [documentés ici](https://dynalist.io/d/n2ZWtnoYHrU1s4vnFSAQ519J#z=jHj79Pj58cgJKdq4t-ygK-4h), et un ensemble de modèles « adaptés à l’interprétabilité » que j’ai entraînés sont [documentés ici](https://dynalist.io/d/n2ZWtnoYHrU1s4vnFSAQ519J#z=NCJ6zH_Okw_mUYAwGnMKsj2m). Cet ensemble inclut de petits modèles jouets (de une à quatre couches) ainsi qu’une série de [modèles SoLU](https://dynalist.io/d/n2ZWtnoYHrU1s4vnFSAQ519J#z=FZ5W6GGcy6OitPEaO733JLqf) allant jusqu’à GPT-2 Medium (300 M de paramètres). Vous pouvez consulter [un tableau des alias officiels et des hyperparamètres des modèles disponibles ici](https://github.com/TransformerLensOrg/TransformerLens/blob/main/transformer_lens/model_properties_table.md).\n",
    "\n",
    "**Remarque :** TransformerLens ne prend actuellement pas en charge les modèles multi-GPU (nécessaires par exemple pour les modèles au-dessus de \\~7B paramètres), mais cette fonctionnalité arrivera bientôt !"
   ],
   "id": "776dea1a5ac2e83"
  },
  {
   "metadata": {},
   "cell_type": "markdown",
   "source": "Concrètement, cela signifie qu’on peut relancer presque immédiatement la même analyse sur un autre modèle en ne changeant que son nom. Pour le voir, chargeons **DistilGPT-2** (une version distillée de GPT-2, avec deux fois moins de couches) et recopions le code ci-dessus pour observer les **têtes d’induction** dans ce modèle.",
   "id": "7674826e21a4357a"
  },
  {
   "metadata": {
    "ExecuteTime": {
     "end_time": "2025-08-31T15:11:13.346842Z",
     "start_time": "2025-08-31T15:11:03.760134Z"
    }
   },
   "cell_type": "code",
   "source": [
    "# NBVAL_IGNORE_OUTPUT\n",
    "distilgpt2 = HookedTransformer.from_pretrained(\"distilgpt2\", device=device)"
   ],
   "id": "93b56b5b739b1441",
   "outputs": [
    {
     "data": {
      "text/plain": [
       "config.json:   0%|          | 0.00/762 [00:00<?, ?B/s]"
      ],
      "application/vnd.jupyter.widget-view+json": {
       "version_major": 2,
       "version_minor": 0,
       "model_id": "d05e221b97324314bc13f7ede303a71c"
      }
     },
     "metadata": {},
     "output_type": "display_data"
    },
    {
     "data": {
      "text/plain": [
       "model.safetensors:   0%|          | 0.00/353M [00:00<?, ?B/s]"
      ],
      "application/vnd.jupyter.widget-view+json": {
       "version_major": 2,
       "version_minor": 0,
       "model_id": "5c274a22774847b1b74a59a32fbb5cd6"
      }
     },
     "metadata": {},
     "output_type": "display_data"
    },
    {
     "data": {
      "text/plain": [
       "generation_config.json:   0%|          | 0.00/124 [00:00<?, ?B/s]"
      ],
      "application/vnd.jupyter.widget-view+json": {
       "version_major": 2,
       "version_minor": 0,
       "model_id": "76ef2ce42fd243ec9cd90f340775f282"
      }
     },
     "metadata": {},
     "output_type": "display_data"
    },
    {
     "data": {
      "text/plain": [
       "tokenizer_config.json:   0%|          | 0.00/26.0 [00:00<?, ?B/s]"
      ],
      "application/vnd.jupyter.widget-view+json": {
       "version_major": 2,
       "version_minor": 0,
       "model_id": "c3e96ef2b4a946748e281fb41f1ac05a"
      }
     },
     "metadata": {},
     "output_type": "display_data"
    },
    {
     "data": {
      "text/plain": [
       "vocab.json:   0%|          | 0.00/1.04M [00:00<?, ?B/s]"
      ],
      "application/vnd.jupyter.widget-view+json": {
       "version_major": 2,
       "version_minor": 0,
       "model_id": "a4c710b450d04368b9bdf5d3a6b9ed78"
      }
     },
     "metadata": {},
     "output_type": "display_data"
    },
    {
     "data": {
      "text/plain": [
       "merges.txt:   0%|          | 0.00/456k [00:00<?, ?B/s]"
      ],
      "application/vnd.jupyter.widget-view+json": {
       "version_major": 2,
       "version_minor": 0,
       "model_id": "7207a7c48e894462adacbfeec8eb9d1e"
      }
     },
     "metadata": {},
     "output_type": "display_data"
    },
    {
     "data": {
      "text/plain": [
       "tokenizer.json:   0%|          | 0.00/1.36M [00:00<?, ?B/s]"
      ],
      "application/vnd.jupyter.widget-view+json": {
       "version_major": 2,
       "version_minor": 0,
       "model_id": "e85886dc786841da903791c6d686f07d"
      }
     },
     "metadata": {},
     "output_type": "display_data"
    },
    {
     "name": "stdout",
     "output_type": "stream",
     "text": [
      "Loaded pretrained model distilgpt2 into HookedTransformer\n"
     ]
    }
   ],
   "execution_count": 45
  },
  {
   "metadata": {
    "ExecuteTime": {
     "end_time": "2025-08-31T15:11:59.390287Z",
     "start_time": "2025-08-31T15:11:59.326262Z"
    }
   },
   "cell_type": "code",
   "source": [
    "# We make a tensor to store the induction score for each head. We put it on the model's device to avoid needing to move things between the GPU and CPU, which can be slow.\n",
    "distilgpt2_induction_score_store = torch.zeros((distilgpt2.cfg.n_layers, distilgpt2.cfg.n_heads), device=distilgpt2.cfg.device)\n",
    "\n",
    "def induction_score_hook(\n",
    "    pattern: Float[torch.Tensor, \"batch head_index dest_pos source_pos\"],\n",
    "    hook: HookPoint,\n",
    "):\n",
    "    \"\"\"\n",
    "    To document.\n",
    "    \"\"\"\n",
    "    # We take the diagonal of attention paid from each destination position to source positions seq_len-1 tokens back\n",
    "    # (This only has entries for tokens with index>=seq_len)\n",
    "    induction_stripe = pattern.diagonal(dim1=-2, dim2=-1, offset=1-seq_len)\n",
    "    # Get an average score per head\n",
    "    induction_score = einops.reduce(induction_stripe, \"batch head_index position -> head_index\", \"mean\")\n",
    "    # Store the result.\n",
    "    distilgpt2_induction_score_store[hook.layer(), :] = induction_score\n",
    "# end induction_score_hook\n",
    "\n",
    "# We make a boolean filter on activation names, that's true only on attention pattern names.\n",
    "pattern_hook_names_filter = lambda name: name.endswith(\"pattern\")\n",
    "\n",
    "distilgpt2.run_with_hooks(\n",
    "    repeated_tokens,\n",
    "    return_type=None, # For efficiency, we don't need to calculate the logits\n",
    "    fwd_hooks=[(\n",
    "        pattern_hook_names_filter,\n",
    "        induction_score_hook\n",
    "    )]\n",
    ")\n",
    "\n",
    "imshow(\n",
    "    distilgpt2_induction_score_store,\n",
    "    xaxis=\"Head\",\n",
    "    yaxis=\"Layer\",\n",
    "    title=\"Induction Score by Head in Distil GPT-2\"\n",
    ")"
   ],
   "id": "c3f39829b4435f63",
   "outputs": [
    {
     "data": {
      "text/html": [
       "<div>            <script src=\"https://cdnjs.cloudflare.com/ajax/libs/mathjax/2.7.5/MathJax.js?config=TeX-AMS-MML_SVG\"></script><script type=\"text/javascript\">if (window.MathJax && window.MathJax.Hub && window.MathJax.Hub.Config) {window.MathJax.Hub.Config({SVG: {font: \"STIX-Web\"}});}</script>                <script type=\"text/javascript\">window.PlotlyConfig = {MathJaxConfig: 'local'};</script>\n",
       "        <script charset=\"utf-8\" src=\"https://cdn.plot.ly/plotly-3.1.0.min.js\" integrity=\"sha256-Ei4740bWZhaUTQuD6q9yQlgVCMPBz6CZWhevDYPv93A=\" crossorigin=\"anonymous\"></script>                <div id=\"0145343e-5b5d-4ff0-81ab-2a66451e4c10\" class=\"plotly-graph-div\" style=\"height:525px; width:100%;\"></div>            <script type=\"text/javascript\">                window.PLOTLYENV=window.PLOTLYENV || {};                                if (document.getElementById(\"0145343e-5b5d-4ff0-81ab-2a66451e4c10\")) {                    Plotly.newPlot(                        \"0145343e-5b5d-4ff0-81ab-2a66451e4c10\",                        [{\"coloraxis\":\"coloraxis\",\"name\":\"0\",\"z\":{\"dtype\":\"f4\",\"bdata\":\"fMMkPBNu7jhKGUc8KCBFN80LPjojwg83ymUPPI2A1DpWOQs8gEwYPI9bGDwoRYE8jtdIO89wjzzrPfg6gPycOUbDYTyMPfs6U6GgO\\u002fM4gjzADR87MjymOGxngjuBNnQ8bK01PGpx3zsYkVg8yz7HOkdSojwWuZ87EH8dPLHcxzoN8Jk8Gs9MPNNSpzzbOTEvfzYDPN7GZD4vcls\\u002fyVCIPGoPkDzbkUk8yMOZPOx3Pz5L1oE8oryNPPAcbj+9xfU+nU+IPsgAcT4z3K49NtktPDrqoT23Y9A8MAUfP0w7yjwqmYA9zm8lP4xIiTxB\\u002f209\\u002fBCcPFiHlT1JRFU9LMU5PJi9CT1De0I+sUyYPYCVxD34+fc7gkXqPnm4Lz4\\u002fHOg8\",\"shape\":\"6, 12\"},\"type\":\"heatmap\",\"xaxis\":\"x\",\"yaxis\":\"y\",\"hovertemplate\":\"Head: %{x}\\u003cbr\\u003eLayer: %{y}\\u003cbr\\u003ecolor: %{z}\\u003cextra\\u003e\\u003c\\u002fextra\\u003e\"}],                        {\"template\":{\"data\":{\"histogram2dcontour\":[{\"type\":\"histogram2dcontour\",\"colorbar\":{\"outlinewidth\":0,\"ticks\":\"\"},\"colorscale\":[[0.0,\"#0d0887\"],[0.1111111111111111,\"#46039f\"],[0.2222222222222222,\"#7201a8\"],[0.3333333333333333,\"#9c179e\"],[0.4444444444444444,\"#bd3786\"],[0.5555555555555556,\"#d8576b\"],[0.6666666666666666,\"#ed7953\"],[0.7777777777777778,\"#fb9f3a\"],[0.8888888888888888,\"#fdca26\"],[1.0,\"#f0f921\"]]}],\"choropleth\":[{\"type\":\"choropleth\",\"colorbar\":{\"outlinewidth\":0,\"ticks\":\"\"}}],\"histogram2d\":[{\"type\":\"histogram2d\",\"colorbar\":{\"outlinewidth\":0,\"ticks\":\"\"},\"colorscale\":[[0.0,\"#0d0887\"],[0.1111111111111111,\"#46039f\"],[0.2222222222222222,\"#7201a8\"],[0.3333333333333333,\"#9c179e\"],[0.4444444444444444,\"#bd3786\"],[0.5555555555555556,\"#d8576b\"],[0.6666666666666666,\"#ed7953\"],[0.7777777777777778,\"#fb9f3a\"],[0.8888888888888888,\"#fdca26\"],[1.0,\"#f0f921\"]]}],\"heatmap\":[{\"type\":\"heatmap\",\"colorbar\":{\"outlinewidth\":0,\"ticks\":\"\"},\"colorscale\":[[0.0,\"#0d0887\"],[0.1111111111111111,\"#46039f\"],[0.2222222222222222,\"#7201a8\"],[0.3333333333333333,\"#9c179e\"],[0.4444444444444444,\"#bd3786\"],[0.5555555555555556,\"#d8576b\"],[0.6666666666666666,\"#ed7953\"],[0.7777777777777778,\"#fb9f3a\"],[0.8888888888888888,\"#fdca26\"],[1.0,\"#f0f921\"]]}],\"contourcarpet\":[{\"type\":\"contourcarpet\",\"colorbar\":{\"outlinewidth\":0,\"ticks\":\"\"}}],\"contour\":[{\"type\":\"contour\",\"colorbar\":{\"outlinewidth\":0,\"ticks\":\"\"},\"colorscale\":[[0.0,\"#0d0887\"],[0.1111111111111111,\"#46039f\"],[0.2222222222222222,\"#7201a8\"],[0.3333333333333333,\"#9c179e\"],[0.4444444444444444,\"#bd3786\"],[0.5555555555555556,\"#d8576b\"],[0.6666666666666666,\"#ed7953\"],[0.7777777777777778,\"#fb9f3a\"],[0.8888888888888888,\"#fdca26\"],[1.0,\"#f0f921\"]]}],\"surface\":[{\"type\":\"surface\",\"colorbar\":{\"outlinewidth\":0,\"ticks\":\"\"},\"colorscale\":[[0.0,\"#0d0887\"],[0.1111111111111111,\"#46039f\"],[0.2222222222222222,\"#7201a8\"],[0.3333333333333333,\"#9c179e\"],[0.4444444444444444,\"#bd3786\"],[0.5555555555555556,\"#d8576b\"],[0.6666666666666666,\"#ed7953\"],[0.7777777777777778,\"#fb9f3a\"],[0.8888888888888888,\"#fdca26\"],[1.0,\"#f0f921\"]]}],\"mesh3d\":[{\"type\":\"mesh3d\",\"colorbar\":{\"outlinewidth\":0,\"ticks\":\"\"}}],\"scatter\":[{\"marker\":{\"line\":{\"color\":\"#283442\"}},\"type\":\"scatter\"}],\"parcoords\":[{\"type\":\"parcoords\",\"line\":{\"colorbar\":{\"outlinewidth\":0,\"ticks\":\"\"}}}],\"scatterpolargl\":[{\"type\":\"scatterpolargl\",\"marker\":{\"colorbar\":{\"outlinewidth\":0,\"ticks\":\"\"}}}],\"bar\":[{\"error_x\":{\"color\":\"#f2f5fa\"},\"error_y\":{\"color\":\"#f2f5fa\"},\"marker\":{\"line\":{\"color\":\"rgb(17,17,17)\",\"width\":0.5},\"pattern\":{\"fillmode\":\"overlay\",\"size\":10,\"solidity\":0.2}},\"type\":\"bar\"}],\"scattergeo\":[{\"type\":\"scattergeo\",\"marker\":{\"colorbar\":{\"outlinewidth\":0,\"ticks\":\"\"}}}],\"scatterpolar\":[{\"type\":\"scatterpolar\",\"marker\":{\"colorbar\":{\"outlinewidth\":0,\"ticks\":\"\"}}}],\"histogram\":[{\"marker\":{\"pattern\":{\"fillmode\":\"overlay\",\"size\":10,\"solidity\":0.2}},\"type\":\"histogram\"}],\"scattergl\":[{\"marker\":{\"line\":{\"color\":\"#283442\"}},\"type\":\"scattergl\"}],\"scatter3d\":[{\"type\":\"scatter3d\",\"line\":{\"colorbar\":{\"outlinewidth\":0,\"ticks\":\"\"}},\"marker\":{\"colorbar\":{\"outlinewidth\":0,\"ticks\":\"\"}}}],\"scattermap\":[{\"type\":\"scattermap\",\"marker\":{\"colorbar\":{\"outlinewidth\":0,\"ticks\":\"\"}}}],\"scattermapbox\":[{\"type\":\"scattermapbox\",\"marker\":{\"colorbar\":{\"outlinewidth\":0,\"ticks\":\"\"}}}],\"scatterternary\":[{\"type\":\"scatterternary\",\"marker\":{\"colorbar\":{\"outlinewidth\":0,\"ticks\":\"\"}}}],\"scattercarpet\":[{\"type\":\"scattercarpet\",\"marker\":{\"colorbar\":{\"outlinewidth\":0,\"ticks\":\"\"}}}],\"carpet\":[{\"aaxis\":{\"endlinecolor\":\"#A2B1C6\",\"gridcolor\":\"#506784\",\"linecolor\":\"#506784\",\"minorgridcolor\":\"#506784\",\"startlinecolor\":\"#A2B1C6\"},\"baxis\":{\"endlinecolor\":\"#A2B1C6\",\"gridcolor\":\"#506784\",\"linecolor\":\"#506784\",\"minorgridcolor\":\"#506784\",\"startlinecolor\":\"#A2B1C6\"},\"type\":\"carpet\"}],\"table\":[{\"cells\":{\"fill\":{\"color\":\"#506784\"},\"line\":{\"color\":\"rgb(17,17,17)\"}},\"header\":{\"fill\":{\"color\":\"#2a3f5f\"},\"line\":{\"color\":\"rgb(17,17,17)\"}},\"type\":\"table\"}],\"barpolar\":[{\"marker\":{\"line\":{\"color\":\"rgb(17,17,17)\",\"width\":0.5},\"pattern\":{\"fillmode\":\"overlay\",\"size\":10,\"solidity\":0.2}},\"type\":\"barpolar\"}],\"pie\":[{\"automargin\":true,\"type\":\"pie\"}]},\"layout\":{\"autotypenumbers\":\"strict\",\"colorway\":[\"#636efa\",\"#EF553B\",\"#00cc96\",\"#ab63fa\",\"#FFA15A\",\"#19d3f3\",\"#FF6692\",\"#B6E880\",\"#FF97FF\",\"#FECB52\"],\"font\":{\"color\":\"#f2f5fa\"},\"hovermode\":\"closest\",\"hoverlabel\":{\"align\":\"left\"},\"paper_bgcolor\":\"rgb(17,17,17)\",\"plot_bgcolor\":\"rgb(17,17,17)\",\"polar\":{\"bgcolor\":\"rgb(17,17,17)\",\"angularaxis\":{\"gridcolor\":\"#506784\",\"linecolor\":\"#506784\",\"ticks\":\"\"},\"radialaxis\":{\"gridcolor\":\"#506784\",\"linecolor\":\"#506784\",\"ticks\":\"\"}},\"ternary\":{\"bgcolor\":\"rgb(17,17,17)\",\"aaxis\":{\"gridcolor\":\"#506784\",\"linecolor\":\"#506784\",\"ticks\":\"\"},\"baxis\":{\"gridcolor\":\"#506784\",\"linecolor\":\"#506784\",\"ticks\":\"\"},\"caxis\":{\"gridcolor\":\"#506784\",\"linecolor\":\"#506784\",\"ticks\":\"\"}},\"coloraxis\":{\"colorbar\":{\"outlinewidth\":0,\"ticks\":\"\"}},\"colorscale\":{\"sequential\":[[0.0,\"#0d0887\"],[0.1111111111111111,\"#46039f\"],[0.2222222222222222,\"#7201a8\"],[0.3333333333333333,\"#9c179e\"],[0.4444444444444444,\"#bd3786\"],[0.5555555555555556,\"#d8576b\"],[0.6666666666666666,\"#ed7953\"],[0.7777777777777778,\"#fb9f3a\"],[0.8888888888888888,\"#fdca26\"],[1.0,\"#f0f921\"]],\"sequentialminus\":[[0.0,\"#0d0887\"],[0.1111111111111111,\"#46039f\"],[0.2222222222222222,\"#7201a8\"],[0.3333333333333333,\"#9c179e\"],[0.4444444444444444,\"#bd3786\"],[0.5555555555555556,\"#d8576b\"],[0.6666666666666666,\"#ed7953\"],[0.7777777777777778,\"#fb9f3a\"],[0.8888888888888888,\"#fdca26\"],[1.0,\"#f0f921\"]],\"diverging\":[[0,\"#8e0152\"],[0.1,\"#c51b7d\"],[0.2,\"#de77ae\"],[0.3,\"#f1b6da\"],[0.4,\"#fde0ef\"],[0.5,\"#f7f7f7\"],[0.6,\"#e6f5d0\"],[0.7,\"#b8e186\"],[0.8,\"#7fbc41\"],[0.9,\"#4d9221\"],[1,\"#276419\"]]},\"xaxis\":{\"gridcolor\":\"#283442\",\"linecolor\":\"#506784\",\"ticks\":\"\",\"title\":{\"standoff\":15},\"zerolinecolor\":\"#283442\",\"automargin\":true,\"zerolinewidth\":2},\"yaxis\":{\"gridcolor\":\"#283442\",\"linecolor\":\"#506784\",\"ticks\":\"\",\"title\":{\"standoff\":15},\"zerolinecolor\":\"#283442\",\"automargin\":true,\"zerolinewidth\":2},\"scene\":{\"xaxis\":{\"backgroundcolor\":\"rgb(17,17,17)\",\"gridcolor\":\"#506784\",\"linecolor\":\"#506784\",\"showbackground\":true,\"ticks\":\"\",\"zerolinecolor\":\"#C8D4E3\",\"gridwidth\":2},\"yaxis\":{\"backgroundcolor\":\"rgb(17,17,17)\",\"gridcolor\":\"#506784\",\"linecolor\":\"#506784\",\"showbackground\":true,\"ticks\":\"\",\"zerolinecolor\":\"#C8D4E3\",\"gridwidth\":2},\"zaxis\":{\"backgroundcolor\":\"rgb(17,17,17)\",\"gridcolor\":\"#506784\",\"linecolor\":\"#506784\",\"showbackground\":true,\"ticks\":\"\",\"zerolinecolor\":\"#C8D4E3\",\"gridwidth\":2}},\"shapedefaults\":{\"line\":{\"color\":\"#f2f5fa\"}},\"annotationdefaults\":{\"arrowcolor\":\"#f2f5fa\",\"arrowhead\":0,\"arrowwidth\":1},\"geo\":{\"bgcolor\":\"rgb(17,17,17)\",\"landcolor\":\"rgb(17,17,17)\",\"subunitcolor\":\"#506784\",\"showland\":true,\"showlakes\":true,\"lakecolor\":\"rgb(17,17,17)\"},\"title\":{\"x\":0.05},\"updatemenudefaults\":{\"bgcolor\":\"#506784\",\"borderwidth\":0},\"sliderdefaults\":{\"bgcolor\":\"#C8D4E3\",\"borderwidth\":1,\"bordercolor\":\"rgb(17,17,17)\",\"tickwidth\":0},\"mapbox\":{\"style\":\"dark\"}}},\"xaxis\":{\"anchor\":\"y\",\"domain\":[0.0,1.0],\"scaleanchor\":\"y\",\"constrain\":\"domain\",\"title\":{\"text\":\"Head\"}},\"yaxis\":{\"anchor\":\"x\",\"domain\":[0.0,1.0],\"autorange\":\"reversed\",\"constrain\":\"domain\",\"title\":{\"text\":\"Layer\"}},\"coloraxis\":{\"colorscale\":[[0.0,\"rgb(103,0,31)\"],[0.1,\"rgb(178,24,43)\"],[0.2,\"rgb(214,96,77)\"],[0.3,\"rgb(244,165,130)\"],[0.4,\"rgb(253,219,199)\"],[0.5,\"rgb(247,247,247)\"],[0.6,\"rgb(209,229,240)\"],[0.7,\"rgb(146,197,222)\"],[0.8,\"rgb(67,147,195)\"],[0.9,\"rgb(33,102,172)\"],[1.0,\"rgb(5,48,97)\"]],\"cmid\":0.0},\"title\":{\"text\":\"Induction Score by Head in Distil GPT-2\"}},                        {\"responsive\": true}                    ).then(function(){\n",
       "                            \n",
       "var gd = document.getElementById('0145343e-5b5d-4ff0-81ab-2a66451e4c10');\n",
       "var x = new MutationObserver(function (mutations, observer) {{\n",
       "        var display = window.getComputedStyle(gd).display;\n",
       "        if (!display || display === 'none') {{\n",
       "            console.log([gd, 'removed!']);\n",
       "            Plotly.purge(gd);\n",
       "            observer.disconnect();\n",
       "        }}\n",
       "}});\n",
       "\n",
       "// Listen for the removal of the full notebook cells\n",
       "var notebookContainer = gd.closest('#notebook-container');\n",
       "if (notebookContainer) {{\n",
       "    x.observe(notebookContainer, {childList: true});\n",
       "}}\n",
       "\n",
       "// Listen for the clearing of the current output cell\n",
       "var outputEl = gd.closest('.output');\n",
       "if (outputEl) {{\n",
       "    x.observe(outputEl, {childList: true});\n",
       "}}\n",
       "\n",
       "                        })                };            </script>        </div>"
      ]
     },
     "metadata": {},
     "output_type": "display_data"
    }
   ],
   "execution_count": 46
  },
  {
   "metadata": {},
   "cell_type": "markdown",
   "source": [
    "### Aperçu des modèles open source importants présents dans la bibliothèque\n",
    "\n",
    "* **GPT-2** – les modèles génératifs pré-entraînés classiques d’OpenAI\n",
    "  * Tailles : Small (85 M), Medium (300 M), Large (700 M) et XL (1,5 B).\n",
    "  * Entraînés sur \\~22 milliards de tokens de texte issu d’internet. ([Réplication open source](https://huggingface.co/datasets/openwebtext))\n",
    "* **GPT-Neo** – la réplication de GPT-2 par Eleuther\n",
    "  * Tailles : 125 M, 1,3 B, 2,7 B\n",
    "  * Entraînés sur \\~300 milliards de tokens du [Pile](https://pile.eleuther.ai/), un large jeu de données divers incluant du code (et des contenus atypiques).\n",
    "* **[OPT](https://ai.facebook.com/blog/democratizing-access-to-large-scale-language-models-with-opt-175b/)** – la série de modèles open source de Meta AI\n",
    "  * Entraînés sur 180 milliards de tokens de textes variés.\n",
    "  * Tailles : 125 M, 1,3 B, 2,7 B, 6,7 B, 13 B, 30 B, 66 B\n",
    "* **GPT-J** – modèle de 6 B paramètres d’Eleuther, entraîné sur le Pile\n",
    "* **GPT-NeoX** – modèle de 20 B paramètres d’Eleuther, entraîné sur le Pile\n",
    "* **StableLM** – modèles de Stability AI (3 B et 7 B), avec et sans fine-tuning “chat” et “instruction”\n",
    "* **Modèles Stanford CRFM** – réplications de GPT-2 Small et GPT-2 Medium, entraînées avec 5 seeds différents.\n",
    "  * À noter : 600 checkpoints ont été sauvegardés durant l’entraînement de chaque modèle, et ils sont disponibles dans la bibliothèque, par ex. avec `HookedTransformer.from_pretrained(\"stanford-gpt2-small-a\", checkpoint_index=265)`.\n",
    "* **BERT** – le transformer encodeur bidirectionnel de Google.\n",
    "  * Taille Base (108 M), entraîné sur Wikipedia anglais et BooksCorpus."
   ],
   "id": "d257b88305e6e79e"
  },
  {
   "metadata": {},
   "cell_type": "markdown",
   "source": [
    "### Aperçu de quelques modèles « interprétabilité-friendly » que j’ai entraînés et inclus\n",
    "\n",
    "(N’hésitez pas à [me contacter](mailto:neelnanda27@gmail.com) si vous voulez plus de détails sur l’un de ces modèles.)\n",
    "\n",
    "Chacun de ces modèles a environ **200 checkpoints** sauvegardés durant l’entraînement, qui peuvent également être chargés depuis TransformerLens grâce à l’argument `checkpoint_index` de `from_pretrained`.\n",
    "\n",
    "À noter que tous les modèles sont entraînés avec un **token de début de séquence (BOS)**, et risquent de ne pas fonctionner correctement si on ne leur en fournit pas !\n",
    "\n",
    "* **Toy Models** : Inspirés par [A Mathematical Framework](https://transformer-circuits.pub/2021/framework/index.html), j’ai entraîné 12 très petits modèles de langage, de 1 à 4 couches et chacun de largeur 512. Je pense que les interpréter est beaucoup plus accessible que pour les grands modèles, et qu’ils servent à la fois de bonne pratique et de terrain d’expérimentation pour découvrir des motifs et circuits qui se généralisent à des modèles bien plus grands (comme les *induction heads*) :\n",
    "  * Modèles *Attention-Only* (sans MLP) : attn-only-1l, attn-only-2l, attn-only-3l, attn-only-4l\n",
    "  * Modèles *GELU* (avec MLP et activation GELU standard) : gelu-1l, gelu-2l, gelu-3l, gelu-4l\n",
    "  * Modèles *SoLU* (avec MLP et [l’activation SoLU d’Anthropic](https://transformer-circuits.pub/2022/solu/index.html), conçue pour rendre les neurones MLP plus interprétables) : solu-1l, solu-2l, solu-3l, solu-4l\n",
    "  * Tous ces modèles sont entraînés sur 22 milliards de tokens, composés à 80 % de C4 (web text) et 20 % de code Python.\n",
    "  * Les modèles ayant le même nombre de couches ont été entraînés avec la même initialisation de poids et le même ordre de données, afin de comparer directement l’effet des fonctions d’activation.\n",
    "* **Modèles SoLU** : Un scan de modèles plus grands, entraînés avec l’activation SoLU d’Anthropic, dans l’idée de rendre les MLP plus interprétables.\n",
    "  * Un scan jusqu’à la taille GPT-2 Medium, entraîné sur 30 milliards de tokens du même dataset que les *toy models* (80 % C4, 20 % code Python) :\n",
    "    * solu-6l (40 M), solu-8l (100 M), solu-10l (200 M), solu-12l (340 M)\n",
    "  * Un scan plus ancien, également jusqu’à GPT-2 Medium, mais entraîné sur 15 milliards de tokens du [Pile](https://pile.eleuther.ai/) :\n",
    "    * solu-1l-pile (13 M), solu-2l-pile (13 M), solu-4l-pile (13 M), solu-6l-pile (40 M), solu-8l-pile (100 M), solu-10l-pile (200 M), solu-12l-pile (340 M)\n",
    "\n"
   ],
   "id": "9418952fdb88103a"
  },
  {
   "metadata": {},
   "cell_type": "code",
   "outputs": [],
   "execution_count": null,
   "source": "",
   "id": "7eb65e65d386d5cf"
  }
 ],
 "metadata": {
  "kernelspec": {
   "display_name": "Python 3",
   "language": "python",
   "name": "python3"
  },
  "language_info": {
   "codemirror_mode": {
    "name": "ipython",
    "version": 2
   },
   "file_extension": ".py",
   "mimetype": "text/x-python",
   "name": "python",
   "nbconvert_exporter": "python",
   "pygments_lexer": "ipython2",
   "version": "2.7.6"
  }
 },
 "nbformat": 4,
 "nbformat_minor": 5
}
